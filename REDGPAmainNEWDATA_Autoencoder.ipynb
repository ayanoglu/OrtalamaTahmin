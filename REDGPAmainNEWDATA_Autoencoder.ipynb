{
  "nbformat": 4,
  "nbformat_minor": 0,
  "metadata": {
    "colab": {
      "name": "REDGPAmainNEWDATA_Autoencoder.ipynb",
      "provenance": [],
      "collapsed_sections": [],
      "authorship_tag": "ABX9TyOXnfky7uBfo7xILlh79nB6",
      "include_colab_link": true
    },
    "kernelspec": {
      "name": "python3",
      "display_name": "Python 3"
    },
    "language_info": {
      "name": "python"
    }
  },
  "cells": [
    {
      "cell_type": "markdown",
      "metadata": {
        "id": "view-in-github",
        "colab_type": "text"
      },
      "source": [
        "<a href=\"https://colab.research.google.com/github/ayanoglu/OrtalamaTahmin/blob/Autoencoder/REDGPAmainNEWDATA_Autoencoder.ipynb\" target=\"_parent\"><img src=\"https://colab.research.google.com/assets/colab-badge.svg\" alt=\"Open In Colab\"/></a>"
      ]
    },
    {
      "cell_type": "code",
      "execution_count": null,
      "metadata": {
        "colab": {
          "resources": {
            "http://localhost:8080/nbextensions/google.colab/files.js": {
              "data": "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",
              "ok": true,
              "headers": [
                [
                  "content-type",
                  "application/javascript"
                ]
              ],
              "status": 200,
              "status_text": ""
            }
          },
          "base_uri": "https://localhost:8080/",
          "height": 38
        },
        "id": "nQKeJo4fqzcT",
        "outputId": "6bc4c00e-6091-4494-8180-51e89a2e11de"
      },
      "outputs": [
        {
          "output_type": "display_data",
          "data": {
            "text/plain": [
              "<IPython.core.display.HTML object>"
            ],
            "text/html": [
              "\n",
              "     <input type=\"file\" id=\"files-d3047ffd-eb82-440b-9e53-6842e810e707\" name=\"files[]\" multiple disabled\n",
              "        style=\"border:none\" />\n",
              "     <output id=\"result-d3047ffd-eb82-440b-9e53-6842e810e707\">\n",
              "      Upload widget is only available when the cell has been executed in the\n",
              "      current browser session. Please rerun this cell to enable.\n",
              "      </output>\n",
              "      <script src=\"/nbextensions/google.colab/files.js\"></script> "
            ]
          },
          "metadata": {}
        }
      ],
      "source": [
        "from keras.models import Sequential\n",
        "from keras.layers import Dense\n",
        "from keras.layers import Flatten\n",
        "from keras.layers.convolutional import Conv1D\n",
        "from keras.layers.convolutional import MaxPooling1D\n",
        "from keras.layers import Dropout\n",
        "from numpy import array\n",
        "from sklearn import preprocessing\n",
        "from sklearn.model_selection import KFold\n",
        "from sklearn.utils import shuffle\n",
        "import pandas as pd\n",
        "import numpy as np\n",
        "np.set_printoptions(linewidth=160)\n",
        "import tensorflow as tf\n",
        "import csv\n",
        "import math\n",
        "import matplotlib.pyplot as plt\n",
        "from decimal import *\n",
        "from google.colab import files\n",
        "import plotly.graph_objects as go\n",
        "import plotly.express as px\n",
        "import itertools\n",
        "from itertools import combinations\n",
        "import time\n",
        "from sklearn.metrics import mean_squared_error\n",
        "from sklearn.preprocessing import MinMaxScaler\n",
        "from sklearn.preprocessing import OneHotEncoder\n",
        "from sklearn.preprocessing import LabelEncoder\n",
        "from keras.utils import np_utils\n",
        "\n",
        "\n",
        "from sklearn.metrics import r2_score\n",
        "from sklearn.gaussian_process import GaussianProcessRegressor\n",
        "from sklearn.gaussian_process.kernels import RBF, ConstantKernel, WhiteKernel\n",
        "from google.colab import files\n",
        "import io\n",
        "uploaded = files.upload()"
      ]
    },
    {
      "cell_type": "code",
      "source": [
        "DF_EEStudentsSpring2021 = pd.read_csv(io.BytesIO(uploaded['EE Students Spring 2021.csv']), header=None, skip_blank_lines=True)\n",
        "DF_EngFreshmenFall2021 = pd.read_csv(io.BytesIO(uploaded['Engineering Freshmen Fall 21 - January 31 22.csv']), header=None, skip_blank_lines=True)\n",
        "DF_EngFreshmenSpring2021 = pd.read_csv(io.BytesIO(uploaded['Engineering Freshmen Spring 2021.csv']), header=None, skip_blank_lines=True)\n",
        "DF_PsychologyMay2021 = pd.read_csv(io.BytesIO(uploaded['Psychology Subject Pool May 2021 - Jan 31 2022.csv']), header=None, skip_blank_lines=True)\n",
        "DF_PsychologySpring2021 = pd.read_csv(io.BytesIO(uploaded['Psychology Subject Pool Spring 2021.csv']), header=None, skip_blank_lines=True)"
      ],
      "metadata": {
        "id": "tE8lLg_cyvjs"
      },
      "execution_count": null,
      "outputs": []
    },
    {
      "cell_type": "code",
      "source": [
        "DF1EE = DF_EEStudentsSpring2021.iloc[3:,18:80]\n",
        "DF1ENGF = DF_EngFreshmenFall2021.iloc[3:,18:80]\n",
        "DF1ENGS = DF_EngFreshmenSpring2021.iloc[3:,18:80]\n",
        "DF1PM = DF_PsychologyMay2021.iloc[3:,18:80]\n",
        "DF1PS = DF_PsychologySpring2021.iloc[3:,18:80]\n",
        "# Some of the datasets, 3 is actually 2, and 7 is actually 3, for the questions 51-54."
      ],
      "metadata": {
        "id": "fghshQIB5pSL"
      },
      "execution_count": null,
      "outputs": []
    },
    {
      "cell_type": "code",
      "source": [
        "# ENG FALL DATASET HAS THE PROBLEM.\n",
        "# do i = 51 to 54;\t1) if x(i) = 3 then x(i) = 2; \t2) if x(i) = 7 then x(i) = 3; end; \n",
        "\n",
        "DF1ENGF.iloc[:,50] = np.where(DF1ENGF.iloc[:,50]== 3, 2, DF1ENGF.iloc[:,50])\n",
        "DF1ENGF.iloc[:,51] = np.where(DF1ENGF.iloc[:,51]== 3, 2, DF1ENGF.iloc[:,51])\n",
        "DF1ENGF.iloc[:,52] = np.where(DF1ENGF.iloc[:,52]== 3, 2, DF1ENGF.iloc[:,52])\n",
        "DF1ENGF.iloc[:,53] = np.where(DF1ENGF.iloc[:,53]== 3, 2, DF1ENGF.iloc[:,53])\n",
        "\n",
        "DF1ENGF.iloc[:,50] = np.where(DF1ENGF.iloc[:,50]== 7, 3, DF1ENGF.iloc[:,50])\n",
        "DF1ENGF.iloc[:,51] = np.where(DF1ENGF.iloc[:,51]== 7, 3, DF1ENGF.iloc[:,51])\n",
        "DF1ENGF.iloc[:,52] = np.where(DF1ENGF.iloc[:,52]== 7, 3, DF1ENGF.iloc[:,52])\n",
        "DF1ENGF.iloc[:,53] = np.where(DF1ENGF.iloc[:,53]== 7, 3, DF1ENGF.iloc[:,53])\n"
      ],
      "metadata": {
        "id": "npVmG2nQB-wB"
      },
      "execution_count": null,
      "outputs": []
    },
    {
      "cell_type": "code",
      "source": [
        "# ENG SPRING DATASET HAS THE PROBLEM.\n",
        "# do i = 51 to 54;\t1) if x(i) = 3 then x(i) = 2; \t2) if x(i) = 7 then x(i) = 3; end; \n",
        "\n",
        "DF1ENGS.iloc[:,50] = np.where(DF1ENGS.iloc[:,50]== 3, 2, DF1ENGS.iloc[:,50])\n",
        "DF1ENGS.iloc[:,51] = np.where(DF1ENGS.iloc[:,51]== 3, 2, DF1ENGS.iloc[:,51])\n",
        "DF1ENGS.iloc[:,52] = np.where(DF1ENGS.iloc[:,52]== 3, 2, DF1ENGS.iloc[:,52])\n",
        "DF1ENGS.iloc[:,53] = np.where(DF1ENGS.iloc[:,53]== 3, 2, DF1ENGS.iloc[:,53])\n",
        "\n",
        "DF1ENGS.iloc[:,50] = np.where(DF1ENGS.iloc[:,50]== 7, 3, DF1ENGS.iloc[:,50])\n",
        "DF1ENGS.iloc[:,51] = np.where(DF1ENGS.iloc[:,51]== 7, 3, DF1ENGS.iloc[:,51])\n",
        "DF1ENGS.iloc[:,52] = np.where(DF1ENGS.iloc[:,52]== 7, 3, DF1ENGS.iloc[:,52])\n",
        "DF1ENGS.iloc[:,53] = np.where(DF1ENGS.iloc[:,53]== 7, 3, DF1ENGS.iloc[:,53])"
      ],
      "metadata": {
        "id": "8rXHF2ZtCjge"
      },
      "execution_count": null,
      "outputs": []
    },
    {
      "cell_type": "code",
      "source": [
        "DF1 = pd.concat([DF1EE, DF1ENGF, DF1ENGS, DF1PM, DF1PS], axis = 0)"
      ],
      "metadata": {
        "id": "21BbQoN595rk"
      },
      "execution_count": null,
      "outputs": []
    },
    {
      "cell_type": "code",
      "source": [
        "DF1.shape"
      ],
      "metadata": {
        "id": "67D3uaWQ_BwI",
        "outputId": "16d268a6-dd67-4608-cea3-956bc88294a6",
        "colab": {
          "base_uri": "https://localhost:8080/"
        }
      },
      "execution_count": null,
      "outputs": [
        {
          "output_type": "execute_result",
          "data": {
            "text/plain": [
              "(3855, 62)"
            ]
          },
          "metadata": {},
          "execution_count": 7
        }
      ]
    },
    {
      "cell_type": "code",
      "source": [
        "DF1.isnull().any(axis=1).sum() #number of columns with NaNs\n",
        "DF2 = DF1.dropna(axis=0) # Drop rows with NaNs\n",
        "DF2.isnull().any(axis=1).sum() #number of columns with NaNs\n",
        "DF3 = DF2.apply(pd.to_numeric, errors='coerce') # change object type to numeric, errors will be NaNs\n",
        "DF3.isnull().any(axis=1).sum()\n",
        "DF4 = DF3.dropna(axis=0) # Drop rows with NaNs\n",
        "DF4.isnull().any(axis=1).sum()\n",
        "DF4.columns = range(DF4.columns.size) # re index column numbers\n",
        "(DF4.iloc[:,-1] == 0).sum() #number of rows on the last column that are equal to 0\n",
        "DF4.iloc[:,-1].min() #min of last column\n",
        "DF4.iloc[:,-1].idxmin() #idx of the min of last column\n",
        "DF4 = DF4[(DF4.iloc[:,-1] > 0)] #drop the GPA values that are smaller than 0\n",
        "DF4 = DF4.reset_index() # reset row index with a new index column\n",
        "DF4 = DF4.drop(labels='index', axis=1) #drop the old index column"
      ],
      "metadata": {
        "id": "pgMUEBZD930V"
      },
      "execution_count": null,
      "outputs": []
    },
    {
      "cell_type": "code",
      "source": [
        "DF4.shape"
      ],
      "metadata": {
        "colab": {
          "base_uri": "https://localhost:8080/"
        },
        "id": "qDD3KQsQYrrG",
        "outputId": "1325c62c-ce8f-4b20-b1c0-b2943f90b779"
      },
      "execution_count": null,
      "outputs": [
        {
          "output_type": "execute_result",
          "data": {
            "text/plain": [
              "(2592, 62)"
            ]
          },
          "metadata": {},
          "execution_count": 10
        }
      ]
    },
    {
      "cell_type": "code",
      "source": [
        "DF4.corr().unstack().sort_values().drop_duplicates()"
      ],
      "metadata": {
        "id": "PfLHtzg8vNDt",
        "outputId": "0a3f0d3c-1c7a-461e-ca3d-0991463f30bc",
        "colab": {
          "base_uri": "https://localhost:8080/"
        }
      },
      "execution_count": null,
      "outputs": [
        {
          "output_type": "execute_result",
          "data": {
            "text/plain": [
              "9   8    -0.481793\n",
              "21  22   -0.403357\n",
              "    20   -0.399063\n",
              "11  10   -0.394849\n",
              "40  43   -0.337888\n",
              "            ...   \n",
              "3   0     0.725746\n",
              "4   0     0.732759\n",
              "3   4     0.755327\n",
              "20  22    0.776630\n",
              "0   0     1.000000\n",
              "Length: 1892, dtype: float64"
            ]
          },
          "metadata": {},
          "execution_count": 16
        }
      ]
    },
    {
      "cell_type": "code",
      "source": [
        "import seaborn as sns\n",
        "cormat = DF4.corr()\n",
        "kot = cormat[cormat>=.6]\n",
        "plt.figure(figsize=(18,12))\n",
        "sns.heatmap(kot, cmap=\"Greens\")"
      ],
      "metadata": {
        "id": "W547YvnBvNMg",
        "outputId": "b389d16b-0456-485c-fbf6-0b07dfc37604",
        "colab": {
          "base_uri": "https://localhost:8080/",
          "height": 722
        }
      },
      "execution_count": null,
      "outputs": [
        {
          "output_type": "execute_result",
          "data": {
            "text/plain": [
              "<matplotlib.axes._subplots.AxesSubplot at 0x7ff8c3994150>"
            ]
          },
          "metadata": {},
          "execution_count": 17
        },
        {
          "output_type": "display_data",
          "data": {
            "text/plain": [
              "<Figure size 1296x864 with 2 Axes>"
            ],
            "image/png": "[encoded data removed]"
          },
          "metadata": {
            "needs_background": "light"
          }
        }
      ]
    },
    {
      "cell_type": "code",
      "source": [
        "XTrain = DF4.iloc[:,:61]"
      ],
      "metadata": {
        "id": "txvYSGjsX-VE"
      },
      "execution_count": null,
      "outputs": []
    },
    {
      "cell_type": "markdown",
      "source": [
        "START MODYFYING SOME COLUMNS AND ADDING THE ADDITIONAL FUNCTIONS"
      ],
      "metadata": {
        "id": "gXda_0SndHNW"
      }
    },
    {
      "cell_type": "code",
      "source": [
        "#If x(33) = 4 then x(33) = 2; \n",
        "DF4.iloc[:,32] = np.where(DF4.iloc[:,32]== 4, 2, DF4.iloc[:,32])\n",
        "\n",
        "#If gpa > 4 then gpa = 4;\n",
        "DF4.iloc[:,-1] = np.where(DF4.iloc[:,-1] > 4, 4, DF4.iloc[:,-1]) #GPA = DF4.iloc[:,-1]\n",
        "\n",
        "# do i = 9, 11, 18, 22, 28, 29; x(i) = 8-x(i);\n",
        "# do i = 31, 33, 37, 41, 43, 45, 47, 50; *action-state; x(i) = 3 - x(i);\n",
        "XTrain.iloc[:,8] = 8 - XTrain.iloc[:,8]\n",
        "XTrain.iloc[:,10] = 8 - XTrain.iloc[:,10]\n",
        "XTrain.iloc[:,17] = 8 - XTrain.iloc[:,17]\n",
        "XTrain.iloc[:,21] = 8 - XTrain.iloc[:,21]\n",
        "XTrain.iloc[:,27] = 8 - XTrain.iloc[:,27]\n",
        "XTrain.iloc[:,28] = 8 - XTrain.iloc[:,28]\n",
        "\n",
        "XTrain.iloc[:,30] = 3 - XTrain.iloc[:,30]\n",
        "XTrain.iloc[:,32] = 3 - XTrain.iloc[:,32]\n",
        "XTrain.iloc[:,36] = 3 - XTrain.iloc[:,36]\n",
        "XTrain.iloc[:,40] = 3 - XTrain.iloc[:,40]\n",
        "XTrain.iloc[:,42] = 3 - XTrain.iloc[:,42]\n",
        "XTrain.iloc[:,44] = 3 - XTrain.iloc[:,44]\n",
        "XTrain.iloc[:,46] = 3 - XTrain.iloc[:,46]\n",
        "XTrain.iloc[:,49] = 3 - XTrain.iloc[:,49]\n",
        "\n",
        "#do i = 1 to 7; efficacy = efficacy + x(i); end;\n",
        "XTrain['efficacy']= XTrain.iloc[:, 0:7].sum(axis=1)\n",
        "\n",
        "#do i = 8 to 29; habits = habits + x(i); end;\n",
        "XTrain['habbits']= XTrain.iloc[:, 7:29].sum(axis=1)\n",
        "\n",
        "#do i = 30 to 37; preocc = preocc + x(i); end;\n",
        "XTrain['preocc']= XTrain.iloc[:, 29:37].sum(axis=1)\n",
        "\n",
        "#do i = 38 to 45; hesitat = hesitat + x(i); end;\n",
        "XTrain['hesitat']= XTrain.iloc[:, 37:45].sum(axis=1)\n",
        "\n",
        "#do i = 46 to 50; volatil = volatil + x(i);\n",
        "XTrain['volatil']= XTrain.iloc[:, 45:50].sum(axis=1)\n",
        "\n",
        "#do i = 51 to 54; engagecurric = engagecurric + x(i); end;\n",
        "XTrain['engagecurric']= XTrain.iloc[:, 50:54].sum(axis=1)\n",
        "\n",
        "#do i = 55 to 59; engageextra = engageextra+x(i);\n",
        "XTrain['engageextra']= XTrain.iloc[:, 54:59].sum(axis=1)"
      ],
      "metadata": {
        "id": "Zft77wK2hglr"
      },
      "execution_count": null,
      "outputs": []
    },
    {
      "cell_type": "code",
      "source": [
        "XTrain.head()"
      ],
      "metadata": {
        "colab": {
          "base_uri": "https://localhost:8080/",
          "height": 235
        },
        "id": "dfdkLKu9ddL0",
        "outputId": "725757ff-f420-4ddd-eea9-dea4f26417d5"
      },
      "execution_count": null,
      "outputs": [
        {
          "output_type": "execute_result",
          "data": {
            "text/plain": [
              "   0  1  2  3  4  5  6  7  8  9  ...  58  59  60  efficacy  habbits  preocc  \\\n",
              "0  7  7  7  7  7  7  7  7  1  7  ...   5   5   2        49      118      10   \n",
              "1  7  7  6  6  7  4  7  4  4  5  ...   1   5   1        44      111      11   \n",
              "2  5  4  5  4  5  4  5  6  6  5  ...   1   2   5        32      121       9   \n",
              "3  6  7  6  6  7  7  6  6  2  2  ...   1   4   2        45      104       8   \n",
              "4  6  7  5  6  7  7  7  5  4  4  ...   2   5   3        45       96      11   \n",
              "\n",
              "   hesitat  volatil  engagecurric  engageextra  \n",
              "0       11        7            20           25  \n",
              "1       14       10            14            5  \n",
              "2        9        9             9            6  \n",
              "3       15        9            11            9  \n",
              "4       15       10            16           10  \n",
              "\n",
              "[5 rows x 68 columns]"
            ],
            "text/html": [
              "\n",
              "  <div id=\"df-c0ff611c-8fb4-401f-a57e-b5c9394547ee\">\n",
              "    <div class=\"colab-df-container\">\n",
              "      <div>\n",
              "<style scoped>\n",
              "    .dataframe tbody tr th:only-of-type {\n",
              "        vertical-align: middle;\n",
              "    }\n",
              "\n",
              "    .dataframe tbody tr th {\n",
              "        vertical-align: top;\n",
              "    }\n",
              "\n",
              "    .dataframe thead th {\n",
              "        text-align: right;\n",
              "    }\n",
              "</style>\n",
              "<table border=\"1\" class=\"dataframe\">\n",
              "  <thead>\n",
              "    <tr style=\"text-align: right;\">\n",
              "      <th></th>\n",
              "      <th>0</th>\n",
              "      <th>1</th>\n",
              "      <th>2</th>\n",
              "      <th>3</th>\n",
              "      <th>4</th>\n",
              "      <th>5</th>\n",
              "      <th>6</th>\n",
              "      <th>7</th>\n",
              "      <th>8</th>\n",
              "      <th>9</th>\n",
              "      <th>...</th>\n",
              "      <th>58</th>\n",
              "      <th>59</th>\n",
              "      <th>60</th>\n",
              "      <th>efficacy</th>\n",
              "      <th>habbits</th>\n",
              "      <th>preocc</th>\n",
              "      <th>hesitat</th>\n",
              "      <th>volatil</th>\n",
              "      <th>engagecurric</th>\n",
              "      <th>engageextra</th>\n",
              "    </tr>\n",
              "  </thead>\n",
              "  <tbody>\n",
              "    <tr>\n",
              "      <th>0</th>\n",
              "      <td>7</td>\n",
              "      <td>7</td>\n",
              "      <td>7</td>\n",
              "      <td>7</td>\n",
              "      <td>7</td>\n",
              "      <td>7</td>\n",
              "      <td>7</td>\n",
              "      <td>7</td>\n",
              "      <td>1</td>\n",
              "      <td>7</td>\n",
              "      <td>...</td>\n",
              "      <td>5</td>\n",
              "      <td>5</td>\n",
              "      <td>2</td>\n",
              "      <td>49</td>\n",
              "      <td>118</td>\n",
              "      <td>10</td>\n",
              "      <td>11</td>\n",
              "      <td>7</td>\n",
              "      <td>20</td>\n",
              "      <td>25</td>\n",
              "    </tr>\n",
              "    <tr>\n",
              "      <th>1</th>\n",
              "      <td>7</td>\n",
              "      <td>7</td>\n",
              "      <td>6</td>\n",
              "      <td>6</td>\n",
              "      <td>7</td>\n",
              "      <td>4</td>\n",
              "      <td>7</td>\n",
              "      <td>4</td>\n",
              "      <td>4</td>\n",
              "      <td>5</td>\n",
              "      <td>...</td>\n",
              "      <td>1</td>\n",
              "      <td>5</td>\n",
              "      <td>1</td>\n",
              "      <td>44</td>\n",
              "      <td>111</td>\n",
              "      <td>11</td>\n",
              "      <td>14</td>\n",
              "      <td>10</td>\n",
              "      <td>14</td>\n",
              "      <td>5</td>\n",
              "    </tr>\n",
              "    <tr>\n",
              "      <th>2</th>\n",
              "      <td>5</td>\n",
              "      <td>4</td>\n",
              "      <td>5</td>\n",
              "      <td>4</td>\n",
              "      <td>5</td>\n",
              "      <td>4</td>\n",
              "      <td>5</td>\n",
              "      <td>6</td>\n",
              "      <td>6</td>\n",
              "      <td>5</td>\n",
              "      <td>...</td>\n",
              "      <td>1</td>\n",
              "      <td>2</td>\n",
              "      <td>5</td>\n",
              "      <td>32</td>\n",
              "      <td>121</td>\n",
              "      <td>9</td>\n",
              "      <td>9</td>\n",
              "      <td>9</td>\n",
              "      <td>9</td>\n",
              "      <td>6</td>\n",
              "    </tr>\n",
              "    <tr>\n",
              "      <th>3</th>\n",
              "      <td>6</td>\n",
              "      <td>7</td>\n",
              "      <td>6</td>\n",
              "      <td>6</td>\n",
              "      <td>7</td>\n",
              "      <td>7</td>\n",
              "      <td>6</td>\n",
              "      <td>6</td>\n",
              "      <td>2</td>\n",
              "      <td>2</td>\n",
              "      <td>...</td>\n",
              "      <td>1</td>\n",
              "      <td>4</td>\n",
              "      <td>2</td>\n",
              "      <td>45</td>\n",
              "      <td>104</td>\n",
              "      <td>8</td>\n",
              "      <td>15</td>\n",
              "      <td>9</td>\n",
              "      <td>11</td>\n",
              "      <td>9</td>\n",
              "    </tr>\n",
              "    <tr>\n",
              "      <th>4</th>\n",
              "      <td>6</td>\n",
              "      <td>7</td>\n",
              "      <td>5</td>\n",
              "      <td>6</td>\n",
              "      <td>7</td>\n",
              "      <td>7</td>\n",
              "      <td>7</td>\n",
              "      <td>5</td>\n",
              "      <td>4</td>\n",
              "      <td>4</td>\n",
              "      <td>...</td>\n",
              "      <td>2</td>\n",
              "      <td>5</td>\n",
              "      <td>3</td>\n",
              "      <td>45</td>\n",
              "      <td>96</td>\n",
              "      <td>11</td>\n",
              "      <td>15</td>\n",
              "      <td>10</td>\n",
              "      <td>16</td>\n",
              "      <td>10</td>\n",
              "    </tr>\n",
              "  </tbody>\n",
              "</table>\n",
              "<p>5 rows × 68 columns</p>\n",
              "</div>\n",
              "      <button class=\"colab-df-convert\" onclick=\"convertToInteractive('df-c0ff611c-8fb4-401f-a57e-b5c9394547ee')\"\n",
              "              title=\"Convert this dataframe to an interactive table.\"\n",
              "              style=\"display:none;\">\n",
              "        \n",
              "  <svg xmlns=\"http://www.w3.org/2000/svg\" height=\"24px\"viewBox=\"0 0 24 24\"\n",
              "       width=\"24px\">\n",
              "    <path d=\"M0 0h24v24H0V0z\" fill=\"none\"/>\n",
              "    <path d=\"M18.56 5.44l.94 2.06.94-2.06 2.06-.94-2.06-.94-.94-2.06-.94 2.06-2.06.94zm-11 1L8.5 8.5l.94-2.06 2.06-.94-2.06-.94L8.5 2.5l-.94 2.06-2.06.94zm10 10l.94 2.06.94-2.06 2.06-.94-2.06-.94-.94-2.06-.94 2.06-2.06.94z\"/><path d=\"M17.41 7.96l-1.37-1.37c-.4-.4-.92-.59-1.43-.59-.52 0-1.04.2-1.43.59L10.3 9.45l-7.72 7.72c-.78.78-.78 2.05 0 2.83L4 21.41c.39.39.9.59 1.41.59.51 0 1.02-.2 1.41-.59l7.78-7.78 2.81-2.81c.8-.78.8-2.07 0-2.86zM5.41 20L4 18.59l7.72-7.72 1.47 1.35L5.41 20z\"/>\n",
              "  </svg>\n",
              "      </button>\n",
              "      \n",
              "  <style>\n",
              "    .colab-df-container {\n",
              "      display:flex;\n",
              "      flex-wrap:wrap;\n",
              "      gap: 12px;\n",
              "    }\n",
              "\n",
              "    .colab-df-convert {\n",
              "      background-color: #E8F0FE;\n",
              "      border: none;\n",
              "      border-radius: 50%;\n",
              "      cursor: pointer;\n",
              "      display: none;\n",
              "      fill: #1967D2;\n",
              "      height: 32px;\n",
              "      padding: 0 0 0 0;\n",
              "      width: 32px;\n",
              "    }\n",
              "\n",
              "    .colab-df-convert:hover {\n",
              "      background-color: #E2EBFA;\n",
              "      box-shadow: 0px 1px 2px rgba(60, 64, 67, 0.3), 0px 1px 3px 1px rgba(60, 64, 67, 0.15);\n",
              "      fill: #174EA6;\n",
              "    }\n",
              "\n",
              "    [theme=dark] .colab-df-convert {\n",
              "      background-color: #3B4455;\n",
              "      fill: #D2E3FC;\n",
              "    }\n",
              "\n",
              "    [theme=dark] .colab-df-convert:hover {\n",
              "      background-color: #434B5C;\n",
              "      box-shadow: 0px 1px 3px 1px rgba(0, 0, 0, 0.15);\n",
              "      filter: drop-shadow(0px 1px 2px rgba(0, 0, 0, 0.3));\n",
              "      fill: #FFFFFF;\n",
              "    }\n",
              "  </style>\n",
              "\n",
              "      <script>\n",
              "        const buttonEl =\n",
              "          document.querySelector('#df-c0ff611c-8fb4-401f-a57e-b5c9394547ee button.colab-df-convert');\n",
              "        buttonEl.style.display =\n",
              "          google.colab.kernel.accessAllowed ? 'block' : 'none';\n",
              "\n",
              "        async function convertToInteractive(key) {\n",
              "          const element = document.querySelector('#df-c0ff611c-8fb4-401f-a57e-b5c9394547ee');\n",
              "          const dataTable =\n",
              "            await google.colab.kernel.invokeFunction('convertToInteractive',\n",
              "                                                     [key], {});\n",
              "          if (!dataTable) return;\n",
              "\n",
              "          const docLinkHtml = 'Like what you see? Visit the ' +\n",
              "            '<a target=\"_blank\" href=https://colab.research.google.com/notebooks/data_table.ipynb>data table notebook</a>'\n",
              "            + ' to learn more about interactive tables.';\n",
              "          element.innerHTML = '';\n",
              "          dataTable['output_type'] = 'display_data';\n",
              "          await google.colab.output.renderOutput(dataTable, element);\n",
              "          const docLink = document.createElement('div');\n",
              "          docLink.innerHTML = docLinkHtml;\n",
              "          element.appendChild(docLink);\n",
              "        }\n",
              "      </script>\n",
              "    </div>\n",
              "  </div>\n",
              "  "
            ]
          },
          "metadata": {},
          "execution_count": 20
        }
      ]
    },
    {
      "cell_type": "code",
      "source": [
        "XTrain.describe()"
      ],
      "metadata": {
        "id": "zEHweK440kIB",
        "outputId": "8839371c-c9a3-4551-c0b5-c9c830feb390",
        "colab": {
          "base_uri": "https://localhost:8080/",
          "height": 393
        }
      },
      "execution_count": null,
      "outputs": [
        {
          "output_type": "execute_result",
          "data": {
            "text/plain": [
              "                 0            1            2            3            4  \\\n",
              "count  2592.000000  2592.000000  2592.000000  2592.000000  2592.000000   \n",
              "mean      6.086420     6.041281     5.761188     5.972608     6.169367   \n",
              "std       1.057703     1.142590     1.308343     1.133854     1.028848   \n",
              "min       1.000000     1.000000     1.000000     1.000000     1.000000   \n",
              "25%       6.000000     6.000000     5.000000     6.000000     6.000000   \n",
              "50%       6.000000     6.000000     6.000000     6.000000     6.000000   \n",
              "75%       7.000000     7.000000     7.000000     7.000000     7.000000   \n",
              "max       7.000000     7.000000     7.000000     7.000000     7.000000   \n",
              "\n",
              "                 5            6            7            8            9  ...  \\\n",
              "count  2592.000000  2592.000000  2592.000000  2592.000000  2592.000000  ...   \n",
              "mean      6.008488     6.213735     5.636188     4.136574     4.433256  ...   \n",
              "std       1.322228     1.048347     1.372094     1.658825     1.624833  ...   \n",
              "min       1.000000     1.000000     1.000000     1.000000     1.000000  ...   \n",
              "25%       6.000000     6.000000     5.000000     3.000000     3.000000  ...   \n",
              "50%       6.000000     6.000000     6.000000     4.000000     5.000000  ...   \n",
              "75%       7.000000     7.000000     7.000000     6.000000     6.000000  ...   \n",
              "max       7.000000     7.000000     7.000000     7.000000     7.000000  ...   \n",
              "\n",
              "                58           59           60     efficacy      habbits  \\\n",
              "count  2592.000000  2592.000000  2592.000000  2592.000000  2592.000000   \n",
              "mean      1.669753     3.673997     2.283565    42.253086   100.549383   \n",
              "std       1.067630     0.891992     1.467068     6.421752    18.289913   \n",
              "min       1.000000     1.000000     1.000000     7.000000    40.000000   \n",
              "25%       1.000000     3.000000     1.000000    40.000000    88.000000   \n",
              "50%       1.000000     4.000000     2.000000    43.000000   100.000000   \n",
              "75%       2.000000     4.000000     3.000000    47.000000   113.000000   \n",
              "max       5.000000     5.000000     6.000000    49.000000   152.000000   \n",
              "\n",
              "            preocc      hesitat      volatil  engagecurric  engageextra  \n",
              "count  2592.000000  2592.000000  2592.000000   2592.000000  2592.000000  \n",
              "mean     11.921296    12.396219     8.763503     12.193673     9.403164  \n",
              "std       2.184640     2.376561     1.285856      5.233741     4.153820  \n",
              "min       8.000000     8.000000     5.000000      4.000000     5.000000  \n",
              "25%      10.000000    11.000000     8.000000      8.000000     6.000000  \n",
              "50%      12.000000    12.000000     9.000000     12.000000     9.000000  \n",
              "75%      14.000000    14.000000    10.000000     16.000000    12.000000  \n",
              "max      16.000000    16.000000    10.000000     28.000000    25.000000  \n",
              "\n",
              "[8 rows x 68 columns]"
            ],
            "text/html": [
              "\n",
              "  <div id=\"df-a4319bcc-1218-430d-a9ce-405f00d5c939\">\n",
              "    <div class=\"colab-df-container\">\n",
              "      <div>\n",
              "<style scoped>\n",
              "    .dataframe tbody tr th:only-of-type {\n",
              "        vertical-align: middle;\n",
              "    }\n",
              "\n",
              "    .dataframe tbody tr th {\n",
              "        vertical-align: top;\n",
              "    }\n",
              "\n",
              "    .dataframe thead th {\n",
              "        text-align: right;\n",
              "    }\n",
              "</style>\n",
              "<table border=\"1\" class=\"dataframe\">\n",
              "  <thead>\n",
              "    <tr style=\"text-align: right;\">\n",
              "      <th></th>\n",
              "      <th>0</th>\n",
              "      <th>1</th>\n",
              "      <th>2</th>\n",
              "      <th>3</th>\n",
              "      <th>4</th>\n",
              "      <th>5</th>\n",
              "      <th>6</th>\n",
              "      <th>7</th>\n",
              "      <th>8</th>\n",
              "      <th>9</th>\n",
              "      <th>...</th>\n",
              "      <th>58</th>\n",
              "      <th>59</th>\n",
              "      <th>60</th>\n",
              "      <th>efficacy</th>\n",
              "      <th>habbits</th>\n",
              "      <th>preocc</th>\n",
              "      <th>hesitat</th>\n",
              "      <th>volatil</th>\n",
              "      <th>engagecurric</th>\n",
              "      <th>engageextra</th>\n",
              "    </tr>\n",
              "  </thead>\n",
              "  <tbody>\n",
              "    <tr>\n",
              "      <th>count</th>\n",
              "      <td>2592.000000</td>\n",
              "      <td>2592.000000</td>\n",
              "      <td>2592.000000</td>\n",
              "      <td>2592.000000</td>\n",
              "      <td>2592.000000</td>\n",
              "      <td>2592.000000</td>\n",
              "      <td>2592.000000</td>\n",
              "      <td>2592.000000</td>\n",
              "      <td>2592.000000</td>\n",
              "      <td>2592.000000</td>\n",
              "      <td>...</td>\n",
              "      <td>2592.000000</td>\n",
              "      <td>2592.000000</td>\n",
              "      <td>2592.000000</td>\n",
              "      <td>2592.000000</td>\n",
              "      <td>2592.000000</td>\n",
              "      <td>2592.000000</td>\n",
              "      <td>2592.000000</td>\n",
              "      <td>2592.000000</td>\n",
              "      <td>2592.000000</td>\n",
              "      <td>2592.000000</td>\n",
              "    </tr>\n",
              "    <tr>\n",
              "      <th>mean</th>\n",
              "      <td>6.086420</td>\n",
              "      <td>6.041281</td>\n",
              "      <td>5.761188</td>\n",
              "      <td>5.972608</td>\n",
              "      <td>6.169367</td>\n",
              "      <td>6.008488</td>\n",
              "      <td>6.213735</td>\n",
              "      <td>5.636188</td>\n",
              "      <td>4.136574</td>\n",
              "      <td>4.433256</td>\n",
              "      <td>...</td>\n",
              "      <td>1.669753</td>\n",
              "      <td>3.673997</td>\n",
              "      <td>2.283565</td>\n",
              "      <td>42.253086</td>\n",
              "      <td>100.549383</td>\n",
              "      <td>11.921296</td>\n",
              "      <td>12.396219</td>\n",
              "      <td>8.763503</td>\n",
              "      <td>12.193673</td>\n",
              "      <td>9.403164</td>\n",
              "    </tr>\n",
              "    <tr>\n",
              "      <th>std</th>\n",
              "      <td>1.057703</td>\n",
              "      <td>1.142590</td>\n",
              "      <td>1.308343</td>\n",
              "      <td>1.133854</td>\n",
              "      <td>1.028848</td>\n",
              "      <td>1.322228</td>\n",
              "      <td>1.048347</td>\n",
              "      <td>1.372094</td>\n",
              "      <td>1.658825</td>\n",
              "      <td>1.624833</td>\n",
              "      <td>...</td>\n",
              "      <td>1.067630</td>\n",
              "      <td>0.891992</td>\n",
              "      <td>1.467068</td>\n",
              "      <td>6.421752</td>\n",
              "      <td>18.289913</td>\n",
              "      <td>2.184640</td>\n",
              "      <td>2.376561</td>\n",
              "      <td>1.285856</td>\n",
              "      <td>5.233741</td>\n",
              "      <td>4.153820</td>\n",
              "    </tr>\n",
              "    <tr>\n",
              "      <th>min</th>\n",
              "      <td>1.000000</td>\n",
              "      <td>1.000000</td>\n",
              "      <td>1.000000</td>\n",
              "      <td>1.000000</td>\n",
              "      <td>1.000000</td>\n",
              "      <td>1.000000</td>\n",
              "      <td>1.000000</td>\n",
              "      <td>1.000000</td>\n",
              "      <td>1.000000</td>\n",
              "      <td>1.000000</td>\n",
              "      <td>...</td>\n",
              "      <td>1.000000</td>\n",
              "      <td>1.000000</td>\n",
              "      <td>1.000000</td>\n",
              "      <td>7.000000</td>\n",
              "      <td>40.000000</td>\n",
              "      <td>8.000000</td>\n",
              "      <td>8.000000</td>\n",
              "      <td>5.000000</td>\n",
              "      <td>4.000000</td>\n",
              "      <td>5.000000</td>\n",
              "    </tr>\n",
              "    <tr>\n",
              "      <th>25%</th>\n",
              "      <td>6.000000</td>\n",
              "      <td>6.000000</td>\n",
              "      <td>5.000000</td>\n",
              "      <td>6.000000</td>\n",
              "      <td>6.000000</td>\n",
              "      <td>6.000000</td>\n",
              "      <td>6.000000</td>\n",
              "      <td>5.000000</td>\n",
              "      <td>3.000000</td>\n",
              "      <td>3.000000</td>\n",
              "      <td>...</td>\n",
              "      <td>1.000000</td>\n",
              "      <td>3.000000</td>\n",
              "      <td>1.000000</td>\n",
              "      <td>40.000000</td>\n",
              "      <td>88.000000</td>\n",
              "      <td>10.000000</td>\n",
              "      <td>11.000000</td>\n",
              "      <td>8.000000</td>\n",
              "      <td>8.000000</td>\n",
              "      <td>6.000000</td>\n",
              "    </tr>\n",
              "    <tr>\n",
              "      <th>50%</th>\n",
              "      <td>6.000000</td>\n",
              "      <td>6.000000</td>\n",
              "      <td>6.000000</td>\n",
              "      <td>6.000000</td>\n",
              "      <td>6.000000</td>\n",
              "      <td>6.000000</td>\n",
              "      <td>6.000000</td>\n",
              "      <td>6.000000</td>\n",
              "      <td>4.000000</td>\n",
              "      <td>5.000000</td>\n",
              "      <td>...</td>\n",
              "      <td>1.000000</td>\n",
              "      <td>4.000000</td>\n",
              "      <td>2.000000</td>\n",
              "      <td>43.000000</td>\n",
              "      <td>100.000000</td>\n",
              "      <td>12.000000</td>\n",
              "      <td>12.000000</td>\n",
              "      <td>9.000000</td>\n",
              "      <td>12.000000</td>\n",
              "      <td>9.000000</td>\n",
              "    </tr>\n",
              "    <tr>\n",
              "      <th>75%</th>\n",
              "      <td>7.000000</td>\n",
              "      <td>7.000000</td>\n",
              "      <td>7.000000</td>\n",
              "      <td>7.000000</td>\n",
              "      <td>7.000000</td>\n",
              "      <td>7.000000</td>\n",
              "      <td>7.000000</td>\n",
              "      <td>7.000000</td>\n",
              "      <td>6.000000</td>\n",
              "      <td>6.000000</td>\n",
              "      <td>...</td>\n",
              "      <td>2.000000</td>\n",
              "      <td>4.000000</td>\n",
              "      <td>3.000000</td>\n",
              "      <td>47.000000</td>\n",
              "      <td>113.000000</td>\n",
              "      <td>14.000000</td>\n",
              "      <td>14.000000</td>\n",
              "      <td>10.000000</td>\n",
              "      <td>16.000000</td>\n",
              "      <td>12.000000</td>\n",
              "    </tr>\n",
              "    <tr>\n",
              "      <th>max</th>\n",
              "      <td>7.000000</td>\n",
              "      <td>7.000000</td>\n",
              "      <td>7.000000</td>\n",
              "      <td>7.000000</td>\n",
              "      <td>7.000000</td>\n",
              "      <td>7.000000</td>\n",
              "      <td>7.000000</td>\n",
              "      <td>7.000000</td>\n",
              "      <td>7.000000</td>\n",
              "      <td>7.000000</td>\n",
              "      <td>...</td>\n",
              "      <td>5.000000</td>\n",
              "      <td>5.000000</td>\n",
              "      <td>6.000000</td>\n",
              "      <td>49.000000</td>\n",
              "      <td>152.000000</td>\n",
              "      <td>16.000000</td>\n",
              "      <td>16.000000</td>\n",
              "      <td>10.000000</td>\n",
              "      <td>28.000000</td>\n",
              "      <td>25.000000</td>\n",
              "    </tr>\n",
              "  </tbody>\n",
              "</table>\n",
              "<p>8 rows × 68 columns</p>\n",
              "</div>\n",
              "      <button class=\"colab-df-convert\" onclick=\"convertToInteractive('df-a4319bcc-1218-430d-a9ce-405f00d5c939')\"\n",
              "              title=\"Convert this dataframe to an interactive table.\"\n",
              "              style=\"display:none;\">\n",
              "        \n",
              "  <svg xmlns=\"http://www.w3.org/2000/svg\" height=\"24px\"viewBox=\"0 0 24 24\"\n",
              "       width=\"24px\">\n",
              "    <path d=\"M0 0h24v24H0V0z\" fill=\"none\"/>\n",
              "    <path d=\"M18.56 5.44l.94 2.06.94-2.06 2.06-.94-2.06-.94-.94-2.06-.94 2.06-2.06.94zm-11 1L8.5 8.5l.94-2.06 2.06-.94-2.06-.94L8.5 2.5l-.94 2.06-2.06.94zm10 10l.94 2.06.94-2.06 2.06-.94-2.06-.94-.94-2.06-.94 2.06-2.06.94z\"/><path d=\"M17.41 7.96l-1.37-1.37c-.4-.4-.92-.59-1.43-.59-.52 0-1.04.2-1.43.59L10.3 9.45l-7.72 7.72c-.78.78-.78 2.05 0 2.83L4 21.41c.39.39.9.59 1.41.59.51 0 1.02-.2 1.41-.59l7.78-7.78 2.81-2.81c.8-.78.8-2.07 0-2.86zM5.41 20L4 18.59l7.72-7.72 1.47 1.35L5.41 20z\"/>\n",
              "  </svg>\n",
              "      </button>\n",
              "      \n",
              "  <style>\n",
              "    .colab-df-container {\n",
              "      display:flex;\n",
              "      flex-wrap:wrap;\n",
              "      gap: 12px;\n",
              "    }\n",
              "\n",
              "    .colab-df-convert {\n",
              "      background-color: #E8F0FE;\n",
              "      border: none;\n",
              "      border-radius: 50%;\n",
              "      cursor: pointer;\n",
              "      display: none;\n",
              "      fill: #1967D2;\n",
              "      height: 32px;\n",
              "      padding: 0 0 0 0;\n",
              "      width: 32px;\n",
              "    }\n",
              "\n",
              "    .colab-df-convert:hover {\n",
              "      background-color: #E2EBFA;\n",
              "      box-shadow: 0px 1px 2px rgba(60, 64, 67, 0.3), 0px 1px 3px 1px rgba(60, 64, 67, 0.15);\n",
              "      fill: #174EA6;\n",
              "    }\n",
              "\n",
              "    [theme=dark] .colab-df-convert {\n",
              "      background-color: #3B4455;\n",
              "      fill: #D2E3FC;\n",
              "    }\n",
              "\n",
              "    [theme=dark] .colab-df-convert:hover {\n",
              "      background-color: #434B5C;\n",
              "      box-shadow: 0px 1px 3px 1px rgba(0, 0, 0, 0.15);\n",
              "      filter: drop-shadow(0px 1px 2px rgba(0, 0, 0, 0.3));\n",
              "      fill: #FFFFFF;\n",
              "    }\n",
              "  </style>\n",
              "\n",
              "      <script>\n",
              "        const buttonEl =\n",
              "          document.querySelector('#df-a4319bcc-1218-430d-a9ce-405f00d5c939 button.colab-df-convert');\n",
              "        buttonEl.style.display =\n",
              "          google.colab.kernel.accessAllowed ? 'block' : 'none';\n",
              "\n",
              "        async function convertToInteractive(key) {\n",
              "          const element = document.querySelector('#df-a4319bcc-1218-430d-a9ce-405f00d5c939');\n",
              "          const dataTable =\n",
              "            await google.colab.kernel.invokeFunction('convertToInteractive',\n",
              "                                                     [key], {});\n",
              "          if (!dataTable) return;\n",
              "\n",
              "          const docLinkHtml = 'Like what you see? Visit the ' +\n",
              "            '<a target=\"_blank\" href=https://colab.research.google.com/notebooks/data_table.ipynb>data table notebook</a>'\n",
              "            + ' to learn more about interactive tables.';\n",
              "          element.innerHTML = '';\n",
              "          dataTable['output_type'] = 'display_data';\n",
              "          await google.colab.output.renderOutput(dataTable, element);\n",
              "          const docLink = document.createElement('div');\n",
              "          docLink.innerHTML = docLinkHtml;\n",
              "          element.appendChild(docLink);\n",
              "        }\n",
              "      </script>\n",
              "    </div>\n",
              "  </div>\n",
              "  "
            ]
          },
          "metadata": {},
          "execution_count": 21
        }
      ]
    },
    {
      "cell_type": "code",
      "source": [
        "XTrain.corr().unstack().sort_values().drop_duplicates()"
      ],
      "metadata": {
        "id": "UMFsOCRqxc5N",
        "outputId": "5467133f-0fce-4a5b-d502-3f4eb6683111",
        "colab": {
          "base_uri": "https://localhost:8080/"
        }
      },
      "execution_count": null,
      "outputs": [
        {
          "output_type": "execute_result",
          "data": {
            "text/plain": [
              "13        16             -0.283800\n",
              "28        25             -0.277325\n",
              "13        7              -0.275552\n",
              "          8              -0.161147\n",
              "17        54             -0.132315\n",
              "                            ...   \n",
              "51        engagecurric    0.831220\n",
              "3         efficacy        0.836851\n",
              "efficacy  0               0.838254\n",
              "          4               0.860804\n",
              "0         0               1.000000\n",
              "Length: 2279, dtype: float64"
            ]
          },
          "metadata": {},
          "execution_count": 22
        }
      ]
    },
    {
      "cell_type": "code",
      "source": [
        "import seaborn as sns\n",
        "cormat2 = XTrain.corr()\n",
        "kot2 = cormat2[cormat2>=.6]\n",
        "plt.figure(figsize=(20,14))\n",
        "sns.heatmap(kot2, cmap=\"Greens\")"
      ],
      "metadata": {
        "id": "-NiC0Br1xrGX",
        "outputId": "adc32388-720d-42ec-fe25-9c0f6d437bf4",
        "colab": {
          "base_uri": "https://localhost:8080/",
          "height": 887
        }
      },
      "execution_count": null,
      "outputs": [
        {
          "output_type": "execute_result",
          "data": {
            "text/plain": [
              "<matplotlib.axes._subplots.AxesSubplot at 0x7ff8c074ce10>"
            ]
          },
          "metadata": {},
          "execution_count": 24
        },
        {
          "output_type": "display_data",
          "data": {
            "text/plain": [
              "<Figure size 1440x1008 with 2 Axes>"
            ],
            "image/png": "[encoded data removed]"
          },
          "metadata": {
            "needs_background": "light"
          }
        }
      ]
    },
    {
      "cell_type": "code",
      "source": [
        "from sklearn.decomposition import PCA\n",
        "from sklearn.preprocessing import StandardScaler\n",
        "for i in range(67):\n",
        "  pca = PCA(n_components=i)\n",
        "  principalcomponents = pca.fit_transform(XTrain)\n",
        "  var = sum(pca.explained_variance_ratio_)\n",
        "  if var >= 0.95:\n",
        "    break\n",
        "print(f'Number of component for %95 variance:', i)\n",
        "print(f'The variance is:', var)"
      ],
      "metadata": {
        "id": "61E1r-nFy0JR",
        "outputId": "90b8f939-4f60-4306-e69c-1fb740478693",
        "colab": {
          "base_uri": "https://localhost:8080/"
        }
      },
      "execution_count": null,
      "outputs": [
        {
          "output_type": "stream",
          "name": "stderr",
          "text": [
            "/usr/local/lib/python3.7/dist-packages/sklearn/utils/validation.py:1692: FutureWarning: Feature names only support names that are all strings. Got feature names with dtypes: ['int', 'str']. An error will be raised in 1.2.\n",
            "  FutureWarning,\n",
            "/usr/local/lib/python3.7/dist-packages/sklearn/utils/validation.py:1692: FutureWarning: Feature names only support names that are all strings. Got feature names with dtypes: ['int', 'str']. An error will be raised in 1.2.\n",
            "  FutureWarning,\n",
            "/usr/local/lib/python3.7/dist-packages/sklearn/utils/validation.py:1692: FutureWarning: Feature names only support names that are all strings. Got feature names with dtypes: ['int', 'str']. An error will be raised in 1.2.\n",
            "  FutureWarning,\n",
            "/usr/local/lib/python3.7/dist-packages/sklearn/utils/validation.py:1692: FutureWarning: Feature names only support names that are all strings. Got feature names with dtypes: ['int', 'str']. An error will be raised in 1.2.\n",
            "  FutureWarning,\n",
            "/usr/local/lib/python3.7/dist-packages/sklearn/utils/validation.py:1692: FutureWarning: Feature names only support names that are all strings. Got feature names with dtypes: ['int', 'str']. An error will be raised in 1.2.\n",
            "  FutureWarning,\n",
            "/usr/local/lib/python3.7/dist-packages/sklearn/utils/validation.py:1692: FutureWarning: Feature names only support names that are all strings. Got feature names with dtypes: ['int', 'str']. An error will be raised in 1.2.\n",
            "  FutureWarning,\n",
            "/usr/local/lib/python3.7/dist-packages/sklearn/utils/validation.py:1692: FutureWarning: Feature names only support names that are all strings. Got feature names with dtypes: ['int', 'str']. An error will be raised in 1.2.\n",
            "  FutureWarning,\n",
            "/usr/local/lib/python3.7/dist-packages/sklearn/utils/validation.py:1692: FutureWarning: Feature names only support names that are all strings. Got feature names with dtypes: ['int', 'str']. An error will be raised in 1.2.\n",
            "  FutureWarning,\n",
            "/usr/local/lib/python3.7/dist-packages/sklearn/utils/validation.py:1692: FutureWarning: Feature names only support names that are all strings. Got feature names with dtypes: ['int', 'str']. An error will be raised in 1.2.\n",
            "  FutureWarning,\n",
            "/usr/local/lib/python3.7/dist-packages/sklearn/utils/validation.py:1692: FutureWarning: Feature names only support names that are all strings. Got feature names with dtypes: ['int', 'str']. An error will be raised in 1.2.\n",
            "  FutureWarning,\n",
            "/usr/local/lib/python3.7/dist-packages/sklearn/utils/validation.py:1692: FutureWarning: Feature names only support names that are all strings. Got feature names with dtypes: ['int', 'str']. An error will be raised in 1.2.\n",
            "  FutureWarning,\n",
            "/usr/local/lib/python3.7/dist-packages/sklearn/utils/validation.py:1692: FutureWarning: Feature names only support names that are all strings. Got feature names with dtypes: ['int', 'str']. An error will be raised in 1.2.\n",
            "  FutureWarning,\n",
            "/usr/local/lib/python3.7/dist-packages/sklearn/utils/validation.py:1692: FutureWarning: Feature names only support names that are all strings. Got feature names with dtypes: ['int', 'str']. An error will be raised in 1.2.\n",
            "  FutureWarning,\n",
            "/usr/local/lib/python3.7/dist-packages/sklearn/utils/validation.py:1692: FutureWarning: Feature names only support names that are all strings. Got feature names with dtypes: ['int', 'str']. An error will be raised in 1.2.\n",
            "  FutureWarning,\n",
            "/usr/local/lib/python3.7/dist-packages/sklearn/utils/validation.py:1692: FutureWarning: Feature names only support names that are all strings. Got feature names with dtypes: ['int', 'str']. An error will be raised in 1.2.\n",
            "  FutureWarning,\n",
            "/usr/local/lib/python3.7/dist-packages/sklearn/utils/validation.py:1692: FutureWarning: Feature names only support names that are all strings. Got feature names with dtypes: ['int', 'str']. An error will be raised in 1.2.\n",
            "  FutureWarning,\n"
          ]
        },
        {
          "output_type": "stream",
          "name": "stdout",
          "text": [
            "Number of component for %95 variance: 18\n",
            "The variance is: 0.9504938588929905\n"
          ]
        },
        {
          "output_type": "stream",
          "name": "stderr",
          "text": [
            "/usr/local/lib/python3.7/dist-packages/sklearn/utils/validation.py:1692: FutureWarning: Feature names only support names that are all strings. Got feature names with dtypes: ['int', 'str']. An error will be raised in 1.2.\n",
            "  FutureWarning,\n",
            "/usr/local/lib/python3.7/dist-packages/sklearn/utils/validation.py:1692: FutureWarning: Feature names only support names that are all strings. Got feature names with dtypes: ['int', 'str']. An error will be raised in 1.2.\n",
            "  FutureWarning,\n",
            "/usr/local/lib/python3.7/dist-packages/sklearn/utils/validation.py:1692: FutureWarning: Feature names only support names that are all strings. Got feature names with dtypes: ['int', 'str']. An error will be raised in 1.2.\n",
            "  FutureWarning,\n"
          ]
        }
      ]
    },
    {
      "cell_type": "code",
      "source": [
        "XTrainRaw = XTrain.iloc[:,0:61]"
      ],
      "metadata": {
        "id": "kBHx9P1cddOh"
      },
      "execution_count": null,
      "outputs": []
    },
    {
      "cell_type": "code",
      "source": [
        "from sklearn.decomposition import PCA\n",
        "from sklearn.preprocessing import StandardScaler\n",
        "for i in range(67):\n",
        "  pca = PCA(n_components=i)\n",
        "  principalcomponents = pca.fit_transform(XTrainRaw)\n",
        "  var = sum(pca.explained_variance_ratio_)\n",
        "  if var >= 0.95:\n",
        "    break\n",
        "print(f'Number of component for %95 variance:', i)\n",
        "print(f'The variance is:', var)"
      ],
      "metadata": {
        "id": "yaD7PDwSzd-b",
        "outputId": "94d5c548-89ba-4aaf-d71a-a92f2cbb2bf9",
        "colab": {
          "base_uri": "https://localhost:8080/"
        }
      },
      "execution_count": null,
      "outputs": [
        {
          "output_type": "stream",
          "name": "stdout",
          "text": [
            "Number of component for %95 variance: 38\n",
            "The variance is: 0.9533546871019456\n"
          ]
        }
      ]
    },
    {
      "cell_type": "code",
      "source": [
        "GPA = DF4.iloc[:,-1]\n",
        "GPA.describe()"
      ],
      "metadata": {
        "colab": {
          "base_uri": "https://localhost:8080/"
        },
        "id": "PNGYi66wsoZW",
        "outputId": "b6c83278-2341-4a37-eafd-1ed4b5757e28"
      },
      "execution_count": null,
      "outputs": [
        {
          "output_type": "execute_result",
          "data": {
            "text/plain": [
              "count    2592.000000\n",
              "mean        3.489070\n",
              "std         0.464113\n",
              "min         1.000000\n",
              "25%         3.200000\n",
              "50%         3.600000\n",
              "75%         3.870000\n",
              "max         4.000000\n",
              "Name: 61, dtype: float64"
            ]
          },
          "metadata": {},
          "execution_count": 28
        }
      ]
    },
    {
      "cell_type": "code",
      "source": [
        "XTrain.to_csv('XTrainAllDatasets.csv')\n",
        "GPA.to_csv('GPAAllDatasets.csv')\n",
        "from google.colab import files\n",
        "files.download(\"XTrainAllDatasets.csv\")\n",
        "files.download(\"GPAAllDatasets.csv\")"
      ],
      "metadata": {
        "colab": {
          "base_uri": "https://localhost:8080/",
          "height": 16
        },
        "id": "Nf0QgVjvX4Rl",
        "outputId": "5693ad8a-e012-45cc-b499-38f252def169"
      },
      "execution_count": null,
      "outputs": [
        {
          "output_type": "display_data",
          "data": {
            "text/plain": [
              "<IPython.core.display.Javascript object>"
            ],
            "application/javascript": [
              "\n",
              "    async function download(id, filename, size) {\n",
              "      if (!google.colab.kernel.accessAllowed) {\n",
              "        return;\n",
              "      }\n",
              "      const div = document.createElement('div');\n",
              "      const label = document.createElement('label');\n",
              "      label.textContent = `Downloading \"${filename}\": `;\n",
              "      div.appendChild(label);\n",
              "      const progress = document.createElement('progress');\n",
              "      progress.max = size;\n",
              "      div.appendChild(progress);\n",
              "      document.body.appendChild(div);\n",
              "\n",
              "      const buffers = [];\n",
              "      let downloaded = 0;\n",
              "\n",
              "      const channel = await google.colab.kernel.comms.open(id);\n",
              "      // Send a message to notify the kernel that we're ready.\n",
              "      channel.send({})\n",
              "\n",
              "      for await (const message of channel.messages) {\n",
              "        // Send a message to notify the kernel that we're ready.\n",
              "        channel.send({})\n",
              "        if (message.buffers) {\n",
              "          for (const buffer of message.buffers) {\n",
              "            buffers.push(buffer);\n",
              "            downloaded += buffer.byteLength;\n",
              "            progress.value = downloaded;\n",
              "          }\n",
              "        }\n",
              "      }\n",
              "      const blob = new Blob(buffers, {type: 'application/binary'});\n",
              "      const a = document.createElement('a');\n",
              "      a.href = window.URL.createObjectURL(blob);\n",
              "      a.download = filename;\n",
              "      div.appendChild(a);\n",
              "      a.click();\n",
              "      div.remove();\n",
              "    }\n",
              "  "
            ]
          },
          "metadata": {}
        },
        {
          "output_type": "display_data",
          "data": {
            "text/plain": [
              "<IPython.core.display.Javascript object>"
            ],
            "application/javascript": [
              "download(\"download_d4b67843-b773-4841-b0b0-c338af8258aa\", \"XTrainAllDatasets.csv\", 379273)"
            ]
          },
          "metadata": {}
        },
        {
          "output_type": "display_data",
          "data": {
            "text/plain": [
              "<IPython.core.display.Javascript object>"
            ],
            "application/javascript": [
              "\n",
              "    async function download(id, filename, size) {\n",
              "      if (!google.colab.kernel.accessAllowed) {\n",
              "        return;\n",
              "      }\n",
              "      const div = document.createElement('div');\n",
              "      const label = document.createElement('label');\n",
              "      label.textContent = `Downloading \"${filename}\": `;\n",
              "      div.appendChild(label);\n",
              "      const progress = document.createElement('progress');\n",
              "      progress.max = size;\n",
              "      div.appendChild(progress);\n",
              "      document.body.appendChild(div);\n",
              "\n",
              "      const buffers = [];\n",
              "      let downloaded = 0;\n",
              "\n",
              "      const channel = await google.colab.kernel.comms.open(id);\n",
              "      // Send a message to notify the kernel that we're ready.\n",
              "      channel.send({})\n",
              "\n",
              "      for await (const message of channel.messages) {\n",
              "        // Send a message to notify the kernel that we're ready.\n",
              "        channel.send({})\n",
              "        if (message.buffers) {\n",
              "          for (const buffer of message.buffers) {\n",
              "            buffers.push(buffer);\n",
              "            downloaded += buffer.byteLength;\n",
              "            progress.value = downloaded;\n",
              "          }\n",
              "        }\n",
              "      }\n",
              "      const blob = new Blob(buffers, {type: 'application/binary'});\n",
              "      const a = document.createElement('a');\n",
              "      a.href = window.URL.createObjectURL(blob);\n",
              "      a.download = filename;\n",
              "      div.appendChild(a);\n",
              "      a.click();\n",
              "      div.remove();\n",
              "    }\n",
              "  "
            ]
          },
          "metadata": {}
        },
        {
          "output_type": "display_data",
          "data": {
            "text/plain": [
              "<IPython.core.display.Javascript object>"
            ],
            "application/javascript": [
              "download(\"download_da877f48-d729-41f0-8892-4316d185712b\", \"GPAAllDatasets.csv\", 23166)"
            ]
          },
          "metadata": {}
        }
      ]
    },
    {
      "cell_type": "markdown",
      "source": [
        "SCALE DATA USING MINMAXSCALER"
      ],
      "metadata": {
        "id": "AYBPVQ21bRKC"
      }
    },
    {
      "cell_type": "code",
      "source": [
        "cols = XTrain.columns\n",
        "scaler = MinMaxScaler()\n",
        "XTrainScaled = pd.DataFrame(scaler.fit_transform(XTrain), columns=cols)\n",
        "GPA = DF4.iloc[:,-1]\n",
        "GPAmax = GPA.max()\n",
        "GPAmin = GPA.min()\n",
        "GPAreshaped = GPA.values.reshape(-1, 1) \n",
        "GPAScaled = pd.DataFrame(scaler.fit_transform(GPAreshaped))\n",
        "GPAScaled2 = (GPA - GPA.min()) / (GPA.max() - GPA.min())"
      ],
      "metadata": {
        "id": "eVc4-yMTerAm",
        "colab": {
          "base_uri": "https://localhost:8080/"
        },
        "outputId": "de732eb1-5b19-4d97-9c86-05d8f11b4db1"
      },
      "execution_count": null,
      "outputs": [
        {
          "output_type": "stream",
          "name": "stderr",
          "text": [
            "/usr/local/lib/python3.7/dist-packages/sklearn/utils/validation.py:1692: FutureWarning: Feature names only support names that are all strings. Got feature names with dtypes: ['int', 'str']. An error will be raised in 1.2.\n",
            "  FutureWarning,\n",
            "/usr/local/lib/python3.7/dist-packages/sklearn/utils/validation.py:1692: FutureWarning: Feature names only support names that are all strings. Got feature names with dtypes: ['int', 'str']. An error will be raised in 1.2.\n",
            "  FutureWarning,\n"
          ]
        }
      ]
    },
    {
      "cell_type": "markdown",
      "source": [
        "TRY DNN MODEL"
      ],
      "metadata": {
        "id": "2kFxDrG-Y7QJ"
      }
    },
    {
      "cell_type": "code",
      "source": [
        "# Model configuration\n",
        "batch_size = 10\n",
        "no_epochs = 50\n",
        "verbosity = 0\n",
        "num_folds = 10\n",
        "\n",
        "# Define per-fold score containers\n",
        "acc_per_fold = []\n",
        "loss_per_fold = []\n",
        "\n",
        "# Define the K-fold Cross Validator\n",
        "kfold = KFold(n_splits=num_folds, shuffle=True)\n",
        "\n",
        "# K-fold Cross Validation model evaluation\n",
        "fold_no = 1\n",
        "for train_index, test_index in kfold.split(XTrainScaled):\n",
        "\n",
        "  # Define the model architecture\n",
        "  model1 = Sequential()\n",
        "  model1.add(Dense(68, input_dim=68, kernel_initializer='normal', activation='relu'))\n",
        "  model1.add(Dense(1, kernel_initializer='normal'))\n",
        "  # Compile model\n",
        "  model1.compile(loss='mean_squared_error', optimizer='adam')\n",
        "\n",
        "  # Generate a print\n",
        "  print('------------------------------------------------------------------------')\n",
        "  print(f'Training for fold {fold_no} ...')\n",
        "\n",
        "  # Fit data to model\n",
        "  history = model1.fit(XTrainScaled.iloc[train_index], GPAScaled2.iloc[train_index],\n",
        "              batch_size=batch_size,\n",
        "              epochs=no_epochs,\n",
        "              verbose=verbosity)\n",
        "\n",
        "  # Generate generalization metrics\n",
        "  scores = model1.evaluate(XTrainScaled.iloc[test_index], GPAScaled2.iloc[test_index], verbose=0)\n",
        "  #print(f'Score for fold {fold_no}: {model1.metrics_names[0]} of {scores[0]}; {model1.metrics_names[1]} of {scores[1]*100}%')\n",
        "  \n",
        "  print(f'Score for fold {fold_no}: {model1.metrics_names[0]} is {scores}')\n",
        "\n",
        "  #acc_per_fold.append(scores[1] * 100)\n",
        "  loss_per_fold.append(scores)\n",
        "\n",
        "  # Increase fold number\n",
        "  fold_no = fold_no + 1\n",
        "\n",
        "# == Provide average scores ==\n",
        "print('------------------------------------------------------------------------')\n",
        "print('Score per fold')\n",
        "for i in range(0, len(loss_per_fold)):\n",
        "  print('------------------------------------------------------------------------')\n",
        "  print(f'> Fold {i+1} - Loss: {loss_per_fold[i]}')\n",
        "print('------------------------------------------------------------------------')\n",
        "print('Average MSE scores for all folds:')\n",
        "print(f'> Loss: {np.mean(loss_per_fold)}')\n",
        "print('------------------------------------------------------------------------')"
      ],
      "metadata": {
        "colab": {
          "base_uri": "https://localhost:8080/"
        },
        "id": "bS09P80sNOGf",
        "outputId": "9adb479d-16ab-413b-cc5f-077db7fbd87a"
      },
      "execution_count": null,
      "outputs": [
        {
          "output_type": "stream",
          "name": "stdout",
          "text": [
            "------------------------------------------------------------------------\n",
            "Training for fold 1 ...\n",
            "Score for fold 1: loss is 0.026698870584368706\n",
            "------------------------------------------------------------------------\n",
            "Training for fold 2 ...\n",
            "Score for fold 2: loss is 0.02575243078172207\n",
            "------------------------------------------------------------------------\n",
            "Training for fold 3 ...\n",
            "Score for fold 3: loss is 0.027768585830926895\n",
            "------------------------------------------------------------------------\n",
            "Training for fold 4 ...\n",
            "Score for fold 4: loss is 0.02442682534456253\n",
            "------------------------------------------------------------------------\n",
            "Training for fold 5 ...\n",
            "Score for fold 5: loss is 0.02456929162144661\n",
            "------------------------------------------------------------------------\n",
            "Training for fold 6 ...\n",
            "Score for fold 6: loss is 0.025531569495797157\n",
            "------------------------------------------------------------------------\n",
            "Training for fold 7 ...\n",
            "Score for fold 7: loss is 0.03193126246333122\n",
            "------------------------------------------------------------------------\n",
            "Training for fold 8 ...\n",
            "Score for fold 8: loss is 0.023206442594528198\n",
            "------------------------------------------------------------------------\n",
            "Training for fold 9 ...\n",
            "Score for fold 9: loss is 0.029834773391485214\n",
            "------------------------------------------------------------------------\n",
            "Training for fold 10 ...\n",
            "Score for fold 10: loss is 0.0249842070043087\n",
            "------------------------------------------------------------------------\n",
            "Score per fold\n",
            "------------------------------------------------------------------------\n",
            "> Fold 1 - Loss: 0.026698870584368706\n",
            "------------------------------------------------------------------------\n",
            "> Fold 2 - Loss: 0.02575243078172207\n",
            "------------------------------------------------------------------------\n",
            "> Fold 3 - Loss: 0.027768585830926895\n",
            "------------------------------------------------------------------------\n",
            "> Fold 4 - Loss: 0.02442682534456253\n",
            "------------------------------------------------------------------------\n",
            "> Fold 5 - Loss: 0.02456929162144661\n",
            "------------------------------------------------------------------------\n",
            "> Fold 6 - Loss: 0.025531569495797157\n",
            "------------------------------------------------------------------------\n",
            "> Fold 7 - Loss: 0.03193126246333122\n",
            "------------------------------------------------------------------------\n",
            "> Fold 8 - Loss: 0.023206442594528198\n",
            "------------------------------------------------------------------------\n",
            "> Fold 9 - Loss: 0.029834773391485214\n",
            "------------------------------------------------------------------------\n",
            "> Fold 10 - Loss: 0.0249842070043087\n",
            "------------------------------------------------------------------------\n",
            "Average MSE scores for all folds:\n",
            "> Loss: 0.02647042591124773\n",
            "------------------------------------------------------------------------\n"
          ]
        }
      ]
    },
    {
      "cell_type": "code",
      "source": [
        "#plot the loss and validation loss of the dataset\n",
        "history_df = pd.DataFrame(history.history)\n",
        "plt.plot(history_df['loss'], label='loss')\n",
        "# plt.plot(history_df['val_loss'], label='val_loss')\n",
        "\n",
        "plt.legend()"
      ],
      "metadata": {
        "colab": {
          "base_uri": "https://localhost:8080/",
          "height": 283
        },
        "id": "MYh-cLPPK0Cu",
        "outputId": "e12c1303-0fd9-46e8-cf46-0d7294a58355"
      },
      "execution_count": null,
      "outputs": [
        {
          "output_type": "execute_result",
          "data": {
            "text/plain": [
              "<matplotlib.legend.Legend at 0x7ff8b6adfbd0>"
            ]
          },
          "metadata": {},
          "execution_count": 35
        },
        {
          "output_type": "display_data",
          "data": {
            "text/plain": [
              "<Figure size 432x288 with 1 Axes>"
            ],
            "image/png": "[encoded data removed]"
          },
          "metadata": {
            "needs_background": "light"
          }
        }
      ]
    },
    {
      "cell_type": "code",
      "source": [
        "model1.evaluate(XTrainScaled.iloc[test_index], GPAScaled.iloc[test_index], batch_size=10)"
      ],
      "metadata": {
        "colab": {
          "base_uri": "https://localhost:8080/"
        },
        "id": "qyV9BueH1kQ-",
        "outputId": "1c00a6d9-cb59-4126-ba83-27341355bedb"
      },
      "execution_count": null,
      "outputs": [
        {
          "output_type": "stream",
          "name": "stdout",
          "text": [
            "26/26 [==============================] - 0s 2ms/step - loss: 0.0250\n"
          ]
        },
        {
          "output_type": "execute_result",
          "data": {
            "text/plain": [
              "0.024984210729599"
            ]
          },
          "metadata": {},
          "execution_count": 36
        }
      ]
    },
    {
      "cell_type": "code",
      "source": [
        "y_predict_dnn = model1.predict(XTrainScaled.iloc[test_index])\n",
        "y_test = GPAScaled2.iloc[test_index]"
      ],
      "metadata": {
        "id": "ku_UW8FSNMFT"
      },
      "execution_count": null,
      "outputs": []
    },
    {
      "cell_type": "code",
      "source": [
        "mean_squared_error(y_test, y_predict_dnn)"
      ],
      "metadata": {
        "colab": {
          "base_uri": "https://localhost:8080/"
        },
        "id": "KDPHCkl1Nhxk",
        "outputId": "f2386c7c-6291-4f00-dd02-03a3210b710c"
      },
      "execution_count": null,
      "outputs": [
        {
          "output_type": "execute_result",
          "data": {
            "text/plain": [
              "0.02498420862611155"
            ]
          },
          "metadata": {},
          "execution_count": 38
        }
      ]
    },
    {
      "cell_type": "markdown",
      "source": [
        "UNNORMALIZE TEST AND TEST PREDICT RESULTS FOR A DISPLAY"
      ],
      "metadata": {
        "id": "-zeO3CsKgNzd"
      }
    },
    {
      "cell_type": "code",
      "source": [
        "y_test1 = DF4.iloc[:,-1].iloc[test_index]"
      ],
      "metadata": {
        "id": "LpGpsrtAheEl"
      },
      "execution_count": null,
      "outputs": []
    },
    {
      "cell_type": "code",
      "source": [
        "y_predict_dnn_UN = (GPAmax * y_predict_dnn) + (GPAmin * (1 - y_predict_dnn)) \n",
        "y_test_UN = (GPAmax * y_test) + (GPAmin * (1 - y_test))\n",
        "y_test_UN = y_test_UN.to_numpy()"
      ],
      "metadata": {
        "id": "WyRbPI1mgKVV"
      },
      "execution_count": null,
      "outputs": []
    },
    {
      "cell_type": "code",
      "source": [
        "y_predict_dnn = y_predict_dnn.reshape(y_predict_dnn.shape[0],)\n",
        "fig = go.Figure()\n",
        "fig.add_trace(go.Scatter(y=y_test, name=\"y_test\", line_shape='linear'))\n",
        "fig.add_trace(go.Scatter(y=y_predict_dnn, name=\"y_predict_dnn\", line_shape='linear'))\n",
        "fig.update_layout(title_text='NORMALIZED DNN MODEL RESULTS', title_x=0.5)\n",
        "fig.show()"
      ],
      "metadata": {
        "colab": {
          "base_uri": "https://localhost:8080/",
          "height": 542
        },
        "id": "XiGoVY1Uw39W",
        "outputId": "fd93c6a4-dfef-4fed-e914-33a4023020e3"
      },
      "execution_count": null,
      "outputs": [
        {
          "output_type": "display_data",
          "data": {
            "text/html": [
              "<html>\n",
              "<head><meta charset=\"utf-8\" /></head>\n",
              "<body>\n",
              "    <div>            <script src=\"https://cdnjs.cloudflare.com/ajax/libs/mathjax/2.7.5/MathJax.js?config=TeX-AMS-MML_SVG\"></script><script type=\"text/javascript\">if (window.MathJax) {MathJax.Hub.Config({SVG: {font: \"STIX-Web\"}});}</script>                <script type=\"text/javascript\">window.PlotlyConfig = {MathJaxConfig: 'local'};</script>\n",
              "        <script src=\"https://cdn.plot.ly/plotly-2.8.3.min.js\"></script>                <div id=\"8e98abba-78f0-4805-8536-e7782ad8921c\" class=\"plotly-graph-div\" style=\"height:525px; width:100%;\"></div>            <script type=\"text/javascript\">                                    window.PLOTLYENV=window.PLOTLYENV || {};                                    if (document.getElementById(\"8e98abba-78f0-4805-8536-e7782ad8921c\")) {                    Plotly.newPlot(                        \"8e98abba-78f0-4805-8536-e7782ad8921c\",                        [{\"line\":{\"shape\":\"linear\"},\"name\":\"y_test\",\"y\":[0.6,0.9266666666666666,0.7066666666666667,0.9066666666666667,1.0,0.5,0.7333333333333334,0.7000000000000001,0.98,1.0,1.0,1.0,1.0,1.0,0.9,0.6666666666666666,1.0,0.9,0.8733333333333334,1.0,1.0,1.0,1.0,1.0,0.6666666666666666,1.0,0.9333333333333332,0.8666666666666667,0.9333333333333332,0.88,0.8333333333333334,1.0,0.0,0.7666666666666666,1.0,0.7333333333333334,0.3,1.0,1.0,0.8866666666666667,0.9700000000000001,0.6,0.8666666666666667,0.9033333333333333,0.8033333333333333,0.6,0.7333333333333334,0.6866666666666666,0.9706666666666667,0.9333333333333332,0.6333333333333333,0.9733333333333333,0.8066666666666666,0.9333333333333332,0.9666666666666667,0.8666666666666667,0.8033333333333333,1.0,0.8833333333333333,0.6666666666666666,1.0,0.8133333333333334,0.9333333333333332,1.0,0.8833333333333333,1.0,0.8333333333333334,0.8666666666666667,0.8333333333333334,0.8666666666666667,0.6666666666666666,0.8666666666666667,0.6666666666666666,0.5333333333333333,0.9333333333333332,0.9833333333333334,0.7333333333333334,0.9166666666666666,0.7833333333333333,0.7033333333333333,0.6,0.5800000000000001,0.9266666666666666,0.48,0.8666666666666667,0.9,0.8333333333333334,0.7200000000000001,0.7999999999999999,0.9833333333333334,0.9533333333333333,0.9666666666666667,0.7000000000000001,0.63,1.0,0.9666666666666667,0.7333333333333334,0.9466666666666667,0.6733333333333333,0.8633333333333333,1.0,0.8333333333333334,0.7733333333333333,0.9166666666666666,0.7833333333333333,0.9933333333333333,0.7566666666666667,0.9333333333333332,0.4666666666666666,1.0,1.0,0.9333333333333332,0.8333333333333334,0.7000000000000001,0.8333333333333334,0.8333333333333334,0.9866666666666667,1.0,0.93,0.9,0.8666666666666667,1.0,0.88,0.9,0.9666666666666667,0.8333333333333334,0.9333333333333332,1.0,1.0,0.8666666666666667,0.8666666666666667,0.8333333333333334,0.6133333333333333,0.8333333333333334,1.0,0.8300000000000001,0.3866666666666667,0.7766666666666667,0.9666666666666667,0.9,0.9900000000000001,0.8033333333333333,1.0,0.8133333333333334,0.6333333333333333,0.8833333333333333,0.9666666666666667,0.9166666666666666,0.7333333333333334,1.0,0.9,0.9266666666666666,0.9666666666666667,0.9,0.9333333333333332,0.9500000000000001,0.82,0.9,0.8666666666666667,1.0,0.7666666666666666,0.8333333333333334,0.7333333333333334,0.8166666666666668,0.9,0.57,0.5333333333333333,0.6666666666666666,0.9366666666666666,0.7666666666666666,0.6666666666666666,0.6666666666666666,0.9133333333333334,0.9333333333333332,0.9733333333333333,0.9900000000000001,0.9266666666666666,0.9366666666666666,1.0,1.0,0.75,0.4333333333333333,0.7799999999999999,0.8666666666666667,0.9333333333333332,0.9433333333333334,0.8666666666666667,1.0,1.0,0.9500000000000001,0.9199999999999999,0.7733333333333333,0.9366666666666666,0.9666666666666667,0.81,0.6666666666666666,0.9333333333333332,0.8433333333333333,0.9,0.8866666666666667,0.8333333333333334,0.5333333333333333,0.8333333333333334,0.6466666666666666,1.0,0.7999999999999999,0.6,0.9700000000000001,0.9733333333333333,0.8333333333333334,0.8666666666666667,0.8333333333333334,1.0,0.7766666666666667,0.96,0.88,1.0,0.9766666666666667,0.9066666666666667,1.0,0.6,0.9766666666666667,0.7666666666666666,1.0,0.9333333333333332,0.8566666666666666,0.8566666666666666,0.7666666666666666,0.7666666666666666,0.5,0.9833333333333334,0.9666666666666667,0.9,0.8333333333333334,0.7666666666666666,0.7733333333333333,0.5266666666666667,0.3466666666666667,0.6666666666666666,0.8066666666666666,0.8666666666666667,0.86,0.86,0.4333333333333333,0.85,0.7266666666666667,0.7633333333333333,0.8333333333333334,0.9333333333333332,1.0,0.6,0.6666666666666666,0.6733333333333333,0.9733333333333333,0.7333333333333334,0.9700000000000001,0.3666666666666667,0.8333333333333334,0.9733333333333333],\"type\":\"scatter\"},{\"line\":{\"shape\":\"linear\"},\"name\":\"y_predict_dnn\",\"y\":[0.7116308212280273,0.9686540365219116,0.767027735710144,0.7721987962722778,0.8282212615013123,0.6401856541633606,0.7302567958831787,0.9853251576423645,0.9030424356460571,0.7752033472061157,0.9115650653839111,0.9108667969703674,0.8328896760940552,0.9371656775474548,0.7930552959442139,0.9005693793296814,0.8519870638847351,0.7549802660942078,0.902303159236908,0.9284568428993225,0.7895719408988953,0.9608868360519409,0.8186303377151489,0.7908814549446106,0.7860409617424011,0.7841894030570984,0.8492860794067383,0.8927348852157593,0.8582853078842163,0.859648585319519,0.9616195559501648,0.6643707156181335,0.8797357678413391,0.9557414650917053,0.8686575889587402,0.8310354351997375,0.9065873622894287,0.6596594452857971,0.8615116477012634,0.7307078838348389,0.7547425627708435,0.7679147720336914,0.7573333978652954,0.703000545501709,0.7651969790458679,0.9609683156013489,0.7629261612892151,0.8999766111373901,0.788629412651062,0.7977529764175415,0.7615699172019958,0.8763701319694519,0.7089542150497437,0.8110120892524719,0.833786129951477,0.8798289895057678,0.8080838918685913,0.9115456342697144,0.7766478657722473,0.9339423179626465,0.8268902897834778,0.6640810966491699,0.89544278383255,0.9227992296218872,0.8893435597419739,0.9233369827270508,0.9556145071983337,0.9983702301979065,0.7343600392341614,0.7600457072257996,0.9467443823814392,0.9057968854904175,0.8486886024475098,0.7303932309150696,0.7440285086631775,1.0515260696411133,0.8094594478607178,0.7651833891868591,0.749683678150177,0.9547333121299744,0.786165177822113,0.9090809226036072,0.970341145992279,0.8424442410469055,0.8237217664718628,0.9531999826431274,0.8759078979492188,0.7722830176353455,0.7299813032150269,0.9071008563041687,1.010844349861145,0.9246009588241577,0.7979074120521545,0.632748007774353,1.0313578844070435,0.846909761428833,0.8712757229804993,0.8250770568847656,0.8494749665260315,0.5555754899978638,0.8438453078269958,0.779695451259613,0.9196308851242065,1.0160410404205322,0.7996812462806702,0.985443651676178,0.8327273726463318,0.7167965769767761,0.4390712380409241,0.9372999668121338,1.0544472932815552,0.8112927675247192,0.9150810837745667,0.7826801538467407,0.8036093711853027,0.8599688410758972,0.8816286325454712,0.9272553324699402,0.9202712774276733,1.0232136249542236,0.8109297156333923,0.8055883049964905,0.8522875308990479,0.7440166473388672,0.9240714311599731,0.836545467376709,0.9293276071548462,0.7774211168289185,1.002225637435913,0.7272753119468689,0.9986716508865356,0.7809442281723022,0.9188418984413147,0.8335313200950623,0.9121037721633911,0.9239087104797363,0.7560972571372986,0.8231849670410156,0.8261260986328125,0.9093995690345764,0.8282992839813232,0.8890798091888428,0.9892544746398926,0.6396673917770386,0.8037119507789612,0.8321954607963562,0.8253065347671509,0.854665994644165,0.8059126138687134,0.9261677265167236,0.9746947884559631,0.9687999486923218,1.0398635864257812,0.9963657259941101,0.9561110734939575,0.8990778923034668,0.8516236543655396,0.9840163588523865,0.7585768699645996,0.7587758898735046,0.6975585222244263,1.0043374300003052,0.7319701910018921,0.8699523210525513,0.8899368047714233,0.9510747194290161,0.4379604458808899,0.7664050459861755,0.8735405802726746,0.8503466844558716,0.8771552443504333,0.8620952367782593,0.8939182758331299,0.8672322630882263,0.8185133337974548,0.8416300415992737,0.8873099684715271,0.7009316682815552,1.071065068244934,0.8904613852500916,0.876848578453064,0.7691546678543091,0.8409053683280945,0.8846847414970398,0.930870771408081,1.0142804384231567,0.8897800445556641,0.8783563375473022,0.9761306047439575,1.0779199600219727,0.8980159163475037,0.6462901830673218,0.7304950952529907,0.9207479953765869,0.9859752655029297,0.7127927541732788,0.7515219449996948,0.9887178540229797,0.9359316229820251,0.8438597917556763,0.6156313419342041,0.7668740153312683,0.9818772673606873,0.7415730953216553,0.9757084846496582,0.7594365477561951,0.7118654251098633,0.7969946265220642,0.8164280652999878,0.8410934805870056,0.7833490371704102,0.8783574104309082,0.8246060609817505,0.700710654258728,0.672685444355011,0.8846338391304016,0.9338962435722351,0.9137253165245056,0.9493793845176697,0.8566257357597351,0.7737091779708862,0.7670064568519592,0.8233391642570496,0.9140446186065674,0.9328957796096802,0.9284521341323853,0.8820913434028625,0.6851197481155396,0.7687827348709106,0.7513666152954102,0.8594066500663757,0.8831707239151001,0.8382999897003174,0.878896951675415,0.7489253282546997,0.7155289649963379,0.7221219539642334,0.35525643825531006,0.7853649854660034,0.8165374994277954,0.8258925676345825,0.8075836300849915,0.9437293410301208,0.9850291013717651,0.7548220157623291,0.7726476192474365,0.9320181608200073,0.8964196443557739,0.9422468543052673,0.9451345205307007,0.6479792594909668,0.6855781078338623,0.7747831344604492,0.837200939655304,0.9874025583267212,0.9020208120346069,0.8541617393493652,0.9088051319122314,0.661865770816803],\"type\":\"scatter\"}],                        {\"template\":{\"data\":{\"bar\":[{\"error_x\":{\"color\":\"#2a3f5f\"},\"error_y\":{\"color\":\"#2a3f5f\"},\"marker\":{\"line\":{\"color\":\"#E5ECF6\",\"width\":0.5},\"pattern\":{\"fillmode\":\"overlay\",\"size\":10,\"solidity\":0.2}},\"type\":\"bar\"}],\"barpolar\":[{\"marker\":{\"line\":{\"color\":\"#E5ECF6\",\"width\":0.5},\"pattern\":{\"fillmode\":\"overlay\",\"size\":10,\"solidity\":0.2}},\"type\":\"barpolar\"}],\"carpet\":[{\"aaxis\":{\"endlinecolor\":\"#2a3f5f\",\"gridcolor\":\"white\",\"linecolor\":\"white\",\"minorgridcolor\":\"white\",\"startlinecolor\":\"#2a3f5f\"},\"baxis\":{\"endlinecolor\":\"#2a3f5f\",\"gridcolor\":\"white\",\"linecolor\":\"white\",\"minorgridcolor\":\"white\",\"startlinecolor\":\"#2a3f5f\"},\"type\":\"carpet\"}],\"choropleth\":[{\"colorbar\":{\"outlinewidth\":0,\"ticks\":\"\"},\"type\":\"choropleth\"}],\"contour\":[{\"colorbar\":{\"outlinewidth\":0,\"ticks\":\"\"},\"colorscale\":[[0.0,\"#0d0887\"],[0.1111111111111111,\"#46039f\"],[0.2222222222222222,\"#7201a8\"],[0.3333333333333333,\"#9c179e\"],[0.4444444444444444,\"#bd3786\"],[0.5555555555555556,\"#d8576b\"],[0.6666666666666666,\"#ed7953\"],[0.7777777777777778,\"#fb9f3a\"],[0.8888888888888888,\"#fdca26\"],[1.0,\"#f0f921\"]],\"type\":\"contour\"}],\"contourcarpet\":[{\"colorbar\":{\"outlinewidth\":0,\"ticks\":\"\"},\"type\":\"contourcarpet\"}],\"heatmap\":[{\"colorbar\":{\"outlinewidth\":0,\"ticks\":\"\"},\"colorscale\":[[0.0,\"#0d0887\"],[0.1111111111111111,\"#46039f\"],[0.2222222222222222,\"#7201a8\"],[0.3333333333333333,\"#9c179e\"],[0.4444444444444444,\"#bd3786\"],[0.5555555555555556,\"#d8576b\"],[0.6666666666666666,\"#ed7953\"],[0.7777777777777778,\"#fb9f3a\"],[0.8888888888888888,\"#fdca26\"],[1.0,\"#f0f921\"]],\"type\":\"heatmap\"}],\"heatmapgl\":[{\"colorbar\":{\"outlinewidth\":0,\"ticks\":\"\"},\"colorscale\":[[0.0,\"#0d0887\"],[0.1111111111111111,\"#46039f\"],[0.2222222222222222,\"#7201a8\"],[0.3333333333333333,\"#9c179e\"],[0.4444444444444444,\"#bd3786\"],[0.5555555555555556,\"#d8576b\"],[0.6666666666666666,\"#ed7953\"],[0.7777777777777778,\"#fb9f3a\"],[0.8888888888888888,\"#fdca26\"],[1.0,\"#f0f921\"]],\"type\":\"heatmapgl\"}],\"histogram\":[{\"marker\":{\"pattern\":{\"fillmode\":\"overlay\",\"size\":10,\"solidity\":0.2}},\"type\":\"histogram\"}],\"histogram2d\":[{\"colorbar\":{\"outlinewidth\":0,\"ticks\":\"\"},\"colorscale\":[[0.0,\"#0d0887\"],[0.1111111111111111,\"#46039f\"],[0.2222222222222222,\"#7201a8\"],[0.3333333333333333,\"#9c179e\"],[0.4444444444444444,\"#bd3786\"],[0.5555555555555556,\"#d8576b\"],[0.6666666666666666,\"#ed7953\"],[0.7777777777777778,\"#fb9f3a\"],[0.8888888888888888,\"#fdca26\"],[1.0,\"#f0f921\"]],\"type\":\"histogram2d\"}],\"histogram2dcontour\":[{\"colorbar\":{\"outlinewidth\":0,\"ticks\":\"\"},\"colorscale\":[[0.0,\"#0d0887\"],[0.1111111111111111,\"#46039f\"],[0.2222222222222222,\"#7201a8\"],[0.3333333333333333,\"#9c179e\"],[0.4444444444444444,\"#bd3786\"],[0.5555555555555556,\"#d8576b\"],[0.6666666666666666,\"#ed7953\"],[0.7777777777777778,\"#fb9f3a\"],[0.8888888888888888,\"#fdca26\"],[1.0,\"#f0f921\"]],\"type\":\"histogram2dcontour\"}],\"mesh3d\":[{\"colorbar\":{\"outlinewidth\":0,\"ticks\":\"\"},\"type\":\"mesh3d\"}],\"parcoords\":[{\"line\":{\"colorbar\":{\"outlinewidth\":0,\"ticks\":\"\"}},\"type\":\"parcoords\"}],\"pie\":[{\"automargin\":true,\"type\":\"pie\"}],\"scatter\":[{\"marker\":{\"colorbar\":{\"outlinewidth\":0,\"ticks\":\"\"}},\"type\":\"scatter\"}],\"scatter3d\":[{\"line\":{\"colorbar\":{\"outlinewidth\":0,\"ticks\":\"\"}},\"marker\":{\"colorbar\":{\"outlinewidth\":0,\"ticks\":\"\"}},\"type\":\"scatter3d\"}],\"scattercarpet\":[{\"marker\":{\"colorbar\":{\"outlinewidth\":0,\"ticks\":\"\"}},\"type\":\"scattercarpet\"}],\"scattergeo\":[{\"marker\":{\"colorbar\":{\"outlinewidth\":0,\"ticks\":\"\"}},\"type\":\"scattergeo\"}],\"scattergl\":[{\"marker\":{\"colorbar\":{\"outlinewidth\":0,\"ticks\":\"\"}},\"type\":\"scattergl\"}],\"scattermapbox\":[{\"marker\":{\"colorbar\":{\"outlinewidth\":0,\"ticks\":\"\"}},\"type\":\"scattermapbox\"}],\"scatterpolar\":[{\"marker\":{\"colorbar\":{\"outlinewidth\":0,\"ticks\":\"\"}},\"type\":\"scatterpolar\"}],\"scatterpolargl\":[{\"marker\":{\"colorbar\":{\"outlinewidth\":0,\"ticks\":\"\"}},\"type\":\"scatterpolargl\"}],\"scatterternary\":[{\"marker\":{\"colorbar\":{\"outlinewidth\":0,\"ticks\":\"\"}},\"type\":\"scatterternary\"}],\"surface\":[{\"colorbar\":{\"outlinewidth\":0,\"ticks\":\"\"},\"colorscale\":[[0.0,\"#0d0887\"],[0.1111111111111111,\"#46039f\"],[0.2222222222222222,\"#7201a8\"],[0.3333333333333333,\"#9c179e\"],[0.4444444444444444,\"#bd3786\"],[0.5555555555555556,\"#d8576b\"],[0.6666666666666666,\"#ed7953\"],[0.7777777777777778,\"#fb9f3a\"],[0.8888888888888888,\"#fdca26\"],[1.0,\"#f0f921\"]],\"type\":\"surface\"}],\"table\":[{\"cells\":{\"fill\":{\"color\":\"#EBF0F8\"},\"line\":{\"color\":\"white\"}},\"header\":{\"fill\":{\"color\":\"#C8D4E3\"},\"line\":{\"color\":\"white\"}},\"type\":\"table\"}]},\"layout\":{\"annotationdefaults\":{\"arrowcolor\":\"#2a3f5f\",\"arrowhead\":0,\"arrowwidth\":1},\"autotypenumbers\":\"strict\",\"coloraxis\":{\"colorbar\":{\"outlinewidth\":0,\"ticks\":\"\"}},\"colorscale\":{\"diverging\":[[0,\"#8e0152\"],[0.1,\"#c51b7d\"],[0.2,\"#de77ae\"],[0.3,\"#f1b6da\"],[0.4,\"#fde0ef\"],[0.5,\"#f7f7f7\"],[0.6,\"#e6f5d0\"],[0.7,\"#b8e186\"],[0.8,\"#7fbc41\"],[0.9,\"#4d9221\"],[1,\"#276419\"]],\"sequential\":[[0.0,\"#0d0887\"],[0.1111111111111111,\"#46039f\"],[0.2222222222222222,\"#7201a8\"],[0.3333333333333333,\"#9c179e\"],[0.4444444444444444,\"#bd3786\"],[0.5555555555555556,\"#d8576b\"],[0.6666666666666666,\"#ed7953\"],[0.7777777777777778,\"#fb9f3a\"],[0.8888888888888888,\"#fdca26\"],[1.0,\"#f0f921\"]],\"sequentialminus\":[[0.0,\"#0d0887\"],[0.1111111111111111,\"#46039f\"],[0.2222222222222222,\"#7201a8\"],[0.3333333333333333,\"#9c179e\"],[0.4444444444444444,\"#bd3786\"],[0.5555555555555556,\"#d8576b\"],[0.6666666666666666,\"#ed7953\"],[0.7777777777777778,\"#fb9f3a\"],[0.8888888888888888,\"#fdca26\"],[1.0,\"#f0f921\"]]},\"colorway\":[\"#636efa\",\"#EF553B\",\"#00cc96\",\"#ab63fa\",\"#FFA15A\",\"#19d3f3\",\"#FF6692\",\"#B6E880\",\"#FF97FF\",\"#FECB52\"],\"font\":{\"color\":\"#2a3f5f\"},\"geo\":{\"bgcolor\":\"white\",\"lakecolor\":\"white\",\"landcolor\":\"#E5ECF6\",\"showlakes\":true,\"showland\":true,\"subunitcolor\":\"white\"},\"hoverlabel\":{\"align\":\"left\"},\"hovermode\":\"closest\",\"mapbox\":{\"style\":\"light\"},\"paper_bgcolor\":\"white\",\"plot_bgcolor\":\"#E5ECF6\",\"polar\":{\"angularaxis\":{\"gridcolor\":\"white\",\"linecolor\":\"white\",\"ticks\":\"\"},\"bgcolor\":\"#E5ECF6\",\"radialaxis\":{\"gridcolor\":\"white\",\"linecolor\":\"white\",\"ticks\":\"\"}},\"scene\":{\"xaxis\":{\"backgroundcolor\":\"#E5ECF6\",\"gridcolor\":\"white\",\"gridwidth\":2,\"linecolor\":\"white\",\"showbackground\":true,\"ticks\":\"\",\"zerolinecolor\":\"white\"},\"yaxis\":{\"backgroundcolor\":\"#E5ECF6\",\"gridcolor\":\"white\",\"gridwidth\":2,\"linecolor\":\"white\",\"showbackground\":true,\"ticks\":\"\",\"zerolinecolor\":\"white\"},\"zaxis\":{\"backgroundcolor\":\"#E5ECF6\",\"gridcolor\":\"white\",\"gridwidth\":2,\"linecolor\":\"white\",\"showbackground\":true,\"ticks\":\"\",\"zerolinecolor\":\"white\"}},\"shapedefaults\":{\"line\":{\"color\":\"#2a3f5f\"}},\"ternary\":{\"aaxis\":{\"gridcolor\":\"white\",\"linecolor\":\"white\",\"ticks\":\"\"},\"baxis\":{\"gridcolor\":\"white\",\"linecolor\":\"white\",\"ticks\":\"\"},\"bgcolor\":\"#E5ECF6\",\"caxis\":{\"gridcolor\":\"white\",\"linecolor\":\"white\",\"ticks\":\"\"}},\"title\":{\"x\":0.05},\"xaxis\":{\"automargin\":true,\"gridcolor\":\"white\",\"linecolor\":\"white\",\"ticks\":\"\",\"title\":{\"standoff\":15},\"zerolinecolor\":\"white\",\"zerolinewidth\":2},\"yaxis\":{\"automargin\":true,\"gridcolor\":\"white\",\"linecolor\":\"white\",\"ticks\":\"\",\"title\":{\"standoff\":15},\"zerolinecolor\":\"white\",\"zerolinewidth\":2}}},\"title\":{\"text\":\"NORMALIZED DNN MODEL RESULTS\",\"x\":0.5}},                        {\"responsive\": true}                    ).then(function(){\n",
              "                            \n",
              "var gd = document.getElementById('8e98abba-78f0-4805-8536-e7782ad8921c');\n",
              "var x = new MutationObserver(function (mutations, observer) {{\n",
              "        var display = window.getComputedStyle(gd).display;\n",
              "        if (!display || display === 'none') {{\n",
              "            console.log([gd, 'removed!']);\n",
              "            Plotly.purge(gd);\n",
              "            observer.disconnect();\n",
              "        }}\n",
              "}});\n",
              "\n",
              "// Listen for the removal of the full notebook cells\n",
              "var notebookContainer = gd.closest('#notebook-container');\n",
              "if (notebookContainer) {{\n",
              "    x.observe(notebookContainer, {childList: true});\n",
              "}}\n",
              "\n",
              "// Listen for the clearing of the current output cell\n",
              "var outputEl = gd.closest('.output');\n",
              "if (outputEl) {{\n",
              "    x.observe(outputEl, {childList: true});\n",
              "}}\n",
              "\n",
              "                        })                };                            </script>        </div>\n",
              "</body>\n",
              "</html>"
            ]
          },
          "metadata": {}
        }
      ]
    },
    {
      "cell_type": "code",
      "source": [
        "idx   = np.argsort(y_test)\n",
        "y_predict_dnn = y_predict_dnn.reshape(y_predict_dnn.shape[0],)\n",
        "list1 = np.array(y_test)[idx]\n",
        "list2 = np.array(y_predict_dnn)[idx]\n",
        "fig = go.Figure()\n",
        "fig.add_trace(go.Scatter(y=list1, name=\"y_test\", line_shape='linear'))\n",
        "fig.add_trace(go.Scatter(y=list2, name=\"y_predict_dnn\", line_shape='linear'))\n",
        "fig.update_layout(title_text='NORMALIZED DNN MODEL RESULTS SORTED', title_x=0.5)\n",
        "fig.show()"
      ],
      "metadata": {
        "colab": {
          "base_uri": "https://localhost:8080/",
          "height": 542
        },
        "id": "9jOF7ftmjqhs",
        "outputId": "aa426a9d-b07b-46c6-e84d-31ab9bf1cc37"
      },
      "execution_count": null,
      "outputs": [
        {
          "output_type": "display_data",
          "data": {
            "text/html": [
              "<html>\n",
              "<head><meta charset=\"utf-8\" /></head>\n",
              "<body>\n",
              "    <div>            <script src=\"https://cdnjs.cloudflare.com/ajax/libs/mathjax/2.7.5/MathJax.js?config=TeX-AMS-MML_SVG\"></script><script type=\"text/javascript\">if (window.MathJax) {MathJax.Hub.Config({SVG: {font: \"STIX-Web\"}});}</script>                <script type=\"text/javascript\">window.PlotlyConfig = {MathJaxConfig: 'local'};</script>\n",
              "        <script src=\"https://cdn.plot.ly/plotly-2.8.3.min.js\"></script>                <div id=\"27bbaadc-8c18-4d64-abd8-7fe853307c9a\" class=\"plotly-graph-div\" style=\"height:525px; width:100%;\"></div>            <script type=\"text/javascript\">                                    window.PLOTLYENV=window.PLOTLYENV || {};                                    if (document.getElementById(\"27bbaadc-8c18-4d64-abd8-7fe853307c9a\")) {                    Plotly.newPlot(                        \"27bbaadc-8c18-4d64-abd8-7fe853307c9a\",                        [{\"line\":{\"shape\":\"linear\"},\"name\":\"y_test\",\"y\":[0.0,0.3,0.3466666666666667,0.3666666666666667,0.3866666666666667,0.4333333333333333,0.4333333333333333,0.4666666666666666,0.48,0.5,0.5,0.5266666666666667,0.5333333333333333,0.5333333333333333,0.5333333333333333,0.57,0.5800000000000001,0.6,0.6,0.6,0.6,0.6,0.6,0.6,0.6133333333333333,0.63,0.6333333333333333,0.6333333333333333,0.6466666666666666,0.6666666666666666,0.6666666666666666,0.6666666666666666,0.6666666666666666,0.6666666666666666,0.6666666666666666,0.6666666666666666,0.6666666666666666,0.6666666666666666,0.6666666666666666,0.6666666666666666,0.6733333333333333,0.6733333333333333,0.6866666666666666,0.7000000000000001,0.7000000000000001,0.7000000000000001,0.7033333333333333,0.7066666666666667,0.7200000000000001,0.7266666666666667,0.7333333333333334,0.7333333333333334,0.7333333333333334,0.7333333333333334,0.7333333333333334,0.7333333333333334,0.7333333333333334,0.7333333333333334,0.75,0.7566666666666667,0.7633333333333333,0.7666666666666666,0.7666666666666666,0.7666666666666666,0.7666666666666666,0.7666666666666666,0.7666666666666666,0.7666666666666666,0.7733333333333333,0.7733333333333333,0.7733333333333333,0.7766666666666667,0.7766666666666667,0.7799999999999999,0.7833333333333333,0.7833333333333333,0.7999999999999999,0.7999999999999999,0.8033333333333333,0.8033333333333333,0.8033333333333333,0.8066666666666666,0.8066666666666666,0.81,0.8133333333333334,0.8133333333333334,0.8166666666666668,0.82,0.8300000000000001,0.8333333333333334,0.8333333333333334,0.8333333333333334,0.8333333333333334,0.8333333333333334,0.8333333333333334,0.8333333333333334,0.8333333333333334,0.8333333333333334,0.8333333333333334,0.8333333333333334,0.8333333333333334,0.8333333333333334,0.8333333333333334,0.8333333333333334,0.8333333333333334,0.8333333333333334,0.8333333333333334,0.8333333333333334,0.8433333333333333,0.85,0.8566666666666666,0.8566666666666666,0.86,0.86,0.8633333333333333,0.8666666666666667,0.8666666666666667,0.8666666666666667,0.8666666666666667,0.8666666666666667,0.8666666666666667,0.8666666666666667,0.8666666666666667,0.8666666666666667,0.8666666666666667,0.8666666666666667,0.8666666666666667,0.8666666666666667,0.8666666666666667,0.8666666666666667,0.8733333333333334,0.88,0.88,0.88,0.8833333333333333,0.8833333333333333,0.8833333333333333,0.8866666666666667,0.8866666666666667,0.9,0.9,0.9,0.9,0.9,0.9,0.9,0.9,0.9,0.9,0.9,0.9,0.9033333333333333,0.9066666666666667,0.9066666666666667,0.9133333333333334,0.9166666666666666,0.9166666666666666,0.9166666666666666,0.9199999999999999,0.9266666666666666,0.9266666666666666,0.9266666666666666,0.9266666666666666,0.93,0.9333333333333332,0.9333333333333332,0.9333333333333332,0.9333333333333332,0.9333333333333332,0.9333333333333332,0.9333333333333332,0.9333333333333332,0.9333333333333332,0.9333333333333332,0.9333333333333332,0.9333333333333332,0.9333333333333332,0.9333333333333332,0.9333333333333332,0.9366666666666666,0.9366666666666666,0.9366666666666666,0.9433333333333334,0.9466666666666667,0.9500000000000001,0.9500000000000001,0.9533333333333333,0.96,0.9666666666666667,0.9666666666666667,0.9666666666666667,0.9666666666666667,0.9666666666666667,0.9666666666666667,0.9666666666666667,0.9666666666666667,0.9666666666666667,0.9700000000000001,0.9700000000000001,0.9700000000000001,0.9706666666666667,0.9733333333333333,0.9733333333333333,0.9733333333333333,0.9733333333333333,0.9733333333333333,0.9766666666666667,0.9766666666666667,0.98,0.9833333333333334,0.9833333333333334,0.9833333333333334,0.9866666666666667,0.9900000000000001,0.9900000000000001,0.9933333333333333,1.0,1.0,1.0,1.0,1.0,1.0,1.0,1.0,1.0,1.0,1.0,1.0,1.0,1.0,1.0,1.0,1.0,1.0,1.0,1.0,1.0,1.0,1.0,1.0,1.0,1.0,1.0,1.0,1.0,1.0,1.0,1.0,1.0,1.0,1.0,1.0,1.0,1.0,1.0,1.0,1.0,1.0,1.0],\"type\":\"scatter\"},{\"line\":{\"shape\":\"linear\"},\"name\":\"y_predict_dnn\",\"y\":[0.8797357678413391,0.9065873622894287,0.35525643825531006,0.8541617393493652,0.7560972571372986,0.7691546678543091,0.9850291013717651,0.4390712380409241,0.8424442410469055,0.7513666152954102,0.6401856541633606,0.7221219539642334,0.4379604458808899,0.7668740153312683,0.7303932309150696,0.9510747194290161,0.9090809226036072,0.7118654251098633,0.786165177822113,0.7737091779708862,0.9609683156013489,0.7116308212280273,0.7679147720336914,0.6479792594909668,0.9188418984413147,0.632748007774353,0.7615699172019958,0.8037119507789612,0.7415730953216553,0.6855781078338623,0.7664050459861755,0.8771552443504333,0.9005693793296814,0.8486886024475098,0.8620952367782593,0.9467443823814392,0.7853649854660034,0.7860409617424011,0.9339423179626465,0.7127927541732788,0.8494749665260315,0.7747831344604492,0.8999766111373901,0.9853251576423645,0.7826801538467407,0.7979074120521545,0.9547333121299744,0.767027735710144,0.7722830176353455,0.7726476192474365,0.8094594478607178,0.8059126138687134,0.8712757229804993,0.9874025583267212,0.8310354351997375,0.7302567958831787,0.7319701910018921,0.7629261612892151,0.876848578453064,0.8327273726463318,0.9320181608200073,0.8503466844558716,0.9557414650917053,0.8233391642570496,0.7489253282546997,0.6975585222244263,0.7687827348709106,0.6851197481155396,0.6462901830673218,0.9196308851242065,0.7155289649963379,0.700710654258728,0.8231849670410156,0.8409053683280945,0.7996812462806702,0.749683678150177,0.7594365477561951,0.7299813032150269,0.8080838918685913,0.7651969790458679,0.8890798091888428,0.8165374994277954,0.7089542150497437,0.9859752655029297,0.6640810966491699,0.6396673917770386,0.8699523210525513,0.8516236543655396,0.9239087104797363,0.9556145071983337,0.7809442281723022,0.8964196443557739,0.8599688410758972,0.8036093711853027,0.9150810837745667,0.8335313200950623,0.878896951675415,0.9616195559501648,0.7343600392341614,0.779695451259613,0.836545467376709,0.6156313419342041,0.8759078979492188,0.8410934805870056,1.0043374300003052,0.9818772673606873,0.9088051319122314,0.8783574104309082,0.9887178540229797,0.7548220157623291,0.9284521341323853,0.8820913434028625,0.8075836300849915,0.9437293410301208,0.5555754899978638,0.8258925676345825,0.7585768699645996,0.8897800445556641,0.8846847414970398,0.7833490371704102,0.9986716508865356,0.7272753119468689,0.8927348852157593,0.8798289895057678,0.8237217664718628,0.8109297156333923,0.7573333978652954,0.9057968854904175,0.7600457072257996,0.9983702301979065,0.902303159236908,0.8846338391304016,0.8522875308990479,0.859648585319519,0.8321954607963562,0.8893435597419739,0.7766478657722473,0.8438597917556763,0.7307078838348389,0.9746947884559631,0.9963657259941101,0.8899368047714233,0.9093995690345764,0.9531999826431274,0.8382999897003174,1.0232136249542236,0.7549802660942078,0.7930552959442139,0.7440166473388672,0.9359316229820251,0.9840163588523865,0.703000545501709,0.9493793845176697,0.7721987962722778,0.8939182758331299,1.0160410404205322,0.854665994644165,0.7651833891868591,0.8980159163475037,0.9686540365219116,0.8873099684715271,0.970341145992279,0.9687999486923218,0.9202712774276733,0.8492860794067383,0.9293276071548462,0.9422468543052673,0.8582853078842163,0.8672322630882263,0.9328957796096802,0.8110120892524719,0.8112927675247192,0.89544278383255,0.9561110734939575,0.7167965769767761,0.7515219449996948,0.7977529764175415,0.930870771408081,0.7440285086631775,0.8735405802726746,0.7304950952529907,0.7009316682815552,1.0142804384231567,0.8250770568847656,1.0779199600219727,0.8990778923034668,1.010844349861145,0.672685444355011,0.8253065347671509,0.8261260986328125,0.9246009588241577,0.846909761428833,0.8831707239151001,0.9207479953765869,0.9240714311599731,0.833786129951477,1.0398635864257812,0.7547425627708435,0.9020208120346069,0.7969946265220642,0.788629412651062,0.837200939655304,0.8164280652999878,0.661865770816803,0.8763701319694519,0.8185133337974548,0.7670064568519592,0.9137253165245056,0.9030424356460571,0.9071008563041687,1.0515260696411133,0.8594066500663757,0.8816286325454712,0.8282992839813232,0.8416300415992737,0.985443651676178,0.9757084846496582,0.7774211168289185,1.002225637435913,0.9608868360519409,0.7895719408988953,0.9284568428993225,0.8519870638847351,0.9108667969703674,0.9371656775474548,0.8328896760940552,0.8186303377151489,0.9115650653839111,0.9451345205307007,0.7752033472061157,0.8282212615013123,0.9261677265167236,1.071065068244934,0.7908814549446106,0.8438453078269958,0.8904613852500916,0.9115456342697144,1.0313578844070435,0.9892544746398926,0.9372999668121338,0.8268902897834778,0.8246060609817505,1.0544472932815552,0.8055883049964905,0.9121037721633911,0.9338962435722351,0.9761306047439575,0.8566257357597351,0.8615116477012634,0.6596594452857971,0.9140446186065674,0.8783563375473022,0.8686575889587402,0.6643707156181335,0.9227992296218872,0.9272553324699402,0.9233369827270508,0.7841894030570984,0.7587758898735046],\"type\":\"scatter\"}],                        {\"template\":{\"data\":{\"bar\":[{\"error_x\":{\"color\":\"#2a3f5f\"},\"error_y\":{\"color\":\"#2a3f5f\"},\"marker\":{\"line\":{\"color\":\"#E5ECF6\",\"width\":0.5},\"pattern\":{\"fillmode\":\"overlay\",\"size\":10,\"solidity\":0.2}},\"type\":\"bar\"}],\"barpolar\":[{\"marker\":{\"line\":{\"color\":\"#E5ECF6\",\"width\":0.5},\"pattern\":{\"fillmode\":\"overlay\",\"size\":10,\"solidity\":0.2}},\"type\":\"barpolar\"}],\"carpet\":[{\"aaxis\":{\"endlinecolor\":\"#2a3f5f\",\"gridcolor\":\"white\",\"linecolor\":\"white\",\"minorgridcolor\":\"white\",\"startlinecolor\":\"#2a3f5f\"},\"baxis\":{\"endlinecolor\":\"#2a3f5f\",\"gridcolor\":\"white\",\"linecolor\":\"white\",\"minorgridcolor\":\"white\",\"startlinecolor\":\"#2a3f5f\"},\"type\":\"carpet\"}],\"choropleth\":[{\"colorbar\":{\"outlinewidth\":0,\"ticks\":\"\"},\"type\":\"choropleth\"}],\"contour\":[{\"colorbar\":{\"outlinewidth\":0,\"ticks\":\"\"},\"colorscale\":[[0.0,\"#0d0887\"],[0.1111111111111111,\"#46039f\"],[0.2222222222222222,\"#7201a8\"],[0.3333333333333333,\"#9c179e\"],[0.4444444444444444,\"#bd3786\"],[0.5555555555555556,\"#d8576b\"],[0.6666666666666666,\"#ed7953\"],[0.7777777777777778,\"#fb9f3a\"],[0.8888888888888888,\"#fdca26\"],[1.0,\"#f0f921\"]],\"type\":\"contour\"}],\"contourcarpet\":[{\"colorbar\":{\"outlinewidth\":0,\"ticks\":\"\"},\"type\":\"contourcarpet\"}],\"heatmap\":[{\"colorbar\":{\"outlinewidth\":0,\"ticks\":\"\"},\"colorscale\":[[0.0,\"#0d0887\"],[0.1111111111111111,\"#46039f\"],[0.2222222222222222,\"#7201a8\"],[0.3333333333333333,\"#9c179e\"],[0.4444444444444444,\"#bd3786\"],[0.5555555555555556,\"#d8576b\"],[0.6666666666666666,\"#ed7953\"],[0.7777777777777778,\"#fb9f3a\"],[0.8888888888888888,\"#fdca26\"],[1.0,\"#f0f921\"]],\"type\":\"heatmap\"}],\"heatmapgl\":[{\"colorbar\":{\"outlinewidth\":0,\"ticks\":\"\"},\"colorscale\":[[0.0,\"#0d0887\"],[0.1111111111111111,\"#46039f\"],[0.2222222222222222,\"#7201a8\"],[0.3333333333333333,\"#9c179e\"],[0.4444444444444444,\"#bd3786\"],[0.5555555555555556,\"#d8576b\"],[0.6666666666666666,\"#ed7953\"],[0.7777777777777778,\"#fb9f3a\"],[0.8888888888888888,\"#fdca26\"],[1.0,\"#f0f921\"]],\"type\":\"heatmapgl\"}],\"histogram\":[{\"marker\":{\"pattern\":{\"fillmode\":\"overlay\",\"size\":10,\"solidity\":0.2}},\"type\":\"histogram\"}],\"histogram2d\":[{\"colorbar\":{\"outlinewidth\":0,\"ticks\":\"\"},\"colorscale\":[[0.0,\"#0d0887\"],[0.1111111111111111,\"#46039f\"],[0.2222222222222222,\"#7201a8\"],[0.3333333333333333,\"#9c179e\"],[0.4444444444444444,\"#bd3786\"],[0.5555555555555556,\"#d8576b\"],[0.6666666666666666,\"#ed7953\"],[0.7777777777777778,\"#fb9f3a\"],[0.8888888888888888,\"#fdca26\"],[1.0,\"#f0f921\"]],\"type\":\"histogram2d\"}],\"histogram2dcontour\":[{\"colorbar\":{\"outlinewidth\":0,\"ticks\":\"\"},\"colorscale\":[[0.0,\"#0d0887\"],[0.1111111111111111,\"#46039f\"],[0.2222222222222222,\"#7201a8\"],[0.3333333333333333,\"#9c179e\"],[0.4444444444444444,\"#bd3786\"],[0.5555555555555556,\"#d8576b\"],[0.6666666666666666,\"#ed7953\"],[0.7777777777777778,\"#fb9f3a\"],[0.8888888888888888,\"#fdca26\"],[1.0,\"#f0f921\"]],\"type\":\"histogram2dcontour\"}],\"mesh3d\":[{\"colorbar\":{\"outlinewidth\":0,\"ticks\":\"\"},\"type\":\"mesh3d\"}],\"parcoords\":[{\"line\":{\"colorbar\":{\"outlinewidth\":0,\"ticks\":\"\"}},\"type\":\"parcoords\"}],\"pie\":[{\"automargin\":true,\"type\":\"pie\"}],\"scatter\":[{\"marker\":{\"colorbar\":{\"outlinewidth\":0,\"ticks\":\"\"}},\"type\":\"scatter\"}],\"scatter3d\":[{\"line\":{\"colorbar\":{\"outlinewidth\":0,\"ticks\":\"\"}},\"marker\":{\"colorbar\":{\"outlinewidth\":0,\"ticks\":\"\"}},\"type\":\"scatter3d\"}],\"scattercarpet\":[{\"marker\":{\"colorbar\":{\"outlinewidth\":0,\"ticks\":\"\"}},\"type\":\"scattercarpet\"}],\"scattergeo\":[{\"marker\":{\"colorbar\":{\"outlinewidth\":0,\"ticks\":\"\"}},\"type\":\"scattergeo\"}],\"scattergl\":[{\"marker\":{\"colorbar\":{\"outlinewidth\":0,\"ticks\":\"\"}},\"type\":\"scattergl\"}],\"scattermapbox\":[{\"marker\":{\"colorbar\":{\"outlinewidth\":0,\"ticks\":\"\"}},\"type\":\"scattermapbox\"}],\"scatterpolar\":[{\"marker\":{\"colorbar\":{\"outlinewidth\":0,\"ticks\":\"\"}},\"type\":\"scatterpolar\"}],\"scatterpolargl\":[{\"marker\":{\"colorbar\":{\"outlinewidth\":0,\"ticks\":\"\"}},\"type\":\"scatterpolargl\"}],\"scatterternary\":[{\"marker\":{\"colorbar\":{\"outlinewidth\":0,\"ticks\":\"\"}},\"type\":\"scatterternary\"}],\"surface\":[{\"colorbar\":{\"outlinewidth\":0,\"ticks\":\"\"},\"colorscale\":[[0.0,\"#0d0887\"],[0.1111111111111111,\"#46039f\"],[0.2222222222222222,\"#7201a8\"],[0.3333333333333333,\"#9c179e\"],[0.4444444444444444,\"#bd3786\"],[0.5555555555555556,\"#d8576b\"],[0.6666666666666666,\"#ed7953\"],[0.7777777777777778,\"#fb9f3a\"],[0.8888888888888888,\"#fdca26\"],[1.0,\"#f0f921\"]],\"type\":\"surface\"}],\"table\":[{\"cells\":{\"fill\":{\"color\":\"#EBF0F8\"},\"line\":{\"color\":\"white\"}},\"header\":{\"fill\":{\"color\":\"#C8D4E3\"},\"line\":{\"color\":\"white\"}},\"type\":\"table\"}]},\"layout\":{\"annotationdefaults\":{\"arrowcolor\":\"#2a3f5f\",\"arrowhead\":0,\"arrowwidth\":1},\"autotypenumbers\":\"strict\",\"coloraxis\":{\"colorbar\":{\"outlinewidth\":0,\"ticks\":\"\"}},\"colorscale\":{\"diverging\":[[0,\"#8e0152\"],[0.1,\"#c51b7d\"],[0.2,\"#de77ae\"],[0.3,\"#f1b6da\"],[0.4,\"#fde0ef\"],[0.5,\"#f7f7f7\"],[0.6,\"#e6f5d0\"],[0.7,\"#b8e186\"],[0.8,\"#7fbc41\"],[0.9,\"#4d9221\"],[1,\"#276419\"]],\"sequential\":[[0.0,\"#0d0887\"],[0.1111111111111111,\"#46039f\"],[0.2222222222222222,\"#7201a8\"],[0.3333333333333333,\"#9c179e\"],[0.4444444444444444,\"#bd3786\"],[0.5555555555555556,\"#d8576b\"],[0.6666666666666666,\"#ed7953\"],[0.7777777777777778,\"#fb9f3a\"],[0.8888888888888888,\"#fdca26\"],[1.0,\"#f0f921\"]],\"sequentialminus\":[[0.0,\"#0d0887\"],[0.1111111111111111,\"#46039f\"],[0.2222222222222222,\"#7201a8\"],[0.3333333333333333,\"#9c179e\"],[0.4444444444444444,\"#bd3786\"],[0.5555555555555556,\"#d8576b\"],[0.6666666666666666,\"#ed7953\"],[0.7777777777777778,\"#fb9f3a\"],[0.8888888888888888,\"#fdca26\"],[1.0,\"#f0f921\"]]},\"colorway\":[\"#636efa\",\"#EF553B\",\"#00cc96\",\"#ab63fa\",\"#FFA15A\",\"#19d3f3\",\"#FF6692\",\"#B6E880\",\"#FF97FF\",\"#FECB52\"],\"font\":{\"color\":\"#2a3f5f\"},\"geo\":{\"bgcolor\":\"white\",\"lakecolor\":\"white\",\"landcolor\":\"#E5ECF6\",\"showlakes\":true,\"showland\":true,\"subunitcolor\":\"white\"},\"hoverlabel\":{\"align\":\"left\"},\"hovermode\":\"closest\",\"mapbox\":{\"style\":\"light\"},\"paper_bgcolor\":\"white\",\"plot_bgcolor\":\"#E5ECF6\",\"polar\":{\"angularaxis\":{\"gridcolor\":\"white\",\"linecolor\":\"white\",\"ticks\":\"\"},\"bgcolor\":\"#E5ECF6\",\"radialaxis\":{\"gridcolor\":\"white\",\"linecolor\":\"white\",\"ticks\":\"\"}},\"scene\":{\"xaxis\":{\"backgroundcolor\":\"#E5ECF6\",\"gridcolor\":\"white\",\"gridwidth\":2,\"linecolor\":\"white\",\"showbackground\":true,\"ticks\":\"\",\"zerolinecolor\":\"white\"},\"yaxis\":{\"backgroundcolor\":\"#E5ECF6\",\"gridcolor\":\"white\",\"gridwidth\":2,\"linecolor\":\"white\",\"showbackground\":true,\"ticks\":\"\",\"zerolinecolor\":\"white\"},\"zaxis\":{\"backgroundcolor\":\"#E5ECF6\",\"gridcolor\":\"white\",\"gridwidth\":2,\"linecolor\":\"white\",\"showbackground\":true,\"ticks\":\"\",\"zerolinecolor\":\"white\"}},\"shapedefaults\":{\"line\":{\"color\":\"#2a3f5f\"}},\"ternary\":{\"aaxis\":{\"gridcolor\":\"white\",\"linecolor\":\"white\",\"ticks\":\"\"},\"baxis\":{\"gridcolor\":\"white\",\"linecolor\":\"white\",\"ticks\":\"\"},\"bgcolor\":\"#E5ECF6\",\"caxis\":{\"gridcolor\":\"white\",\"linecolor\":\"white\",\"ticks\":\"\"}},\"title\":{\"x\":0.05},\"xaxis\":{\"automargin\":true,\"gridcolor\":\"white\",\"linecolor\":\"white\",\"ticks\":\"\",\"title\":{\"standoff\":15},\"zerolinecolor\":\"white\",\"zerolinewidth\":2},\"yaxis\":{\"automargin\":true,\"gridcolor\":\"white\",\"linecolor\":\"white\",\"ticks\":\"\",\"title\":{\"standoff\":15},\"zerolinecolor\":\"white\",\"zerolinewidth\":2}}},\"title\":{\"text\":\"NORMALIZED DNN MODEL RESULTS SORTED\",\"x\":0.5}},                        {\"responsive\": true}                    ).then(function(){\n",
              "                            \n",
              "var gd = document.getElementById('27bbaadc-8c18-4d64-abd8-7fe853307c9a');\n",
              "var x = new MutationObserver(function (mutations, observer) {{\n",
              "        var display = window.getComputedStyle(gd).display;\n",
              "        if (!display || display === 'none') {{\n",
              "            console.log([gd, 'removed!']);\n",
              "            Plotly.purge(gd);\n",
              "            observer.disconnect();\n",
              "        }}\n",
              "}});\n",
              "\n",
              "// Listen for the removal of the full notebook cells\n",
              "var notebookContainer = gd.closest('#notebook-container');\n",
              "if (notebookContainer) {{\n",
              "    x.observe(notebookContainer, {childList: true});\n",
              "}}\n",
              "\n",
              "// Listen for the clearing of the current output cell\n",
              "var outputEl = gd.closest('.output');\n",
              "if (outputEl) {{\n",
              "    x.observe(outputEl, {childList: true});\n",
              "}}\n",
              "\n",
              "                        })                };                            </script>        </div>\n",
              "</body>\n",
              "</html>"
            ]
          },
          "metadata": {}
        }
      ]
    },
    {
      "cell_type": "code",
      "source": [
        "idx   = np.argsort(y_test_UN)\n",
        "y_predict_dnn_UN = y_predict_dnn_UN.reshape(y_predict_dnn_UN.shape[0],)\n",
        "list1 = np.array(y_test_UN)[idx]\n",
        "list2 = np.array(y_predict_dnn_UN)[idx]\n",
        "fig = go.Figure()\n",
        "fig.add_trace(go.Scatter(y=list1, name=\"y_test_UN\", line_shape='linear'))\n",
        "fig.add_trace(go.Scatter(y=list2, name=\"y_predict_dnn_UN\", line_shape='linear'))\n",
        "fig.update_layout(title_text='UNNORMALIZED DNN MODEL RESULTS SORTED', title_x=0.5)\n",
        "fig.show()"
      ],
      "metadata": {
        "id": "BaSYipbT_AgL",
        "colab": {
          "base_uri": "https://localhost:8080/",
          "height": 542
        },
        "outputId": "b285e915-180c-49d8-96d1-1719f5a05311"
      },
      "execution_count": null,
      "outputs": [
        {
          "output_type": "display_data",
          "data": {
            "text/html": [
              "<html>\n",
              "<head><meta charset=\"utf-8\" /></head>\n",
              "<body>\n",
              "    <div>            <script src=\"https://cdnjs.cloudflare.com/ajax/libs/mathjax/2.7.5/MathJax.js?config=TeX-AMS-MML_SVG\"></script><script type=\"text/javascript\">if (window.MathJax) {MathJax.Hub.Config({SVG: {font: \"STIX-Web\"}});}</script>                <script type=\"text/javascript\">window.PlotlyConfig = {MathJaxConfig: 'local'};</script>\n",
              "        <script src=\"https://cdn.plot.ly/plotly-2.8.3.min.js\"></script>                <div id=\"c7dd4bb5-cb63-4d59-9e95-997b067b6612\" class=\"plotly-graph-div\" style=\"height:525px; width:100%;\"></div>            <script type=\"text/javascript\">                                    window.PLOTLYENV=window.PLOTLYENV || {};                                    if (document.getElementById(\"c7dd4bb5-cb63-4d59-9e95-997b067b6612\")) {                    Plotly.newPlot(                        \"c7dd4bb5-cb63-4d59-9e95-997b067b6612\",                        [{\"line\":{\"shape\":\"linear\"},\"name\":\"y_test_UN\",\"y\":[1.0,1.9,2.04,2.1,2.16,2.3,2.3,2.4,2.44,2.5,2.5,2.58,2.6,2.6,2.6,2.71,2.74,2.8,2.8,2.8,2.8,2.8,2.8,2.8,2.84,2.89,2.9,2.9,2.94,3.0,3.0,3.0,3.0,3.0,3.0,3.0,3.0,3.0,3.0,3.0,3.02,3.02,3.06,3.1,3.1,3.1,3.11,3.12,3.16,3.18,3.2,3.2,3.2,3.2,3.2,3.2,3.2,3.2,3.25,3.27,3.29,3.3,3.3,3.3,3.3,3.3,3.3,3.3,3.32,3.32,3.32,3.33,3.33,3.34,3.35,3.35,3.4,3.4,3.41,3.41,3.41,3.42,3.42,3.43,3.44,3.44,3.45,3.46,3.49,3.5,3.5,3.5,3.5,3.5,3.5,3.5,3.5,3.5,3.5,3.5,3.5,3.5,3.5,3.5,3.5,3.5,3.5,3.5,3.53,3.55,3.57,3.57,3.58,3.58,3.59,3.6,3.6,3.6,3.6,3.6,3.6,3.6,3.6,3.6,3.6,3.6,3.6,3.6,3.6,3.6,3.62,3.64,3.64,3.64,3.65,3.65,3.65,3.66,3.66,3.7,3.7,3.7,3.7,3.7,3.7,3.7,3.7,3.7,3.7,3.7,3.7,3.71,3.72,3.72,3.74,3.75,3.75,3.75,3.76,3.78,3.78,3.78,3.78,3.79,3.8,3.8,3.8,3.8,3.8,3.8,3.8,3.8,3.8,3.8,3.8,3.8,3.8,3.8,3.8,3.81,3.81,3.81,3.83,3.84,3.85,3.85,3.86,3.88,3.9,3.9,3.9,3.9,3.9,3.9,3.9,3.9,3.9,3.91,3.91,3.91,3.912,3.92,3.92,3.92,3.92,3.92,3.93,3.93,3.94,3.95,3.95,3.95,3.96,3.97,3.97,3.98,4.0,4.0,4.0,4.0,4.0,4.0,4.0,4.0,4.0,4.0,4.0,4.0,4.0,4.0,4.0,4.0,4.0,4.0,4.0,4.0,4.0,4.0,4.0,4.0,4.0,4.0,4.0,4.0,4.0,4.0,4.0,4.0,4.0,4.0,4.0,4.0,4.0,4.0,4.0,4.0,4.0,4.0,4.0],\"type\":\"scatter\"},{\"line\":{\"shape\":\"linear\"},\"name\":\"y_predict_dnn_UN\",\"y\":[3.639207363128662,3.719762086868286,2.0657691955566406,3.5624852180480957,3.268291711807251,3.307464122772217,3.955087184906006,2.317213773727417,3.5273327827453613,3.2540998458862305,2.9205570220947266,3.1663658618927,2.3138813972473145,3.30062198638916,3.1911797523498535,3.853224277496338,3.7272427082061768,3.13559627532959,3.3584954738616943,3.321127414703369,3.8829050064086914,3.134892463684082,3.303744316101074,2.9439377784729004,3.756525754928589,2.8982439041137695,3.2847096920013428,3.4111359119415283,3.224719285964966,3.056734323501587,3.299215078353882,3.6314656734466553,3.7017080783843994,3.5460658073425293,3.5862855911254883,3.840233087539673,3.3560948371887207,3.3581228256225586,3.8018269538879395,3.138378143310547,3.5484249591827393,3.3243494033813477,3.699929714202881,3.9559755325317383,3.3480405807495117,3.3937222957611084,3.8641998767852783,3.3010830879211426,3.3168489933013916,3.3179428577423096,3.4283783435821533,3.4177379608154297,3.6138272285461426,3.962207794189453,3.4931063652038574,3.190770387649536,3.1959104537963867,3.28877854347229,3.6305456161499023,3.4981820583343506,3.7960543632507324,3.5510401725769043,3.8672244548797607,3.470017433166504,3.2467761039733887,3.0926756858825684,3.3063483238220215,3.055359363555908,2.938870429992676,3.75889253616333,3.1465868949890137,3.1021318435668945,3.469554901123047,3.5227160453796387,3.3990437984466553,3.249051094055176,3.2783095836639404,3.189943790435791,3.4242515563964844,3.295590877532959,3.6672394275665283,3.449612617492676,3.1268625259399414,3.957925796508789,2.9922432899475098,2.919002056121826,3.6098570823669434,3.554871082305908,3.771726131439209,3.8668434619903564,3.342832565307617,3.6892590522766113,3.579906463623047,3.410828113555908,3.7452433109283447,3.500593900680542,3.636690855026245,3.8848586082458496,3.203080177307129,3.3390862941741943,3.509636402130127,2.8468940258026123,3.6277236938476562,3.523280382156372,4.013012409210205,3.945631742477417,3.7264153957366943,3.6350722312927246,3.966153621673584,3.2644660472869873,3.7853565216064453,3.6462740898132324,3.422750949859619,3.8311879634857178,2.666726589202881,3.477677822113037,3.275730609893799,3.669340133666992,3.6540541648864746,3.3500471115112305,3.9960150718688965,3.181825876235962,3.6782045364379883,3.6394870281219482,3.471165180206299,3.4327890872955322,3.272000312805176,3.717390537261963,3.280137062072754,3.9951107501983643,3.706909418106079,3.6539015769958496,3.5568625926971436,3.5789456367492676,3.496586322784424,3.6680307388305664,3.3299436569213867,3.5315794944763184,3.1921236515045166,3.924084424972534,3.9890971183776855,3.6698102951049805,3.728198766708374,3.859600067138672,3.514899969100952,4.06964111328125,3.2649407386779785,3.3791658878326416,3.2320499420166016,3.8077948093414307,3.9520490169525146,3.109001636505127,3.8481380939483643,3.316596508026123,3.6817548274993896,4.048123359680176,3.563997983932495,3.2955501079559326,3.694047689437866,3.9059619903564453,3.6619298458099365,3.9110233783721924,3.906399726867676,3.7608137130737305,3.547858238220215,3.787982940673828,3.8267405033111572,3.5748558044433594,3.601696729660034,3.79868745803833,3.4330363273620605,3.4338784217834473,3.686328411102295,3.868333339691162,3.1503896713256836,3.254565715789795,3.393259048461914,3.792612314224243,3.2320854663848877,3.620621681213379,3.1914854049682617,3.102795124053955,4.04284143447876,3.475231170654297,4.233759880065918,3.6972336769104004,4.032533168792725,3.0180563926696777,3.475919723510742,3.4783782958984375,3.7738027572631836,3.540729284286499,3.64951229095459,3.7622439861297607,3.772214412689209,3.5013585090637207,4.119590759277344,3.2642276287078857,3.7060623168945312,3.390983819961548,3.3658881187438965,3.5116028785705566,3.449284076690674,2.9855973720550537,3.629110336303711,3.4555399417877197,3.3010194301605225,3.741175889968872,3.709127426147461,3.7213025093078613,4.15457820892334,3.5782198905944824,3.644886016845703,3.4848978519439697,3.524890184402466,3.9563310146331787,3.9271254539489746,3.332263469696045,4.00667667388916,3.882660388946533,3.368715763092041,3.7853705883026123,3.5559611320495605,3.732600450515747,3.8114969730377197,3.498669147491455,3.4558911323547363,3.7346951961517334,3.8354034423828125,3.3256101608276367,3.484663724899292,3.778503179550171,4.213195323944092,3.3726444244384766,3.5315358638763428,3.67138409614563,3.7346367835998535,4.09407377243042,3.9677634239196777,3.8118999004364014,3.480670928955078,3.473818302154541,4.163341999053955,3.416764974594116,3.736311435699463,3.8016886711120605,3.928391933441162,3.5698771476745605,3.5845348834991455,2.978978395462036,3.742133855819702,3.635068893432617,3.6059727668762207,2.993112087249756,3.768397808074951,3.781765937805176,3.7700109481811523,3.3525681495666504,3.276327610015869],\"type\":\"scatter\"}],                        {\"template\":{\"data\":{\"bar\":[{\"error_x\":{\"color\":\"#2a3f5f\"},\"error_y\":{\"color\":\"#2a3f5f\"},\"marker\":{\"line\":{\"color\":\"#E5ECF6\",\"width\":0.5},\"pattern\":{\"fillmode\":\"overlay\",\"size\":10,\"solidity\":0.2}},\"type\":\"bar\"}],\"barpolar\":[{\"marker\":{\"line\":{\"color\":\"#E5ECF6\",\"width\":0.5},\"pattern\":{\"fillmode\":\"overlay\",\"size\":10,\"solidity\":0.2}},\"type\":\"barpolar\"}],\"carpet\":[{\"aaxis\":{\"endlinecolor\":\"#2a3f5f\",\"gridcolor\":\"white\",\"linecolor\":\"white\",\"minorgridcolor\":\"white\",\"startlinecolor\":\"#2a3f5f\"},\"baxis\":{\"endlinecolor\":\"#2a3f5f\",\"gridcolor\":\"white\",\"linecolor\":\"white\",\"minorgridcolor\":\"white\",\"startlinecolor\":\"#2a3f5f\"},\"type\":\"carpet\"}],\"choropleth\":[{\"colorbar\":{\"outlinewidth\":0,\"ticks\":\"\"},\"type\":\"choropleth\"}],\"contour\":[{\"colorbar\":{\"outlinewidth\":0,\"ticks\":\"\"},\"colorscale\":[[0.0,\"#0d0887\"],[0.1111111111111111,\"#46039f\"],[0.2222222222222222,\"#7201a8\"],[0.3333333333333333,\"#9c179e\"],[0.4444444444444444,\"#bd3786\"],[0.5555555555555556,\"#d8576b\"],[0.6666666666666666,\"#ed7953\"],[0.7777777777777778,\"#fb9f3a\"],[0.8888888888888888,\"#fdca26\"],[1.0,\"#f0f921\"]],\"type\":\"contour\"}],\"contourcarpet\":[{\"colorbar\":{\"outlinewidth\":0,\"ticks\":\"\"},\"type\":\"contourcarpet\"}],\"heatmap\":[{\"colorbar\":{\"outlinewidth\":0,\"ticks\":\"\"},\"colorscale\":[[0.0,\"#0d0887\"],[0.1111111111111111,\"#46039f\"],[0.2222222222222222,\"#7201a8\"],[0.3333333333333333,\"#9c179e\"],[0.4444444444444444,\"#bd3786\"],[0.5555555555555556,\"#d8576b\"],[0.6666666666666666,\"#ed7953\"],[0.7777777777777778,\"#fb9f3a\"],[0.8888888888888888,\"#fdca26\"],[1.0,\"#f0f921\"]],\"type\":\"heatmap\"}],\"heatmapgl\":[{\"colorbar\":{\"outlinewidth\":0,\"ticks\":\"\"},\"colorscale\":[[0.0,\"#0d0887\"],[0.1111111111111111,\"#46039f\"],[0.2222222222222222,\"#7201a8\"],[0.3333333333333333,\"#9c179e\"],[0.4444444444444444,\"#bd3786\"],[0.5555555555555556,\"#d8576b\"],[0.6666666666666666,\"#ed7953\"],[0.7777777777777778,\"#fb9f3a\"],[0.8888888888888888,\"#fdca26\"],[1.0,\"#f0f921\"]],\"type\":\"heatmapgl\"}],\"histogram\":[{\"marker\":{\"pattern\":{\"fillmode\":\"overlay\",\"size\":10,\"solidity\":0.2}},\"type\":\"histogram\"}],\"histogram2d\":[{\"colorbar\":{\"outlinewidth\":0,\"ticks\":\"\"},\"colorscale\":[[0.0,\"#0d0887\"],[0.1111111111111111,\"#46039f\"],[0.2222222222222222,\"#7201a8\"],[0.3333333333333333,\"#9c179e\"],[0.4444444444444444,\"#bd3786\"],[0.5555555555555556,\"#d8576b\"],[0.6666666666666666,\"#ed7953\"],[0.7777777777777778,\"#fb9f3a\"],[0.8888888888888888,\"#fdca26\"],[1.0,\"#f0f921\"]],\"type\":\"histogram2d\"}],\"histogram2dcontour\":[{\"colorbar\":{\"outlinewidth\":0,\"ticks\":\"\"},\"colorscale\":[[0.0,\"#0d0887\"],[0.1111111111111111,\"#46039f\"],[0.2222222222222222,\"#7201a8\"],[0.3333333333333333,\"#9c179e\"],[0.4444444444444444,\"#bd3786\"],[0.5555555555555556,\"#d8576b\"],[0.6666666666666666,\"#ed7953\"],[0.7777777777777778,\"#fb9f3a\"],[0.8888888888888888,\"#fdca26\"],[1.0,\"#f0f921\"]],\"type\":\"histogram2dcontour\"}],\"mesh3d\":[{\"colorbar\":{\"outlinewidth\":0,\"ticks\":\"\"},\"type\":\"mesh3d\"}],\"parcoords\":[{\"line\":{\"colorbar\":{\"outlinewidth\":0,\"ticks\":\"\"}},\"type\":\"parcoords\"}],\"pie\":[{\"automargin\":true,\"type\":\"pie\"}],\"scatter\":[{\"marker\":{\"colorbar\":{\"outlinewidth\":0,\"ticks\":\"\"}},\"type\":\"scatter\"}],\"scatter3d\":[{\"line\":{\"colorbar\":{\"outlinewidth\":0,\"ticks\":\"\"}},\"marker\":{\"colorbar\":{\"outlinewidth\":0,\"ticks\":\"\"}},\"type\":\"scatter3d\"}],\"scattercarpet\":[{\"marker\":{\"colorbar\":{\"outlinewidth\":0,\"ticks\":\"\"}},\"type\":\"scattercarpet\"}],\"scattergeo\":[{\"marker\":{\"colorbar\":{\"outlinewidth\":0,\"ticks\":\"\"}},\"type\":\"scattergeo\"}],\"scattergl\":[{\"marker\":{\"colorbar\":{\"outlinewidth\":0,\"ticks\":\"\"}},\"type\":\"scattergl\"}],\"scattermapbox\":[{\"marker\":{\"colorbar\":{\"outlinewidth\":0,\"ticks\":\"\"}},\"type\":\"scattermapbox\"}],\"scatterpolar\":[{\"marker\":{\"colorbar\":{\"outlinewidth\":0,\"ticks\":\"\"}},\"type\":\"scatterpolar\"}],\"scatterpolargl\":[{\"marker\":{\"colorbar\":{\"outlinewidth\":0,\"ticks\":\"\"}},\"type\":\"scatterpolargl\"}],\"scatterternary\":[{\"marker\":{\"colorbar\":{\"outlinewidth\":0,\"ticks\":\"\"}},\"type\":\"scatterternary\"}],\"surface\":[{\"colorbar\":{\"outlinewidth\":0,\"ticks\":\"\"},\"colorscale\":[[0.0,\"#0d0887\"],[0.1111111111111111,\"#46039f\"],[0.2222222222222222,\"#7201a8\"],[0.3333333333333333,\"#9c179e\"],[0.4444444444444444,\"#bd3786\"],[0.5555555555555556,\"#d8576b\"],[0.6666666666666666,\"#ed7953\"],[0.7777777777777778,\"#fb9f3a\"],[0.8888888888888888,\"#fdca26\"],[1.0,\"#f0f921\"]],\"type\":\"surface\"}],\"table\":[{\"cells\":{\"fill\":{\"color\":\"#EBF0F8\"},\"line\":{\"color\":\"white\"}},\"header\":{\"fill\":{\"color\":\"#C8D4E3\"},\"line\":{\"color\":\"white\"}},\"type\":\"table\"}]},\"layout\":{\"annotationdefaults\":{\"arrowcolor\":\"#2a3f5f\",\"arrowhead\":0,\"arrowwidth\":1},\"autotypenumbers\":\"strict\",\"coloraxis\":{\"colorbar\":{\"outlinewidth\":0,\"ticks\":\"\"}},\"colorscale\":{\"diverging\":[[0,\"#8e0152\"],[0.1,\"#c51b7d\"],[0.2,\"#de77ae\"],[0.3,\"#f1b6da\"],[0.4,\"#fde0ef\"],[0.5,\"#f7f7f7\"],[0.6,\"#e6f5d0\"],[0.7,\"#b8e186\"],[0.8,\"#7fbc41\"],[0.9,\"#4d9221\"],[1,\"#276419\"]],\"sequential\":[[0.0,\"#0d0887\"],[0.1111111111111111,\"#46039f\"],[0.2222222222222222,\"#7201a8\"],[0.3333333333333333,\"#9c179e\"],[0.4444444444444444,\"#bd3786\"],[0.5555555555555556,\"#d8576b\"],[0.6666666666666666,\"#ed7953\"],[0.7777777777777778,\"#fb9f3a\"],[0.8888888888888888,\"#fdca26\"],[1.0,\"#f0f921\"]],\"sequentialminus\":[[0.0,\"#0d0887\"],[0.1111111111111111,\"#46039f\"],[0.2222222222222222,\"#7201a8\"],[0.3333333333333333,\"#9c179e\"],[0.4444444444444444,\"#bd3786\"],[0.5555555555555556,\"#d8576b\"],[0.6666666666666666,\"#ed7953\"],[0.7777777777777778,\"#fb9f3a\"],[0.8888888888888888,\"#fdca26\"],[1.0,\"#f0f921\"]]},\"colorway\":[\"#636efa\",\"#EF553B\",\"#00cc96\",\"#ab63fa\",\"#FFA15A\",\"#19d3f3\",\"#FF6692\",\"#B6E880\",\"#FF97FF\",\"#FECB52\"],\"font\":{\"color\":\"#2a3f5f\"},\"geo\":{\"bgcolor\":\"white\",\"lakecolor\":\"white\",\"landcolor\":\"#E5ECF6\",\"showlakes\":true,\"showland\":true,\"subunitcolor\":\"white\"},\"hoverlabel\":{\"align\":\"left\"},\"hovermode\":\"closest\",\"mapbox\":{\"style\":\"light\"},\"paper_bgcolor\":\"white\",\"plot_bgcolor\":\"#E5ECF6\",\"polar\":{\"angularaxis\":{\"gridcolor\":\"white\",\"linecolor\":\"white\",\"ticks\":\"\"},\"bgcolor\":\"#E5ECF6\",\"radialaxis\":{\"gridcolor\":\"white\",\"linecolor\":\"white\",\"ticks\":\"\"}},\"scene\":{\"xaxis\":{\"backgroundcolor\":\"#E5ECF6\",\"gridcolor\":\"white\",\"gridwidth\":2,\"linecolor\":\"white\",\"showbackground\":true,\"ticks\":\"\",\"zerolinecolor\":\"white\"},\"yaxis\":{\"backgroundcolor\":\"#E5ECF6\",\"gridcolor\":\"white\",\"gridwidth\":2,\"linecolor\":\"white\",\"showbackground\":true,\"ticks\":\"\",\"zerolinecolor\":\"white\"},\"zaxis\":{\"backgroundcolor\":\"#E5ECF6\",\"gridcolor\":\"white\",\"gridwidth\":2,\"linecolor\":\"white\",\"showbackground\":true,\"ticks\":\"\",\"zerolinecolor\":\"white\"}},\"shapedefaults\":{\"line\":{\"color\":\"#2a3f5f\"}},\"ternary\":{\"aaxis\":{\"gridcolor\":\"white\",\"linecolor\":\"white\",\"ticks\":\"\"},\"baxis\":{\"gridcolor\":\"white\",\"linecolor\":\"white\",\"ticks\":\"\"},\"bgcolor\":\"#E5ECF6\",\"caxis\":{\"gridcolor\":\"white\",\"linecolor\":\"white\",\"ticks\":\"\"}},\"title\":{\"x\":0.05},\"xaxis\":{\"automargin\":true,\"gridcolor\":\"white\",\"linecolor\":\"white\",\"ticks\":\"\",\"title\":{\"standoff\":15},\"zerolinecolor\":\"white\",\"zerolinewidth\":2},\"yaxis\":{\"automargin\":true,\"gridcolor\":\"white\",\"linecolor\":\"white\",\"ticks\":\"\",\"title\":{\"standoff\":15},\"zerolinecolor\":\"white\",\"zerolinewidth\":2}}},\"title\":{\"text\":\"UNNORMALIZED DNN MODEL RESULTS SORTED\",\"x\":0.5}},                        {\"responsive\": true}                    ).then(function(){\n",
              "                            \n",
              "var gd = document.getElementById('c7dd4bb5-cb63-4d59-9e95-997b067b6612');\n",
              "var x = new MutationObserver(function (mutations, observer) {{\n",
              "        var display = window.getComputedStyle(gd).display;\n",
              "        if (!display || display === 'none') {{\n",
              "            console.log([gd, 'removed!']);\n",
              "            Plotly.purge(gd);\n",
              "            observer.disconnect();\n",
              "        }}\n",
              "}});\n",
              "\n",
              "// Listen for the removal of the full notebook cells\n",
              "var notebookContainer = gd.closest('#notebook-container');\n",
              "if (notebookContainer) {{\n",
              "    x.observe(notebookContainer, {childList: true});\n",
              "}}\n",
              "\n",
              "// Listen for the clearing of the current output cell\n",
              "var outputEl = gd.closest('.output');\n",
              "if (outputEl) {{\n",
              "    x.observe(outputEl, {childList: true});\n",
              "}}\n",
              "\n",
              "                        })                };                            </script>        </div>\n",
              "</body>\n",
              "</html>"
            ]
          },
          "metadata": {}
        }
      ]
    },
    {
      "cell_type": "code",
      "source": [
        "# MSE when Unnormalized, GPA MSE over GPA scores 0-4.0 \n",
        "mean_squared_error(y_test_UN, y_predict_dnn_UN)"
      ],
      "metadata": {
        "colab": {
          "base_uri": "https://localhost:8080/"
        },
        "id": "tD0Wmkjr8fXi",
        "outputId": "886efec1-2fb8-4969-f133-9a1213b9459e"
      },
      "execution_count": null,
      "outputs": [
        {
          "output_type": "execute_result",
          "data": {
            "text/plain": [
              "0.2248578776593172"
            ]
          },
          "metadata": {},
          "execution_count": 44
        }
      ]
    },
    {
      "cell_type": "code",
      "source": [
        "# #train_Input, val_Input, test_input = np.split(DF2, [int(.6 * len(DF2)), int(.8 * len(DF2))])\n",
        "# DF2shuffled = shuffle(DF2)\n",
        "# train_Input, test_input = np.split(DF2shuffled, [int(.8 * len(DF2))])\n",
        "\n",
        "# X_train = train_Input.iloc[:,:-1]\n",
        "# y_train = train_Input.iloc[:,-1]\n",
        "# # X_val_Input = val_Input.iloc[:,:-1]\n",
        "# # y_val= val_Input.iloc[:,-1]\n",
        "# X_test = test_input.iloc[:,:-1]\n",
        "# y_test = test_input.iloc[:,-1]"
      ],
      "metadata": {
        "id": "v-Az2FZGfsP9"
      },
      "execution_count": null,
      "outputs": []
    },
    {
      "cell_type": "code",
      "source": [
        ""
      ],
      "metadata": {
        "id": "C1Kkk6bCu1IS"
      },
      "execution_count": null,
      "outputs": []
    },
    {
      "cell_type": "code",
      "source": [
        ""
      ],
      "metadata": {
        "id": "gCcx6QmVu1SP"
      },
      "execution_count": null,
      "outputs": []
    },
    {
      "cell_type": "markdown",
      "source": [
        "THE GAUSSIAN PROCESS REGRESSOR MODEL"
      ],
      "metadata": {
        "id": "Ghx7SSQZup1n"
      }
    },
    {
      "cell_type": "code",
      "source": [
        "# Define per-fold score containers\n",
        "acc_per_fold = []\n",
        "loss_per_fold = []\n",
        "\n",
        "# Define the K-fold Cross Validator\n",
        "kfold = KFold(n_splits=10, shuffle=True)\n",
        "\n",
        "# K-fold Cross Validation model evaluation\n",
        "fold_no = 1\n",
        "for train_index, test_index in kfold.split(XTrainScaled):\n",
        "  #####\n",
        "  # RBF: Radial-basis function kernel (aka squared-exponential kernel)\n",
        "  #      Length Scale ; A vector with the same number of dimensions as the inputs X (anisotropic variant of the kernel) \n",
        "  # WhiteKernel: Adds noise to the Kernel\n",
        "  # ConstantKernel: Adding a constant kernel is equivalent to adding a constant.\n",
        "\n",
        "  kernel = ConstantKernel(1.0) + ConstantKernel(1.0) * RBF(length_scale = 41)  + WhiteKernel(5)\n",
        "\n",
        "  # kernel2 = ConstantKernel(1.0) + ConstantKernel(1.0) * 1.0 * Matern(length_scale=1.0, nu=1.5) + WhiteKernel(5)\n",
        "  # The parameter nu controlling the smoothness of the learned function. \n",
        "  # The smaller nu, the less smooth the approximated function is.For nu=inf, the kernel becomes equivalent to the RBF kernel \n",
        "  # and for nu=0.5 to the absolute exponential kernel. Important intermediate values are nu=1.5 (once differentiable functions) \n",
        "  # and nu=2.5 (twice differentiable functions). Note that values of nu not in [0.5, 1.5, 2.5, inf] incur a considerably higher computational cost \n",
        "  # (appr. 10 times higher) since they require to evaluate the modified Bessel function. \n",
        "  # Furthermore, in contrast to l, nu is kept fixed to its initial value and not optimized.\n",
        "\n",
        "  #\n",
        "\n",
        "  # n_restarts_optimizer: The number of restarts of the optimizer for finding the kernel's parameters which maximize the log-marginal likelihood.\n",
        "  model2 = GaussianProcessRegressor(kernel=kernel, n_restarts_optimizer=1)\n",
        "  \n",
        "  print('------------------------------------------------------------------------')\n",
        "  print(f'Training for fold {fold_no} ...')\n",
        "  \n",
        "  # Fit data to model\n",
        "  history2 = model2.fit(XTrainScaled.iloc[train_index], GPAScaled2.iloc[train_index])\n",
        "  y_pred_tr, y_pred_tr_std = model2.predict(XTrainScaled.iloc[train_index], return_std=True)\n",
        "  y_pred_te, y_pred_te_std = model2.predict(XTrainScaled.iloc[test_index], return_std=True)\n",
        "\n",
        "  #####\n",
        "\n",
        "  # Generate generalization metrics - model.score(X_test_Input, y_test)\n",
        "  scores1 = model2.score(XTrainScaled.iloc[test_index], GPAScaled2.iloc[test_index])\n",
        "  # model.score(X_test_Input, y_test)\n",
        "  # # = ((y_true - y_pred)** 2).sum()  /  ((y_true - y_true.mean()) ** 2).sum()\n",
        "  # # Return the coefficient of determination of the prediction.\n",
        "  # # The coefficient of determination  is defined as \n",
        "  # # The best possible score is 1.0 and it can be negative (because the model can be arbitrarily worse). \n",
        "  # # A constant model that always predicts the expected value of y, disregarding the input features, would get a  score of 0.0.\n",
        "  \n",
        "  # r2_score(y_test, y_pred_te)\n",
        "  # # r2_score: R^2 (coefficient of determination) regression score function. \n",
        "  # # An R2 of 0 means your regression is no better than taking the mean value, \n",
        "  # # i.e. you are not using any information from the other variables. \n",
        "  # # A Negative R2 means you are doing worse than the mean value. :))\n",
        "\n",
        "  #print(f'Score for fold {fold_no}: {model1.metrics_names[0]} of {scores[0]}; {model1.metrics_names[1]} of {scores[1]*100}%')\n",
        "  scores2 = mean_squared_error(GPAScaled2.iloc[test_index], y_pred_te)\n",
        "\n",
        "  print(f'Score for fold {fold_no}: coefficient of determination of the prediction is {scores1}')\n",
        "  print(f'Score for fold {fold_no}: MSE is {scores2}')\n",
        "\n",
        "  #acc_per_fold.append(scores[1] * 100)\n",
        "  loss_per_fold.append(scores2)\n",
        "\n",
        "  # Increase fold number\n",
        "  fold_no = fold_no + 1\n",
        "\n",
        "# == Provide average scores ==\n",
        "print('------------------------------------------------------------------------')\n",
        "print('MSE per fold')\n",
        "for i in range(0, len(loss_per_fold)):\n",
        "  print('------------------------------------------------------------------------')\n",
        "  print(f'> Fold {i+1} - MSE: {loss_per_fold[i]}')\n",
        "print('------------------------------------------------------------------------')\n",
        "print('Average scores for all folds:')\n",
        "print(f'> MSE: {np.mean(loss_per_fold)}')\n",
        "print('------------------------------------------------------------------------')"
      ],
      "metadata": {
        "id": "_KEnGiK5AUIe",
        "outputId": "081fda4c-6132-4bf9-9be2-669bfa7bcc04",
        "colab": {
          "base_uri": "https://localhost:8080/"
        }
      },
      "execution_count": null,
      "outputs": [
        {
          "output_type": "stream",
          "name": "stdout",
          "text": [
            "------------------------------------------------------------------------\n",
            "Training for fold 1 ...\n"
          ]
        },
        {
          "output_type": "stream",
          "name": "stderr",
          "text": [
            "/usr/local/lib/python3.7/dist-packages/sklearn/utils/validation.py:1692: FutureWarning:\n",
            "\n",
            "Feature names only support names that are all strings. Got feature names with dtypes: ['int', 'str']. An error will be raised in 1.2.\n",
            "\n",
            "/usr/local/lib/python3.7/dist-packages/sklearn/utils/validation.py:1692: FutureWarning:\n",
            "\n",
            "Feature names only support names that are all strings. Got feature names with dtypes: ['int', 'str']. An error will be raised in 1.2.\n",
            "\n",
            "/usr/local/lib/python3.7/dist-packages/sklearn/utils/validation.py:1692: FutureWarning:\n",
            "\n",
            "Feature names only support names that are all strings. Got feature names with dtypes: ['int', 'str']. An error will be raised in 1.2.\n",
            "\n",
            "/usr/local/lib/python3.7/dist-packages/sklearn/utils/validation.py:1692: FutureWarning:\n",
            "\n",
            "Feature names only support names that are all strings. Got feature names with dtypes: ['int', 'str']. An error will be raised in 1.2.\n",
            "\n"
          ]
        },
        {
          "output_type": "stream",
          "name": "stdout",
          "text": [
            "Score for fold 1: coefficient of determination of the prediction is 0.14421963163742102\n",
            "Score for fold 1: MSE is 0.019090471742453832\n",
            "------------------------------------------------------------------------\n",
            "Training for fold 2 ...\n"
          ]
        },
        {
          "output_type": "stream",
          "name": "stderr",
          "text": [
            "/usr/local/lib/python3.7/dist-packages/sklearn/utils/validation.py:1692: FutureWarning:\n",
            "\n",
            "Feature names only support names that are all strings. Got feature names with dtypes: ['int', 'str']. An error will be raised in 1.2.\n",
            "\n",
            "/usr/local/lib/python3.7/dist-packages/sklearn/utils/validation.py:1692: FutureWarning:\n",
            "\n",
            "Feature names only support names that are all strings. Got feature names with dtypes: ['int', 'str']. An error will be raised in 1.2.\n",
            "\n",
            "/usr/local/lib/python3.7/dist-packages/sklearn/utils/validation.py:1692: FutureWarning:\n",
            "\n",
            "Feature names only support names that are all strings. Got feature names with dtypes: ['int', 'str']. An error will be raised in 1.2.\n",
            "\n",
            "/usr/local/lib/python3.7/dist-packages/sklearn/utils/validation.py:1692: FutureWarning:\n",
            "\n",
            "Feature names only support names that are all strings. Got feature names with dtypes: ['int', 'str']. An error will be raised in 1.2.\n",
            "\n"
          ]
        },
        {
          "output_type": "stream",
          "name": "stdout",
          "text": [
            "Score for fold 2: coefficient of determination of the prediction is 0.14078655116263006\n",
            "Score for fold 2: MSE is 0.02007505957868962\n",
            "------------------------------------------------------------------------\n",
            "Training for fold 3 ...\n"
          ]
        },
        {
          "output_type": "stream",
          "name": "stderr",
          "text": [
            "/usr/local/lib/python3.7/dist-packages/sklearn/utils/validation.py:1692: FutureWarning:\n",
            "\n",
            "Feature names only support names that are all strings. Got feature names with dtypes: ['int', 'str']. An error will be raised in 1.2.\n",
            "\n",
            "/usr/local/lib/python3.7/dist-packages/sklearn/utils/validation.py:1692: FutureWarning:\n",
            "\n",
            "Feature names only support names that are all strings. Got feature names with dtypes: ['int', 'str']. An error will be raised in 1.2.\n",
            "\n",
            "/usr/local/lib/python3.7/dist-packages/sklearn/utils/validation.py:1692: FutureWarning:\n",
            "\n",
            "Feature names only support names that are all strings. Got feature names with dtypes: ['int', 'str']. An error will be raised in 1.2.\n",
            "\n",
            "/usr/local/lib/python3.7/dist-packages/sklearn/utils/validation.py:1692: FutureWarning:\n",
            "\n",
            "Feature names only support names that are all strings. Got feature names with dtypes: ['int', 'str']. An error will be raised in 1.2.\n",
            "\n"
          ]
        },
        {
          "output_type": "stream",
          "name": "stdout",
          "text": [
            "Score for fold 3: coefficient of determination of the prediction is 0.06853905789176795\n",
            "Score for fold 3: MSE is 0.018293406968193326\n",
            "------------------------------------------------------------------------\n",
            "Training for fold 4 ...\n"
          ]
        },
        {
          "output_type": "stream",
          "name": "stderr",
          "text": [
            "/usr/local/lib/python3.7/dist-packages/sklearn/utils/validation.py:1692: FutureWarning:\n",
            "\n",
            "Feature names only support names that are all strings. Got feature names with dtypes: ['int', 'str']. An error will be raised in 1.2.\n",
            "\n",
            "/usr/local/lib/python3.7/dist-packages/sklearn/utils/validation.py:1692: FutureWarning:\n",
            "\n",
            "Feature names only support names that are all strings. Got feature names with dtypes: ['int', 'str']. An error will be raised in 1.2.\n",
            "\n",
            "/usr/local/lib/python3.7/dist-packages/sklearn/utils/validation.py:1692: FutureWarning:\n",
            "\n",
            "Feature names only support names that are all strings. Got feature names with dtypes: ['int', 'str']. An error will be raised in 1.2.\n",
            "\n",
            "/usr/local/lib/python3.7/dist-packages/sklearn/utils/validation.py:1692: FutureWarning:\n",
            "\n",
            "Feature names only support names that are all strings. Got feature names with dtypes: ['int', 'str']. An error will be raised in 1.2.\n",
            "\n"
          ]
        },
        {
          "output_type": "stream",
          "name": "stdout",
          "text": [
            "Score for fold 4: coefficient of determination of the prediction is 0.2199816768009648\n",
            "Score for fold 4: MSE is 0.01854924836487386\n",
            "------------------------------------------------------------------------\n",
            "Training for fold 5 ...\n"
          ]
        },
        {
          "output_type": "stream",
          "name": "stderr",
          "text": [
            "/usr/local/lib/python3.7/dist-packages/sklearn/utils/validation.py:1692: FutureWarning:\n",
            "\n",
            "Feature names only support names that are all strings. Got feature names with dtypes: ['int', 'str']. An error will be raised in 1.2.\n",
            "\n",
            "/usr/local/lib/python3.7/dist-packages/sklearn/utils/validation.py:1692: FutureWarning:\n",
            "\n",
            "Feature names only support names that are all strings. Got feature names with dtypes: ['int', 'str']. An error will be raised in 1.2.\n",
            "\n",
            "/usr/local/lib/python3.7/dist-packages/sklearn/utils/validation.py:1692: FutureWarning:\n",
            "\n",
            "Feature names only support names that are all strings. Got feature names with dtypes: ['int', 'str']. An error will be raised in 1.2.\n",
            "\n",
            "/usr/local/lib/python3.7/dist-packages/sklearn/utils/validation.py:1692: FutureWarning:\n",
            "\n",
            "Feature names only support names that are all strings. Got feature names with dtypes: ['int', 'str']. An error will be raised in 1.2.\n",
            "\n"
          ]
        },
        {
          "output_type": "stream",
          "name": "stdout",
          "text": [
            "Score for fold 5: coefficient of determination of the prediction is 0.11237493366151863\n",
            "Score for fold 5: MSE is 0.01774216732083935\n",
            "------------------------------------------------------------------------\n",
            "Training for fold 6 ...\n"
          ]
        },
        {
          "output_type": "stream",
          "name": "stderr",
          "text": [
            "/usr/local/lib/python3.7/dist-packages/sklearn/utils/validation.py:1692: FutureWarning:\n",
            "\n",
            "Feature names only support names that are all strings. Got feature names with dtypes: ['int', 'str']. An error will be raised in 1.2.\n",
            "\n",
            "/usr/local/lib/python3.7/dist-packages/sklearn/utils/validation.py:1692: FutureWarning:\n",
            "\n",
            "Feature names only support names that are all strings. Got feature names with dtypes: ['int', 'str']. An error will be raised in 1.2.\n",
            "\n",
            "/usr/local/lib/python3.7/dist-packages/sklearn/utils/validation.py:1692: FutureWarning:\n",
            "\n",
            "Feature names only support names that are all strings. Got feature names with dtypes: ['int', 'str']. An error will be raised in 1.2.\n",
            "\n",
            "/usr/local/lib/python3.7/dist-packages/sklearn/utils/validation.py:1692: FutureWarning:\n",
            "\n",
            "Feature names only support names that are all strings. Got feature names with dtypes: ['int', 'str']. An error will be raised in 1.2.\n",
            "\n"
          ]
        },
        {
          "output_type": "stream",
          "name": "stdout",
          "text": [
            "Score for fold 6: coefficient of determination of the prediction is 0.18773747797342155\n",
            "Score for fold 6: MSE is 0.020938648335980196\n",
            "------------------------------------------------------------------------\n",
            "Training for fold 7 ...\n"
          ]
        },
        {
          "output_type": "stream",
          "name": "stderr",
          "text": [
            "/usr/local/lib/python3.7/dist-packages/sklearn/utils/validation.py:1692: FutureWarning:\n",
            "\n",
            "Feature names only support names that are all strings. Got feature names with dtypes: ['int', 'str']. An error will be raised in 1.2.\n",
            "\n",
            "/usr/local/lib/python3.7/dist-packages/sklearn/utils/validation.py:1692: FutureWarning:\n",
            "\n",
            "Feature names only support names that are all strings. Got feature names with dtypes: ['int', 'str']. An error will be raised in 1.2.\n",
            "\n",
            "/usr/local/lib/python3.7/dist-packages/sklearn/utils/validation.py:1692: FutureWarning:\n",
            "\n",
            "Feature names only support names that are all strings. Got feature names with dtypes: ['int', 'str']. An error will be raised in 1.2.\n",
            "\n",
            "/usr/local/lib/python3.7/dist-packages/sklearn/utils/validation.py:1692: FutureWarning:\n",
            "\n",
            "Feature names only support names that are all strings. Got feature names with dtypes: ['int', 'str']. An error will be raised in 1.2.\n",
            "\n"
          ]
        },
        {
          "output_type": "stream",
          "name": "stdout",
          "text": [
            "Score for fold 7: coefficient of determination of the prediction is 0.16820081787249253\n",
            "Score for fold 7: MSE is 0.018712854745991596\n",
            "------------------------------------------------------------------------\n",
            "Training for fold 8 ...\n"
          ]
        },
        {
          "output_type": "stream",
          "name": "stderr",
          "text": [
            "/usr/local/lib/python3.7/dist-packages/sklearn/utils/validation.py:1692: FutureWarning:\n",
            "\n",
            "Feature names only support names that are all strings. Got feature names with dtypes: ['int', 'str']. An error will be raised in 1.2.\n",
            "\n",
            "/usr/local/lib/python3.7/dist-packages/sklearn/utils/validation.py:1692: FutureWarning:\n",
            "\n",
            "Feature names only support names that are all strings. Got feature names with dtypes: ['int', 'str']. An error will be raised in 1.2.\n",
            "\n",
            "/usr/local/lib/python3.7/dist-packages/sklearn/utils/validation.py:1692: FutureWarning:\n",
            "\n",
            "Feature names only support names that are all strings. Got feature names with dtypes: ['int', 'str']. An error will be raised in 1.2.\n",
            "\n",
            "/usr/local/lib/python3.7/dist-packages/sklearn/utils/validation.py:1692: FutureWarning:\n",
            "\n",
            "Feature names only support names that are all strings. Got feature names with dtypes: ['int', 'str']. An error will be raised in 1.2.\n",
            "\n"
          ]
        },
        {
          "output_type": "stream",
          "name": "stdout",
          "text": [
            "Score for fold 8: coefficient of determination of the prediction is 0.1510231502627124\n",
            "Score for fold 8: MSE is 0.02223973922001499\n",
            "------------------------------------------------------------------------\n",
            "Training for fold 9 ...\n"
          ]
        },
        {
          "output_type": "stream",
          "name": "stderr",
          "text": [
            "/usr/local/lib/python3.7/dist-packages/sklearn/utils/validation.py:1692: FutureWarning:\n",
            "\n",
            "Feature names only support names that are all strings. Got feature names with dtypes: ['int', 'str']. An error will be raised in 1.2.\n",
            "\n",
            "/usr/local/lib/python3.7/dist-packages/sklearn/utils/validation.py:1692: FutureWarning:\n",
            "\n",
            "Feature names only support names that are all strings. Got feature names with dtypes: ['int', 'str']. An error will be raised in 1.2.\n",
            "\n",
            "/usr/local/lib/python3.7/dist-packages/sklearn/utils/validation.py:1692: FutureWarning:\n",
            "\n",
            "Feature names only support names that are all strings. Got feature names with dtypes: ['int', 'str']. An error will be raised in 1.2.\n",
            "\n",
            "/usr/local/lib/python3.7/dist-packages/sklearn/utils/validation.py:1692: FutureWarning:\n",
            "\n",
            "Feature names only support names that are all strings. Got feature names with dtypes: ['int', 'str']. An error will be raised in 1.2.\n",
            "\n"
          ]
        },
        {
          "output_type": "stream",
          "name": "stdout",
          "text": [
            "Score for fold 9: coefficient of determination of the prediction is 0.1483373624992278\n",
            "Score for fold 9: MSE is 0.02409529905667175\n",
            "------------------------------------------------------------------------\n",
            "Training for fold 10 ...\n"
          ]
        },
        {
          "output_type": "stream",
          "name": "stderr",
          "text": [
            "/usr/local/lib/python3.7/dist-packages/sklearn/utils/validation.py:1692: FutureWarning:\n",
            "\n",
            "Feature names only support names that are all strings. Got feature names with dtypes: ['int', 'str']. An error will be raised in 1.2.\n",
            "\n",
            "/usr/local/lib/python3.7/dist-packages/sklearn/utils/validation.py:1692: FutureWarning:\n",
            "\n",
            "Feature names only support names that are all strings. Got feature names with dtypes: ['int', 'str']. An error will be raised in 1.2.\n",
            "\n",
            "/usr/local/lib/python3.7/dist-packages/sklearn/utils/validation.py:1692: FutureWarning:\n",
            "\n",
            "Feature names only support names that are all strings. Got feature names with dtypes: ['int', 'str']. An error will be raised in 1.2.\n",
            "\n",
            "/usr/local/lib/python3.7/dist-packages/sklearn/utils/validation.py:1692: FutureWarning:\n",
            "\n",
            "Feature names only support names that are all strings. Got feature names with dtypes: ['int', 'str']. An error will be raised in 1.2.\n",
            "\n"
          ]
        },
        {
          "output_type": "stream",
          "name": "stdout",
          "text": [
            "Score for fold 10: coefficient of determination of the prediction is 0.14129233967011234\n",
            "Score for fold 10: MSE is 0.023293151103980968\n",
            "------------------------------------------------------------------------\n",
            "MSE per fold\n",
            "------------------------------------------------------------------------\n",
            "> Fold 1 - MSE: 0.019090471742453832\n",
            "------------------------------------------------------------------------\n",
            "> Fold 2 - MSE: 0.02007505957868962\n",
            "------------------------------------------------------------------------\n",
            "> Fold 3 - MSE: 0.018293406968193326\n",
            "------------------------------------------------------------------------\n",
            "> Fold 4 - MSE: 0.01854924836487386\n",
            "------------------------------------------------------------------------\n",
            "> Fold 5 - MSE: 0.01774216732083935\n",
            "------------------------------------------------------------------------\n",
            "> Fold 6 - MSE: 0.020938648335980196\n",
            "------------------------------------------------------------------------\n",
            "> Fold 7 - MSE: 0.018712854745991596\n",
            "------------------------------------------------------------------------\n",
            "> Fold 8 - MSE: 0.02223973922001499\n",
            "------------------------------------------------------------------------\n",
            "> Fold 9 - MSE: 0.02409529905667175\n",
            "------------------------------------------------------------------------\n",
            "> Fold 10 - MSE: 0.023293151103980968\n",
            "------------------------------------------------------------------------\n",
            "Average scores for all folds:\n",
            "> MSE: 0.020303004643768947\n",
            "------------------------------------------------------------------------\n"
          ]
        }
      ]
    },
    {
      "cell_type": "code",
      "source": [
        "y_test = GPAScaled2.iloc[test_index]"
      ],
      "metadata": {
        "id": "XbZGE5JI5Lub"
      },
      "execution_count": null,
      "outputs": []
    },
    {
      "cell_type": "code",
      "source": [
        "y_pred_te_UN = (GPAmax * y_pred_te) + (GPAmin * (1 - y_pred_te)) \n",
        "y_test_UN = (GPAmax * y_test) + (GPAmin * (1 - y_test))\n",
        "y_test_UN = y_test_UN.to_numpy()"
      ],
      "metadata": {
        "id": "4lx9r32v50fq"
      },
      "execution_count": null,
      "outputs": []
    },
    {
      "cell_type": "code",
      "source": [
        "plt.figure()\n",
        "plt.errorbar(y_test, y_pred_te, yerr=y_pred_te_std, fmt='o')\n",
        "# r2_score: R^2 (coefficient of determination) regression score function.\n",
        "plt.title('Gaussian process regression, R2=%.2f' % r2_score(y_test, y_pred_te))\n",
        "plt.xlabel('Actual')\n",
        "plt.ylabel('Predicted')"
      ],
      "metadata": {
        "colab": {
          "base_uri": "https://localhost:8080/",
          "height": 313
        },
        "id": "x-OjBf0pfDNy",
        "outputId": "cbdd3312-ccbf-4ae6-e20a-573b683d2ce8"
      },
      "execution_count": null,
      "outputs": [
        {
          "output_type": "execute_result",
          "data": {
            "text/plain": [
              "Text(0, 0.5, 'Predicted')"
            ]
          },
          "metadata": {},
          "execution_count": 51
        },
        {
          "output_type": "display_data",
          "data": {
            "text/plain": [
              "<Figure size 432x288 with 1 Axes>"
            ],
            "image/png": "[encoded data removed]"
          },
          "metadata": {
            "needs_background": "light"
          }
        }
      ]
    },
    {
      "cell_type": "code",
      "source": [
        "mean_squared_error(y_test, y_pred_te)"
      ],
      "metadata": {
        "colab": {
          "base_uri": "https://localhost:8080/"
        },
        "outputId": "be82c28b-3c43-4413-e93c-00cc1282bcea",
        "id": "o5WdAXjOTecu"
      },
      "execution_count": null,
      "outputs": [
        {
          "output_type": "execute_result",
          "data": {
            "text/plain": [
              "0.023293151103980968"
            ]
          },
          "metadata": {},
          "execution_count": 52
        }
      ]
    },
    {
      "cell_type": "code",
      "source": [
        "idx   = np.argsort(y_test)\n",
        "y_pred_te = y_pred_te.reshape(y_pred_te.shape[0],)\n",
        "list1 = np.array(y_test)[idx]\n",
        "list2 = np.array(y_pred_te)[idx]\n",
        "fig = go.Figure()\n",
        "fig.add_trace(go.Scatter(y=list1, name=\"y_test\", line_shape='linear'))\n",
        "fig.add_trace(go.Scatter(y=list2, name=\"y_predict_te\", line_shape='linear'))\n",
        "fig.update_layout(title_text='NORMALIZED - GPR MODEL RESULTS SORTED', title_x=0.5)\n",
        "fig.show()"
      ],
      "metadata": {
        "colab": {
          "base_uri": "https://localhost:8080/",
          "height": 542
        },
        "outputId": "956ae85c-ec21-4788-afe0-a2f5db158e19",
        "id": "pSlsuelhTecv"
      },
      "execution_count": null,
      "outputs": [
        {
          "output_type": "display_data",
          "data": {
            "text/html": [
              "<html>\n",
              "<head><meta charset=\"utf-8\" /></head>\n",
              "<body>\n",
              "    <div>            <script src=\"https://cdnjs.cloudflare.com/ajax/libs/mathjax/2.7.5/MathJax.js?config=TeX-AMS-MML_SVG\"></script><script type=\"text/javascript\">if (window.MathJax) {MathJax.Hub.Config({SVG: {font: \"STIX-Web\"}});}</script>                <script type=\"text/javascript\">window.PlotlyConfig = {MathJaxConfig: 'local'};</script>\n",
              "        <script src=\"https://cdn.plot.ly/plotly-2.8.3.min.js\"></script>                <div id=\"8be4bda2-ea7d-4c71-9eaf-7d5453073606\" class=\"plotly-graph-div\" style=\"height:525px; width:100%;\"></div>            <script type=\"text/javascript\">                                    window.PLOTLYENV=window.PLOTLYENV || {};                                    if (document.getElementById(\"8be4bda2-ea7d-4c71-9eaf-7d5453073606\")) {                    Plotly.newPlot(                        \"8be4bda2-ea7d-4c71-9eaf-7d5453073606\",                        [{\"line\":{\"shape\":\"linear\"},\"name\":\"y_test\",\"y\":[0.0,0.16666666666666666,0.3,0.3333333333333333,0.4333333333333333,0.4333333333333333,0.4333333333333333,0.4333333333333333,0.4366666666666667,0.5,0.5099999999999999,0.5333333333333333,0.5333333333333333,0.5366666666666666,0.5633333333333334,0.5666666666666668,0.5666666666666668,0.5666666666666668,0.5666666666666668,0.5666666666666668,0.6,0.6,0.6,0.6,0.6033333333333334,0.61,0.6133333333333333,0.6266666666666666,0.65,0.6666666666666666,0.6666666666666666,0.6666666666666666,0.6666666666666666,0.6666666666666666,0.6666666666666666,0.6666666666666666,0.6666666666666666,0.6666666666666666,0.6666666666666666,0.6666666666666666,0.6666666666666666,0.6666666666666666,0.6666666666666666,0.6666666666666666,0.6666666666666666,0.6666666666666666,0.6666666666666666,0.6666666666666666,0.6666666666666666,0.6699999999999999,0.6699999999999999,0.6733333333333333,0.6733333333333333,0.6766666666666666,0.6766666666666666,0.6933333333333334,0.7000000000000001,0.7000000000000001,0.7000000000000001,0.7000000000000001,0.7000000000000001,0.7000000000000001,0.7000000000000001,0.7033333333333333,0.7033333333333333,0.7066666666666667,0.7166666666666667,0.7333333333333334,0.7333333333333334,0.7333333333333334,0.7333333333333334,0.7333333333333334,0.7566666666666667,0.7633333333333333,0.7666666666666666,0.7666666666666666,0.7666666666666666,0.7666666666666666,0.7666666666666666,0.7666666666666666,0.7666666666666666,0.7766666666666667,0.7776666666666667,0.7799999999999999,0.7799999999999999,0.7799999999999999,0.7833333333333333,0.7866666666666666,0.79,0.7933333333333333,0.7999999999999999,0.7999999999999999,0.7999999999999999,0.7999999999999999,0.7999999999999999,0.7999999999999999,0.7999999999999999,0.7999999999999999,0.7999999999999999,0.7999999999999999,0.7999999999999999,0.8066666666666666,0.8066666666666666,0.8133333333333334,0.8166666666666668,0.8166666666666668,0.8233333333333334,0.8266666666666667,0.8333333333333334,0.8333333333333334,0.8333333333333334,0.8333333333333334,0.8333333333333334,0.8333333333333334,0.8333333333333334,0.8333333333333334,0.8333333333333334,0.8333333333333334,0.8333333333333334,0.8333333333333334,0.8333333333333334,0.8333333333333334,0.8333333333333334,0.8366666666666666,0.85,0.8533333333333334,0.8566666666666666,0.86,0.8666666666666667,0.8666666666666667,0.8666666666666667,0.8666666666666667,0.8666666666666667,0.8666666666666667,0.8666666666666667,0.8766666666666666,0.8766666666666666,0.88,0.8833333333333333,0.8833333333333333,0.8866666666666667,0.8866666666666667,0.8866666666666667,0.89,0.89,0.8933333333333334,0.8933333333333334,0.9,0.9,0.9,0.9,0.9,0.9,0.9,0.9,0.9,0.9,0.9,0.9,0.9,0.9066666666666667,0.9066666666666667,0.9233333333333333,0.9233333333333333,0.9266666666666666,0.9266666666666666,0.93,0.93,0.93,0.9333333333333332,0.9333333333333332,0.9333333333333332,0.9333333333333332,0.9333333333333332,0.9333333333333332,0.9333333333333332,0.9333333333333332,0.9333333333333332,0.9333333333333332,0.9333333333333332,0.9333333333333332,0.9333333333333332,0.9333333333333332,0.9333333333333332,0.9333333333333332,0.9366666666666666,0.94,0.9433333333333334,0.9466666666666667,0.9533333333333333,0.9533333333333333,0.9566666666666667,0.9566666666666667,0.9633333333333334,0.9666666666666667,0.9666666666666667,0.9666666666666667,0.9700000000000001,0.9733333333333333,0.9733333333333333,0.9766666666666667,0.9766666666666667,0.98,0.9833333333333334,0.9866666666666667,0.9900000000000001,0.9933333333333333,0.9933333333333333,0.9933333333333333,0.9933333333333333,1.0,1.0,1.0,1.0,1.0,1.0,1.0,1.0,1.0,1.0,1.0,1.0,1.0,1.0,1.0,1.0,1.0,1.0,1.0,1.0,1.0,1.0,1.0,1.0,1.0,1.0,1.0,1.0,1.0,1.0,1.0,1.0,1.0,1.0,1.0,1.0,1.0,1.0,1.0,1.0,1.0,1.0,1.0,1.0,1.0,1.0,1.0,1.0,1.0],\"type\":\"scatter\"},{\"line\":{\"shape\":\"linear\"},\"name\":\"y_predict_te\",\"y\":[0.818640836191193,0.7831640057014351,0.7497360413861021,0.8443671226815361,0.6447995601473027,0.8241023214479313,0.7300195926026181,0.7518078767337801,0.87817126233002,0.8504599818152476,0.8276417423825926,0.7939097195886173,0.7242421161661543,0.7240803270724561,0.732884096420424,0.712294123084801,0.6585189748246112,0.7990140656930604,0.7070361819098316,0.7101552947803231,0.6274798835002597,0.739212246690121,0.8774230165388346,0.6672622439167872,0.8268187666998905,0.8001019309444626,0.727445360462923,0.7867099988490578,0.8503959896284616,0.7599994868977928,0.7524925059106318,0.829253378584232,0.824972885113759,0.8649705619644497,0.7700108050934134,0.7537618983894339,0.7850970868353597,0.7317024936463428,0.8338478326305028,0.7998698527224848,0.8906070063684819,0.7940184463196305,0.6555632429145621,0.8470266704046141,0.7052031333594337,0.8763755294696285,0.7446755438580208,0.7941741281859969,0.7149618211289228,0.7956429157913707,0.8059478259650081,0.8479460857488545,0.8937689196304115,0.8419263349162547,0.9144001386193956,0.7963322196922009,0.9533188239673764,0.72275764130372,0.8130098482160113,0.7186654576057636,0.7489308592348687,0.8242271461497905,0.7712660113539727,0.7482089454724434,0.9267674954056524,0.6911294597604227,0.8401894306788851,0.7373762980686509,0.8004455348581958,0.7387169965303739,0.7642383184416071,0.8579530705738581,0.8686988696324516,0.7514011507285785,0.8038913860339392,0.7816187794169878,0.8228006849971896,0.8589552683471151,0.869072723734984,0.8638896184496394,0.749719332678902,0.8609406707305558,0.901857864027277,0.8188845360200832,0.8773019357606175,0.8101781835555668,0.7246217735034115,0.9060067853462446,0.7693053178296232,0.7449588100025775,0.8445372989480697,0.7401370282837227,0.885187958681974,0.6894975546019095,0.8899909867631877,0.7575777165928992,0.8563846840966862,0.8498677342062093,0.7505998448671516,0.8103384955927639,0.8696614290694811,0.8557142733545087,0.7903211183506205,0.6892939372689595,0.877202906959532,0.8408281136664071,0.8702503155330028,0.8251363501957014,0.7995763635804654,0.8553146722717333,0.7684858487649215,0.9108709895183358,0.8988153276563242,0.7881326600838392,0.8929386964855546,0.8058790626842907,0.7673190858106249,0.8466721834907744,0.7254761884472298,0.7425591876422102,0.9971639830446462,0.7641191094515953,0.9072889624389306,0.7950930858234502,0.8710374183163632,0.9017730737363561,0.8995948769822419,0.8638104862613618,0.8421254651732868,0.7971310332894603,0.8444682565789945,0.8134431051187887,0.848595317275703,0.8737615396754697,0.8542573209632245,0.8196413019069437,0.8934011080891713,0.8701098568779493,0.7660086800340054,0.7625493646806838,0.7613776755165,0.9072291759600732,0.693490320958519,0.965055169593235,0.8167645230014209,0.8964195596092912,0.8182419796690015,0.8286066561510053,0.7777390423348702,0.8666420832746455,0.8432140328083744,0.7917538545304161,0.8270580954456364,0.9146754806038926,0.8108160977121761,0.7657489087473683,0.753444820481481,0.7942083040135888,0.759901480828197,0.8371752188113142,0.7961864603948099,0.8501197578798454,0.8064354824855817,0.8651494990865531,0.8074099066050335,0.8242428794030214,0.8087983957138736,0.8071428816865343,0.7218066628691293,0.8222221106189282,0.780548531478404,0.8300307811552372,0.7952968063715558,0.8853587664596381,0.870763636763277,0.7959112378323923,0.7932284426382896,0.7538485168092857,0.838434792932091,0.872062690112422,0.8382082863737184,0.9009202279892428,0.7660531909494512,0.7933236809583324,0.86016445086163,0.7346324467305791,0.8605194989176805,0.8951599959366856,0.8858502934958832,0.8565527829318587,0.8572396812232794,0.8733327746490831,0.8547819469157307,0.9922695044047707,0.8760292902701421,0.8909528665345867,0.9287069147653169,0.9411580835178635,0.8133647328348212,0.8743365100516085,0.6942626273629369,0.8688704726357761,0.7995183525606127,0.9347366461436115,0.8817039919601477,0.7420717651986486,0.880991474552375,0.8302105247588756,0.8776515581118014,0.8909419269995444,0.8594691793743152,0.9727954982731282,0.8800828797931901,0.8665150385327625,0.9039720699742269,0.9447824629939134,0.8348552216677589,0.8954813957402292,0.9302068836995021,0.8096943758889497,0.7973755090714363,0.8460556845976788,0.8905334169956296,0.779314359194359,0.8534939912914403,0.8429811762789523,0.8322458464844864,0.9693839145032834,0.845246267897803,0.924581087583304,0.674665480256663,0.9080513171932685,0.8539457316646555,0.7416952264060619,0.7976707830514655,0.852301615407832,0.9046086747057966,0.7664424900137323,0.7891928859609187,0.8655475949375857,0.8729577446303454,0.9006531660414856,0.8747848206114792,0.8645889606582546,0.8881953452793256,0.7513565466251286,0.9130193686753536,0.8162418118884256,0.9027882123730482,0.8072624161949529,0.9632655834971597,0.8951810695862594,0.9048123569165876,0.9756889356950893,0.8979574123308023,0.7759005051439845,0.8489374616317544,0.9550595373433906,0.7690901852636367],\"type\":\"scatter\"}],                        {\"template\":{\"data\":{\"bar\":[{\"error_x\":{\"color\":\"#2a3f5f\"},\"error_y\":{\"color\":\"#2a3f5f\"},\"marker\":{\"line\":{\"color\":\"#E5ECF6\",\"width\":0.5},\"pattern\":{\"fillmode\":\"overlay\",\"size\":10,\"solidity\":0.2}},\"type\":\"bar\"}],\"barpolar\":[{\"marker\":{\"line\":{\"color\":\"#E5ECF6\",\"width\":0.5},\"pattern\":{\"fillmode\":\"overlay\",\"size\":10,\"solidity\":0.2}},\"type\":\"barpolar\"}],\"carpet\":[{\"aaxis\":{\"endlinecolor\":\"#2a3f5f\",\"gridcolor\":\"white\",\"linecolor\":\"white\",\"minorgridcolor\":\"white\",\"startlinecolor\":\"#2a3f5f\"},\"baxis\":{\"endlinecolor\":\"#2a3f5f\",\"gridcolor\":\"white\",\"linecolor\":\"white\",\"minorgridcolor\":\"white\",\"startlinecolor\":\"#2a3f5f\"},\"type\":\"carpet\"}],\"choropleth\":[{\"colorbar\":{\"outlinewidth\":0,\"ticks\":\"\"},\"type\":\"choropleth\"}],\"contour\":[{\"colorbar\":{\"outlinewidth\":0,\"ticks\":\"\"},\"colorscale\":[[0.0,\"#0d0887\"],[0.1111111111111111,\"#46039f\"],[0.2222222222222222,\"#7201a8\"],[0.3333333333333333,\"#9c179e\"],[0.4444444444444444,\"#bd3786\"],[0.5555555555555556,\"#d8576b\"],[0.6666666666666666,\"#ed7953\"],[0.7777777777777778,\"#fb9f3a\"],[0.8888888888888888,\"#fdca26\"],[1.0,\"#f0f921\"]],\"type\":\"contour\"}],\"contourcarpet\":[{\"colorbar\":{\"outlinewidth\":0,\"ticks\":\"\"},\"type\":\"contourcarpet\"}],\"heatmap\":[{\"colorbar\":{\"outlinewidth\":0,\"ticks\":\"\"},\"colorscale\":[[0.0,\"#0d0887\"],[0.1111111111111111,\"#46039f\"],[0.2222222222222222,\"#7201a8\"],[0.3333333333333333,\"#9c179e\"],[0.4444444444444444,\"#bd3786\"],[0.5555555555555556,\"#d8576b\"],[0.6666666666666666,\"#ed7953\"],[0.7777777777777778,\"#fb9f3a\"],[0.8888888888888888,\"#fdca26\"],[1.0,\"#f0f921\"]],\"type\":\"heatmap\"}],\"heatmapgl\":[{\"colorbar\":{\"outlinewidth\":0,\"ticks\":\"\"},\"colorscale\":[[0.0,\"#0d0887\"],[0.1111111111111111,\"#46039f\"],[0.2222222222222222,\"#7201a8\"],[0.3333333333333333,\"#9c179e\"],[0.4444444444444444,\"#bd3786\"],[0.5555555555555556,\"#d8576b\"],[0.6666666666666666,\"#ed7953\"],[0.7777777777777778,\"#fb9f3a\"],[0.8888888888888888,\"#fdca26\"],[1.0,\"#f0f921\"]],\"type\":\"heatmapgl\"}],\"histogram\":[{\"marker\":{\"pattern\":{\"fillmode\":\"overlay\",\"size\":10,\"solidity\":0.2}},\"type\":\"histogram\"}],\"histogram2d\":[{\"colorbar\":{\"outlinewidth\":0,\"ticks\":\"\"},\"colorscale\":[[0.0,\"#0d0887\"],[0.1111111111111111,\"#46039f\"],[0.2222222222222222,\"#7201a8\"],[0.3333333333333333,\"#9c179e\"],[0.4444444444444444,\"#bd3786\"],[0.5555555555555556,\"#d8576b\"],[0.6666666666666666,\"#ed7953\"],[0.7777777777777778,\"#fb9f3a\"],[0.8888888888888888,\"#fdca26\"],[1.0,\"#f0f921\"]],\"type\":\"histogram2d\"}],\"histogram2dcontour\":[{\"colorbar\":{\"outlinewidth\":0,\"ticks\":\"\"},\"colorscale\":[[0.0,\"#0d0887\"],[0.1111111111111111,\"#46039f\"],[0.2222222222222222,\"#7201a8\"],[0.3333333333333333,\"#9c179e\"],[0.4444444444444444,\"#bd3786\"],[0.5555555555555556,\"#d8576b\"],[0.6666666666666666,\"#ed7953\"],[0.7777777777777778,\"#fb9f3a\"],[0.8888888888888888,\"#fdca26\"],[1.0,\"#f0f921\"]],\"type\":\"histogram2dcontour\"}],\"mesh3d\":[{\"colorbar\":{\"outlinewidth\":0,\"ticks\":\"\"},\"type\":\"mesh3d\"}],\"parcoords\":[{\"line\":{\"colorbar\":{\"outlinewidth\":0,\"ticks\":\"\"}},\"type\":\"parcoords\"}],\"pie\":[{\"automargin\":true,\"type\":\"pie\"}],\"scatter\":[{\"marker\":{\"colorbar\":{\"outlinewidth\":0,\"ticks\":\"\"}},\"type\":\"scatter\"}],\"scatter3d\":[{\"line\":{\"colorbar\":{\"outlinewidth\":0,\"ticks\":\"\"}},\"marker\":{\"colorbar\":{\"outlinewidth\":0,\"ticks\":\"\"}},\"type\":\"scatter3d\"}],\"scattercarpet\":[{\"marker\":{\"colorbar\":{\"outlinewidth\":0,\"ticks\":\"\"}},\"type\":\"scattercarpet\"}],\"scattergeo\":[{\"marker\":{\"colorbar\":{\"outlinewidth\":0,\"ticks\":\"\"}},\"type\":\"scattergeo\"}],\"scattergl\":[{\"marker\":{\"colorbar\":{\"outlinewidth\":0,\"ticks\":\"\"}},\"type\":\"scattergl\"}],\"scattermapbox\":[{\"marker\":{\"colorbar\":{\"outlinewidth\":0,\"ticks\":\"\"}},\"type\":\"scattermapbox\"}],\"scatterpolar\":[{\"marker\":{\"colorbar\":{\"outlinewidth\":0,\"ticks\":\"\"}},\"type\":\"scatterpolar\"}],\"scatterpolargl\":[{\"marker\":{\"colorbar\":{\"outlinewidth\":0,\"ticks\":\"\"}},\"type\":\"scatterpolargl\"}],\"scatterternary\":[{\"marker\":{\"colorbar\":{\"outlinewidth\":0,\"ticks\":\"\"}},\"type\":\"scatterternary\"}],\"surface\":[{\"colorbar\":{\"outlinewidth\":0,\"ticks\":\"\"},\"colorscale\":[[0.0,\"#0d0887\"],[0.1111111111111111,\"#46039f\"],[0.2222222222222222,\"#7201a8\"],[0.3333333333333333,\"#9c179e\"],[0.4444444444444444,\"#bd3786\"],[0.5555555555555556,\"#d8576b\"],[0.6666666666666666,\"#ed7953\"],[0.7777777777777778,\"#fb9f3a\"],[0.8888888888888888,\"#fdca26\"],[1.0,\"#f0f921\"]],\"type\":\"surface\"}],\"table\":[{\"cells\":{\"fill\":{\"color\":\"#EBF0F8\"},\"line\":{\"color\":\"white\"}},\"header\":{\"fill\":{\"color\":\"#C8D4E3\"},\"line\":{\"color\":\"white\"}},\"type\":\"table\"}]},\"layout\":{\"annotationdefaults\":{\"arrowcolor\":\"#2a3f5f\",\"arrowhead\":0,\"arrowwidth\":1},\"autotypenumbers\":\"strict\",\"coloraxis\":{\"colorbar\":{\"outlinewidth\":0,\"ticks\":\"\"}},\"colorscale\":{\"diverging\":[[0,\"#8e0152\"],[0.1,\"#c51b7d\"],[0.2,\"#de77ae\"],[0.3,\"#f1b6da\"],[0.4,\"#fde0ef\"],[0.5,\"#f7f7f7\"],[0.6,\"#e6f5d0\"],[0.7,\"#b8e186\"],[0.8,\"#7fbc41\"],[0.9,\"#4d9221\"],[1,\"#276419\"]],\"sequential\":[[0.0,\"#0d0887\"],[0.1111111111111111,\"#46039f\"],[0.2222222222222222,\"#7201a8\"],[0.3333333333333333,\"#9c179e\"],[0.4444444444444444,\"#bd3786\"],[0.5555555555555556,\"#d8576b\"],[0.6666666666666666,\"#ed7953\"],[0.7777777777777778,\"#fb9f3a\"],[0.8888888888888888,\"#fdca26\"],[1.0,\"#f0f921\"]],\"sequentialminus\":[[0.0,\"#0d0887\"],[0.1111111111111111,\"#46039f\"],[0.2222222222222222,\"#7201a8\"],[0.3333333333333333,\"#9c179e\"],[0.4444444444444444,\"#bd3786\"],[0.5555555555555556,\"#d8576b\"],[0.6666666666666666,\"#ed7953\"],[0.7777777777777778,\"#fb9f3a\"],[0.8888888888888888,\"#fdca26\"],[1.0,\"#f0f921\"]]},\"colorway\":[\"#636efa\",\"#EF553B\",\"#00cc96\",\"#ab63fa\",\"#FFA15A\",\"#19d3f3\",\"#FF6692\",\"#B6E880\",\"#FF97FF\",\"#FECB52\"],\"font\":{\"color\":\"#2a3f5f\"},\"geo\":{\"bgcolor\":\"white\",\"lakecolor\":\"white\",\"landcolor\":\"#E5ECF6\",\"showlakes\":true,\"showland\":true,\"subunitcolor\":\"white\"},\"hoverlabel\":{\"align\":\"left\"},\"hovermode\":\"closest\",\"mapbox\":{\"style\":\"light\"},\"paper_bgcolor\":\"white\",\"plot_bgcolor\":\"#E5ECF6\",\"polar\":{\"angularaxis\":{\"gridcolor\":\"white\",\"linecolor\":\"white\",\"ticks\":\"\"},\"bgcolor\":\"#E5ECF6\",\"radialaxis\":{\"gridcolor\":\"white\",\"linecolor\":\"white\",\"ticks\":\"\"}},\"scene\":{\"xaxis\":{\"backgroundcolor\":\"#E5ECF6\",\"gridcolor\":\"white\",\"gridwidth\":2,\"linecolor\":\"white\",\"showbackground\":true,\"ticks\":\"\",\"zerolinecolor\":\"white\"},\"yaxis\":{\"backgroundcolor\":\"#E5ECF6\",\"gridcolor\":\"white\",\"gridwidth\":2,\"linecolor\":\"white\",\"showbackground\":true,\"ticks\":\"\",\"zerolinecolor\":\"white\"},\"zaxis\":{\"backgroundcolor\":\"#E5ECF6\",\"gridcolor\":\"white\",\"gridwidth\":2,\"linecolor\":\"white\",\"showbackground\":true,\"ticks\":\"\",\"zerolinecolor\":\"white\"}},\"shapedefaults\":{\"line\":{\"color\":\"#2a3f5f\"}},\"ternary\":{\"aaxis\":{\"gridcolor\":\"white\",\"linecolor\":\"white\",\"ticks\":\"\"},\"baxis\":{\"gridcolor\":\"white\",\"linecolor\":\"white\",\"ticks\":\"\"},\"bgcolor\":\"#E5ECF6\",\"caxis\":{\"gridcolor\":\"white\",\"linecolor\":\"white\",\"ticks\":\"\"}},\"title\":{\"x\":0.05},\"xaxis\":{\"automargin\":true,\"gridcolor\":\"white\",\"linecolor\":\"white\",\"ticks\":\"\",\"title\":{\"standoff\":15},\"zerolinecolor\":\"white\",\"zerolinewidth\":2},\"yaxis\":{\"automargin\":true,\"gridcolor\":\"white\",\"linecolor\":\"white\",\"ticks\":\"\",\"title\":{\"standoff\":15},\"zerolinecolor\":\"white\",\"zerolinewidth\":2}}},\"title\":{\"text\":\"NORMALIZED - GPR MODEL RESULTS SORTED\",\"x\":0.5}},                        {\"responsive\": true}                    ).then(function(){\n",
              "                            \n",
              "var gd = document.getElementById('8be4bda2-ea7d-4c71-9eaf-7d5453073606');\n",
              "var x = new MutationObserver(function (mutations, observer) {{\n",
              "        var display = window.getComputedStyle(gd).display;\n",
              "        if (!display || display === 'none') {{\n",
              "            console.log([gd, 'removed!']);\n",
              "            Plotly.purge(gd);\n",
              "            observer.disconnect();\n",
              "        }}\n",
              "}});\n",
              "\n",
              "// Listen for the removal of the full notebook cells\n",
              "var notebookContainer = gd.closest('#notebook-container');\n",
              "if (notebookContainer) {{\n",
              "    x.observe(notebookContainer, {childList: true});\n",
              "}}\n",
              "\n",
              "// Listen for the clearing of the current output cell\n",
              "var outputEl = gd.closest('.output');\n",
              "if (outputEl) {{\n",
              "    x.observe(outputEl, {childList: true});\n",
              "}}\n",
              "\n",
              "                        })                };                            </script>        </div>\n",
              "</body>\n",
              "</html>"
            ]
          },
          "metadata": {}
        }
      ]
    },
    {
      "cell_type": "code",
      "source": [
        "idx   = np.argsort(y_test_UN)\n",
        "y_pred_te_UN = y_pred_te_UN.reshape(y_pred_te_UN.shape[0],)\n",
        "list1 = np.array(y_test_UN)[idx]\n",
        "list2 = np.array(y_pred_te_UN)[idx]\n",
        "fig = go.Figure()\n",
        "fig.add_trace(go.Scatter(y=list1, name=\"y_test_UN\", line_shape='linear'))\n",
        "fig.add_trace(go.Scatter(y=list2, name=\"y_pred_te_UN\", line_shape='linear'))\n",
        "fig.update_layout(title_text='UNNORMALIZED GPR MODEL RESULTS SORTED', title_x=0.5)\n",
        "fig.show()"
      ],
      "metadata": {
        "colab": {
          "base_uri": "https://localhost:8080/",
          "height": 542
        },
        "id": "5ymDqwOK5iyc",
        "outputId": "e4975b3b-bec2-42d6-c151-ca73c7a8244f"
      },
      "execution_count": null,
      "outputs": [
        {
          "output_type": "display_data",
          "data": {
            "text/html": [
              "<html>\n",
              "<head><meta charset=\"utf-8\" /></head>\n",
              "<body>\n",
              "    <div>            <script src=\"https://cdnjs.cloudflare.com/ajax/libs/mathjax/2.7.5/MathJax.js?config=TeX-AMS-MML_SVG\"></script><script type=\"text/javascript\">if (window.MathJax) {MathJax.Hub.Config({SVG: {font: \"STIX-Web\"}});}</script>                <script type=\"text/javascript\">window.PlotlyConfig = {MathJaxConfig: 'local'};</script>\n",
              "        <script src=\"https://cdn.plot.ly/plotly-2.8.3.min.js\"></script>                <div id=\"5822d4dd-9f5d-46bf-a975-f422b4bf25c7\" class=\"plotly-graph-div\" style=\"height:525px; width:100%;\"></div>            <script type=\"text/javascript\">                                    window.PLOTLYENV=window.PLOTLYENV || {};                                    if (document.getElementById(\"5822d4dd-9f5d-46bf-a975-f422b4bf25c7\")) {                    Plotly.newPlot(                        \"5822d4dd-9f5d-46bf-a975-f422b4bf25c7\",                        [{\"line\":{\"shape\":\"linear\"},\"name\":\"y_test_UN\",\"y\":[1.0,1.5,1.9,2.0,2.3,2.3,2.3,2.3,2.31,2.5,2.53,2.6,2.6,2.61,2.69,2.7,2.7,2.7,2.7,2.7,2.8,2.8,2.8,2.8,2.81,2.83,2.84,2.88,2.95,3.0,3.0,3.0,3.0,3.0,3.0,3.0,3.0,3.0,3.0,3.0,3.0,3.0,3.0,3.0,3.0,3.0,3.0,3.0,3.0,3.01,3.01,3.02,3.02,3.03,3.03,3.08,3.1,3.1,3.1,3.1,3.1,3.1,3.1,3.11,3.11,3.12,3.15,3.2,3.2,3.2,3.2,3.2,3.27,3.29,3.3,3.3,3.3,3.3,3.3,3.3,3.3,3.33,3.333,3.34,3.34,3.34,3.35,3.36,3.37,3.38,3.4,3.4,3.4,3.4,3.4,3.4,3.4,3.4,3.4,3.4,3.4,3.42,3.42,3.44,3.45,3.45,3.47,3.48,3.5,3.5,3.5,3.5,3.5,3.5,3.5,3.5,3.5,3.5,3.5,3.5,3.5,3.5,3.5,3.51,3.55,3.56,3.57,3.58,3.6,3.6,3.6,3.6,3.6,3.6,3.6,3.63,3.63,3.64,3.65,3.65,3.66,3.66,3.66,3.67,3.67,3.68,3.68,3.7,3.7,3.7,3.7,3.7,3.7,3.7,3.7,3.7,3.7,3.7,3.7,3.7,3.72,3.72,3.77,3.77,3.78,3.78,3.79,3.79,3.79,3.8,3.8,3.8,3.8,3.8,3.8,3.8,3.8,3.8,3.8,3.8,3.8,3.8,3.8,3.8,3.8,3.81,3.82,3.83,3.84,3.86,3.86,3.87,3.87,3.89,3.9,3.9,3.9,3.91,3.92,3.92,3.93,3.93,3.94,3.95,3.96,3.97,3.98,3.98,3.98,3.98,4.0,4.0,4.0,4.0,4.0,4.0,4.0,4.0,4.0,4.0,4.0,4.0,4.0,4.0,4.0,4.0,4.0,4.0,4.0,4.0,4.0,4.0,4.0,4.0,4.0,4.0,4.0,4.0,4.0,4.0,4.0,4.0,4.0,4.0,4.0,4.0,4.0,4.0,4.0,4.0,4.0,4.0,4.0,4.0,4.0,4.0,4.0,4.0,4.0],\"type\":\"scatter\"},{\"line\":{\"shape\":\"linear\"},\"name\":\"y_pred_te_UN\",\"y\":[3.455922508573579,3.349492017104305,3.249208124158306,3.5331013680446084,2.934398680441908,3.472306964343794,3.190058777807854,3.2554236302013404,3.63451378699006,3.551379945445743,3.4829252271477777,3.381729158765852,3.172726348498463,3.172240981217368,3.198652289261272,3.136882369254403,2.9755569244738336,3.3970421970791813,3.121108545729495,3.1304658843409694,2.882439650500779,3.217636740070363,3.6322690496165038,3.0017867317503617,3.4804563000996716,3.4003057928333877,3.182336081388769,3.3601299965471734,3.551187968885385,3.2799984606933785,3.2574775177318953,3.487760135752696,3.474918655341277,3.594911685893349,3.31003241528024,3.2612856951683016,3.355291260506079,3.1951074809390283,3.5015434978915083,3.3996095581674544,3.6718210191054457,3.3820553389588914,2.9666897287436864,3.5410800112138423,3.1156094000783012,3.6291265884088855,3.2340266315740624,3.3825223845579906,3.1448854633867684,3.386928747374112,3.4178434778950244,3.5438382572465636,3.6813067588912345,3.525779004748764,3.743200415858187,3.3889966590766027,3.8599564719021293,3.16827292391116,3.439029544648034,3.155996372817291,3.246792577704606,3.4726814384493716,3.313798034061918,3.2446268364173303,3.780302486216957,3.073388379281268,3.5205682920366552,3.2121288942059527,3.4013366045745874,3.216150989591122,3.292714955324821,3.573859211721574,3.6060966088973547,3.2542034521857355,3.4116741581018175,3.3448563382509633,3.468402054991569,3.5768658050413453,3.607218171204952,3.591668855348918,3.249157998036706,3.5828220121916674,3.705573592081831,3.4566536080602495,3.6319058072818526,3.4305345506667004,3.1738653205102345,3.7180203560387337,3.3079159534888696,3.2348764300077324,3.533611896844209,3.2204110848511682,3.655563876045922,3.0684926638057286,3.669972960289563,3.2727331497786976,3.5691540522900587,3.549603202618628,3.2517995346014548,3.431015486778292,3.608984287208443,3.567142820063526,3.3709633550518614,3.0678818118068785,3.631608720878596,3.5224843409992213,3.6107509465990084,3.4754090505871043,3.398729090741396,3.5659440168152,3.3054575462947646,3.7326129685550073,3.6964459829689726,3.3643979802515176,3.6788160894566637,3.417637188052872,3.3019572574318747,3.5400165504723233,3.1764285653416895,3.2276775629266306,3.9914919491339385,3.292357328354786,3.721866887316792,3.3852792574703505,3.6131122549490895,3.705319221209068,3.698784630946726,3.5914314587840854,3.5263763955198604,3.391393099868381,3.5334047697369835,3.440329315356366,3.545785951827109,3.621284619026409,3.5627719628896735,3.458923905720831,3.680203324267514,3.610329570633848,3.298026040102016,3.2876480940420514,3.2841330265495,3.7216875278802197,3.080470962875557,3.895165508779705,3.4502935690042627,3.6892586788278736,3.4547259390070044,3.485819968453016,3.3332171270046107,3.5999262498239366,3.529642098425123,3.3752615635912484,3.481174286336909,3.7440264418116778,3.4324482931365283,3.297246726242105,3.260334461444443,3.3826249120407663,3.279704442484591,3.5115256564339425,3.3885593811844297,3.550359273639536,3.419306447456745,3.5954484972596594,3.4222297198151006,3.4727286382090643,3.4263951871416207,3.4214286450596028,3.165419988607388,3.4666663318567847,3.341645594435212,3.4900923434657116,3.3858904191146673,3.656076299378914,3.612290910289831,3.387733713497177,3.379685327914869,3.261545550427857,3.515304378796273,3.616188070337266,3.514624859121155,3.7027606839677283,3.2981595728483537,3.379971042874997,3.58049335258489,3.2038973401917374,3.5815584967530416,3.685479987810057,3.6575508804876495,3.569658348795576,3.5717190436698383,3.6199983239472493,3.564345840747192,3.976808513214312,3.6280878708104263,3.67285859960376,3.7861207442959506,3.8234742505535904,3.4400941985044637,3.6230095301548255,3.0827878820888106,3.6066114179073283,3.398555057681838,3.8042099384308345,3.645111975880443,3.2262152955959458,3.642974423657125,3.4906315742766267,3.632954674335404,3.6728257809986333,3.5784075381229457,3.9183864948193845,3.6402486393795703,3.5995451155982874,3.7119162099226806,3.8343473889817403,3.504565665003277,3.6864441872206877,3.7906206510985063,3.429083127666849,3.392126527214309,3.5381670537930363,3.671600250986889,3.337943077583077,3.560481973874321,3.528943528836857,3.496737539453459,3.9081517435098503,3.535738803693409,3.773743262749912,3.023996440769989,3.7241539515798054,3.5618371949939664,3.2250856792181857,3.3930123491543966,3.556904846223496,3.71382602411739,3.299327470041197,3.3675786578827562,3.596642784812757,3.618873233891036,3.701959498124457,3.6243544618344377,3.593766881974764,3.664586035837977,3.254069639875386,3.739058106026061,3.448725435665277,3.7083646371191445,3.4217872485848586,3.889796750491479,3.6855432087587783,3.7144370707497627,3.927066807085268,3.693872236992407,3.3277015154319534,3.5468123848952633,3.8651786120301717,3.30727055579091],\"type\":\"scatter\"}],                        {\"template\":{\"data\":{\"bar\":[{\"error_x\":{\"color\":\"#2a3f5f\"},\"error_y\":{\"color\":\"#2a3f5f\"},\"marker\":{\"line\":{\"color\":\"#E5ECF6\",\"width\":0.5},\"pattern\":{\"fillmode\":\"overlay\",\"size\":10,\"solidity\":0.2}},\"type\":\"bar\"}],\"barpolar\":[{\"marker\":{\"line\":{\"color\":\"#E5ECF6\",\"width\":0.5},\"pattern\":{\"fillmode\":\"overlay\",\"size\":10,\"solidity\":0.2}},\"type\":\"barpolar\"}],\"carpet\":[{\"aaxis\":{\"endlinecolor\":\"#2a3f5f\",\"gridcolor\":\"white\",\"linecolor\":\"white\",\"minorgridcolor\":\"white\",\"startlinecolor\":\"#2a3f5f\"},\"baxis\":{\"endlinecolor\":\"#2a3f5f\",\"gridcolor\":\"white\",\"linecolor\":\"white\",\"minorgridcolor\":\"white\",\"startlinecolor\":\"#2a3f5f\"},\"type\":\"carpet\"}],\"choropleth\":[{\"colorbar\":{\"outlinewidth\":0,\"ticks\":\"\"},\"type\":\"choropleth\"}],\"contour\":[{\"colorbar\":{\"outlinewidth\":0,\"ticks\":\"\"},\"colorscale\":[[0.0,\"#0d0887\"],[0.1111111111111111,\"#46039f\"],[0.2222222222222222,\"#7201a8\"],[0.3333333333333333,\"#9c179e\"],[0.4444444444444444,\"#bd3786\"],[0.5555555555555556,\"#d8576b\"],[0.6666666666666666,\"#ed7953\"],[0.7777777777777778,\"#fb9f3a\"],[0.8888888888888888,\"#fdca26\"],[1.0,\"#f0f921\"]],\"type\":\"contour\"}],\"contourcarpet\":[{\"colorbar\":{\"outlinewidth\":0,\"ticks\":\"\"},\"type\":\"contourcarpet\"}],\"heatmap\":[{\"colorbar\":{\"outlinewidth\":0,\"ticks\":\"\"},\"colorscale\":[[0.0,\"#0d0887\"],[0.1111111111111111,\"#46039f\"],[0.2222222222222222,\"#7201a8\"],[0.3333333333333333,\"#9c179e\"],[0.4444444444444444,\"#bd3786\"],[0.5555555555555556,\"#d8576b\"],[0.6666666666666666,\"#ed7953\"],[0.7777777777777778,\"#fb9f3a\"],[0.8888888888888888,\"#fdca26\"],[1.0,\"#f0f921\"]],\"type\":\"heatmap\"}],\"heatmapgl\":[{\"colorbar\":{\"outlinewidth\":0,\"ticks\":\"\"},\"colorscale\":[[0.0,\"#0d0887\"],[0.1111111111111111,\"#46039f\"],[0.2222222222222222,\"#7201a8\"],[0.3333333333333333,\"#9c179e\"],[0.4444444444444444,\"#bd3786\"],[0.5555555555555556,\"#d8576b\"],[0.6666666666666666,\"#ed7953\"],[0.7777777777777778,\"#fb9f3a\"],[0.8888888888888888,\"#fdca26\"],[1.0,\"#f0f921\"]],\"type\":\"heatmapgl\"}],\"histogram\":[{\"marker\":{\"pattern\":{\"fillmode\":\"overlay\",\"size\":10,\"solidity\":0.2}},\"type\":\"histogram\"}],\"histogram2d\":[{\"colorbar\":{\"outlinewidth\":0,\"ticks\":\"\"},\"colorscale\":[[0.0,\"#0d0887\"],[0.1111111111111111,\"#46039f\"],[0.2222222222222222,\"#7201a8\"],[0.3333333333333333,\"#9c179e\"],[0.4444444444444444,\"#bd3786\"],[0.5555555555555556,\"#d8576b\"],[0.6666666666666666,\"#ed7953\"],[0.7777777777777778,\"#fb9f3a\"],[0.8888888888888888,\"#fdca26\"],[1.0,\"#f0f921\"]],\"type\":\"histogram2d\"}],\"histogram2dcontour\":[{\"colorbar\":{\"outlinewidth\":0,\"ticks\":\"\"},\"colorscale\":[[0.0,\"#0d0887\"],[0.1111111111111111,\"#46039f\"],[0.2222222222222222,\"#7201a8\"],[0.3333333333333333,\"#9c179e\"],[0.4444444444444444,\"#bd3786\"],[0.5555555555555556,\"#d8576b\"],[0.6666666666666666,\"#ed7953\"],[0.7777777777777778,\"#fb9f3a\"],[0.8888888888888888,\"#fdca26\"],[1.0,\"#f0f921\"]],\"type\":\"histogram2dcontour\"}],\"mesh3d\":[{\"colorbar\":{\"outlinewidth\":0,\"ticks\":\"\"},\"type\":\"mesh3d\"}],\"parcoords\":[{\"line\":{\"colorbar\":{\"outlinewidth\":0,\"ticks\":\"\"}},\"type\":\"parcoords\"}],\"pie\":[{\"automargin\":true,\"type\":\"pie\"}],\"scatter\":[{\"marker\":{\"colorbar\":{\"outlinewidth\":0,\"ticks\":\"\"}},\"type\":\"scatter\"}],\"scatter3d\":[{\"line\":{\"colorbar\":{\"outlinewidth\":0,\"ticks\":\"\"}},\"marker\":{\"colorbar\":{\"outlinewidth\":0,\"ticks\":\"\"}},\"type\":\"scatter3d\"}],\"scattercarpet\":[{\"marker\":{\"colorbar\":{\"outlinewidth\":0,\"ticks\":\"\"}},\"type\":\"scattercarpet\"}],\"scattergeo\":[{\"marker\":{\"colorbar\":{\"outlinewidth\":0,\"ticks\":\"\"}},\"type\":\"scattergeo\"}],\"scattergl\":[{\"marker\":{\"colorbar\":{\"outlinewidth\":0,\"ticks\":\"\"}},\"type\":\"scattergl\"}],\"scattermapbox\":[{\"marker\":{\"colorbar\":{\"outlinewidth\":0,\"ticks\":\"\"}},\"type\":\"scattermapbox\"}],\"scatterpolar\":[{\"marker\":{\"colorbar\":{\"outlinewidth\":0,\"ticks\":\"\"}},\"type\":\"scatterpolar\"}],\"scatterpolargl\":[{\"marker\":{\"colorbar\":{\"outlinewidth\":0,\"ticks\":\"\"}},\"type\":\"scatterpolargl\"}],\"scatterternary\":[{\"marker\":{\"colorbar\":{\"outlinewidth\":0,\"ticks\":\"\"}},\"type\":\"scatterternary\"}],\"surface\":[{\"colorbar\":{\"outlinewidth\":0,\"ticks\":\"\"},\"colorscale\":[[0.0,\"#0d0887\"],[0.1111111111111111,\"#46039f\"],[0.2222222222222222,\"#7201a8\"],[0.3333333333333333,\"#9c179e\"],[0.4444444444444444,\"#bd3786\"],[0.5555555555555556,\"#d8576b\"],[0.6666666666666666,\"#ed7953\"],[0.7777777777777778,\"#fb9f3a\"],[0.8888888888888888,\"#fdca26\"],[1.0,\"#f0f921\"]],\"type\":\"surface\"}],\"table\":[{\"cells\":{\"fill\":{\"color\":\"#EBF0F8\"},\"line\":{\"color\":\"white\"}},\"header\":{\"fill\":{\"color\":\"#C8D4E3\"},\"line\":{\"color\":\"white\"}},\"type\":\"table\"}]},\"layout\":{\"annotationdefaults\":{\"arrowcolor\":\"#2a3f5f\",\"arrowhead\":0,\"arrowwidth\":1},\"autotypenumbers\":\"strict\",\"coloraxis\":{\"colorbar\":{\"outlinewidth\":0,\"ticks\":\"\"}},\"colorscale\":{\"diverging\":[[0,\"#8e0152\"],[0.1,\"#c51b7d\"],[0.2,\"#de77ae\"],[0.3,\"#f1b6da\"],[0.4,\"#fde0ef\"],[0.5,\"#f7f7f7\"],[0.6,\"#e6f5d0\"],[0.7,\"#b8e186\"],[0.8,\"#7fbc41\"],[0.9,\"#4d9221\"],[1,\"#276419\"]],\"sequential\":[[0.0,\"#0d0887\"],[0.1111111111111111,\"#46039f\"],[0.2222222222222222,\"#7201a8\"],[0.3333333333333333,\"#9c179e\"],[0.4444444444444444,\"#bd3786\"],[0.5555555555555556,\"#d8576b\"],[0.6666666666666666,\"#ed7953\"],[0.7777777777777778,\"#fb9f3a\"],[0.8888888888888888,\"#fdca26\"],[1.0,\"#f0f921\"]],\"sequentialminus\":[[0.0,\"#0d0887\"],[0.1111111111111111,\"#46039f\"],[0.2222222222222222,\"#7201a8\"],[0.3333333333333333,\"#9c179e\"],[0.4444444444444444,\"#bd3786\"],[0.5555555555555556,\"#d8576b\"],[0.6666666666666666,\"#ed7953\"],[0.7777777777777778,\"#fb9f3a\"],[0.8888888888888888,\"#fdca26\"],[1.0,\"#f0f921\"]]},\"colorway\":[\"#636efa\",\"#EF553B\",\"#00cc96\",\"#ab63fa\",\"#FFA15A\",\"#19d3f3\",\"#FF6692\",\"#B6E880\",\"#FF97FF\",\"#FECB52\"],\"font\":{\"color\":\"#2a3f5f\"},\"geo\":{\"bgcolor\":\"white\",\"lakecolor\":\"white\",\"landcolor\":\"#E5ECF6\",\"showlakes\":true,\"showland\":true,\"subunitcolor\":\"white\"},\"hoverlabel\":{\"align\":\"left\"},\"hovermode\":\"closest\",\"mapbox\":{\"style\":\"light\"},\"paper_bgcolor\":\"white\",\"plot_bgcolor\":\"#E5ECF6\",\"polar\":{\"angularaxis\":{\"gridcolor\":\"white\",\"linecolor\":\"white\",\"ticks\":\"\"},\"bgcolor\":\"#E5ECF6\",\"radialaxis\":{\"gridcolor\":\"white\",\"linecolor\":\"white\",\"ticks\":\"\"}},\"scene\":{\"xaxis\":{\"backgroundcolor\":\"#E5ECF6\",\"gridcolor\":\"white\",\"gridwidth\":2,\"linecolor\":\"white\",\"showbackground\":true,\"ticks\":\"\",\"zerolinecolor\":\"white\"},\"yaxis\":{\"backgroundcolor\":\"#E5ECF6\",\"gridcolor\":\"white\",\"gridwidth\":2,\"linecolor\":\"white\",\"showbackground\":true,\"ticks\":\"\",\"zerolinecolor\":\"white\"},\"zaxis\":{\"backgroundcolor\":\"#E5ECF6\",\"gridcolor\":\"white\",\"gridwidth\":2,\"linecolor\":\"white\",\"showbackground\":true,\"ticks\":\"\",\"zerolinecolor\":\"white\"}},\"shapedefaults\":{\"line\":{\"color\":\"#2a3f5f\"}},\"ternary\":{\"aaxis\":{\"gridcolor\":\"white\",\"linecolor\":\"white\",\"ticks\":\"\"},\"baxis\":{\"gridcolor\":\"white\",\"linecolor\":\"white\",\"ticks\":\"\"},\"bgcolor\":\"#E5ECF6\",\"caxis\":{\"gridcolor\":\"white\",\"linecolor\":\"white\",\"ticks\":\"\"}},\"title\":{\"x\":0.05},\"xaxis\":{\"automargin\":true,\"gridcolor\":\"white\",\"linecolor\":\"white\",\"ticks\":\"\",\"title\":{\"standoff\":15},\"zerolinecolor\":\"white\",\"zerolinewidth\":2},\"yaxis\":{\"automargin\":true,\"gridcolor\":\"white\",\"linecolor\":\"white\",\"ticks\":\"\",\"title\":{\"standoff\":15},\"zerolinecolor\":\"white\",\"zerolinewidth\":2}}},\"title\":{\"text\":\"UNNORMALIZED GPR MODEL RESULTS SORTED\",\"x\":0.5}},                        {\"responsive\": true}                    ).then(function(){\n",
              "                            \n",
              "var gd = document.getElementById('5822d4dd-9f5d-46bf-a975-f422b4bf25c7');\n",
              "var x = new MutationObserver(function (mutations, observer) {{\n",
              "        var display = window.getComputedStyle(gd).display;\n",
              "        if (!display || display === 'none') {{\n",
              "            console.log([gd, 'removed!']);\n",
              "            Plotly.purge(gd);\n",
              "            observer.disconnect();\n",
              "        }}\n",
              "}});\n",
              "\n",
              "// Listen for the removal of the full notebook cells\n",
              "var notebookContainer = gd.closest('#notebook-container');\n",
              "if (notebookContainer) {{\n",
              "    x.observe(notebookContainer, {childList: true});\n",
              "}}\n",
              "\n",
              "// Listen for the clearing of the current output cell\n",
              "var outputEl = gd.closest('.output');\n",
              "if (outputEl) {{\n",
              "    x.observe(outputEl, {childList: true});\n",
              "}}\n",
              "\n",
              "                        })                };                            </script>        </div>\n",
              "</body>\n",
              "</html>"
            ]
          },
          "metadata": {}
        }
      ]
    },
    {
      "cell_type": "markdown",
      "source": [
        "**CATAGORICAL APPROACH STARTS HERE**"
      ],
      "metadata": {
        "id": "RFKjUGTZYmeJ"
      }
    },
    {
      "cell_type": "code",
      "source": [
        "GPA.min()"
      ],
      "metadata": {
        "id": "BPEBUUF2YNZm",
        "outputId": "94b56142-3b4b-44da-8a92-a811f41154a5",
        "colab": {
          "base_uri": "https://localhost:8080/"
        }
      },
      "execution_count": null,
      "outputs": [
        {
          "output_type": "execute_result",
          "data": {
            "text/plain": [
              "1.0"
            ]
          },
          "metadata": {},
          "execution_count": 60
        }
      ]
    },
    {
      "cell_type": "code",
      "source": [
        "#If gpa > 4 then gpa = 4;\n",
        "# GPACat = np.where((GPA <= 4) & (GPA >= 3.5), str(\"A\"), GPA)\n",
        "# GPACat = np.where((GPA < 3.5) & (GPA >= 3.0), str(\"B\"), GPACat)\n",
        "# GPACat = np.where((GPA < 3) & (GPA >= 2.5), str(\"C\"), GPACat)\n",
        "# GPACat = np.where((GPA < 2.5) & (GPA >= 2.0), str(\"D\"), GPACat)\n",
        "# GPACat = np.where((GPA < 2) & (GPA >= 1.0), str(\"E\"), GPACat)\n",
        "\n",
        "GPACat = np.where((GPA <= 4) & (GPA >= 3), str(\"A\"), GPA)\n",
        "GPACat = np.where((GPA < 3) & (GPA >= 1.0), str(\"B\"), GPACat)\n",
        "\n",
        "labelencoder = LabelEncoder()\n",
        "GPACatEnc = labelencoder.fit_transform(GPACat)"
      ],
      "metadata": {
        "id": "nY5rf-_UPhNJ"
      },
      "execution_count": null,
      "outputs": []
    },
    {
      "cell_type": "code",
      "source": [
        "dummy_y = np_utils.to_categorical(GPACatEnc)"
      ],
      "metadata": {
        "id": "qNCCMS7p8HDt"
      },
      "execution_count": null,
      "outputs": []
    },
    {
      "cell_type": "code",
      "source": [
        "dummy_y = pd.DataFrame(dummy_y)"
      ],
      "metadata": {
        "id": "rWdtyw108fVB"
      },
      "execution_count": null,
      "outputs": []
    },
    {
      "cell_type": "code",
      "source": [
        "dummy_y"
      ],
      "metadata": {
        "id": "8m5bY0fy-hTv",
        "outputId": "bba469b6-c5a8-4029-c703-68240636c941",
        "colab": {
          "base_uri": "https://localhost:8080/",
          "height": 423
        }
      },
      "execution_count": null,
      "outputs": [
        {
          "output_type": "execute_result",
          "data": {
            "text/plain": [
              "        0    1\n",
              "0     1.0  0.0\n",
              "1     1.0  0.0\n",
              "2     0.0  1.0\n",
              "3     1.0  0.0\n",
              "4     1.0  0.0\n",
              "...   ...  ...\n",
              "2587  1.0  0.0\n",
              "2588  0.0  1.0\n",
              "2589  1.0  0.0\n",
              "2590  1.0  0.0\n",
              "2591  1.0  0.0\n",
              "\n",
              "[2592 rows x 2 columns]"
            ],
            "text/html": [
              "\n",
              "  <div id=\"df-d621db91-fb87-4e2b-87d8-8302cb7027b0\">\n",
              "    <div class=\"colab-df-container\">\n",
              "      <div>\n",
              "<style scoped>\n",
              "    .dataframe tbody tr th:only-of-type {\n",
              "        vertical-align: middle;\n",
              "    }\n",
              "\n",
              "    .dataframe tbody tr th {\n",
              "        vertical-align: top;\n",
              "    }\n",
              "\n",
              "    .dataframe thead th {\n",
              "        text-align: right;\n",
              "    }\n",
              "</style>\n",
              "<table border=\"1\" class=\"dataframe\">\n",
              "  <thead>\n",
              "    <tr style=\"text-align: right;\">\n",
              "      <th></th>\n",
              "      <th>0</th>\n",
              "      <th>1</th>\n",
              "    </tr>\n",
              "  </thead>\n",
              "  <tbody>\n",
              "    <tr>\n",
              "      <th>0</th>\n",
              "      <td>1.0</td>\n",
              "      <td>0.0</td>\n",
              "    </tr>\n",
              "    <tr>\n",
              "      <th>1</th>\n",
              "      <td>1.0</td>\n",
              "      <td>0.0</td>\n",
              "    </tr>\n",
              "    <tr>\n",
              "      <th>2</th>\n",
              "      <td>0.0</td>\n",
              "      <td>1.0</td>\n",
              "    </tr>\n",
              "    <tr>\n",
              "      <th>3</th>\n",
              "      <td>1.0</td>\n",
              "      <td>0.0</td>\n",
              "    </tr>\n",
              "    <tr>\n",
              "      <th>4</th>\n",
              "      <td>1.0</td>\n",
              "      <td>0.0</td>\n",
              "    </tr>\n",
              "    <tr>\n",
              "      <th>...</th>\n",
              "      <td>...</td>\n",
              "      <td>...</td>\n",
              "    </tr>\n",
              "    <tr>\n",
              "      <th>2587</th>\n",
              "      <td>1.0</td>\n",
              "      <td>0.0</td>\n",
              "    </tr>\n",
              "    <tr>\n",
              "      <th>2588</th>\n",
              "      <td>0.0</td>\n",
              "      <td>1.0</td>\n",
              "    </tr>\n",
              "    <tr>\n",
              "      <th>2589</th>\n",
              "      <td>1.0</td>\n",
              "      <td>0.0</td>\n",
              "    </tr>\n",
              "    <tr>\n",
              "      <th>2590</th>\n",
              "      <td>1.0</td>\n",
              "      <td>0.0</td>\n",
              "    </tr>\n",
              "    <tr>\n",
              "      <th>2591</th>\n",
              "      <td>1.0</td>\n",
              "      <td>0.0</td>\n",
              "    </tr>\n",
              "  </tbody>\n",
              "</table>\n",
              "<p>2592 rows × 2 columns</p>\n",
              "</div>\n",
              "      <button class=\"colab-df-convert\" onclick=\"convertToInteractive('df-d621db91-fb87-4e2b-87d8-8302cb7027b0')\"\n",
              "              title=\"Convert this dataframe to an interactive table.\"\n",
              "              style=\"display:none;\">\n",
              "        \n",
              "  <svg xmlns=\"http://www.w3.org/2000/svg\" height=\"24px\"viewBox=\"0 0 24 24\"\n",
              "       width=\"24px\">\n",
              "    <path d=\"M0 0h24v24H0V0z\" fill=\"none\"/>\n",
              "    <path d=\"M18.56 5.44l.94 2.06.94-2.06 2.06-.94-2.06-.94-.94-2.06-.94 2.06-2.06.94zm-11 1L8.5 8.5l.94-2.06 2.06-.94-2.06-.94L8.5 2.5l-.94 2.06-2.06.94zm10 10l.94 2.06.94-2.06 2.06-.94-2.06-.94-.94-2.06-.94 2.06-2.06.94z\"/><path d=\"M17.41 7.96l-1.37-1.37c-.4-.4-.92-.59-1.43-.59-.52 0-1.04.2-1.43.59L10.3 9.45l-7.72 7.72c-.78.78-.78 2.05 0 2.83L4 21.41c.39.39.9.59 1.41.59.51 0 1.02-.2 1.41-.59l7.78-7.78 2.81-2.81c.8-.78.8-2.07 0-2.86zM5.41 20L4 18.59l7.72-7.72 1.47 1.35L5.41 20z\"/>\n",
              "  </svg>\n",
              "      </button>\n",
              "      \n",
              "  <style>\n",
              "    .colab-df-container {\n",
              "      display:flex;\n",
              "      flex-wrap:wrap;\n",
              "      gap: 12px;\n",
              "    }\n",
              "\n",
              "    .colab-df-convert {\n",
              "      background-color: #E8F0FE;\n",
              "      border: none;\n",
              "      border-radius: 50%;\n",
              "      cursor: pointer;\n",
              "      display: none;\n",
              "      fill: #1967D2;\n",
              "      height: 32px;\n",
              "      padding: 0 0 0 0;\n",
              "      width: 32px;\n",
              "    }\n",
              "\n",
              "    .colab-df-convert:hover {\n",
              "      background-color: #E2EBFA;\n",
              "      box-shadow: 0px 1px 2px rgba(60, 64, 67, 0.3), 0px 1px 3px 1px rgba(60, 64, 67, 0.15);\n",
              "      fill: #174EA6;\n",
              "    }\n",
              "\n",
              "    [theme=dark] .colab-df-convert {\n",
              "      background-color: #3B4455;\n",
              "      fill: #D2E3FC;\n",
              "    }\n",
              "\n",
              "    [theme=dark] .colab-df-convert:hover {\n",
              "      background-color: #434B5C;\n",
              "      box-shadow: 0px 1px 3px 1px rgba(0, 0, 0, 0.15);\n",
              "      filter: drop-shadow(0px 1px 2px rgba(0, 0, 0, 0.3));\n",
              "      fill: #FFFFFF;\n",
              "    }\n",
              "  </style>\n",
              "\n",
              "      <script>\n",
              "        const buttonEl =\n",
              "          document.querySelector('#df-d621db91-fb87-4e2b-87d8-8302cb7027b0 button.colab-df-convert');\n",
              "        buttonEl.style.display =\n",
              "          google.colab.kernel.accessAllowed ? 'block' : 'none';\n",
              "\n",
              "        async function convertToInteractive(key) {\n",
              "          const element = document.querySelector('#df-d621db91-fb87-4e2b-87d8-8302cb7027b0');\n",
              "          const dataTable =\n",
              "            await google.colab.kernel.invokeFunction('convertToInteractive',\n",
              "                                                     [key], {});\n",
              "          if (!dataTable) return;\n",
              "\n",
              "          const docLinkHtml = 'Like what you see? Visit the ' +\n",
              "            '<a target=\"_blank\" href=https://colab.research.google.com/notebooks/data_table.ipynb>data table notebook</a>'\n",
              "            + ' to learn more about interactive tables.';\n",
              "          element.innerHTML = '';\n",
              "          dataTable['output_type'] = 'display_data';\n",
              "          await google.colab.output.renderOutput(dataTable, element);\n",
              "          const docLink = document.createElement('div');\n",
              "          docLink.innerHTML = docLinkHtml;\n",
              "          element.appendChild(docLink);\n",
              "        }\n",
              "      </script>\n",
              "    </div>\n",
              "  </div>\n",
              "  "
            ]
          },
          "metadata": {},
          "execution_count": 70
        }
      ]
    },
    {
      "cell_type": "code",
      "source": [
        "from keras.wrappers.scikit_learn import KerasClassifier\n",
        "from keras.utils import np_utils\n",
        "from sklearn.model_selection import cross_val_score"
      ],
      "metadata": {
        "id": "XJVN_QdWBwNE"
      },
      "execution_count": null,
      "outputs": []
    },
    {
      "cell_type": "code",
      "source": [
        "# define baseline model\n",
        "def baseline_model():\n",
        "\t# create model\n",
        "\tmodel = Sequential()\n",
        "\tmodel.add(Dense(68, input_dim=68, activation='relu'))\n",
        "\tmodel.add(Dense(2, activation='softmax'))\n",
        "\t# Compile model\n",
        "\tmodel.compile(loss='categorical_crossentropy', optimizer='adam', metrics=['accuracy'])\n",
        "\treturn model\n",
        "\n",
        "estimator = KerasClassifier(build_fn=baseline_model, epochs=200, batch_size=5, verbose=0)\n",
        "kfold = KFold(n_splits=10, shuffle=True)\n",
        "results = cross_val_score(estimator, XTrainScaled, dummy_y, cv=kfold)\n",
        "print(\"Baseline: %.2f%% (%.2f%%)\" % (results.mean()*100, results.std()*100))"
      ],
      "metadata": {
        "id": "i77SFBrsBdfr",
        "outputId": "3812f88b-68cb-45cc-9b74-637f35ee07c3",
        "colab": {
          "base_uri": "https://localhost:8080/"
        }
      },
      "execution_count": null,
      "outputs": [
        {
          "output_type": "stream",
          "name": "stderr",
          "text": [
            "/usr/local/lib/python3.7/dist-packages/ipykernel_launcher.py:11: DeprecationWarning:\n",
            "\n",
            "KerasClassifier is deprecated, use Sci-Keras (https://github.com/adriangb/scikeras) instead. See https://www.adriangb.com/scikeras/stable/migration.html for help migrating.\n",
            "\n"
          ]
        },
        {
          "output_type": "stream",
          "name": "stdout",
          "text": [
            "Baseline: 83.14% (1.98%)\n"
          ]
        }
      ]
    },
    {
      "cell_type": "code",
      "source": [
        "# roc curve and auc\n",
        "from sklearn.datasets import make_classification\n",
        "from sklearn.linear_model import LogisticRegression\n",
        "from sklearn.model_selection import train_test_split\n",
        "from sklearn.metrics import roc_curve\n",
        "from sklearn.metrics import roc_auc_score\n",
        "from matplotlib import pyplot\n",
        "# # generate 2 class dataset\n",
        "# X, y = make_classification(n_samples=1000, n_classes=2, random_state=1)\n",
        "\n",
        "\n",
        "#If gpa > 4 then gpa = 4;\n",
        "GPACat = np.where((GPA <= 4) & (GPA >= 3.5), str(\"A\"), GPA)\n",
        "GPACat = np.where((GPA < 3.5) & (GPA >= 1.0), str(\"B\"), GPACat)\n",
        "labelencoder = LabelEncoder()\n",
        "GPACatEnc = labelencoder.fit_transform(GPACat)\n",
        "\n",
        "# split into train/test sets\n",
        "trainX, testX, trainy, testy = train_test_split(XTrainScaled, GPACatEnc, test_size=0.5, random_state=2)\n",
        "# generate a no skill prediction (majority class)\n",
        "ns_probs = [0 for _ in range(len(testy))]\n",
        "# fit a model\n",
        "model = LogisticRegression(solver='lbfgs')\n",
        "model.fit(trainX, trainy)\n",
        "# predict probabilities\n",
        "lr_probs = model.predict_proba(testX)\n",
        "# keep probabilities for the positive outcome only\n",
        "lr_probs = lr_probs[:, 1]\n",
        "# calculate scores\n",
        "ns_auc = roc_auc_score(testy, ns_probs)\n",
        "lr_auc = roc_auc_score(testy, lr_probs)\n",
        "# summarize scores\n",
        "print('No Skill: ROC AUC=%.3f' % (ns_auc))\n",
        "print('Logistic: ROC AUC=%.3f' % (lr_auc))\n",
        "# calculate roc curves\n",
        "ns_fpr, ns_tpr, _ = roc_curve(testy, ns_probs)\n",
        "lr_fpr35, lr_tpr35, _ = roc_curve(testy, lr_probs)"
      ],
      "metadata": {
        "id": "0lMyDxRyNQKG",
        "outputId": "d3c218d0-ffb7-4477-8231-096c63c2a06a",
        "colab": {
          "base_uri": "https://localhost:8080/"
        }
      },
      "execution_count": null,
      "outputs": [
        {
          "output_type": "stream",
          "name": "stdout",
          "text": [
            "No Skill: ROC AUC=0.500\n",
            "Logistic: ROC AUC=0.674\n"
          ]
        },
        {
          "output_type": "stream",
          "name": "stderr",
          "text": [
            "/usr/local/lib/python3.7/dist-packages/sklearn/utils/validation.py:1692: FutureWarning:\n",
            "\n",
            "Feature names only support names that are all strings. Got feature names with dtypes: ['int', 'str']. An error will be raised in 1.2.\n",
            "\n",
            "/usr/local/lib/python3.7/dist-packages/sklearn/linear_model/_logistic.py:818: ConvergenceWarning:\n",
            "\n",
            "lbfgs failed to converge (status=1):\n",
            "STOP: TOTAL NO. of ITERATIONS REACHED LIMIT.\n",
            "\n",
            "Increase the number of iterations (max_iter) or scale the data as shown in:\n",
            "    https://scikit-learn.org/stable/modules/preprocessing.html\n",
            "Please also refer to the documentation for alternative solver options:\n",
            "    https://scikit-learn.org/stable/modules/linear_model.html#logistic-regression\n",
            "\n",
            "/usr/local/lib/python3.7/dist-packages/sklearn/utils/validation.py:1692: FutureWarning:\n",
            "\n",
            "Feature names only support names that are all strings. Got feature names with dtypes: ['int', 'str']. An error will be raised in 1.2.\n",
            "\n"
          ]
        }
      ]
    },
    {
      "cell_type": "code",
      "source": [
        "from sklearn.metrics import accuracy_score\n",
        "y_pred_lr = model.predict(testX)\n",
        "accuracy_score(testy, y_pred_lr)"
      ],
      "metadata": {
        "id": "vvgUFezkkOCQ",
        "outputId": "b60450c9-3bc1-41e0-a099-cdfd2a8286c0",
        "colab": {
          "base_uri": "https://localhost:8080/"
        }
      },
      "execution_count": null,
      "outputs": [
        {
          "output_type": "stream",
          "name": "stderr",
          "text": [
            "/usr/local/lib/python3.7/dist-packages/sklearn/utils/validation.py:1692: FutureWarning:\n",
            "\n",
            "Feature names only support names that are all strings. Got feature names with dtypes: ['int', 'str']. An error will be raised in 1.2.\n",
            "\n"
          ]
        },
        {
          "output_type": "execute_result",
          "data": {
            "text/plain": [
              "0.6365740740740741"
            ]
          },
          "metadata": {},
          "execution_count": 84
        }
      ]
    },
    {
      "cell_type": "code",
      "source": [
        "# plot the roc curve for the model\n",
        "pyplot.plot(ns_fpr, ns_tpr, linestyle='--', label='No Skill')\n",
        "pyplot.plot(lr_fpr25, lr_tpr25, color='green', marker='.', label='Logistic - 2.5')\n",
        "pyplot.plot(lr_fpr275, lr_tpr275, color='blue', marker='.', label='Logistic - 2.75')\n",
        "pyplot.plot(lr_fpr3, lr_tpr3, color='red', marker='.', label='Logistic - 3.0')\n",
        "pyplot.plot(lr_fpr325, lr_tpr325, color='yellow', marker='.', label='Logistic - 3.25')\n",
        "pyplot.plot(lr_fpr35, lr_tpr35, color='black', marker='.', label='Logistic - 3.5')\n",
        "pyplot.rcParams[\"figure.figsize\"] = (10,6)\n",
        "# axis labels\n",
        "pyplot.xlabel('False Positive Rate')\n",
        "pyplot.ylabel('True Positive Rate')\n",
        "# show the legend\n",
        "pyplot.legend()\n",
        "# show the plot\n",
        "pyplot.show()"
      ],
      "metadata": {
        "id": "VErTnNILPn-w",
        "outputId": "4eaae53d-56d3-4049-a79c-b79b345ed180",
        "colab": {
          "base_uri": "https://localhost:8080/",
          "height": 496
        }
      },
      "execution_count": null,
      "outputs": [
        {
          "output_type": "display_data",
          "data": {
            "text/plain": [
              "<Figure size 1008x576 with 1 Axes>"
            ],
            "image/png": "[encoded data removed]"
          },
          "metadata": {
            "needs_background": "light"
          }
        }
      ]
    },
    {
      "cell_type": "code",
      "source": [
        "model.score(testX, testy)"
      ],
      "metadata": {
        "id": "XXkbtUeWOgGK",
        "outputId": "02b8a15d-1db1-4bc2-f6a6-b3c295391a82",
        "colab": {
          "base_uri": "https://localhost:8080/"
        }
      },
      "execution_count": null,
      "outputs": [
        {
          "output_type": "stream",
          "name": "stderr",
          "text": [
            "/usr/local/lib/python3.7/dist-packages/sklearn/utils/validation.py:1692: FutureWarning:\n",
            "\n",
            "Feature names only support names that are all strings. Got feature names with dtypes: ['int', 'str']. An error will be raised in 1.2.\n",
            "\n"
          ]
        },
        {
          "output_type": "execute_result",
          "data": {
            "text/plain": [
              "0.9797033567525371"
            ]
          },
          "metadata": {},
          "execution_count": 182
        }
      ]
    },
    {
      "cell_type": "code",
      "source": [
        "# Model configuration\n",
        "batch_size = 10\n",
        "no_epochs = 50\n",
        "verbosity = 0\n",
        "num_folds = 10\n",
        "\n",
        "# Define per-fold score containers\n",
        "acc_per_fold = []\n",
        "loss_per_fold = []\n",
        "\n",
        "# Define the K-fold Cross Validator\n",
        "kfold = KFold(n_splits=num_folds, shuffle=True)\n",
        "\n",
        "# K-fold Cross Validation model evaluation\n",
        "fold_no = 1\n",
        "for train_index, test_index in kfold.split(XTrainScaled):\n",
        "\n",
        "  # Define the model architecture\n",
        "  model1 = Sequential()\n",
        "  model1.add(Dense(68, input_dim=68, kernel_initializer='normal', activation='relu'))\n",
        "  model1.add(Dense(2, activation='softmax'))\n",
        "  # Compile model\n",
        "  model1.compile(loss='categorical_crossentropy', optimizer='adam', metrics=['accuracy'])\n",
        "\n",
        "  # Generate a print\n",
        "  print('------------------------------------------------------------------------')\n",
        "  print(f'Training for fold {fold_no} ...')\n",
        "\n",
        "  # Fit data to model\n",
        "  history = model1.fit(XTrainScaled.iloc[train_index], dummy_y.iloc[train_index],\n",
        "              batch_size=batch_size,\n",
        "              epochs=no_epochs,\n",
        "              verbose=verbosity)\n",
        "\n",
        "  # Generate generalization metrics\n",
        "  scores = model1.evaluate(XTrainScaled.iloc[test_index], dummy_y.iloc[test_index], verbose=0)\n",
        "  #print(f'Score for fold {fold_no}: {model1.metrics_names[0]} of {scores[0]}; {model1.metrics_names[1]} of {scores[1]*100}%')\n",
        "  \n",
        "  print(f'Score for fold {fold_no}: {model1.metrics_names[1]} is {scores[1]}')\n",
        "\n",
        "  acc_per_fold.append(scores[1] * 100)\n",
        "  #loss_per_fold.append(scores)\n",
        "\n",
        "  # Increase fold number\n",
        "  fold_no = fold_no + 1\n",
        "\n",
        "# == Provide average scores ==\n",
        "print('------------------------------------------------------------------------')\n",
        "print('Score per fold')\n",
        "for i in range(0, len(acc_per_fold)):\n",
        "  print('------------------------------------------------------------------------')\n",
        "  print(f'> Fold {i+1} - Accuracy: {acc_per_fold[i]}')\n",
        "print('------------------------------------------------------------------------')\n",
        "print('Average scores for all folds:')\n",
        "print(f'> Accuracy: {np.mean(acc_per_fold)}')\n",
        "print('------------------------------------------------------------------------')"
      ],
      "metadata": {
        "colab": {
          "base_uri": "https://localhost:8080/"
        },
        "outputId": "ae8469bf-b2a4-48d5-ed42-b7af31e85045",
        "id": "ZkgiveFyYgSI"
      },
      "execution_count": null,
      "outputs": [
        {
          "output_type": "stream",
          "name": "stdout",
          "text": [
            "------------------------------------------------------------------------\n",
            "Training for fold 1 ...\n",
            "Score for fold 1: accuracy is 0.8692307472229004\n",
            "------------------------------------------------------------------------\n",
            "Training for fold 2 ...\n",
            "Score for fold 2: accuracy is 0.8230769038200378\n",
            "------------------------------------------------------------------------\n",
            "Training for fold 3 ...\n",
            "Score for fold 3: accuracy is 0.88416987657547\n",
            "------------------------------------------------------------------------\n",
            "Training for fold 4 ...\n",
            "Score for fold 4: accuracy is 0.8725868463516235\n",
            "------------------------------------------------------------------------\n",
            "Training for fold 5 ...\n",
            "Score for fold 5: accuracy is 0.8687258958816528\n",
            "------------------------------------------------------------------------\n",
            "Training for fold 6 ...\n",
            "Score for fold 6: accuracy is 0.8725868463516235\n",
            "------------------------------------------------------------------------\n",
            "Training for fold 7 ...\n",
            "Score for fold 7: accuracy is 0.8725868463516235\n",
            "------------------------------------------------------------------------\n",
            "Training for fold 8 ...\n",
            "Score for fold 8: accuracy is 0.8532818555831909\n",
            "------------------------------------------------------------------------\n",
            "Training for fold 9 ...\n",
            "Score for fold 9: accuracy is 0.84555983543396\n",
            "------------------------------------------------------------------------\n",
            "Training for fold 10 ...\n",
            "Score for fold 10: accuracy is 0.8648648858070374\n",
            "------------------------------------------------------------------------\n",
            "Score per fold\n",
            "------------------------------------------------------------------------\n",
            "> Fold 1 - Accuracy: 86.92307472229004\n",
            "------------------------------------------------------------------------\n",
            "> Fold 2 - Accuracy: 82.30769038200378\n",
            "------------------------------------------------------------------------\n",
            "> Fold 3 - Accuracy: 88.416987657547\n",
            "------------------------------------------------------------------------\n",
            "> Fold 4 - Accuracy: 87.25868463516235\n",
            "------------------------------------------------------------------------\n",
            "> Fold 5 - Accuracy: 86.87258958816528\n",
            "------------------------------------------------------------------------\n",
            "> Fold 6 - Accuracy: 87.25868463516235\n",
            "------------------------------------------------------------------------\n",
            "> Fold 7 - Accuracy: 87.25868463516235\n",
            "------------------------------------------------------------------------\n",
            "> Fold 8 - Accuracy: 85.32818555831909\n",
            "------------------------------------------------------------------------\n",
            "> Fold 9 - Accuracy: 84.555983543396\n",
            "------------------------------------------------------------------------\n",
            "> Fold 10 - Accuracy: 86.48648858070374\n",
            "------------------------------------------------------------------------\n",
            "Average scores for all folds:\n",
            "> Accuracy: 86.2667053937912\n",
            "------------------------------------------------------------------------\n"
          ]
        }
      ]
    },
    {
      "cell_type": "markdown",
      "source": [
        "**KNN STARTS HERE**"
      ],
      "metadata": {
        "id": "NK8JuFbW6LzF"
      }
    },
    {
      "cell_type": "code",
      "source": [
        "from sklearn.cluster import KMeans\n",
        "from sklearn.metrics import silhouette_score\n",
        "import sklearn.metrics"
      ],
      "metadata": {
        "id": "TizUmjWs7Hye"
      },
      "execution_count": null,
      "outputs": []
    },
    {
      "cell_type": "code",
      "source": [
        "kmeans1 = KMeans(n_clusters = 5, init = 'k-means++', max_iter = 300, n_init = 10, random_state = 0)\n",
        "y_kmeans1 = kmeans1.fit_predict(XTrainScaled)\n",
        "score = silhouette_score(XTrainScaled, kmeans1.labels_, metric='euclidean')\n",
        "# Print the score\n",
        "print('Silhouette Score: %.3f' % score)"
      ],
      "metadata": {
        "id": "l35iUtcX6REX",
        "outputId": "571e5661-445e-4af4-b781-b6a5b26da75f",
        "colab": {
          "base_uri": "https://localhost:8080/"
        }
      },
      "execution_count": null,
      "outputs": [
        {
          "output_type": "stream",
          "name": "stderr",
          "text": [
            "/usr/local/lib/python3.7/dist-packages/sklearn/utils/validation.py:1692: FutureWarning:\n",
            "\n",
            "Feature names only support names that are all strings. Got feature names with dtypes: ['int', 'str']. An error will be raised in 1.2.\n",
            "\n"
          ]
        },
        {
          "output_type": "stream",
          "name": "stdout",
          "text": [
            "Silhouette Score: 0.058\n"
          ]
        }
      ]
    },
    {
      "cell_type": "code",
      "source": [
        "from sklearn.decomposition import PCA"
      ],
      "metadata": {
        "id": "rFJiJ-ob9JMP"
      },
      "execution_count": null,
      "outputs": []
    },
    {
      "cell_type": "code",
      "source": [
        "for i in range(68):\n",
        "  pca = PCA(n_components=i)\n",
        "  principalcomponents = pca.fit_transform(XTrainScaled)\n",
        "  var = sum(pca.explained_variance_ratio_)\n",
        "  if var >= 0.95:\n",
        "    break\n",
        "print(f'Number of component for %95 variance:', i)\n",
        "print(f'The variance is:', var)"
      ],
      "metadata": {
        "id": "zrb1FIr_9H5y"
      },
      "execution_count": null,
      "outputs": []
    }
  ]
}