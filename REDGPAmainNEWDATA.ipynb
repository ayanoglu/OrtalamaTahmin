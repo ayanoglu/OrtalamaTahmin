{
  "nbformat": 4,
  "nbformat_minor": 0,
  "metadata": {
    "colab": {
      "name": "REDGPAmainNEWDATA.ipynb",
      "provenance": [],
      "collapsed_sections": [],
      "authorship_tag": "ABX9TyOkE/7TtuqVUqfmwqsgo4Ul",
      "include_colab_link": true
    },
    "kernelspec": {
      "name": "python3",
      "display_name": "Python 3"
    },
    "language_info": {
      "name": "python"
    }
  },
  "cells": [
    {
      "cell_type": "markdown",
      "metadata": {
        "id": "view-in-github",
        "colab_type": "text"
      },
      "source": [
        "<a href=\"https://colab.research.google.com/github/ayanoglu/OrtalamaTahmin/blob/NewData/REDGPAmainNEWDATA.ipynb\" target=\"_parent\"><img src=\"https://colab.research.google.com/assets/colab-badge.svg\" alt=\"Open In Colab\"/></a>"
      ]
    },
    {
      "cell_type": "code",
      "execution_count": 1,
      "metadata": {
        "colab": {
          "resources": {
            "http://localhost:8080/nbextensions/google.colab/files.js": {
              "data": "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",
              "ok": true,
              "headers": [
                [
                  "content-type",
                  "application/javascript"
                ]
              ],
              "status": 200,
              "status_text": ""
            }
          },
          "base_uri": "https://localhost:8080/",
          "height": 217
        },
        "id": "nQKeJo4fqzcT",
        "outputId": "64a8996e-e3c6-484f-ddb2-a0217c960345"
      },
      "outputs": [
        {
          "output_type": "display_data",
          "data": {
            "text/html": [
              "\n",
              "     <input type=\"file\" id=\"files-a9890408-0f05-4363-b5fd-30db8a5dcaa0\" name=\"files[]\" multiple disabled\n",
              "        style=\"border:none\" />\n",
              "     <output id=\"result-a9890408-0f05-4363-b5fd-30db8a5dcaa0\">\n",
              "      Upload widget is only available when the cell has been executed in the\n",
              "      current browser session. Please rerun this cell to enable.\n",
              "      </output>\n",
              "      <script src=\"/nbextensions/google.colab/files.js\"></script> "
            ],
            "text/plain": [
              "<IPython.core.display.HTML object>"
            ]
          },
          "metadata": {}
        },
        {
          "output_type": "stream",
          "name": "stdout",
          "text": [
            "Saving EE Students Spring 2021.csv to EE Students Spring 2021.csv\n",
            "Saving Engineering Freshmen Fall 21 - January 31 22.csv to Engineering Freshmen Fall 21 - January 31 22.csv\n",
            "Saving Engineering Freshmen Spring 2021.csv to Engineering Freshmen Spring 2021.csv\n",
            "Saving Psychology Subject Pool May 2021 - Jan 31 2022.csv to Psychology Subject Pool May 2021 - Jan 31 2022.csv\n",
            "Saving Psychology Subject Pool Spring 2021.csv to Psychology Subject Pool Spring 2021.csv\n"
          ]
        }
      ],
      "source": [
        "from keras.models import Sequential\n",
        "from keras.layers import Dense\n",
        "from keras.layers import Flatten\n",
        "from keras.layers.convolutional import Conv1D\n",
        "from keras.layers.convolutional import MaxPooling1D\n",
        "from keras.layers import Dropout\n",
        "from numpy import array\n",
        "from sklearn import preprocessing\n",
        "from sklearn.model_selection import KFold\n",
        "from sklearn.utils import shuffle\n",
        "import pandas as pd\n",
        "import numpy as np\n",
        "np.set_printoptions(linewidth=160)\n",
        "import tensorflow as tf\n",
        "import csv\n",
        "import math\n",
        "import matplotlib.pyplot as plt\n",
        "from decimal import *\n",
        "from google.colab import files\n",
        "import plotly.graph_objects as go\n",
        "import plotly.express as px\n",
        "import itertools\n",
        "from itertools import combinations\n",
        "import time\n",
        "from sklearn.metrics import mean_squared_error\n",
        "from sklearn.preprocessing import MinMaxScaler\n",
        "from sklearn.preprocessing import OneHotEncoder\n",
        "from sklearn.preprocessing import LabelEncoder\n",
        "from keras.utils import np_utils\n",
        "\n",
        "\n",
        "from sklearn.metrics import r2_score\n",
        "from sklearn.gaussian_process import GaussianProcessRegressor\n",
        "from sklearn.gaussian_process.kernels import RBF, ConstantKernel, WhiteKernel\n",
        "from google.colab import files\n",
        "import io\n",
        "uploaded = files.upload()"
      ]
    },
    {
      "cell_type": "code",
      "source": [
        "DF_EEStudentsSpring2021 = pd.read_csv(io.BytesIO(uploaded['EE Students Spring 2021.csv']), header=None, skip_blank_lines=True)\n",
        "DF_EngFreshmenFall2021 = pd.read_csv(io.BytesIO(uploaded['Engineering Freshmen Fall 21 - January 31 22.csv']), header=None, skip_blank_lines=True)\n",
        "DF_EngFreshmenSpring2021 = pd.read_csv(io.BytesIO(uploaded['Engineering Freshmen Spring 2021.csv']), header=None, skip_blank_lines=True)\n",
        "DF_PsychologyMay2021 = pd.read_csv(io.BytesIO(uploaded['Psychology Subject Pool May 2021 - Jan 31 2022.csv']), header=None, skip_blank_lines=True)\n",
        "DF_PsychologySpring2021 = pd.read_csv(io.BytesIO(uploaded['Psychology Subject Pool Spring 2021.csv']), header=None, skip_blank_lines=True)"
      ],
      "metadata": {
        "id": "tE8lLg_cyvjs"
      },
      "execution_count": 2,
      "outputs": []
    },
    {
      "cell_type": "code",
      "source": [
        "DF1EE = DF_EEStudentsSpring2021.iloc[3:,18:80]\n",
        "DF1ENGF = DF_EngFreshmenFall2021.iloc[3:,18:80]\n",
        "DF1ENGS = DF_EngFreshmenSpring2021.iloc[3:,18:80]\n",
        "DF1PM = DF_PsychologyMay2021.iloc[3:,18:80]\n",
        "DF1PS = DF_PsychologySpring2021.iloc[3:,18:80]\n",
        "# Some of the datasets, 3 is actually 2, and 7 is actually 3, for the questions 51-54."
      ],
      "metadata": {
        "id": "fghshQIB5pSL"
      },
      "execution_count": 3,
      "outputs": []
    },
    {
      "cell_type": "code",
      "source": [
        "# ENG FALL DATASET HAS THE PROBLEM.\n",
        "# do i = 51 to 54;\t1) if x(i) = 3 then x(i) = 2; \t2) if x(i) = 7 then x(i) = 3; end; \n",
        "\n",
        "DF1ENGF.iloc[:,50] = np.where(DF1ENGF.iloc[:,50]== 3, 2, DF1ENGF.iloc[:,50])\n",
        "DF1ENGF.iloc[:,51] = np.where(DF1ENGF.iloc[:,51]== 3, 2, DF1ENGF.iloc[:,51])\n",
        "DF1ENGF.iloc[:,52] = np.where(DF1ENGF.iloc[:,52]== 3, 2, DF1ENGF.iloc[:,52])\n",
        "DF1ENGF.iloc[:,53] = np.where(DF1ENGF.iloc[:,53]== 3, 2, DF1ENGF.iloc[:,53])\n",
        "\n",
        "DF1ENGF.iloc[:,50] = np.where(DF1ENGF.iloc[:,50]== 7, 3, DF1ENGF.iloc[:,50])\n",
        "DF1ENGF.iloc[:,51] = np.where(DF1ENGF.iloc[:,51]== 7, 3, DF1ENGF.iloc[:,51])\n",
        "DF1ENGF.iloc[:,52] = np.where(DF1ENGF.iloc[:,52]== 7, 3, DF1ENGF.iloc[:,52])\n",
        "DF1ENGF.iloc[:,53] = np.where(DF1ENGF.iloc[:,53]== 7, 3, DF1ENGF.iloc[:,53])\n"
      ],
      "metadata": {
        "id": "npVmG2nQB-wB"
      },
      "execution_count": 4,
      "outputs": []
    },
    {
      "cell_type": "code",
      "source": [
        "# ENG SPRING DATASET HAS THE PROBLEM.\n",
        "# do i = 51 to 54;\t1) if x(i) = 3 then x(i) = 2; \t2) if x(i) = 7 then x(i) = 3; end; \n",
        "\n",
        "DF1ENGS.iloc[:,50] = np.where(DF1ENGS.iloc[:,50]== 3, 2, DF1ENGS.iloc[:,50])\n",
        "DF1ENGS.iloc[:,51] = np.where(DF1ENGS.iloc[:,51]== 3, 2, DF1ENGS.iloc[:,51])\n",
        "DF1ENGS.iloc[:,52] = np.where(DF1ENGS.iloc[:,52]== 3, 2, DF1ENGS.iloc[:,52])\n",
        "DF1ENGS.iloc[:,53] = np.where(DF1ENGS.iloc[:,53]== 3, 2, DF1ENGS.iloc[:,53])\n",
        "\n",
        "DF1ENGS.iloc[:,50] = np.where(DF1ENGS.iloc[:,50]== 7, 3, DF1ENGS.iloc[:,50])\n",
        "DF1ENGS.iloc[:,51] = np.where(DF1ENGS.iloc[:,51]== 7, 3, DF1ENGS.iloc[:,51])\n",
        "DF1ENGS.iloc[:,52] = np.where(DF1ENGS.iloc[:,52]== 7, 3, DF1ENGS.iloc[:,52])\n",
        "DF1ENGS.iloc[:,53] = np.where(DF1ENGS.iloc[:,53]== 7, 3, DF1ENGS.iloc[:,53])"
      ],
      "metadata": {
        "id": "8rXHF2ZtCjge"
      },
      "execution_count": 5,
      "outputs": []
    },
    {
      "cell_type": "code",
      "source": [
        "DF1 = pd.concat([DF1EE, DF1ENGF, DF1ENGS, DF1PM, DF1PS], axis = 0)"
      ],
      "metadata": {
        "id": "21BbQoN595rk"
      },
      "execution_count": 6,
      "outputs": []
    },
    {
      "cell_type": "code",
      "source": [
        "DF1.shape"
      ],
      "metadata": {
        "id": "67D3uaWQ_BwI",
        "outputId": "a1e1f17b-d44a-4f56-fc1a-ed3ac6208fe4",
        "colab": {
          "base_uri": "https://localhost:8080/"
        }
      },
      "execution_count": 7,
      "outputs": [
        {
          "output_type": "execute_result",
          "data": {
            "text/plain": [
              "(3855, 62)"
            ]
          },
          "metadata": {},
          "execution_count": 7
        }
      ]
    },
    {
      "cell_type": "code",
      "source": [
        "DF1.isnull().any(axis=1).sum() #number of columns with NaNs\n",
        "DF2 = DF1.dropna(axis=0) # Drop rows with NaNs\n",
        "DF2.isnull().any(axis=1).sum() #number of columns with NaNs\n",
        "DF3 = DF2.apply(pd.to_numeric, errors='coerce') # change object type to numeric, errors will be NaNs\n",
        "DF3.isnull().any(axis=1).sum()\n",
        "DF4 = DF3.dropna(axis=0) # Drop rows with NaNs\n",
        "DF4.isnull().any(axis=1).sum()\n",
        "DF4.columns = range(DF4.columns.size) # re index column numbers\n",
        "(DF4.iloc[:,-1] == 0).sum() #number of rows on the last column that are equal to 0\n",
        "DF4.iloc[:,-1].min() #min of last column\n",
        "DF4.iloc[:,-1].idxmin() #idx of the min of last column\n",
        "DF4 = DF4[(DF4.iloc[:,-1] > 0)] #drop the GPA values that are 0\n",
        "DF4 = DF4.reset_index() # reset row index with a new index column\n",
        "DF4 = DF4.drop(labels='index', axis=1) #drop the old index column"
      ],
      "metadata": {
        "id": "pgMUEBZD930V"
      },
      "execution_count": 8,
      "outputs": []
    },
    {
      "cell_type": "code",
      "source": [
        "DF4.shape"
      ],
      "metadata": {
        "colab": {
          "base_uri": "https://localhost:8080/"
        },
        "id": "qDD3KQsQYrrG",
        "outputId": "23d1a5af-0927-4522-f8e3-21ec3912af7b"
      },
      "execution_count": 9,
      "outputs": [
        {
          "output_type": "execute_result",
          "data": {
            "text/plain": [
              "(2592, 62)"
            ]
          },
          "metadata": {},
          "execution_count": 9
        }
      ]
    },
    {
      "cell_type": "code",
      "source": [
        "XTrain = DF4.iloc[:,:61]"
      ],
      "metadata": {
        "id": "txvYSGjsX-VE"
      },
      "execution_count": 10,
      "outputs": []
    },
    {
      "cell_type": "markdown",
      "source": [
        "START MODYFYING SOME COLUMNS AND ADDING THE ADDITIONAL FUNCTIONS"
      ],
      "metadata": {
        "id": "gXda_0SndHNW"
      }
    },
    {
      "cell_type": "code",
      "source": [
        "#If x(33) = 4 then x(33) = 2; \n",
        "DF4.iloc[:,32] = np.where(DF4.iloc[:,32]== 4, 2, DF4.iloc[:,32])\n",
        "\n",
        "#If gpa > 4 then gpa = 4;\n",
        "DF4.iloc[:,-1] = np.where(DF4.iloc[:,-1] > 4, 4, DF4.iloc[:,-1]) #GPA = DF4.iloc[:,-1]\n",
        "\n",
        "# do i = 9, 11, 18, 22, 28, 29; x(i) = 8-x(i);\n",
        "# do i = 31, 33, 37, 41, 43, 45, 47, 50; *action-state; x(i) = 3 - x(i);\n",
        "XTrain.iloc[:,8] = 8 - XTrain.iloc[:,8]\n",
        "XTrain.iloc[:,10] = 8 - XTrain.iloc[:,10]\n",
        "XTrain.iloc[:,17] = 8 - XTrain.iloc[:,17]\n",
        "XTrain.iloc[:,21] = 8 - XTrain.iloc[:,21]\n",
        "XTrain.iloc[:,27] = 8 - XTrain.iloc[:,27]\n",
        "XTrain.iloc[:,28] = 8 - XTrain.iloc[:,28]\n",
        "\n",
        "XTrain.iloc[:,30] = 3 - XTrain.iloc[:,30]\n",
        "XTrain.iloc[:,32] = 3 - XTrain.iloc[:,32]\n",
        "XTrain.iloc[:,36] = 3 - XTrain.iloc[:,36]\n",
        "XTrain.iloc[:,40] = 3 - XTrain.iloc[:,40]\n",
        "XTrain.iloc[:,42] = 3 - XTrain.iloc[:,42]\n",
        "XTrain.iloc[:,44] = 3 - XTrain.iloc[:,44]\n",
        "XTrain.iloc[:,46] = 3 - XTrain.iloc[:,46]\n",
        "XTrain.iloc[:,49] = 3 - XTrain.iloc[:,49]\n",
        "\n",
        "#do i = 1 to 7; efficacy = efficacy + x(i); end;\n",
        "XTrain['efficacy']= XTrain.iloc[:, 0:7].sum(axis=1)\n",
        "\n",
        "#do i = 8 to 29; habits = habits + x(i); end;\n",
        "XTrain['habbits']= XTrain.iloc[:, 7:29].sum(axis=1)\n",
        "\n",
        "#do i = 30 to 37; preocc = preocc + x(i); end;\n",
        "XTrain['preocc']= XTrain.iloc[:, 29:37].sum(axis=1)\n",
        "\n",
        "#do i = 38 to 45; hesitat = hesitat + x(i); end;\n",
        "XTrain['hesitat']= XTrain.iloc[:, 37:45].sum(axis=1)\n",
        "\n",
        "#do i = 46 to 50; volatil = volatil + x(i);\n",
        "XTrain['volatil']= XTrain.iloc[:, 45:50].sum(axis=1)\n",
        "\n",
        "#do i = 51 to 54; engagecurric = engagecurric + x(i); end;\n",
        "XTrain['engagecurric']= XTrain.iloc[:, 50:54].sum(axis=1)\n",
        "\n",
        "#do i = 55 to 59; engageextra = engageextra+x(i);\n",
        "XTrain['engageextra']= XTrain.iloc[:, 54:59].sum(axis=1)"
      ],
      "metadata": {
        "id": "Zft77wK2hglr"
      },
      "execution_count": 11,
      "outputs": []
    },
    {
      "cell_type": "code",
      "source": [
        "XTrain.head()"
      ],
      "metadata": {
        "colab": {
          "base_uri": "https://localhost:8080/",
          "height": 235
        },
        "id": "dfdkLKu9ddL0",
        "outputId": "e8283951-a4a0-49a2-b2fa-d1785213474d"
      },
      "execution_count": 12,
      "outputs": [
        {
          "output_type": "execute_result",
          "data": {
            "text/html": [
              "\n",
              "  <div id=\"df-60d20bcf-24d3-4a35-868d-32bc46d9054d\">\n",
              "    <div class=\"colab-df-container\">\n",
              "      <div>\n",
              "<style scoped>\n",
              "    .dataframe tbody tr th:only-of-type {\n",
              "        vertical-align: middle;\n",
              "    }\n",
              "\n",
              "    .dataframe tbody tr th {\n",
              "        vertical-align: top;\n",
              "    }\n",
              "\n",
              "    .dataframe thead th {\n",
              "        text-align: right;\n",
              "    }\n",
              "</style>\n",
              "<table border=\"1\" class=\"dataframe\">\n",
              "  <thead>\n",
              "    <tr style=\"text-align: right;\">\n",
              "      <th></th>\n",
              "      <th>0</th>\n",
              "      <th>1</th>\n",
              "      <th>2</th>\n",
              "      <th>3</th>\n",
              "      <th>4</th>\n",
              "      <th>5</th>\n",
              "      <th>6</th>\n",
              "      <th>7</th>\n",
              "      <th>8</th>\n",
              "      <th>9</th>\n",
              "      <th>...</th>\n",
              "      <th>58</th>\n",
              "      <th>59</th>\n",
              "      <th>60</th>\n",
              "      <th>efficacy</th>\n",
              "      <th>habbits</th>\n",
              "      <th>preocc</th>\n",
              "      <th>hesitat</th>\n",
              "      <th>volatil</th>\n",
              "      <th>engagecurric</th>\n",
              "      <th>engageextra</th>\n",
              "    </tr>\n",
              "  </thead>\n",
              "  <tbody>\n",
              "    <tr>\n",
              "      <th>0</th>\n",
              "      <td>7</td>\n",
              "      <td>7</td>\n",
              "      <td>7</td>\n",
              "      <td>7</td>\n",
              "      <td>7</td>\n",
              "      <td>7</td>\n",
              "      <td>7</td>\n",
              "      <td>7</td>\n",
              "      <td>1</td>\n",
              "      <td>7</td>\n",
              "      <td>...</td>\n",
              "      <td>5</td>\n",
              "      <td>5</td>\n",
              "      <td>2</td>\n",
              "      <td>49</td>\n",
              "      <td>118</td>\n",
              "      <td>10</td>\n",
              "      <td>11</td>\n",
              "      <td>7</td>\n",
              "      <td>20</td>\n",
              "      <td>25</td>\n",
              "    </tr>\n",
              "    <tr>\n",
              "      <th>1</th>\n",
              "      <td>7</td>\n",
              "      <td>7</td>\n",
              "      <td>6</td>\n",
              "      <td>6</td>\n",
              "      <td>7</td>\n",
              "      <td>4</td>\n",
              "      <td>7</td>\n",
              "      <td>4</td>\n",
              "      <td>4</td>\n",
              "      <td>5</td>\n",
              "      <td>...</td>\n",
              "      <td>1</td>\n",
              "      <td>5</td>\n",
              "      <td>1</td>\n",
              "      <td>44</td>\n",
              "      <td>111</td>\n",
              "      <td>11</td>\n",
              "      <td>14</td>\n",
              "      <td>10</td>\n",
              "      <td>14</td>\n",
              "      <td>5</td>\n",
              "    </tr>\n",
              "    <tr>\n",
              "      <th>2</th>\n",
              "      <td>5</td>\n",
              "      <td>4</td>\n",
              "      <td>5</td>\n",
              "      <td>4</td>\n",
              "      <td>5</td>\n",
              "      <td>4</td>\n",
              "      <td>5</td>\n",
              "      <td>6</td>\n",
              "      <td>6</td>\n",
              "      <td>5</td>\n",
              "      <td>...</td>\n",
              "      <td>1</td>\n",
              "      <td>2</td>\n",
              "      <td>5</td>\n",
              "      <td>32</td>\n",
              "      <td>121</td>\n",
              "      <td>9</td>\n",
              "      <td>9</td>\n",
              "      <td>9</td>\n",
              "      <td>9</td>\n",
              "      <td>6</td>\n",
              "    </tr>\n",
              "    <tr>\n",
              "      <th>3</th>\n",
              "      <td>6</td>\n",
              "      <td>7</td>\n",
              "      <td>6</td>\n",
              "      <td>6</td>\n",
              "      <td>7</td>\n",
              "      <td>7</td>\n",
              "      <td>6</td>\n",
              "      <td>6</td>\n",
              "      <td>2</td>\n",
              "      <td>2</td>\n",
              "      <td>...</td>\n",
              "      <td>1</td>\n",
              "      <td>4</td>\n",
              "      <td>2</td>\n",
              "      <td>45</td>\n",
              "      <td>104</td>\n",
              "      <td>8</td>\n",
              "      <td>15</td>\n",
              "      <td>9</td>\n",
              "      <td>11</td>\n",
              "      <td>9</td>\n",
              "    </tr>\n",
              "    <tr>\n",
              "      <th>4</th>\n",
              "      <td>6</td>\n",
              "      <td>7</td>\n",
              "      <td>5</td>\n",
              "      <td>6</td>\n",
              "      <td>7</td>\n",
              "      <td>7</td>\n",
              "      <td>7</td>\n",
              "      <td>5</td>\n",
              "      <td>4</td>\n",
              "      <td>4</td>\n",
              "      <td>...</td>\n",
              "      <td>2</td>\n",
              "      <td>5</td>\n",
              "      <td>3</td>\n",
              "      <td>45</td>\n",
              "      <td>96</td>\n",
              "      <td>11</td>\n",
              "      <td>15</td>\n",
              "      <td>10</td>\n",
              "      <td>16</td>\n",
              "      <td>10</td>\n",
              "    </tr>\n",
              "  </tbody>\n",
              "</table>\n",
              "<p>5 rows × 68 columns</p>\n",
              "</div>\n",
              "      <button class=\"colab-df-convert\" onclick=\"convertToInteractive('df-60d20bcf-24d3-4a35-868d-32bc46d9054d')\"\n",
              "              title=\"Convert this dataframe to an interactive table.\"\n",
              "              style=\"display:none;\">\n",
              "        \n",
              "  <svg xmlns=\"http://www.w3.org/2000/svg\" height=\"24px\"viewBox=\"0 0 24 24\"\n",
              "       width=\"24px\">\n",
              "    <path d=\"M0 0h24v24H0V0z\" fill=\"none\"/>\n",
              "    <path d=\"M18.56 5.44l.94 2.06.94-2.06 2.06-.94-2.06-.94-.94-2.06-.94 2.06-2.06.94zm-11 1L8.5 8.5l.94-2.06 2.06-.94-2.06-.94L8.5 2.5l-.94 2.06-2.06.94zm10 10l.94 2.06.94-2.06 2.06-.94-2.06-.94-.94-2.06-.94 2.06-2.06.94z\"/><path d=\"M17.41 7.96l-1.37-1.37c-.4-.4-.92-.59-1.43-.59-.52 0-1.04.2-1.43.59L10.3 9.45l-7.72 7.72c-.78.78-.78 2.05 0 2.83L4 21.41c.39.39.9.59 1.41.59.51 0 1.02-.2 1.41-.59l7.78-7.78 2.81-2.81c.8-.78.8-2.07 0-2.86zM5.41 20L4 18.59l7.72-7.72 1.47 1.35L5.41 20z\"/>\n",
              "  </svg>\n",
              "      </button>\n",
              "      \n",
              "  <style>\n",
              "    .colab-df-container {\n",
              "      display:flex;\n",
              "      flex-wrap:wrap;\n",
              "      gap: 12px;\n",
              "    }\n",
              "\n",
              "    .colab-df-convert {\n",
              "      background-color: #E8F0FE;\n",
              "      border: none;\n",
              "      border-radius: 50%;\n",
              "      cursor: pointer;\n",
              "      display: none;\n",
              "      fill: #1967D2;\n",
              "      height: 32px;\n",
              "      padding: 0 0 0 0;\n",
              "      width: 32px;\n",
              "    }\n",
              "\n",
              "    .colab-df-convert:hover {\n",
              "      background-color: #E2EBFA;\n",
              "      box-shadow: 0px 1px 2px rgba(60, 64, 67, 0.3), 0px 1px 3px 1px rgba(60, 64, 67, 0.15);\n",
              "      fill: #174EA6;\n",
              "    }\n",
              "\n",
              "    [theme=dark] .colab-df-convert {\n",
              "      background-color: #3B4455;\n",
              "      fill: #D2E3FC;\n",
              "    }\n",
              "\n",
              "    [theme=dark] .colab-df-convert:hover {\n",
              "      background-color: #434B5C;\n",
              "      box-shadow: 0px 1px 3px 1px rgba(0, 0, 0, 0.15);\n",
              "      filter: drop-shadow(0px 1px 2px rgba(0, 0, 0, 0.3));\n",
              "      fill: #FFFFFF;\n",
              "    }\n",
              "  </style>\n",
              "\n",
              "      <script>\n",
              "        const buttonEl =\n",
              "          document.querySelector('#df-60d20bcf-24d3-4a35-868d-32bc46d9054d button.colab-df-convert');\n",
              "        buttonEl.style.display =\n",
              "          google.colab.kernel.accessAllowed ? 'block' : 'none';\n",
              "\n",
              "        async function convertToInteractive(key) {\n",
              "          const element = document.querySelector('#df-60d20bcf-24d3-4a35-868d-32bc46d9054d');\n",
              "          const dataTable =\n",
              "            await google.colab.kernel.invokeFunction('convertToInteractive',\n",
              "                                                     [key], {});\n",
              "          if (!dataTable) return;\n",
              "\n",
              "          const docLinkHtml = 'Like what you see? Visit the ' +\n",
              "            '<a target=\"_blank\" href=https://colab.research.google.com/notebooks/data_table.ipynb>data table notebook</a>'\n",
              "            + ' to learn more about interactive tables.';\n",
              "          element.innerHTML = '';\n",
              "          dataTable['output_type'] = 'display_data';\n",
              "          await google.colab.output.renderOutput(dataTable, element);\n",
              "          const docLink = document.createElement('div');\n",
              "          docLink.innerHTML = docLinkHtml;\n",
              "          element.appendChild(docLink);\n",
              "        }\n",
              "      </script>\n",
              "    </div>\n",
              "  </div>\n",
              "  "
            ],
            "text/plain": [
              "   0  1  2  3  4  5  6  7  8  9  ...  58  59  60  efficacy  habbits  preocc  \\\n",
              "0  7  7  7  7  7  7  7  7  1  7  ...   5   5   2        49      118      10   \n",
              "1  7  7  6  6  7  4  7  4  4  5  ...   1   5   1        44      111      11   \n",
              "2  5  4  5  4  5  4  5  6  6  5  ...   1   2   5        32      121       9   \n",
              "3  6  7  6  6  7  7  6  6  2  2  ...   1   4   2        45      104       8   \n",
              "4  6  7  5  6  7  7  7  5  4  4  ...   2   5   3        45       96      11   \n",
              "\n",
              "   hesitat  volatil  engagecurric  engageextra  \n",
              "0       11        7            20           25  \n",
              "1       14       10            14            5  \n",
              "2        9        9             9            6  \n",
              "3       15        9            11            9  \n",
              "4       15       10            16           10  \n",
              "\n",
              "[5 rows x 68 columns]"
            ]
          },
          "metadata": {},
          "execution_count": 12
        }
      ]
    },
    {
      "cell_type": "code",
      "source": [
        "XTrain.describe()"
      ],
      "metadata": {
        "id": "zEHweK440kIB",
        "outputId": "58e07e8d-289b-4b1e-86dc-5b9f8786df76",
        "colab": {
          "base_uri": "https://localhost:8080/",
          "height": 393
        }
      },
      "execution_count": 13,
      "outputs": [
        {
          "output_type": "execute_result",
          "data": {
            "text/html": [
              "\n",
              "  <div id=\"df-e3cc55d1-37d5-4a1a-8559-04ce51e675a3\">\n",
              "    <div class=\"colab-df-container\">\n",
              "      <div>\n",
              "<style scoped>\n",
              "    .dataframe tbody tr th:only-of-type {\n",
              "        vertical-align: middle;\n",
              "    }\n",
              "\n",
              "    .dataframe tbody tr th {\n",
              "        vertical-align: top;\n",
              "    }\n",
              "\n",
              "    .dataframe thead th {\n",
              "        text-align: right;\n",
              "    }\n",
              "</style>\n",
              "<table border=\"1\" class=\"dataframe\">\n",
              "  <thead>\n",
              "    <tr style=\"text-align: right;\">\n",
              "      <th></th>\n",
              "      <th>0</th>\n",
              "      <th>1</th>\n",
              "      <th>2</th>\n",
              "      <th>3</th>\n",
              "      <th>4</th>\n",
              "      <th>5</th>\n",
              "      <th>6</th>\n",
              "      <th>7</th>\n",
              "      <th>8</th>\n",
              "      <th>9</th>\n",
              "      <th>...</th>\n",
              "      <th>58</th>\n",
              "      <th>59</th>\n",
              "      <th>60</th>\n",
              "      <th>efficacy</th>\n",
              "      <th>habbits</th>\n",
              "      <th>preocc</th>\n",
              "      <th>hesitat</th>\n",
              "      <th>volatil</th>\n",
              "      <th>engagecurric</th>\n",
              "      <th>engageextra</th>\n",
              "    </tr>\n",
              "  </thead>\n",
              "  <tbody>\n",
              "    <tr>\n",
              "      <th>count</th>\n",
              "      <td>2592.000000</td>\n",
              "      <td>2592.000000</td>\n",
              "      <td>2592.000000</td>\n",
              "      <td>2592.000000</td>\n",
              "      <td>2592.000000</td>\n",
              "      <td>2592.000000</td>\n",
              "      <td>2592.000000</td>\n",
              "      <td>2592.000000</td>\n",
              "      <td>2592.000000</td>\n",
              "      <td>2592.000000</td>\n",
              "      <td>...</td>\n",
              "      <td>2592.000000</td>\n",
              "      <td>2592.000000</td>\n",
              "      <td>2592.000000</td>\n",
              "      <td>2592.000000</td>\n",
              "      <td>2592.000000</td>\n",
              "      <td>2592.000000</td>\n",
              "      <td>2592.000000</td>\n",
              "      <td>2592.000000</td>\n",
              "      <td>2592.000000</td>\n",
              "      <td>2592.000000</td>\n",
              "    </tr>\n",
              "    <tr>\n",
              "      <th>mean</th>\n",
              "      <td>6.086420</td>\n",
              "      <td>6.041281</td>\n",
              "      <td>5.761188</td>\n",
              "      <td>5.972608</td>\n",
              "      <td>6.169367</td>\n",
              "      <td>6.008488</td>\n",
              "      <td>6.213735</td>\n",
              "      <td>5.636188</td>\n",
              "      <td>4.136574</td>\n",
              "      <td>4.433256</td>\n",
              "      <td>...</td>\n",
              "      <td>1.669753</td>\n",
              "      <td>3.673997</td>\n",
              "      <td>2.283565</td>\n",
              "      <td>42.253086</td>\n",
              "      <td>100.549383</td>\n",
              "      <td>11.921296</td>\n",
              "      <td>12.396219</td>\n",
              "      <td>8.763503</td>\n",
              "      <td>12.193673</td>\n",
              "      <td>9.403164</td>\n",
              "    </tr>\n",
              "    <tr>\n",
              "      <th>std</th>\n",
              "      <td>1.057703</td>\n",
              "      <td>1.142590</td>\n",
              "      <td>1.308343</td>\n",
              "      <td>1.133854</td>\n",
              "      <td>1.028848</td>\n",
              "      <td>1.322228</td>\n",
              "      <td>1.048347</td>\n",
              "      <td>1.372094</td>\n",
              "      <td>1.658825</td>\n",
              "      <td>1.624833</td>\n",
              "      <td>...</td>\n",
              "      <td>1.067630</td>\n",
              "      <td>0.891992</td>\n",
              "      <td>1.467068</td>\n",
              "      <td>6.421752</td>\n",
              "      <td>18.289913</td>\n",
              "      <td>2.184640</td>\n",
              "      <td>2.376561</td>\n",
              "      <td>1.285856</td>\n",
              "      <td>5.233741</td>\n",
              "      <td>4.153820</td>\n",
              "    </tr>\n",
              "    <tr>\n",
              "      <th>min</th>\n",
              "      <td>1.000000</td>\n",
              "      <td>1.000000</td>\n",
              "      <td>1.000000</td>\n",
              "      <td>1.000000</td>\n",
              "      <td>1.000000</td>\n",
              "      <td>1.000000</td>\n",
              "      <td>1.000000</td>\n",
              "      <td>1.000000</td>\n",
              "      <td>1.000000</td>\n",
              "      <td>1.000000</td>\n",
              "      <td>...</td>\n",
              "      <td>1.000000</td>\n",
              "      <td>1.000000</td>\n",
              "      <td>1.000000</td>\n",
              "      <td>7.000000</td>\n",
              "      <td>40.000000</td>\n",
              "      <td>8.000000</td>\n",
              "      <td>8.000000</td>\n",
              "      <td>5.000000</td>\n",
              "      <td>4.000000</td>\n",
              "      <td>5.000000</td>\n",
              "    </tr>\n",
              "    <tr>\n",
              "      <th>25%</th>\n",
              "      <td>6.000000</td>\n",
              "      <td>6.000000</td>\n",
              "      <td>5.000000</td>\n",
              "      <td>6.000000</td>\n",
              "      <td>6.000000</td>\n",
              "      <td>6.000000</td>\n",
              "      <td>6.000000</td>\n",
              "      <td>5.000000</td>\n",
              "      <td>3.000000</td>\n",
              "      <td>3.000000</td>\n",
              "      <td>...</td>\n",
              "      <td>1.000000</td>\n",
              "      <td>3.000000</td>\n",
              "      <td>1.000000</td>\n",
              "      <td>40.000000</td>\n",
              "      <td>88.000000</td>\n",
              "      <td>10.000000</td>\n",
              "      <td>11.000000</td>\n",
              "      <td>8.000000</td>\n",
              "      <td>8.000000</td>\n",
              "      <td>6.000000</td>\n",
              "    </tr>\n",
              "    <tr>\n",
              "      <th>50%</th>\n",
              "      <td>6.000000</td>\n",
              "      <td>6.000000</td>\n",
              "      <td>6.000000</td>\n",
              "      <td>6.000000</td>\n",
              "      <td>6.000000</td>\n",
              "      <td>6.000000</td>\n",
              "      <td>6.000000</td>\n",
              "      <td>6.000000</td>\n",
              "      <td>4.000000</td>\n",
              "      <td>5.000000</td>\n",
              "      <td>...</td>\n",
              "      <td>1.000000</td>\n",
              "      <td>4.000000</td>\n",
              "      <td>2.000000</td>\n",
              "      <td>43.000000</td>\n",
              "      <td>100.000000</td>\n",
              "      <td>12.000000</td>\n",
              "      <td>12.000000</td>\n",
              "      <td>9.000000</td>\n",
              "      <td>12.000000</td>\n",
              "      <td>9.000000</td>\n",
              "    </tr>\n",
              "    <tr>\n",
              "      <th>75%</th>\n",
              "      <td>7.000000</td>\n",
              "      <td>7.000000</td>\n",
              "      <td>7.000000</td>\n",
              "      <td>7.000000</td>\n",
              "      <td>7.000000</td>\n",
              "      <td>7.000000</td>\n",
              "      <td>7.000000</td>\n",
              "      <td>7.000000</td>\n",
              "      <td>6.000000</td>\n",
              "      <td>6.000000</td>\n",
              "      <td>...</td>\n",
              "      <td>2.000000</td>\n",
              "      <td>4.000000</td>\n",
              "      <td>3.000000</td>\n",
              "      <td>47.000000</td>\n",
              "      <td>113.000000</td>\n",
              "      <td>14.000000</td>\n",
              "      <td>14.000000</td>\n",
              "      <td>10.000000</td>\n",
              "      <td>16.000000</td>\n",
              "      <td>12.000000</td>\n",
              "    </tr>\n",
              "    <tr>\n",
              "      <th>max</th>\n",
              "      <td>7.000000</td>\n",
              "      <td>7.000000</td>\n",
              "      <td>7.000000</td>\n",
              "      <td>7.000000</td>\n",
              "      <td>7.000000</td>\n",
              "      <td>7.000000</td>\n",
              "      <td>7.000000</td>\n",
              "      <td>7.000000</td>\n",
              "      <td>7.000000</td>\n",
              "      <td>7.000000</td>\n",
              "      <td>...</td>\n",
              "      <td>5.000000</td>\n",
              "      <td>5.000000</td>\n",
              "      <td>6.000000</td>\n",
              "      <td>49.000000</td>\n",
              "      <td>152.000000</td>\n",
              "      <td>16.000000</td>\n",
              "      <td>16.000000</td>\n",
              "      <td>10.000000</td>\n",
              "      <td>28.000000</td>\n",
              "      <td>25.000000</td>\n",
              "    </tr>\n",
              "  </tbody>\n",
              "</table>\n",
              "<p>8 rows × 68 columns</p>\n",
              "</div>\n",
              "      <button class=\"colab-df-convert\" onclick=\"convertToInteractive('df-e3cc55d1-37d5-4a1a-8559-04ce51e675a3')\"\n",
              "              title=\"Convert this dataframe to an interactive table.\"\n",
              "              style=\"display:none;\">\n",
              "        \n",
              "  <svg xmlns=\"http://www.w3.org/2000/svg\" height=\"24px\"viewBox=\"0 0 24 24\"\n",
              "       width=\"24px\">\n",
              "    <path d=\"M0 0h24v24H0V0z\" fill=\"none\"/>\n",
              "    <path d=\"M18.56 5.44l.94 2.06.94-2.06 2.06-.94-2.06-.94-.94-2.06-.94 2.06-2.06.94zm-11 1L8.5 8.5l.94-2.06 2.06-.94-2.06-.94L8.5 2.5l-.94 2.06-2.06.94zm10 10l.94 2.06.94-2.06 2.06-.94-2.06-.94-.94-2.06-.94 2.06-2.06.94z\"/><path d=\"M17.41 7.96l-1.37-1.37c-.4-.4-.92-.59-1.43-.59-.52 0-1.04.2-1.43.59L10.3 9.45l-7.72 7.72c-.78.78-.78 2.05 0 2.83L4 21.41c.39.39.9.59 1.41.59.51 0 1.02-.2 1.41-.59l7.78-7.78 2.81-2.81c.8-.78.8-2.07 0-2.86zM5.41 20L4 18.59l7.72-7.72 1.47 1.35L5.41 20z\"/>\n",
              "  </svg>\n",
              "      </button>\n",
              "      \n",
              "  <style>\n",
              "    .colab-df-container {\n",
              "      display:flex;\n",
              "      flex-wrap:wrap;\n",
              "      gap: 12px;\n",
              "    }\n",
              "\n",
              "    .colab-df-convert {\n",
              "      background-color: #E8F0FE;\n",
              "      border: none;\n",
              "      border-radius: 50%;\n",
              "      cursor: pointer;\n",
              "      display: none;\n",
              "      fill: #1967D2;\n",
              "      height: 32px;\n",
              "      padding: 0 0 0 0;\n",
              "      width: 32px;\n",
              "    }\n",
              "\n",
              "    .colab-df-convert:hover {\n",
              "      background-color: #E2EBFA;\n",
              "      box-shadow: 0px 1px 2px rgba(60, 64, 67, 0.3), 0px 1px 3px 1px rgba(60, 64, 67, 0.15);\n",
              "      fill: #174EA6;\n",
              "    }\n",
              "\n",
              "    [theme=dark] .colab-df-convert {\n",
              "      background-color: #3B4455;\n",
              "      fill: #D2E3FC;\n",
              "    }\n",
              "\n",
              "    [theme=dark] .colab-df-convert:hover {\n",
              "      background-color: #434B5C;\n",
              "      box-shadow: 0px 1px 3px 1px rgba(0, 0, 0, 0.15);\n",
              "      filter: drop-shadow(0px 1px 2px rgba(0, 0, 0, 0.3));\n",
              "      fill: #FFFFFF;\n",
              "    }\n",
              "  </style>\n",
              "\n",
              "      <script>\n",
              "        const buttonEl =\n",
              "          document.querySelector('#df-e3cc55d1-37d5-4a1a-8559-04ce51e675a3 button.colab-df-convert');\n",
              "        buttonEl.style.display =\n",
              "          google.colab.kernel.accessAllowed ? 'block' : 'none';\n",
              "\n",
              "        async function convertToInteractive(key) {\n",
              "          const element = document.querySelector('#df-e3cc55d1-37d5-4a1a-8559-04ce51e675a3');\n",
              "          const dataTable =\n",
              "            await google.colab.kernel.invokeFunction('convertToInteractive',\n",
              "                                                     [key], {});\n",
              "          if (!dataTable) return;\n",
              "\n",
              "          const docLinkHtml = 'Like what you see? Visit the ' +\n",
              "            '<a target=\"_blank\" href=https://colab.research.google.com/notebooks/data_table.ipynb>data table notebook</a>'\n",
              "            + ' to learn more about interactive tables.';\n",
              "          element.innerHTML = '';\n",
              "          dataTable['output_type'] = 'display_data';\n",
              "          await google.colab.output.renderOutput(dataTable, element);\n",
              "          const docLink = document.createElement('div');\n",
              "          docLink.innerHTML = docLinkHtml;\n",
              "          element.appendChild(docLink);\n",
              "        }\n",
              "      </script>\n",
              "    </div>\n",
              "  </div>\n",
              "  "
            ],
            "text/plain": [
              "                 0            1            2            3            4  \\\n",
              "count  2592.000000  2592.000000  2592.000000  2592.000000  2592.000000   \n",
              "mean      6.086420     6.041281     5.761188     5.972608     6.169367   \n",
              "std       1.057703     1.142590     1.308343     1.133854     1.028848   \n",
              "min       1.000000     1.000000     1.000000     1.000000     1.000000   \n",
              "25%       6.000000     6.000000     5.000000     6.000000     6.000000   \n",
              "50%       6.000000     6.000000     6.000000     6.000000     6.000000   \n",
              "75%       7.000000     7.000000     7.000000     7.000000     7.000000   \n",
              "max       7.000000     7.000000     7.000000     7.000000     7.000000   \n",
              "\n",
              "                 5            6            7            8            9  ...  \\\n",
              "count  2592.000000  2592.000000  2592.000000  2592.000000  2592.000000  ...   \n",
              "mean      6.008488     6.213735     5.636188     4.136574     4.433256  ...   \n",
              "std       1.322228     1.048347     1.372094     1.658825     1.624833  ...   \n",
              "min       1.000000     1.000000     1.000000     1.000000     1.000000  ...   \n",
              "25%       6.000000     6.000000     5.000000     3.000000     3.000000  ...   \n",
              "50%       6.000000     6.000000     6.000000     4.000000     5.000000  ...   \n",
              "75%       7.000000     7.000000     7.000000     6.000000     6.000000  ...   \n",
              "max       7.000000     7.000000     7.000000     7.000000     7.000000  ...   \n",
              "\n",
              "                58           59           60     efficacy      habbits  \\\n",
              "count  2592.000000  2592.000000  2592.000000  2592.000000  2592.000000   \n",
              "mean      1.669753     3.673997     2.283565    42.253086   100.549383   \n",
              "std       1.067630     0.891992     1.467068     6.421752    18.289913   \n",
              "min       1.000000     1.000000     1.000000     7.000000    40.000000   \n",
              "25%       1.000000     3.000000     1.000000    40.000000    88.000000   \n",
              "50%       1.000000     4.000000     2.000000    43.000000   100.000000   \n",
              "75%       2.000000     4.000000     3.000000    47.000000   113.000000   \n",
              "max       5.000000     5.000000     6.000000    49.000000   152.000000   \n",
              "\n",
              "            preocc      hesitat      volatil  engagecurric  engageextra  \n",
              "count  2592.000000  2592.000000  2592.000000   2592.000000  2592.000000  \n",
              "mean     11.921296    12.396219     8.763503     12.193673     9.403164  \n",
              "std       2.184640     2.376561     1.285856      5.233741     4.153820  \n",
              "min       8.000000     8.000000     5.000000      4.000000     5.000000  \n",
              "25%      10.000000    11.000000     8.000000      8.000000     6.000000  \n",
              "50%      12.000000    12.000000     9.000000     12.000000     9.000000  \n",
              "75%      14.000000    14.000000    10.000000     16.000000    12.000000  \n",
              "max      16.000000    16.000000    10.000000     28.000000    25.000000  \n",
              "\n",
              "[8 rows x 68 columns]"
            ]
          },
          "metadata": {},
          "execution_count": 13
        }
      ]
    },
    {
      "cell_type": "code",
      "source": [
        "XTrainRaw = XTrain.iloc[:,0:61]"
      ],
      "metadata": {
        "id": "kBHx9P1cddOh"
      },
      "execution_count": 14,
      "outputs": []
    },
    {
      "cell_type": "code",
      "source": [
        "GPA = DF4.iloc[:,-1]\n",
        "GPA.describe()"
      ],
      "metadata": {
        "colab": {
          "base_uri": "https://localhost:8080/"
        },
        "id": "PNGYi66wsoZW",
        "outputId": "8100b372-17b0-41a9-f79d-63cce10eefa6"
      },
      "execution_count": 15,
      "outputs": [
        {
          "output_type": "execute_result",
          "data": {
            "text/plain": [
              "count    2592.000000\n",
              "mean        3.489070\n",
              "std         0.464113\n",
              "min         1.000000\n",
              "25%         3.200000\n",
              "50%         3.600000\n",
              "75%         3.870000\n",
              "max         4.000000\n",
              "Name: 61, dtype: float64"
            ]
          },
          "metadata": {},
          "execution_count": 15
        }
      ]
    },
    {
      "cell_type": "code",
      "source": [
        "XTrain.to_csv('XTrainAllDatasets.csv')\n",
        "GPA.to_csv('GPAAllDatasets.csv')\n",
        "from google.colab import files\n",
        "files.download(\"XTrainAllDatasets.csv\")\n",
        "files.download(\"GPAAllDatasets.csv\")"
      ],
      "metadata": {
        "colab": {
          "base_uri": "https://localhost:8080/",
          "height": 16
        },
        "id": "Nf0QgVjvX4Rl",
        "outputId": "f876b02a-3c38-4fcf-817d-cca16056907a"
      },
      "execution_count": 16,
      "outputs": [
        {
          "output_type": "display_data",
          "data": {
            "application/javascript": [
              "\n",
              "    async function download(id, filename, size) {\n",
              "      if (!google.colab.kernel.accessAllowed) {\n",
              "        return;\n",
              "      }\n",
              "      const div = document.createElement('div');\n",
              "      const label = document.createElement('label');\n",
              "      label.textContent = `Downloading \"${filename}\": `;\n",
              "      div.appendChild(label);\n",
              "      const progress = document.createElement('progress');\n",
              "      progress.max = size;\n",
              "      div.appendChild(progress);\n",
              "      document.body.appendChild(div);\n",
              "\n",
              "      const buffers = [];\n",
              "      let downloaded = 0;\n",
              "\n",
              "      const channel = await google.colab.kernel.comms.open(id);\n",
              "      // Send a message to notify the kernel that we're ready.\n",
              "      channel.send({})\n",
              "\n",
              "      for await (const message of channel.messages) {\n",
              "        // Send a message to notify the kernel that we're ready.\n",
              "        channel.send({})\n",
              "        if (message.buffers) {\n",
              "          for (const buffer of message.buffers) {\n",
              "            buffers.push(buffer);\n",
              "            downloaded += buffer.byteLength;\n",
              "            progress.value = downloaded;\n",
              "          }\n",
              "        }\n",
              "      }\n",
              "      const blob = new Blob(buffers, {type: 'application/binary'});\n",
              "      const a = document.createElement('a');\n",
              "      a.href = window.URL.createObjectURL(blob);\n",
              "      a.download = filename;\n",
              "      div.appendChild(a);\n",
              "      a.click();\n",
              "      div.remove();\n",
              "    }\n",
              "  "
            ],
            "text/plain": [
              "<IPython.core.display.Javascript object>"
            ]
          },
          "metadata": {}
        },
        {
          "output_type": "display_data",
          "data": {
            "application/javascript": [
              "download(\"download_733816bf-2b2e-4981-99bc-3577e39980d9\", \"XTrainAllDatasets.csv\", 379273)"
            ],
            "text/plain": [
              "<IPython.core.display.Javascript object>"
            ]
          },
          "metadata": {}
        },
        {
          "output_type": "display_data",
          "data": {
            "application/javascript": [
              "\n",
              "    async function download(id, filename, size) {\n",
              "      if (!google.colab.kernel.accessAllowed) {\n",
              "        return;\n",
              "      }\n",
              "      const div = document.createElement('div');\n",
              "      const label = document.createElement('label');\n",
              "      label.textContent = `Downloading \"${filename}\": `;\n",
              "      div.appendChild(label);\n",
              "      const progress = document.createElement('progress');\n",
              "      progress.max = size;\n",
              "      div.appendChild(progress);\n",
              "      document.body.appendChild(div);\n",
              "\n",
              "      const buffers = [];\n",
              "      let downloaded = 0;\n",
              "\n",
              "      const channel = await google.colab.kernel.comms.open(id);\n",
              "      // Send a message to notify the kernel that we're ready.\n",
              "      channel.send({})\n",
              "\n",
              "      for await (const message of channel.messages) {\n",
              "        // Send a message to notify the kernel that we're ready.\n",
              "        channel.send({})\n",
              "        if (message.buffers) {\n",
              "          for (const buffer of message.buffers) {\n",
              "            buffers.push(buffer);\n",
              "            downloaded += buffer.byteLength;\n",
              "            progress.value = downloaded;\n",
              "          }\n",
              "        }\n",
              "      }\n",
              "      const blob = new Blob(buffers, {type: 'application/binary'});\n",
              "      const a = document.createElement('a');\n",
              "      a.href = window.URL.createObjectURL(blob);\n",
              "      a.download = filename;\n",
              "      div.appendChild(a);\n",
              "      a.click();\n",
              "      div.remove();\n",
              "    }\n",
              "  "
            ],
            "text/plain": [
              "<IPython.core.display.Javascript object>"
            ]
          },
          "metadata": {}
        },
        {
          "output_type": "display_data",
          "data": {
            "application/javascript": [
              "download(\"download_3e7b807a-c4e9-49f7-b90d-744b6535aed8\", \"GPAAllDatasets.csv\", 23166)"
            ],
            "text/plain": [
              "<IPython.core.display.Javascript object>"
            ]
          },
          "metadata": {}
        }
      ]
    },
    {
      "cell_type": "markdown",
      "source": [
        "SCALE DATA USING MINMAXSCALER"
      ],
      "metadata": {
        "id": "AYBPVQ21bRKC"
      }
    },
    {
      "cell_type": "code",
      "source": [
        "cols = XTrain.columns\n",
        "scaler = MinMaxScaler()\n",
        "XTrainScaled = pd.DataFrame(scaler.fit_transform(XTrain), columns=cols)\n",
        "GPA = DF4.iloc[:,-1]\n",
        "GPAmax = GPA.max()\n",
        "GPAmin = GPA.min()\n",
        "GPAreshaped = GPA.values.reshape(-1, 1) \n",
        "GPAScaled = pd.DataFrame(scaler.fit_transform(GPAreshaped))\n",
        "GPAScaled2 = (GPA - GPA.min()) / (GPA.max() - GPA.min())"
      ],
      "metadata": {
        "id": "eVc4-yMTerAm",
        "colab": {
          "base_uri": "https://localhost:8080/"
        },
        "outputId": "b3392181-0b23-4f8a-af0f-2d547db3b7fd"
      },
      "execution_count": 29,
      "outputs": [
        {
          "output_type": "stream",
          "name": "stderr",
          "text": [
            "/usr/local/lib/python3.7/dist-packages/sklearn/utils/validation.py:1692: FutureWarning: Feature names only support names that are all strings. Got feature names with dtypes: ['int', 'str']. An error will be raised in 1.2.\n",
            "  FutureWarning,\n",
            "/usr/local/lib/python3.7/dist-packages/sklearn/utils/validation.py:1692: FutureWarning: Feature names only support names that are all strings. Got feature names with dtypes: ['int', 'str']. An error will be raised in 1.2.\n",
            "  FutureWarning,\n"
          ]
        }
      ]
    },
    {
      "cell_type": "markdown",
      "source": [
        "TRY DNN MODEL"
      ],
      "metadata": {
        "id": "2kFxDrG-Y7QJ"
      }
    },
    {
      "cell_type": "code",
      "source": [
        "# Model configuration\n",
        "batch_size = 10\n",
        "no_epochs = 50\n",
        "verbosity = 0\n",
        "num_folds = 10\n",
        "\n",
        "# Define per-fold score containers\n",
        "acc_per_fold = []\n",
        "loss_per_fold = []\n",
        "\n",
        "# Define the K-fold Cross Validator\n",
        "kfold = KFold(n_splits=num_folds, shuffle=True)\n",
        "\n",
        "# K-fold Cross Validation model evaluation\n",
        "fold_no = 1\n",
        "for train_index, test_index in kfold.split(XTrainScaled):\n",
        "\n",
        "  # Define the model architecture\n",
        "  model1 = Sequential()\n",
        "  model1.add(Dense(68, input_dim=68, kernel_initializer='normal', activation='relu'))\n",
        "  model1.add(Dense(1, kernel_initializer='normal'))\n",
        "  # Compile model\n",
        "  model1.compile(loss='mean_squared_error', optimizer='adam')\n",
        "\n",
        "  # Generate a print\n",
        "  print('------------------------------------------------------------------------')\n",
        "  print(f'Training for fold {fold_no} ...')\n",
        "\n",
        "  # Fit data to model\n",
        "  history = model1.fit(XTrainScaled.iloc[train_index], GPAScaled2.iloc[train_index],\n",
        "              batch_size=batch_size,\n",
        "              epochs=no_epochs,\n",
        "              verbose=verbosity)\n",
        "\n",
        "  # Generate generalization metrics\n",
        "  scores = model1.evaluate(XTrainScaled.iloc[test_index], GPAScaled2.iloc[test_index], verbose=0)\n",
        "  #print(f'Score for fold {fold_no}: {model1.metrics_names[0]} of {scores[0]}; {model1.metrics_names[1]} of {scores[1]*100}%')\n",
        "  \n",
        "  print(f'Score for fold {fold_no}: {model1.metrics_names[0]} is {scores}')\n",
        "\n",
        "  #acc_per_fold.append(scores[1] * 100)\n",
        "  loss_per_fold.append(scores)\n",
        "\n",
        "  # Increase fold number\n",
        "  fold_no = fold_no + 1\n",
        "\n",
        "# == Provide average scores ==\n",
        "print('------------------------------------------------------------------------')\n",
        "print('Score per fold')\n",
        "for i in range(0, len(loss_per_fold)):\n",
        "  print('------------------------------------------------------------------------')\n",
        "  print(f'> Fold {i+1} - Loss: {loss_per_fold[i]}')\n",
        "print('------------------------------------------------------------------------')\n",
        "print('Average scores for all folds:')\n",
        "print(f'> Loss: {np.mean(loss_per_fold)}')\n",
        "print('------------------------------------------------------------------------')"
      ],
      "metadata": {
        "colab": {
          "base_uri": "https://localhost:8080/"
        },
        "id": "bS09P80sNOGf",
        "outputId": "2ee7c355-343f-4ae2-b2cf-f09980579c03"
      },
      "execution_count": 32,
      "outputs": [
        {
          "output_type": "stream",
          "name": "stdout",
          "text": [
            "------------------------------------------------------------------------\n",
            "Training for fold 1 ...\n",
            "Score for fold 1: loss is 0.023964300751686096\n",
            "------------------------------------------------------------------------\n",
            "Training for fold 2 ...\n",
            "Score for fold 2: loss is 0.02648576721549034\n",
            "------------------------------------------------------------------------\n",
            "Training for fold 3 ...\n",
            "Score for fold 3: loss is 0.02402820810675621\n",
            "------------------------------------------------------------------------\n",
            "Training for fold 4 ...\n",
            "Score for fold 4: loss is 0.024193812161684036\n",
            "------------------------------------------------------------------------\n",
            "Training for fold 5 ...\n",
            "Score for fold 5: loss is 0.03197040036320686\n",
            "------------------------------------------------------------------------\n",
            "Training for fold 6 ...\n",
            "Score for fold 6: loss is 0.02797754667699337\n",
            "------------------------------------------------------------------------\n",
            "Training for fold 7 ...\n",
            "Score for fold 7: loss is 0.025814814493060112\n",
            "------------------------------------------------------------------------\n",
            "Training for fold 8 ...\n",
            "Score for fold 8: loss is 0.025978105142712593\n",
            "------------------------------------------------------------------------\n",
            "Training for fold 9 ...\n",
            "Score for fold 9: loss is 0.03156396746635437\n",
            "------------------------------------------------------------------------\n",
            "Training for fold 10 ...\n",
            "Score for fold 10: loss is 0.02638920769095421\n",
            "------------------------------------------------------------------------\n",
            "Score per fold\n",
            "------------------------------------------------------------------------\n",
            "> Fold 1 - Loss: 0.023964300751686096\n",
            "------------------------------------------------------------------------\n",
            "> Fold 2 - Loss: 0.02648576721549034\n",
            "------------------------------------------------------------------------\n",
            "> Fold 3 - Loss: 0.02402820810675621\n",
            "------------------------------------------------------------------------\n",
            "> Fold 4 - Loss: 0.024193812161684036\n",
            "------------------------------------------------------------------------\n",
            "> Fold 5 - Loss: 0.03197040036320686\n",
            "------------------------------------------------------------------------\n",
            "> Fold 6 - Loss: 0.02797754667699337\n",
            "------------------------------------------------------------------------\n",
            "> Fold 7 - Loss: 0.025814814493060112\n",
            "------------------------------------------------------------------------\n",
            "> Fold 8 - Loss: 0.025978105142712593\n",
            "------------------------------------------------------------------------\n",
            "> Fold 9 - Loss: 0.03156396746635437\n",
            "------------------------------------------------------------------------\n",
            "> Fold 10 - Loss: 0.02638920769095421\n",
            "------------------------------------------------------------------------\n",
            "Average scores for all folds:\n",
            "> Loss: 0.02683661300688982\n",
            "------------------------------------------------------------------------\n"
          ]
        }
      ]
    },
    {
      "cell_type": "code",
      "source": [
        "#plot the loss and validation loss of the dataset\n",
        "history_df = pd.DataFrame(history.history)\n",
        "plt.plot(history_df['loss'], label='loss')\n",
        "# plt.plot(history_df['val_loss'], label='val_loss')\n",
        "\n",
        "plt.legend()"
      ],
      "metadata": {
        "colab": {
          "base_uri": "https://localhost:8080/",
          "height": 283
        },
        "id": "MYh-cLPPK0Cu",
        "outputId": "91a7c448-5f6d-4869-e839-084da30e823e"
      },
      "execution_count": 33,
      "outputs": [
        {
          "output_type": "execute_result",
          "data": {
            "text/plain": [
              "<matplotlib.legend.Legend at 0x7f5eeaeba650>"
            ]
          },
          "metadata": {},
          "execution_count": 33
        },
        {
          "output_type": "display_data",
          "data": {
            "image/png": "[encoded data removed]",
            "text/plain": [
              "<Figure size 432x288 with 1 Axes>"
            ]
          },
          "metadata": {
            "needs_background": "light"
          }
        }
      ]
    },
    {
      "cell_type": "code",
      "source": [
        "model1.evaluate(XTrainScaled.iloc[test_index], GPAScaled.iloc[test_index], batch_size=10)"
      ],
      "metadata": {
        "colab": {
          "base_uri": "https://localhost:8080/"
        },
        "id": "qyV9BueH1kQ-",
        "outputId": "296e4afa-472c-4239-9a3b-ed5aefe2391a"
      },
      "execution_count": 34,
      "outputs": [
        {
          "output_type": "stream",
          "name": "stdout",
          "text": [
            "26/26 [==============================] - 0s 3ms/step - loss: 0.0264\n"
          ]
        },
        {
          "output_type": "execute_result",
          "data": {
            "text/plain": [
              "0.02638920582830906"
            ]
          },
          "metadata": {},
          "execution_count": 34
        }
      ]
    },
    {
      "cell_type": "code",
      "source": [
        "y_predict_dnn = model1.predict(XTrainScaled.iloc[test_index])\n",
        "y_test = GPAScaled2.iloc[test_index]"
      ],
      "metadata": {
        "id": "ku_UW8FSNMFT"
      },
      "execution_count": 35,
      "outputs": []
    },
    {
      "cell_type": "code",
      "source": [
        "mean_squared_error(y_test, y_predict_dnn)"
      ],
      "metadata": {
        "colab": {
          "base_uri": "https://localhost:8080/"
        },
        "id": "KDPHCkl1Nhxk",
        "outputId": "72ea9cab-a5f0-4b5e-a78b-c38329ad352e"
      },
      "execution_count": 36,
      "outputs": [
        {
          "output_type": "execute_result",
          "data": {
            "text/plain": [
              "0.026389208722473047"
            ]
          },
          "metadata": {},
          "execution_count": 36
        }
      ]
    },
    {
      "cell_type": "markdown",
      "source": [
        "UNNORMALIZE TEST AND TEST PREDICT RESULTS FOR A DISPLAY"
      ],
      "metadata": {
        "id": "-zeO3CsKgNzd"
      }
    },
    {
      "cell_type": "code",
      "source": [
        "y_test1 = DF4.iloc[:,-1].iloc[test_index]"
      ],
      "metadata": {
        "id": "LpGpsrtAheEl"
      },
      "execution_count": 37,
      "outputs": []
    },
    {
      "cell_type": "code",
      "source": [
        "y_predict_dnn_UN = (GPAmax * y_predict_dnn) + (GPAmin * (1 - y_predict_dnn)) \n",
        "y_test_UN = (GPAmax * y_test) + (GPAmin * (1 - y_test))\n",
        "y_test_UN = y_test_UN.to_numpy()"
      ],
      "metadata": {
        "id": "WyRbPI1mgKVV"
      },
      "execution_count": 38,
      "outputs": []
    },
    {
      "cell_type": "code",
      "source": [
        "y_predict_dnn = y_predict_dnn.reshape(y_predict_dnn.shape[0],)\n",
        "fig = go.Figure()\n",
        "fig.add_trace(go.Scatter(y=y_test, name=\"y_test\", line_shape='linear'))\n",
        "fig.add_trace(go.Scatter(y=y_predict_dnn, name=\"y_predict_dnn\", line_shape='linear'))\n",
        "fig.update_layout(title_text='NORMALIZED DNN MODEL RESULTS', title_x=0.5)\n",
        "fig.show()"
      ],
      "metadata": {
        "colab": {
          "base_uri": "https://localhost:8080/",
          "height": 542
        },
        "id": "XiGoVY1Uw39W",
        "outputId": "a82cdeb3-5d30-4d75-b5b4-fc1e1174266e"
      },
      "execution_count": 40,
      "outputs": [
        {
          "output_type": "display_data",
          "data": {
            "text/html": [
              "<html>\n",
              "<head><meta charset=\"utf-8\" /></head>\n",
              "<body>\n",
              "    <div>            <script src=\"https://cdnjs.cloudflare.com/ajax/libs/mathjax/2.7.5/MathJax.js?config=TeX-AMS-MML_SVG\"></script><script type=\"text/javascript\">if (window.MathJax) {MathJax.Hub.Config({SVG: {font: \"STIX-Web\"}});}</script>                <script type=\"text/javascript\">window.PlotlyConfig = {MathJaxConfig: 'local'};</script>\n",
              "        <script src=\"https://cdn.plot.ly/plotly-2.8.3.min.js\"></script>                <div id=\"7447eaef-1b7d-41c1-b779-dc4a2612c75d\" class=\"plotly-graph-div\" style=\"height:525px; width:100%;\"></div>            <script type=\"text/javascript\">                                    window.PLOTLYENV=window.PLOTLYENV || {};                                    if (document.getElementById(\"7447eaef-1b7d-41c1-b779-dc4a2612c75d\")) {                    Plotly.newPlot(                        \"7447eaef-1b7d-41c1-b779-dc4a2612c75d\",                        [{\"line\":{\"shape\":\"linear\"},\"name\":\"y_test\",\"y\":[0.9666666666666667,0.7333333333333334,0.5,0.8666666666666667,0.7666666666666666,0.8333333333333334,1.0,1.0,0.96,0.9,0.9,0.9033333333333333,0.7333333333333334,1.0,0.9666666666666667,0.8333333333333334,1.0,1.0,0.6666666666666666,1.0,0.9233333333333333,1.0,1.0,0.9666666666666667,1.0,1.0,0.9333333333333332,0.8333333333333334,0.7999999999999999,0.8133333333333334,0.7333333333333334,0.6866666666666666,0.5666666666666668,0.9706666666666667,0.7333333333333334,0.9333333333333332,0.7666666666666666,0.6,0.9,0.8266666666666667,0.6666666666666666,0.5033333333333333,0.6766666666666666,0.9333333333333332,0.8033333333333333,1.0,0.6833333333333332,0.9733333333333333,0.8966666666666666,0.9733333333333333,0.9333333333333332,1.0,1.0,1.0,0.9033333333333333,0.3,0.5833333333333334,0.8333333333333334,0.7333333333333334,1.0,0.8666666666666667,0.88,0.7000000000000001,0.9233333333333333,0.22999999999999998,1.0,0.3666666666666667,0.7999999999999999,1.0,0.7333333333333334,0.6699999999999999,0.6,0.7466666666666667,0.9266666666666666,0.9766666666666667,0.8233333333333334,0.61,0.9666666666666667,0.89,0.65,0.5633333333333334,0.8566666666666666,0.9333333333333332,0.75,0.9333333333333332,0.9333333333333332,1.0,1.0,1.0,0.7333333333333334,0.9199999999999999,0.9700000000000001,1.0,0.8633333333333333,0.6566666666666667,0.0,0.4000000000000001,1.0,0.9666666666666667,0.5233333333333333,0.7333333333333334,0.8666666666666667,0.9866666666666667,1.0,0.8866666666666667,0.8666666666666667,0.8333333333333334,1.0,0.9333333333333332,0.9333333333333332,0.8666666666666667,0.7333333333333334,1.0,0.9,0.9666666666666667,0.0,0.98,0.7333333333333334,1.0,0.9666666666666667,1.0,0.8333333333333334,0.7000000000000001,0.3333333333333333,1.0,0.7766666666666667,0.9333333333333332,0.9,0.9900000000000001,0.8366666666666666,0.9900000000000001,0.8333333333333334,0.4333333333333333,0.6333333333333333,0.7999999999999999,0.7333333333333334,0.7333333333333334,0.7999999999999999,0.88,0.8133333333333334,0.7999999999999999,0.8666666666666667,0.9333333333333332,0.8866666666666667,0.8666666666666667,0.8333333333333334,1.0,0.88,0.71,1.0,0.8666666666666667,0.7666666666666666,0.7999999999999999,1.0,0.7000000000000001,0.7999999999999999,0.9199999999999999,0.8300000000000001,0.9,0.9666666666666667,0.6333333333333333,0.9833333333333334,0.5933333333333333,0.9333333333333332,0.7599999999999999,0.6666666666666666,1.0,0.7666666666666666,0.8333333333333334,0.6,0.9233333333333333,0.9066666666666667,0.9,0.5333333333333333,0.9166666666666666,0.9333333333333332,0.9066666666666667,0.9733333333333333,0.9033333333333333,0.9333333333333332,1.0,0.9833333333333334,0.7999999999999999,0.9,1.0,0.7999999999999999,0.7666666666666666,0.8666666666666667,0.8166666666666668,0.7999999999999999,0.7999999999999999,0.8333333333333334,1.0,0.9633333333333334,0.5,0.7999999999999999,1.0,0.8333333333333334,1.0,0.79,0.9,0.9199999999999999,0.9500000000000001,0.9833333333333334,0.9,0.9,0.41999999999999993,0.6666666666666666,0.8333333333333334,0.6666666666666666,1.0,0.9,0.8666666666666667,0.8866666666666667,0.7866666666666666,0.7999999999999999,0.6666666666666666,0.9033333333333333,0.7999999999999999,0.7333333333333334,0.7566666666666667,0.8533333333333334,0.7799999999999999,1.0,0.8566666666666666,1.0,0.8466666666666667,0.7333333333333334,0.9666666666666667,0.9233333333333333,0.9766666666666667,0.665,0.7666666666666666,1.0,0.7999999999999999,0.9266666666666666,0.93,0.7666666666666666,0.8366666666666666,0.5666666666666668,0.9333333333333332,0.8666666666666667,0.8066666666666666,0.6333333333333333,0.86,0.7333333333333334,0.61,0.3633333333333333,0.7333333333333334,0.86,0.9,0.7633333333333333,0.9633333333333334,0.8333333333333334,0.6266666666666666,0.7666666666666666,0.5333333333333333,0.9700000000000001,0.5666666666666668],\"type\":\"scatter\"},{\"line\":{\"shape\":\"linear\"},\"name\":\"y_predict_dnn\",\"y\":[0.9177884459495544,0.8111472725868225,0.708155632019043,0.9247961044311523,0.6846073865890503,0.8494407534599304,1.0555486679077148,0.939157247543335,0.7122057676315308,0.7765558362007141,0.8839461207389832,0.945212185382843,0.9191555380821228,0.9391099214553833,0.9107995629310608,0.8215535879135132,0.7962346076965332,0.8633997440338135,0.7144815921783447,0.806470513343811,0.9168146252632141,0.980251133441925,0.8913530707359314,1.024766206741333,0.9447622895240784,0.880583643913269,0.9379300475120544,0.9510534405708313,0.8047971129417419,0.9310466647148132,0.8371593356132507,0.9131326675415039,0.7871938347816467,0.8889217376708984,0.7965995073318481,0.8003022074699402,0.8880568146705627,0.7963920831680298,0.9371646046638489,1.0816898345947266,0.7857514023780823,0.8160146474838257,0.7952180504798889,1.072756052017212,0.827799379825592,0.8930132389068604,1.08933687210083,1.0365197658538818,0.9307501912117004,0.8111057877540588,0.9308080077171326,0.9978558421134949,0.8840088248252869,0.8016137480735779,0.9491314888000488,0.680281937122345,0.8112746477127075,0.8717392086982727,0.9892817139625549,0.8798282742500305,0.9051650166511536,0.7250640988349915,0.7226210832595825,0.9839860796928406,0.9644072651863098,0.9506130814552307,0.7040486335754395,1.0076911449432373,0.8530341982841492,0.8189511895179749,0.7834939360618591,0.7616251707077026,0.9643632173538208,0.7791014909744263,0.803895890712738,0.872711718082428,0.916942298412323,0.8908900022506714,0.827804446220398,0.915232241153717,0.672073483467102,0.8505565524101257,0.8757991194725037,0.7363680601119995,0.8525833487510681,0.8203735947608948,0.9379479289054871,1.0653157234191895,0.8670405149459839,0.8203168511390686,0.7950243949890137,0.7875608205795288,0.7437252402305603,0.7331526279449463,0.8819329142570496,0.8065715432167053,0.9143040776252747,0.878412127494812,0.8442986607551575,0.7845728397369385,0.8444330096244812,0.8819763660430908,1.048628568649292,0.9274564981460571,0.8841878175735474,0.8120434880256653,0.8415034413337708,0.7953886389732361,0.8579967021942139,0.8081575036048889,0.8590624332427979,0.8217123746871948,0.7835364937782288,0.8475301265716553,0.9202116131782532,0.43709635734558105,0.8351858258247375,0.8921315670013428,0.9305613040924072,0.89170902967453,0.9870989322662354,0.8715416789054871,1.0214571952819824,0.670783519744873,0.8986493945121765,0.7812203764915466,0.8936285972595215,0.8229809999465942,0.9564210176467896,0.8839505314826965,0.9270778298377991,0.7759301066398621,0.8275942206382751,0.6625112891197205,0.8703548312187195,0.8884526491165161,0.8778997659683228,0.8839063048362732,0.9350454211235046,0.8044622540473938,0.7196602821350098,0.8436576128005981,0.912177562713623,0.8704752922058105,0.8762283325195312,0.7920964360237122,0.7051377296447754,0.8237181901931763,0.9346100687980652,0.7763446569442749,0.8130891919136047,0.8188558220863342,0.8119229674339294,0.9462572336196899,0.8694522976875305,0.9256426095962524,0.9428083300590515,0.8261578679084778,1.0252587795257568,0.8946693539619446,0.7410385012626648,0.9111230969429016,0.9275525212287903,1.033045768737793,0.7886239290237427,0.6452445983886719,0.813750684261322,0.7839367389678955,0.8873698711395264,0.6718846559524536,0.9366579055786133,0.9225428700447083,0.9169284105300903,0.9065868258476257,0.950851559638977,0.9703969359397888,0.8678451180458069,0.8037378787994385,0.8406652212142944,0.9963661432266235,0.8170852661132812,0.7122064828872681,0.5998626947402954,0.8862701654434204,0.8166938424110413,0.5059704184532166,0.6606380343437195,1.031433343887329,0.8444254994392395,0.9203343391418457,0.8515300154685974,0.6919959783554077,0.8228815793991089,1.0397050380706787,0.7375572919845581,0.7570102214813232,0.9332553148269653,0.7686554789543152,0.9605512022972107,0.7532137036323547,0.7660375237464905,0.8804202079772949,1.0140244960784912,1.0036096572875977,0.8184862732887268,0.9516903758049011,0.7219995260238647,0.7918278574943542,0.7500643134117126,0.7843203544616699,0.9320127964019775,0.8824555277824402,0.9157159328460693,0.7316843271255493,0.7875478863716125,0.7000095844268799,0.8287642002105713,0.9696067571640015,0.780632495880127,0.8874105215072632,1.0242600440979004,0.9903823733329773,0.8519006371498108,1.0026533603668213,0.9749646186828613,0.8886095881462097,0.8565614819526672,0.9373326897621155,1.040763258934021,0.9561996459960938,0.7012865543365479,0.6970059871673584,0.8406242728233337,1.0773125886917114,0.8414531946182251,0.9198798537254333,1.0013998746871948,0.8471795916557312,0.8930861949920654,0.865947425365448,0.7569092512130737,0.7708172798156738,0.8757296204566956,0.4345589876174927,0.8435686826705933,0.80580073595047,0.8356500864028931,0.7965897917747498,0.7558531761169434,0.9727568030357361,0.834844172000885,0.9157408475875854,0.8610794544219971,0.9830158352851868,0.8562616109848022,0.9275833368301392,0.8245447278022766,0.9065322279930115,0.8219104409217834],\"type\":\"scatter\"}],                        {\"template\":{\"data\":{\"bar\":[{\"error_x\":{\"color\":\"#2a3f5f\"},\"error_y\":{\"color\":\"#2a3f5f\"},\"marker\":{\"line\":{\"color\":\"#E5ECF6\",\"width\":0.5},\"pattern\":{\"fillmode\":\"overlay\",\"size\":10,\"solidity\":0.2}},\"type\":\"bar\"}],\"barpolar\":[{\"marker\":{\"line\":{\"color\":\"#E5ECF6\",\"width\":0.5},\"pattern\":{\"fillmode\":\"overlay\",\"size\":10,\"solidity\":0.2}},\"type\":\"barpolar\"}],\"carpet\":[{\"aaxis\":{\"endlinecolor\":\"#2a3f5f\",\"gridcolor\":\"white\",\"linecolor\":\"white\",\"minorgridcolor\":\"white\",\"startlinecolor\":\"#2a3f5f\"},\"baxis\":{\"endlinecolor\":\"#2a3f5f\",\"gridcolor\":\"white\",\"linecolor\":\"white\",\"minorgridcolor\":\"white\",\"startlinecolor\":\"#2a3f5f\"},\"type\":\"carpet\"}],\"choropleth\":[{\"colorbar\":{\"outlinewidth\":0,\"ticks\":\"\"},\"type\":\"choropleth\"}],\"contour\":[{\"colorbar\":{\"outlinewidth\":0,\"ticks\":\"\"},\"colorscale\":[[0.0,\"#0d0887\"],[0.1111111111111111,\"#46039f\"],[0.2222222222222222,\"#7201a8\"],[0.3333333333333333,\"#9c179e\"],[0.4444444444444444,\"#bd3786\"],[0.5555555555555556,\"#d8576b\"],[0.6666666666666666,\"#ed7953\"],[0.7777777777777778,\"#fb9f3a\"],[0.8888888888888888,\"#fdca26\"],[1.0,\"#f0f921\"]],\"type\":\"contour\"}],\"contourcarpet\":[{\"colorbar\":{\"outlinewidth\":0,\"ticks\":\"\"},\"type\":\"contourcarpet\"}],\"heatmap\":[{\"colorbar\":{\"outlinewidth\":0,\"ticks\":\"\"},\"colorscale\":[[0.0,\"#0d0887\"],[0.1111111111111111,\"#46039f\"],[0.2222222222222222,\"#7201a8\"],[0.3333333333333333,\"#9c179e\"],[0.4444444444444444,\"#bd3786\"],[0.5555555555555556,\"#d8576b\"],[0.6666666666666666,\"#ed7953\"],[0.7777777777777778,\"#fb9f3a\"],[0.8888888888888888,\"#fdca26\"],[1.0,\"#f0f921\"]],\"type\":\"heatmap\"}],\"heatmapgl\":[{\"colorbar\":{\"outlinewidth\":0,\"ticks\":\"\"},\"colorscale\":[[0.0,\"#0d0887\"],[0.1111111111111111,\"#46039f\"],[0.2222222222222222,\"#7201a8\"],[0.3333333333333333,\"#9c179e\"],[0.4444444444444444,\"#bd3786\"],[0.5555555555555556,\"#d8576b\"],[0.6666666666666666,\"#ed7953\"],[0.7777777777777778,\"#fb9f3a\"],[0.8888888888888888,\"#fdca26\"],[1.0,\"#f0f921\"]],\"type\":\"heatmapgl\"}],\"histogram\":[{\"marker\":{\"pattern\":{\"fillmode\":\"overlay\",\"size\":10,\"solidity\":0.2}},\"type\":\"histogram\"}],\"histogram2d\":[{\"colorbar\":{\"outlinewidth\":0,\"ticks\":\"\"},\"colorscale\":[[0.0,\"#0d0887\"],[0.1111111111111111,\"#46039f\"],[0.2222222222222222,\"#7201a8\"],[0.3333333333333333,\"#9c179e\"],[0.4444444444444444,\"#bd3786\"],[0.5555555555555556,\"#d8576b\"],[0.6666666666666666,\"#ed7953\"],[0.7777777777777778,\"#fb9f3a\"],[0.8888888888888888,\"#fdca26\"],[1.0,\"#f0f921\"]],\"type\":\"histogram2d\"}],\"histogram2dcontour\":[{\"colorbar\":{\"outlinewidth\":0,\"ticks\":\"\"},\"colorscale\":[[0.0,\"#0d0887\"],[0.1111111111111111,\"#46039f\"],[0.2222222222222222,\"#7201a8\"],[0.3333333333333333,\"#9c179e\"],[0.4444444444444444,\"#bd3786\"],[0.5555555555555556,\"#d8576b\"],[0.6666666666666666,\"#ed7953\"],[0.7777777777777778,\"#fb9f3a\"],[0.8888888888888888,\"#fdca26\"],[1.0,\"#f0f921\"]],\"type\":\"histogram2dcontour\"}],\"mesh3d\":[{\"colorbar\":{\"outlinewidth\":0,\"ticks\":\"\"},\"type\":\"mesh3d\"}],\"parcoords\":[{\"line\":{\"colorbar\":{\"outlinewidth\":0,\"ticks\":\"\"}},\"type\":\"parcoords\"}],\"pie\":[{\"automargin\":true,\"type\":\"pie\"}],\"scatter\":[{\"marker\":{\"colorbar\":{\"outlinewidth\":0,\"ticks\":\"\"}},\"type\":\"scatter\"}],\"scatter3d\":[{\"line\":{\"colorbar\":{\"outlinewidth\":0,\"ticks\":\"\"}},\"marker\":{\"colorbar\":{\"outlinewidth\":0,\"ticks\":\"\"}},\"type\":\"scatter3d\"}],\"scattercarpet\":[{\"marker\":{\"colorbar\":{\"outlinewidth\":0,\"ticks\":\"\"}},\"type\":\"scattercarpet\"}],\"scattergeo\":[{\"marker\":{\"colorbar\":{\"outlinewidth\":0,\"ticks\":\"\"}},\"type\":\"scattergeo\"}],\"scattergl\":[{\"marker\":{\"colorbar\":{\"outlinewidth\":0,\"ticks\":\"\"}},\"type\":\"scattergl\"}],\"scattermapbox\":[{\"marker\":{\"colorbar\":{\"outlinewidth\":0,\"ticks\":\"\"}},\"type\":\"scattermapbox\"}],\"scatterpolar\":[{\"marker\":{\"colorbar\":{\"outlinewidth\":0,\"ticks\":\"\"}},\"type\":\"scatterpolar\"}],\"scatterpolargl\":[{\"marker\":{\"colorbar\":{\"outlinewidth\":0,\"ticks\":\"\"}},\"type\":\"scatterpolargl\"}],\"scatterternary\":[{\"marker\":{\"colorbar\":{\"outlinewidth\":0,\"ticks\":\"\"}},\"type\":\"scatterternary\"}],\"surface\":[{\"colorbar\":{\"outlinewidth\":0,\"ticks\":\"\"},\"colorscale\":[[0.0,\"#0d0887\"],[0.1111111111111111,\"#46039f\"],[0.2222222222222222,\"#7201a8\"],[0.3333333333333333,\"#9c179e\"],[0.4444444444444444,\"#bd3786\"],[0.5555555555555556,\"#d8576b\"],[0.6666666666666666,\"#ed7953\"],[0.7777777777777778,\"#fb9f3a\"],[0.8888888888888888,\"#fdca26\"],[1.0,\"#f0f921\"]],\"type\":\"surface\"}],\"table\":[{\"cells\":{\"fill\":{\"color\":\"#EBF0F8\"},\"line\":{\"color\":\"white\"}},\"header\":{\"fill\":{\"color\":\"#C8D4E3\"},\"line\":{\"color\":\"white\"}},\"type\":\"table\"}]},\"layout\":{\"annotationdefaults\":{\"arrowcolor\":\"#2a3f5f\",\"arrowhead\":0,\"arrowwidth\":1},\"autotypenumbers\":\"strict\",\"coloraxis\":{\"colorbar\":{\"outlinewidth\":0,\"ticks\":\"\"}},\"colorscale\":{\"diverging\":[[0,\"#8e0152\"],[0.1,\"#c51b7d\"],[0.2,\"#de77ae\"],[0.3,\"#f1b6da\"],[0.4,\"#fde0ef\"],[0.5,\"#f7f7f7\"],[0.6,\"#e6f5d0\"],[0.7,\"#b8e186\"],[0.8,\"#7fbc41\"],[0.9,\"#4d9221\"],[1,\"#276419\"]],\"sequential\":[[0.0,\"#0d0887\"],[0.1111111111111111,\"#46039f\"],[0.2222222222222222,\"#7201a8\"],[0.3333333333333333,\"#9c179e\"],[0.4444444444444444,\"#bd3786\"],[0.5555555555555556,\"#d8576b\"],[0.6666666666666666,\"#ed7953\"],[0.7777777777777778,\"#fb9f3a\"],[0.8888888888888888,\"#fdca26\"],[1.0,\"#f0f921\"]],\"sequentialminus\":[[0.0,\"#0d0887\"],[0.1111111111111111,\"#46039f\"],[0.2222222222222222,\"#7201a8\"],[0.3333333333333333,\"#9c179e\"],[0.4444444444444444,\"#bd3786\"],[0.5555555555555556,\"#d8576b\"],[0.6666666666666666,\"#ed7953\"],[0.7777777777777778,\"#fb9f3a\"],[0.8888888888888888,\"#fdca26\"],[1.0,\"#f0f921\"]]},\"colorway\":[\"#636efa\",\"#EF553B\",\"#00cc96\",\"#ab63fa\",\"#FFA15A\",\"#19d3f3\",\"#FF6692\",\"#B6E880\",\"#FF97FF\",\"#FECB52\"],\"font\":{\"color\":\"#2a3f5f\"},\"geo\":{\"bgcolor\":\"white\",\"lakecolor\":\"white\",\"landcolor\":\"#E5ECF6\",\"showlakes\":true,\"showland\":true,\"subunitcolor\":\"white\"},\"hoverlabel\":{\"align\":\"left\"},\"hovermode\":\"closest\",\"mapbox\":{\"style\":\"light\"},\"paper_bgcolor\":\"white\",\"plot_bgcolor\":\"#E5ECF6\",\"polar\":{\"angularaxis\":{\"gridcolor\":\"white\",\"linecolor\":\"white\",\"ticks\":\"\"},\"bgcolor\":\"#E5ECF6\",\"radialaxis\":{\"gridcolor\":\"white\",\"linecolor\":\"white\",\"ticks\":\"\"}},\"scene\":{\"xaxis\":{\"backgroundcolor\":\"#E5ECF6\",\"gridcolor\":\"white\",\"gridwidth\":2,\"linecolor\":\"white\",\"showbackground\":true,\"ticks\":\"\",\"zerolinecolor\":\"white\"},\"yaxis\":{\"backgroundcolor\":\"#E5ECF6\",\"gridcolor\":\"white\",\"gridwidth\":2,\"linecolor\":\"white\",\"showbackground\":true,\"ticks\":\"\",\"zerolinecolor\":\"white\"},\"zaxis\":{\"backgroundcolor\":\"#E5ECF6\",\"gridcolor\":\"white\",\"gridwidth\":2,\"linecolor\":\"white\",\"showbackground\":true,\"ticks\":\"\",\"zerolinecolor\":\"white\"}},\"shapedefaults\":{\"line\":{\"color\":\"#2a3f5f\"}},\"ternary\":{\"aaxis\":{\"gridcolor\":\"white\",\"linecolor\":\"white\",\"ticks\":\"\"},\"baxis\":{\"gridcolor\":\"white\",\"linecolor\":\"white\",\"ticks\":\"\"},\"bgcolor\":\"#E5ECF6\",\"caxis\":{\"gridcolor\":\"white\",\"linecolor\":\"white\",\"ticks\":\"\"}},\"title\":{\"x\":0.05},\"xaxis\":{\"automargin\":true,\"gridcolor\":\"white\",\"linecolor\":\"white\",\"ticks\":\"\",\"title\":{\"standoff\":15},\"zerolinecolor\":\"white\",\"zerolinewidth\":2},\"yaxis\":{\"automargin\":true,\"gridcolor\":\"white\",\"linecolor\":\"white\",\"ticks\":\"\",\"title\":{\"standoff\":15},\"zerolinecolor\":\"white\",\"zerolinewidth\":2}}},\"title\":{\"text\":\"NORMALIZED DNN MODEL RESULTS\",\"x\":0.5}},                        {\"responsive\": true}                    ).then(function(){\n",
              "                            \n",
              "var gd = document.getElementById('7447eaef-1b7d-41c1-b779-dc4a2612c75d');\n",
              "var x = new MutationObserver(function (mutations, observer) {{\n",
              "        var display = window.getComputedStyle(gd).display;\n",
              "        if (!display || display === 'none') {{\n",
              "            console.log([gd, 'removed!']);\n",
              "            Plotly.purge(gd);\n",
              "            observer.disconnect();\n",
              "        }}\n",
              "}});\n",
              "\n",
              "// Listen for the removal of the full notebook cells\n",
              "var notebookContainer = gd.closest('#notebook-container');\n",
              "if (notebookContainer) {{\n",
              "    x.observe(notebookContainer, {childList: true});\n",
              "}}\n",
              "\n",
              "// Listen for the clearing of the current output cell\n",
              "var outputEl = gd.closest('.output');\n",
              "if (outputEl) {{\n",
              "    x.observe(outputEl, {childList: true});\n",
              "}}\n",
              "\n",
              "                        })                };                            </script>        </div>\n",
              "</body>\n",
              "</html>"
            ]
          },
          "metadata": {}
        }
      ]
    },
    {
      "cell_type": "code",
      "source": [
        "idx   = np.argsort(y_test)\n",
        "y_predict_dnn = y_predict_dnn.reshape(y_predict_dnn.shape[0],)\n",
        "list1 = np.array(y_test)[idx]\n",
        "list2 = np.array(y_predict_dnn)[idx]\n",
        "fig = go.Figure()\n",
        "fig.add_trace(go.Scatter(y=list1, name=\"y_test\", line_shape='linear'))\n",
        "fig.add_trace(go.Scatter(y=list2, name=\"y_predict_dnn\", line_shape='linear'))\n",
        "fig.update_layout(title_text='NORMALIZED DNN MODEL RESULTS SORTED', title_x=0.5)\n",
        "fig.show()"
      ],
      "metadata": {
        "colab": {
          "base_uri": "https://localhost:8080/",
          "height": 542
        },
        "id": "9jOF7ftmjqhs",
        "outputId": "d2bf7ec3-364b-44da-9d49-a85ee63894e0"
      },
      "execution_count": 41,
      "outputs": [
        {
          "output_type": "display_data",
          "data": {
            "text/html": [
              "<html>\n",
              "<head><meta charset=\"utf-8\" /></head>\n",
              "<body>\n",
              "    <div>            <script src=\"https://cdnjs.cloudflare.com/ajax/libs/mathjax/2.7.5/MathJax.js?config=TeX-AMS-MML_SVG\"></script><script type=\"text/javascript\">if (window.MathJax) {MathJax.Hub.Config({SVG: {font: \"STIX-Web\"}});}</script>                <script type=\"text/javascript\">window.PlotlyConfig = {MathJaxConfig: 'local'};</script>\n",
              "        <script src=\"https://cdn.plot.ly/plotly-2.8.3.min.js\"></script>                <div id=\"69efe62b-2827-4e24-a0fd-fe88335af172\" class=\"plotly-graph-div\" style=\"height:525px; width:100%;\"></div>            <script type=\"text/javascript\">                                    window.PLOTLYENV=window.PLOTLYENV || {};                                    if (document.getElementById(\"69efe62b-2827-4e24-a0fd-fe88335af172\")) {                    Plotly.newPlot(                        \"69efe62b-2827-4e24-a0fd-fe88335af172\",                        [{\"line\":{\"shape\":\"linear\"},\"name\":\"y_test\",\"y\":[0.0,0.0,0.22999999999999998,0.3,0.3333333333333333,0.3633333333333333,0.3666666666666667,0.4000000000000001,0.41999999999999993,0.4333333333333333,0.5,0.5,0.5033333333333333,0.5233333333333333,0.5333333333333333,0.5333333333333333,0.5633333333333334,0.5666666666666668,0.5666666666666668,0.5666666666666668,0.5833333333333334,0.5933333333333333,0.6,0.6,0.6,0.61,0.61,0.6266666666666666,0.6333333333333333,0.6333333333333333,0.6333333333333333,0.65,0.6566666666666667,0.665,0.6666666666666666,0.6666666666666666,0.6666666666666666,0.6666666666666666,0.6666666666666666,0.6666666666666666,0.6699999999999999,0.6766666666666666,0.6833333333333332,0.6866666666666666,0.7000000000000001,0.7000000000000001,0.7000000000000001,0.71,0.7333333333333334,0.7333333333333334,0.7333333333333334,0.7333333333333334,0.7333333333333334,0.7333333333333334,0.7333333333333334,0.7333333333333334,0.7333333333333334,0.7333333333333334,0.7333333333333334,0.7333333333333334,0.7333333333333334,0.7333333333333334,0.7333333333333334,0.7333333333333334,0.7466666666666667,0.75,0.7566666666666667,0.7599999999999999,0.7633333333333333,0.7666666666666666,0.7666666666666666,0.7666666666666666,0.7666666666666666,0.7666666666666666,0.7666666666666666,0.7666666666666666,0.7666666666666666,0.7766666666666667,0.7799999999999999,0.7866666666666666,0.79,0.7999999999999999,0.7999999999999999,0.7999999999999999,0.7999999999999999,0.7999999999999999,0.7999999999999999,0.7999999999999999,0.7999999999999999,0.7999999999999999,0.7999999999999999,0.7999999999999999,0.7999999999999999,0.7999999999999999,0.7999999999999999,0.7999999999999999,0.8033333333333333,0.8066666666666666,0.8133333333333334,0.8133333333333334,0.8166666666666668,0.8233333333333334,0.8266666666666667,0.8300000000000001,0.8333333333333334,0.8333333333333334,0.8333333333333334,0.8333333333333334,0.8333333333333334,0.8333333333333334,0.8333333333333334,0.8333333333333334,0.8333333333333334,0.8333333333333334,0.8333333333333334,0.8333333333333334,0.8333333333333334,0.8366666666666666,0.8366666666666666,0.8466666666666667,0.8533333333333334,0.8566666666666666,0.8566666666666666,0.86,0.86,0.8633333333333333,0.8666666666666667,0.8666666666666667,0.8666666666666667,0.8666666666666667,0.8666666666666667,0.8666666666666667,0.8666666666666667,0.8666666666666667,0.8666666666666667,0.8666666666666667,0.8666666666666667,0.88,0.88,0.88,0.8866666666666667,0.8866666666666667,0.8866666666666667,0.89,0.8966666666666666,0.9,0.9,0.9,0.9,0.9,0.9,0.9,0.9,0.9,0.9,0.9,0.9,0.9,0.9033333333333333,0.9033333333333333,0.9033333333333333,0.9033333333333333,0.9066666666666667,0.9066666666666667,0.9166666666666666,0.9199999999999999,0.9199999999999999,0.9199999999999999,0.9233333333333333,0.9233333333333333,0.9233333333333333,0.9233333333333333,0.9266666666666666,0.9266666666666666,0.93,0.9333333333333332,0.9333333333333332,0.9333333333333332,0.9333333333333332,0.9333333333333332,0.9333333333333332,0.9333333333333332,0.9333333333333332,0.9333333333333332,0.9333333333333332,0.9333333333333332,0.9333333333333332,0.9333333333333332,0.9333333333333332,0.9333333333333332,0.9500000000000001,0.96,0.9633333333333334,0.9633333333333334,0.9666666666666667,0.9666666666666667,0.9666666666666667,0.9666666666666667,0.9666666666666667,0.9666666666666667,0.9666666666666667,0.9666666666666667,0.9666666666666667,0.9700000000000001,0.9700000000000001,0.9706666666666667,0.9733333333333333,0.9733333333333333,0.9733333333333333,0.9766666666666667,0.9766666666666667,0.98,0.9833333333333334,0.9833333333333334,0.9833333333333334,0.9866666666666667,0.9900000000000001,0.9900000000000001,1.0,1.0,1.0,1.0,1.0,1.0,1.0,1.0,1.0,1.0,1.0,1.0,1.0,1.0,1.0,1.0,1.0,1.0,1.0,1.0,1.0,1.0,1.0,1.0,1.0,1.0,1.0,1.0,1.0,1.0,1.0,1.0,1.0,1.0,1.0,1.0,1.0,1.0,1.0,1.0,1.0],\"type\":\"scatter\"},{\"line\":{\"shape\":\"linear\"},\"name\":\"y_predict_dnn\",\"y\":[0.43709635734558105,0.8065715432167053,0.9644072651863098,0.680281937122345,0.670783519744873,0.7965897917747498,0.7040486335754395,0.9143040776252747,0.7219995260238647,0.8275942206382751,0.708155632019043,0.7375572919845581,0.8160146474838257,0.7845728397369385,0.8245447278022766,0.9065868258476257,0.672073483467102,0.7871938347816467,0.865947425365448,0.8219104409217834,0.8112746477127075,0.9275525212287903,0.7616251707077026,0.7963920831680298,0.6718846559524536,0.916942298412323,0.8356500864028931,0.8562616109848022,0.6625112891197205,0.7410385012626648,0.4345589876174927,0.915232241153717,0.8819329142570496,0.6970059871673584,0.6452445983886719,0.8287642002105713,0.7918278574943542,0.7144815921783447,0.7857514023780823,0.7843203544616699,0.7834939360618591,0.7952180504798889,1.08933687210083,0.9131326675415039,0.7226210832595825,1.0214571952819824,0.8694522976875305,0.9346100687980652,0.8189511895179749,0.8217123746871948,0.8778997659683228,0.8203168511390686,0.8444330096244812,0.8884526491165161,0.9892817139625549,0.8921315670013428,0.8111472725868225,0.7558531761169434,0.9191555380821228,0.8371593356132507,0.7965995073318481,0.8874105215072632,0.80580073595047,0.9373326897621155,0.9643632173538208,0.7363680601119995,1.0242600440979004,0.7886239290237427,0.9157408475875854,0.6606380343437195,0.8188558220863342,0.8880568146705627,0.8471795916557312,0.8406242728233337,0.7839367389678955,0.9275833368301392,0.6846073865890503,0.7812203764915466,0.8519006371498108,0.7875478863716125,0.7532137036323547,0.7196602821350098,0.8414531946182251,0.9256426095962524,0.8839063048362732,0.8119229674339294,0.8703548312187195,0.8047971129417419,0.8515300154685974,0.5998626947402954,0.5059704184532166,0.780632495880127,0.9203343391418457,1.0076911449432373,0.7570102214813232,0.7000095844268799,0.827799379825592,0.8757296204566956,0.8044622540473938,0.9310466647148132,0.8444254994392395,0.872711718082428,1.0816898345947266,0.8261578679084778,0.9830158352851868,0.8494407534599304,0.7759301066398621,0.7686554789543152,0.8215535879135132,0.7920964360237122,0.8873698711395264,0.6919959783554077,0.7500643134117126,0.8715416789054871,0.8717392086982727,0.8415034413337708,0.9510534405708313,0.8930861949920654,0.8839505314826965,0.8565614819526672,0.9903823733329773,0.9749646186828613,0.8505565524101257,0.9727568030357361,0.8435686826705933,0.7331526279449463,0.8762283325195312,0.8436576128005981,0.8819763660430908,0.7708172798156738,0.8130891919136047,0.8120434880256653,1.031433343887329,0.9247961044311523,0.9157159328460693,0.9051650166511536,0.8590624332427979,0.8237181901931763,0.7250640988349915,0.9350454211235046,0.8704752922058105,0.7316843271255493,0.8841878175735474,0.827804446220398,0.9307501912117004,0.9516903758049011,0.8862701654434204,0.8824555277824402,0.9371646046638489,0.8184862732887268,0.9169284105300903,1.0252587795257568,0.7660375237464905,0.8475301265716553,0.7765558362007141,0.834844172000885,0.8839461207389832,0.8229809999465942,0.8406652212142944,0.9491314888000488,0.9696067571640015,0.945212185382843,0.8678451180458069,0.9225428700447083,0.950851559638977,0.7950243949890137,0.9428083300590515,0.8804202079772949,0.9366579055786133,0.9561996459960938,0.9839860796928406,0.9168146252632141,0.7791014909744263,0.9198798537254333,1.0013998746871948,0.9963661432266235,0.8081575036048889,0.8936285972595215,0.9308080077171326,0.9703969359397888,1.033045768737793,0.8579967021942139,0.912177562713623,0.8757991194725037,0.7569092512130737,0.8525833487510681,0.8203735947608948,1.072756052017212,0.8003022074699402,0.9379300475120544,1.0140244960784912,0.7122057676315308,0.8610794544219971,1.0397050380706787,1.040763258934021,1.024766206741333,0.9107995629310608,0.89170902967453,0.9177884459495544,0.8442986607551575,0.8946693539619446,0.8908900022506714,0.9202116131782532,0.7875608205795288,0.9065322279930115,0.8889217376708984,1.0365197658538818,0.8111057877540588,0.8037378787994385,0.7012865543365479,0.803895890712738,0.8351858258247375,0.9111230969429016,0.7122064828872681,1.0036096572875977,1.048628568649292,0.9564210176467896,0.9270778298377991,0.878412127494812,0.8986493945121765,0.980251133441925,0.7051377296447754,0.806470513343811,0.9870989322662354,0.7763446569442749,0.9391099214553833,0.8633997440338135,0.7962346076965332,0.7835364937782288,0.939157247543335,0.9274564981460571,0.7953886389732361,1.0555486679077148,0.8913530707359314,0.8840088248252869,0.7437252402305603,0.8016137480735779,0.9332553148269653,0.8798282742500305,0.8228815793991089,0.9305613040924072,0.9978558421134949,0.8530341982841492,0.8166938424110413,0.9320127964019775,0.8170852661132812,0.8930132389068604,0.813750684261322,0.9379479289054871,1.0653157234191895,1.0026533603668213,0.8886095881462097,0.8670405149459839,0.880583643913269,0.9605512022972107,0.9462572336196899,0.9447622895240784,1.0773125886917114,0.9506130814552307],\"type\":\"scatter\"}],                        {\"template\":{\"data\":{\"bar\":[{\"error_x\":{\"color\":\"#2a3f5f\"},\"error_y\":{\"color\":\"#2a3f5f\"},\"marker\":{\"line\":{\"color\":\"#E5ECF6\",\"width\":0.5},\"pattern\":{\"fillmode\":\"overlay\",\"size\":10,\"solidity\":0.2}},\"type\":\"bar\"}],\"barpolar\":[{\"marker\":{\"line\":{\"color\":\"#E5ECF6\",\"width\":0.5},\"pattern\":{\"fillmode\":\"overlay\",\"size\":10,\"solidity\":0.2}},\"type\":\"barpolar\"}],\"carpet\":[{\"aaxis\":{\"endlinecolor\":\"#2a3f5f\",\"gridcolor\":\"white\",\"linecolor\":\"white\",\"minorgridcolor\":\"white\",\"startlinecolor\":\"#2a3f5f\"},\"baxis\":{\"endlinecolor\":\"#2a3f5f\",\"gridcolor\":\"white\",\"linecolor\":\"white\",\"minorgridcolor\":\"white\",\"startlinecolor\":\"#2a3f5f\"},\"type\":\"carpet\"}],\"choropleth\":[{\"colorbar\":{\"outlinewidth\":0,\"ticks\":\"\"},\"type\":\"choropleth\"}],\"contour\":[{\"colorbar\":{\"outlinewidth\":0,\"ticks\":\"\"},\"colorscale\":[[0.0,\"#0d0887\"],[0.1111111111111111,\"#46039f\"],[0.2222222222222222,\"#7201a8\"],[0.3333333333333333,\"#9c179e\"],[0.4444444444444444,\"#bd3786\"],[0.5555555555555556,\"#d8576b\"],[0.6666666666666666,\"#ed7953\"],[0.7777777777777778,\"#fb9f3a\"],[0.8888888888888888,\"#fdca26\"],[1.0,\"#f0f921\"]],\"type\":\"contour\"}],\"contourcarpet\":[{\"colorbar\":{\"outlinewidth\":0,\"ticks\":\"\"},\"type\":\"contourcarpet\"}],\"heatmap\":[{\"colorbar\":{\"outlinewidth\":0,\"ticks\":\"\"},\"colorscale\":[[0.0,\"#0d0887\"],[0.1111111111111111,\"#46039f\"],[0.2222222222222222,\"#7201a8\"],[0.3333333333333333,\"#9c179e\"],[0.4444444444444444,\"#bd3786\"],[0.5555555555555556,\"#d8576b\"],[0.6666666666666666,\"#ed7953\"],[0.7777777777777778,\"#fb9f3a\"],[0.8888888888888888,\"#fdca26\"],[1.0,\"#f0f921\"]],\"type\":\"heatmap\"}],\"heatmapgl\":[{\"colorbar\":{\"outlinewidth\":0,\"ticks\":\"\"},\"colorscale\":[[0.0,\"#0d0887\"],[0.1111111111111111,\"#46039f\"],[0.2222222222222222,\"#7201a8\"],[0.3333333333333333,\"#9c179e\"],[0.4444444444444444,\"#bd3786\"],[0.5555555555555556,\"#d8576b\"],[0.6666666666666666,\"#ed7953\"],[0.7777777777777778,\"#fb9f3a\"],[0.8888888888888888,\"#fdca26\"],[1.0,\"#f0f921\"]],\"type\":\"heatmapgl\"}],\"histogram\":[{\"marker\":{\"pattern\":{\"fillmode\":\"overlay\",\"size\":10,\"solidity\":0.2}},\"type\":\"histogram\"}],\"histogram2d\":[{\"colorbar\":{\"outlinewidth\":0,\"ticks\":\"\"},\"colorscale\":[[0.0,\"#0d0887\"],[0.1111111111111111,\"#46039f\"],[0.2222222222222222,\"#7201a8\"],[0.3333333333333333,\"#9c179e\"],[0.4444444444444444,\"#bd3786\"],[0.5555555555555556,\"#d8576b\"],[0.6666666666666666,\"#ed7953\"],[0.7777777777777778,\"#fb9f3a\"],[0.8888888888888888,\"#fdca26\"],[1.0,\"#f0f921\"]],\"type\":\"histogram2d\"}],\"histogram2dcontour\":[{\"colorbar\":{\"outlinewidth\":0,\"ticks\":\"\"},\"colorscale\":[[0.0,\"#0d0887\"],[0.1111111111111111,\"#46039f\"],[0.2222222222222222,\"#7201a8\"],[0.3333333333333333,\"#9c179e\"],[0.4444444444444444,\"#bd3786\"],[0.5555555555555556,\"#d8576b\"],[0.6666666666666666,\"#ed7953\"],[0.7777777777777778,\"#fb9f3a\"],[0.8888888888888888,\"#fdca26\"],[1.0,\"#f0f921\"]],\"type\":\"histogram2dcontour\"}],\"mesh3d\":[{\"colorbar\":{\"outlinewidth\":0,\"ticks\":\"\"},\"type\":\"mesh3d\"}],\"parcoords\":[{\"line\":{\"colorbar\":{\"outlinewidth\":0,\"ticks\":\"\"}},\"type\":\"parcoords\"}],\"pie\":[{\"automargin\":true,\"type\":\"pie\"}],\"scatter\":[{\"marker\":{\"colorbar\":{\"outlinewidth\":0,\"ticks\":\"\"}},\"type\":\"scatter\"}],\"scatter3d\":[{\"line\":{\"colorbar\":{\"outlinewidth\":0,\"ticks\":\"\"}},\"marker\":{\"colorbar\":{\"outlinewidth\":0,\"ticks\":\"\"}},\"type\":\"scatter3d\"}],\"scattercarpet\":[{\"marker\":{\"colorbar\":{\"outlinewidth\":0,\"ticks\":\"\"}},\"type\":\"scattercarpet\"}],\"scattergeo\":[{\"marker\":{\"colorbar\":{\"outlinewidth\":0,\"ticks\":\"\"}},\"type\":\"scattergeo\"}],\"scattergl\":[{\"marker\":{\"colorbar\":{\"outlinewidth\":0,\"ticks\":\"\"}},\"type\":\"scattergl\"}],\"scattermapbox\":[{\"marker\":{\"colorbar\":{\"outlinewidth\":0,\"ticks\":\"\"}},\"type\":\"scattermapbox\"}],\"scatterpolar\":[{\"marker\":{\"colorbar\":{\"outlinewidth\":0,\"ticks\":\"\"}},\"type\":\"scatterpolar\"}],\"scatterpolargl\":[{\"marker\":{\"colorbar\":{\"outlinewidth\":0,\"ticks\":\"\"}},\"type\":\"scatterpolargl\"}],\"scatterternary\":[{\"marker\":{\"colorbar\":{\"outlinewidth\":0,\"ticks\":\"\"}},\"type\":\"scatterternary\"}],\"surface\":[{\"colorbar\":{\"outlinewidth\":0,\"ticks\":\"\"},\"colorscale\":[[0.0,\"#0d0887\"],[0.1111111111111111,\"#46039f\"],[0.2222222222222222,\"#7201a8\"],[0.3333333333333333,\"#9c179e\"],[0.4444444444444444,\"#bd3786\"],[0.5555555555555556,\"#d8576b\"],[0.6666666666666666,\"#ed7953\"],[0.7777777777777778,\"#fb9f3a\"],[0.8888888888888888,\"#fdca26\"],[1.0,\"#f0f921\"]],\"type\":\"surface\"}],\"table\":[{\"cells\":{\"fill\":{\"color\":\"#EBF0F8\"},\"line\":{\"color\":\"white\"}},\"header\":{\"fill\":{\"color\":\"#C8D4E3\"},\"line\":{\"color\":\"white\"}},\"type\":\"table\"}]},\"layout\":{\"annotationdefaults\":{\"arrowcolor\":\"#2a3f5f\",\"arrowhead\":0,\"arrowwidth\":1},\"autotypenumbers\":\"strict\",\"coloraxis\":{\"colorbar\":{\"outlinewidth\":0,\"ticks\":\"\"}},\"colorscale\":{\"diverging\":[[0,\"#8e0152\"],[0.1,\"#c51b7d\"],[0.2,\"#de77ae\"],[0.3,\"#f1b6da\"],[0.4,\"#fde0ef\"],[0.5,\"#f7f7f7\"],[0.6,\"#e6f5d0\"],[0.7,\"#b8e186\"],[0.8,\"#7fbc41\"],[0.9,\"#4d9221\"],[1,\"#276419\"]],\"sequential\":[[0.0,\"#0d0887\"],[0.1111111111111111,\"#46039f\"],[0.2222222222222222,\"#7201a8\"],[0.3333333333333333,\"#9c179e\"],[0.4444444444444444,\"#bd3786\"],[0.5555555555555556,\"#d8576b\"],[0.6666666666666666,\"#ed7953\"],[0.7777777777777778,\"#fb9f3a\"],[0.8888888888888888,\"#fdca26\"],[1.0,\"#f0f921\"]],\"sequentialminus\":[[0.0,\"#0d0887\"],[0.1111111111111111,\"#46039f\"],[0.2222222222222222,\"#7201a8\"],[0.3333333333333333,\"#9c179e\"],[0.4444444444444444,\"#bd3786\"],[0.5555555555555556,\"#d8576b\"],[0.6666666666666666,\"#ed7953\"],[0.7777777777777778,\"#fb9f3a\"],[0.8888888888888888,\"#fdca26\"],[1.0,\"#f0f921\"]]},\"colorway\":[\"#636efa\",\"#EF553B\",\"#00cc96\",\"#ab63fa\",\"#FFA15A\",\"#19d3f3\",\"#FF6692\",\"#B6E880\",\"#FF97FF\",\"#FECB52\"],\"font\":{\"color\":\"#2a3f5f\"},\"geo\":{\"bgcolor\":\"white\",\"lakecolor\":\"white\",\"landcolor\":\"#E5ECF6\",\"showlakes\":true,\"showland\":true,\"subunitcolor\":\"white\"},\"hoverlabel\":{\"align\":\"left\"},\"hovermode\":\"closest\",\"mapbox\":{\"style\":\"light\"},\"paper_bgcolor\":\"white\",\"plot_bgcolor\":\"#E5ECF6\",\"polar\":{\"angularaxis\":{\"gridcolor\":\"white\",\"linecolor\":\"white\",\"ticks\":\"\"},\"bgcolor\":\"#E5ECF6\",\"radialaxis\":{\"gridcolor\":\"white\",\"linecolor\":\"white\",\"ticks\":\"\"}},\"scene\":{\"xaxis\":{\"backgroundcolor\":\"#E5ECF6\",\"gridcolor\":\"white\",\"gridwidth\":2,\"linecolor\":\"white\",\"showbackground\":true,\"ticks\":\"\",\"zerolinecolor\":\"white\"},\"yaxis\":{\"backgroundcolor\":\"#E5ECF6\",\"gridcolor\":\"white\",\"gridwidth\":2,\"linecolor\":\"white\",\"showbackground\":true,\"ticks\":\"\",\"zerolinecolor\":\"white\"},\"zaxis\":{\"backgroundcolor\":\"#E5ECF6\",\"gridcolor\":\"white\",\"gridwidth\":2,\"linecolor\":\"white\",\"showbackground\":true,\"ticks\":\"\",\"zerolinecolor\":\"white\"}},\"shapedefaults\":{\"line\":{\"color\":\"#2a3f5f\"}},\"ternary\":{\"aaxis\":{\"gridcolor\":\"white\",\"linecolor\":\"white\",\"ticks\":\"\"},\"baxis\":{\"gridcolor\":\"white\",\"linecolor\":\"white\",\"ticks\":\"\"},\"bgcolor\":\"#E5ECF6\",\"caxis\":{\"gridcolor\":\"white\",\"linecolor\":\"white\",\"ticks\":\"\"}},\"title\":{\"x\":0.05},\"xaxis\":{\"automargin\":true,\"gridcolor\":\"white\",\"linecolor\":\"white\",\"ticks\":\"\",\"title\":{\"standoff\":15},\"zerolinecolor\":\"white\",\"zerolinewidth\":2},\"yaxis\":{\"automargin\":true,\"gridcolor\":\"white\",\"linecolor\":\"white\",\"ticks\":\"\",\"title\":{\"standoff\":15},\"zerolinecolor\":\"white\",\"zerolinewidth\":2}}},\"title\":{\"text\":\"NORMALIZED DNN MODEL RESULTS SORTED\",\"x\":0.5}},                        {\"responsive\": true}                    ).then(function(){\n",
              "                            \n",
              "var gd = document.getElementById('69efe62b-2827-4e24-a0fd-fe88335af172');\n",
              "var x = new MutationObserver(function (mutations, observer) {{\n",
              "        var display = window.getComputedStyle(gd).display;\n",
              "        if (!display || display === 'none') {{\n",
              "            console.log([gd, 'removed!']);\n",
              "            Plotly.purge(gd);\n",
              "            observer.disconnect();\n",
              "        }}\n",
              "}});\n",
              "\n",
              "// Listen for the removal of the full notebook cells\n",
              "var notebookContainer = gd.closest('#notebook-container');\n",
              "if (notebookContainer) {{\n",
              "    x.observe(notebookContainer, {childList: true});\n",
              "}}\n",
              "\n",
              "// Listen for the clearing of the current output cell\n",
              "var outputEl = gd.closest('.output');\n",
              "if (outputEl) {{\n",
              "    x.observe(outputEl, {childList: true});\n",
              "}}\n",
              "\n",
              "                        })                };                            </script>        </div>\n",
              "</body>\n",
              "</html>"
            ]
          },
          "metadata": {}
        }
      ]
    },
    {
      "cell_type": "code",
      "source": [
        "idx   = np.argsort(y_test_UN)\n",
        "y_predict_dnn_UN = y_predict_dnn_UN.reshape(y_predict_dnn_UN.shape[0],)\n",
        "list1 = np.array(y_test_UN)[idx]\n",
        "list2 = np.array(y_predict_dnn_UN)[idx]\n",
        "fig = go.Figure()\n",
        "fig.add_trace(go.Scatter(y=list1, name=\"y_test_UN\", line_shape='linear'))\n",
        "fig.add_trace(go.Scatter(y=list2, name=\"y_predict_dnn_UN\", line_shape='linear'))\n",
        "fig.update_layout(title_text='UNNORMALIZED DNN MODEL RESULTS SORTED', title_x=0.5)\n",
        "fig.show()"
      ],
      "metadata": {
        "id": "BaSYipbT_AgL",
        "colab": {
          "base_uri": "https://localhost:8080/",
          "height": 542
        },
        "outputId": "a3aac771-65d2-4cd8-ab9c-8b7e0d5f3572"
      },
      "execution_count": 42,
      "outputs": [
        {
          "output_type": "display_data",
          "data": {
            "text/html": [
              "<html>\n",
              "<head><meta charset=\"utf-8\" /></head>\n",
              "<body>\n",
              "    <div>            <script src=\"https://cdnjs.cloudflare.com/ajax/libs/mathjax/2.7.5/MathJax.js?config=TeX-AMS-MML_SVG\"></script><script type=\"text/javascript\">if (window.MathJax) {MathJax.Hub.Config({SVG: {font: \"STIX-Web\"}});}</script>                <script type=\"text/javascript\">window.PlotlyConfig = {MathJaxConfig: 'local'};</script>\n",
              "        <script src=\"https://cdn.plot.ly/plotly-2.8.3.min.js\"></script>                <div id=\"550a165d-6abe-4eb9-af4b-2aafcad4fde6\" class=\"plotly-graph-div\" style=\"height:525px; width:100%;\"></div>            <script type=\"text/javascript\">                                    window.PLOTLYENV=window.PLOTLYENV || {};                                    if (document.getElementById(\"550a165d-6abe-4eb9-af4b-2aafcad4fde6\")) {                    Plotly.newPlot(                        \"550a165d-6abe-4eb9-af4b-2aafcad4fde6\",                        [{\"line\":{\"shape\":\"linear\"},\"name\":\"y_test_UN\",\"y\":[1.0,1.0,1.69,1.9,2.0,2.09,2.1,2.2,2.26,2.3,2.5,2.5,2.51,2.57,2.6,2.6,2.69,2.7,2.7,2.7,2.75,2.78,2.8,2.8,2.8,2.83,2.83,2.88,2.9,2.9,2.9,2.95,2.97,2.995,3.0,3.0,3.0,3.0,3.0,3.0,3.01,3.03,3.05,3.06,3.1,3.1,3.1,3.13,3.2,3.2,3.2,3.2,3.2,3.2,3.2,3.2,3.2,3.2,3.2,3.2,3.2,3.2,3.2,3.2,3.24,3.25,3.27,3.28,3.29,3.3,3.3,3.3,3.3,3.3,3.3,3.3,3.3,3.33,3.34,3.36,3.37,3.4,3.4,3.4,3.4,3.4,3.4,3.4,3.4,3.4,3.4,3.4,3.4,3.4,3.4,3.4,3.41,3.42,3.44,3.44,3.45,3.47,3.48,3.49,3.5,3.5,3.5,3.5,3.5,3.5,3.5,3.5,3.5,3.5,3.5,3.5,3.5,3.51,3.51,3.54,3.56,3.57,3.57,3.58,3.58,3.59,3.6,3.6,3.6,3.6,3.6,3.6,3.6,3.6,3.6,3.6,3.6,3.64,3.64,3.64,3.66,3.66,3.66,3.67,3.69,3.7,3.7,3.7,3.7,3.7,3.7,3.7,3.7,3.7,3.7,3.7,3.7,3.7,3.71,3.71,3.71,3.71,3.72,3.72,3.75,3.76,3.76,3.76,3.77,3.77,3.77,3.77,3.78,3.78,3.79,3.8,3.8,3.8,3.8,3.8,3.8,3.8,3.8,3.8,3.8,3.8,3.8,3.8,3.8,3.8,3.85,3.88,3.89,3.89,3.9,3.9,3.9,3.9,3.9,3.9,3.9,3.9,3.9,3.91,3.91,3.912,3.92,3.92,3.92,3.93,3.93,3.94,3.95,3.95,3.95,3.96,3.97,3.97,4.0,4.0,4.0,4.0,4.0,4.0,4.0,4.0,4.0,4.0,4.0,4.0,4.0,4.0,4.0,4.0,4.0,4.0,4.0,4.0,4.0,4.0,4.0,4.0,4.0,4.0,4.0,4.0,4.0,4.0,4.0,4.0,4.0,4.0,4.0,4.0,4.0,4.0,4.0,4.0,4.0],\"type\":\"scatter\"},{\"line\":{\"shape\":\"linear\"},\"name\":\"y_predict_dnn_UN\",\"y\":[2.311289072036743,3.4197146892547607,3.893221855163574,3.0408458709716797,3.012350559234619,3.3897693157196045,3.1121459007263184,3.7429122924804688,3.1659984588623047,3.4827826023101807,3.124466896057129,3.2126717567443848,3.4480438232421875,3.3537185192108154,3.4736342430114746,3.7197604179382324,3.0162205696105957,3.361581563949585,3.597842216491699,3.465731382369995,3.433824062347412,3.7826576232910156,3.2848753929138184,3.389176368713379,3.0156540870666504,3.750826835632324,3.5069503784179688,3.568784713745117,2.9875338077545166,3.2231154441833496,2.3036770820617676,3.745696783065796,3.645798683166504,3.091017961502075,2.9357337951660156,3.486292600631714,3.375483512878418,3.143444776535034,3.3572542667388916,3.3529610633850098,3.3504817485809326,3.3856542110443115,4.26801061630249,3.7393980026245117,3.167863368988037,4.064371585845947,3.6083569526672363,3.803830146789551,3.4568536281585693,3.465137004852295,3.633699417114258,3.4609506130218506,3.533298969268799,3.665358066558838,3.9678452014923096,3.6763947010040283,3.4334418773651123,3.26755952835083,3.7574665546417236,3.5114779472351074,3.389798641204834,3.6622314453125,3.4174022674560547,3.811998128890991,3.893089771270752,3.209104061126709,4.072780132293701,3.3658719062805176,3.747222423553467,2.9819140434265137,3.4565675258636475,3.664170503616333,3.541538715362549,3.5218727588653564,3.3518102169036865,3.782750129699707,3.0538220405578613,3.343661069869995,3.555701971054077,3.3626437187194824,3.259641170501709,3.1589808464050293,3.524359703063965,3.776927947998047,3.651718854904175,3.4357688426971436,3.6110644340515137,3.414391279220581,3.5545899868011475,2.799588203430176,2.517911195755005,3.341897487640381,3.761003017425537,4.023073196411133,3.2710306644439697,3.1000287532806396,3.483398199081421,3.6271889209747314,3.413386821746826,3.793139934539795,3.5332765579223633,3.6181352138519287,4.24506950378418,3.478473663330078,3.949047565460205,3.5483222007751465,3.3277902603149414,3.305966377258301,3.46466064453125,3.3762893676757812,3.662109613418579,3.0759878158569336,3.250192880630493,3.6146249771118164,3.615217685699463,3.524510383605957,3.8531603813171387,3.6792585849761963,3.6518516540527344,3.5696845054626465,3.971147060394287,3.924893856048584,3.5516695976257324,3.9182703495025635,3.5307059288024902,3.199457883834839,3.6286849975585938,3.530972957611084,3.6459290981292725,3.3124518394470215,3.439267635345459,3.4361305236816406,4.094300270080566,3.774388313293457,3.747147798538208,3.7154951095581055,3.5771872997283936,3.4711546897888184,3.175192356109619,3.805136203765869,3.6114258766174316,3.1950531005859375,3.6525635719299316,3.4834132194519043,3.792250633239746,3.8550710678100586,3.658810615539551,3.647366523742676,3.8114938735961914,3.455458879470825,3.7507853507995605,4.075776100158691,3.298112630844116,3.542590379714966,3.329667568206787,3.5045325756073,3.6518383026123047,3.4689431190490723,3.5219955444335938,3.8473944664001465,3.908820152282715,3.835636615753174,3.6035354137420654,3.7676286697387695,3.8525547981262207,3.385073184967041,3.8284249305725098,3.6412606239318848,3.80997371673584,3.8685989379882812,3.951958179473877,3.750443935394287,3.3373045921325684,3.7596395015716553,4.004199504852295,3.98909854888916,3.4244725704193115,3.6808857917785645,3.792423963546753,3.9111907482147217,4.099137306213379,3.5739901065826416,3.736532688140869,3.627397298812866,3.2707276344299316,3.5577499866485596,3.461120843887329,4.218268394470215,3.400906562805176,3.8137900829315186,4.0420732498168945,3.1366171836853027,3.583238363265991,4.119114875793457,4.122289657592773,4.074298858642578,3.732398748397827,3.6751270294189453,3.7533652782440186,3.532896041870117,3.6840081214904785,3.6726698875427246,3.7606348991394043,3.362682342529297,3.7195966243743896,3.6667652130126953,4.109559059143066,3.4333174228668213,3.4112136363983154,3.1038596630096436,3.4116876125335693,3.5055575370788574,3.7333693504333496,3.1366195678710938,4.010828971862793,4.145885467529297,3.869263172149658,3.781233549118042,3.6352362632751465,3.6959481239318848,3.94075345993042,3.115413188934326,3.4194116592407227,3.961296796798706,3.329033851623535,3.8173298835754395,3.5901992321014404,3.3887038230895996,3.350609540939331,3.817471742630005,3.782369613647461,3.3861658573150635,4.1666460037231445,3.6740591526031494,3.652026414871216,3.231175661087036,3.404841184616089,3.7997660636901855,3.6394848823547363,3.468644618988037,3.7916839122772217,3.99356746673584,3.5591025352478027,3.4500815868377686,3.7960383892059326,3.4512557983398438,3.679039716720581,3.4412519931793213,3.8138437271118164,4.195947170257568,4.007960319519043,3.6658287048339844,3.601121425628662,3.6417508125305176,3.8816535472869873,3.8387718200683594,3.83428692817688,4.231937885284424,3.851839303970337],\"type\":\"scatter\"}],                        {\"template\":{\"data\":{\"bar\":[{\"error_x\":{\"color\":\"#2a3f5f\"},\"error_y\":{\"color\":\"#2a3f5f\"},\"marker\":{\"line\":{\"color\":\"#E5ECF6\",\"width\":0.5},\"pattern\":{\"fillmode\":\"overlay\",\"size\":10,\"solidity\":0.2}},\"type\":\"bar\"}],\"barpolar\":[{\"marker\":{\"line\":{\"color\":\"#E5ECF6\",\"width\":0.5},\"pattern\":{\"fillmode\":\"overlay\",\"size\":10,\"solidity\":0.2}},\"type\":\"barpolar\"}],\"carpet\":[{\"aaxis\":{\"endlinecolor\":\"#2a3f5f\",\"gridcolor\":\"white\",\"linecolor\":\"white\",\"minorgridcolor\":\"white\",\"startlinecolor\":\"#2a3f5f\"},\"baxis\":{\"endlinecolor\":\"#2a3f5f\",\"gridcolor\":\"white\",\"linecolor\":\"white\",\"minorgridcolor\":\"white\",\"startlinecolor\":\"#2a3f5f\"},\"type\":\"carpet\"}],\"choropleth\":[{\"colorbar\":{\"outlinewidth\":0,\"ticks\":\"\"},\"type\":\"choropleth\"}],\"contour\":[{\"colorbar\":{\"outlinewidth\":0,\"ticks\":\"\"},\"colorscale\":[[0.0,\"#0d0887\"],[0.1111111111111111,\"#46039f\"],[0.2222222222222222,\"#7201a8\"],[0.3333333333333333,\"#9c179e\"],[0.4444444444444444,\"#bd3786\"],[0.5555555555555556,\"#d8576b\"],[0.6666666666666666,\"#ed7953\"],[0.7777777777777778,\"#fb9f3a\"],[0.8888888888888888,\"#fdca26\"],[1.0,\"#f0f921\"]],\"type\":\"contour\"}],\"contourcarpet\":[{\"colorbar\":{\"outlinewidth\":0,\"ticks\":\"\"},\"type\":\"contourcarpet\"}],\"heatmap\":[{\"colorbar\":{\"outlinewidth\":0,\"ticks\":\"\"},\"colorscale\":[[0.0,\"#0d0887\"],[0.1111111111111111,\"#46039f\"],[0.2222222222222222,\"#7201a8\"],[0.3333333333333333,\"#9c179e\"],[0.4444444444444444,\"#bd3786\"],[0.5555555555555556,\"#d8576b\"],[0.6666666666666666,\"#ed7953\"],[0.7777777777777778,\"#fb9f3a\"],[0.8888888888888888,\"#fdca26\"],[1.0,\"#f0f921\"]],\"type\":\"heatmap\"}],\"heatmapgl\":[{\"colorbar\":{\"outlinewidth\":0,\"ticks\":\"\"},\"colorscale\":[[0.0,\"#0d0887\"],[0.1111111111111111,\"#46039f\"],[0.2222222222222222,\"#7201a8\"],[0.3333333333333333,\"#9c179e\"],[0.4444444444444444,\"#bd3786\"],[0.5555555555555556,\"#d8576b\"],[0.6666666666666666,\"#ed7953\"],[0.7777777777777778,\"#fb9f3a\"],[0.8888888888888888,\"#fdca26\"],[1.0,\"#f0f921\"]],\"type\":\"heatmapgl\"}],\"histogram\":[{\"marker\":{\"pattern\":{\"fillmode\":\"overlay\",\"size\":10,\"solidity\":0.2}},\"type\":\"histogram\"}],\"histogram2d\":[{\"colorbar\":{\"outlinewidth\":0,\"ticks\":\"\"},\"colorscale\":[[0.0,\"#0d0887\"],[0.1111111111111111,\"#46039f\"],[0.2222222222222222,\"#7201a8\"],[0.3333333333333333,\"#9c179e\"],[0.4444444444444444,\"#bd3786\"],[0.5555555555555556,\"#d8576b\"],[0.6666666666666666,\"#ed7953\"],[0.7777777777777778,\"#fb9f3a\"],[0.8888888888888888,\"#fdca26\"],[1.0,\"#f0f921\"]],\"type\":\"histogram2d\"}],\"histogram2dcontour\":[{\"colorbar\":{\"outlinewidth\":0,\"ticks\":\"\"},\"colorscale\":[[0.0,\"#0d0887\"],[0.1111111111111111,\"#46039f\"],[0.2222222222222222,\"#7201a8\"],[0.3333333333333333,\"#9c179e\"],[0.4444444444444444,\"#bd3786\"],[0.5555555555555556,\"#d8576b\"],[0.6666666666666666,\"#ed7953\"],[0.7777777777777778,\"#fb9f3a\"],[0.8888888888888888,\"#fdca26\"],[1.0,\"#f0f921\"]],\"type\":\"histogram2dcontour\"}],\"mesh3d\":[{\"colorbar\":{\"outlinewidth\":0,\"ticks\":\"\"},\"type\":\"mesh3d\"}],\"parcoords\":[{\"line\":{\"colorbar\":{\"outlinewidth\":0,\"ticks\":\"\"}},\"type\":\"parcoords\"}],\"pie\":[{\"automargin\":true,\"type\":\"pie\"}],\"scatter\":[{\"marker\":{\"colorbar\":{\"outlinewidth\":0,\"ticks\":\"\"}},\"type\":\"scatter\"}],\"scatter3d\":[{\"line\":{\"colorbar\":{\"outlinewidth\":0,\"ticks\":\"\"}},\"marker\":{\"colorbar\":{\"outlinewidth\":0,\"ticks\":\"\"}},\"type\":\"scatter3d\"}],\"scattercarpet\":[{\"marker\":{\"colorbar\":{\"outlinewidth\":0,\"ticks\":\"\"}},\"type\":\"scattercarpet\"}],\"scattergeo\":[{\"marker\":{\"colorbar\":{\"outlinewidth\":0,\"ticks\":\"\"}},\"type\":\"scattergeo\"}],\"scattergl\":[{\"marker\":{\"colorbar\":{\"outlinewidth\":0,\"ticks\":\"\"}},\"type\":\"scattergl\"}],\"scattermapbox\":[{\"marker\":{\"colorbar\":{\"outlinewidth\":0,\"ticks\":\"\"}},\"type\":\"scattermapbox\"}],\"scatterpolar\":[{\"marker\":{\"colorbar\":{\"outlinewidth\":0,\"ticks\":\"\"}},\"type\":\"scatterpolar\"}],\"scatterpolargl\":[{\"marker\":{\"colorbar\":{\"outlinewidth\":0,\"ticks\":\"\"}},\"type\":\"scatterpolargl\"}],\"scatterternary\":[{\"marker\":{\"colorbar\":{\"outlinewidth\":0,\"ticks\":\"\"}},\"type\":\"scatterternary\"}],\"surface\":[{\"colorbar\":{\"outlinewidth\":0,\"ticks\":\"\"},\"colorscale\":[[0.0,\"#0d0887\"],[0.1111111111111111,\"#46039f\"],[0.2222222222222222,\"#7201a8\"],[0.3333333333333333,\"#9c179e\"],[0.4444444444444444,\"#bd3786\"],[0.5555555555555556,\"#d8576b\"],[0.6666666666666666,\"#ed7953\"],[0.7777777777777778,\"#fb9f3a\"],[0.8888888888888888,\"#fdca26\"],[1.0,\"#f0f921\"]],\"type\":\"surface\"}],\"table\":[{\"cells\":{\"fill\":{\"color\":\"#EBF0F8\"},\"line\":{\"color\":\"white\"}},\"header\":{\"fill\":{\"color\":\"#C8D4E3\"},\"line\":{\"color\":\"white\"}},\"type\":\"table\"}]},\"layout\":{\"annotationdefaults\":{\"arrowcolor\":\"#2a3f5f\",\"arrowhead\":0,\"arrowwidth\":1},\"autotypenumbers\":\"strict\",\"coloraxis\":{\"colorbar\":{\"outlinewidth\":0,\"ticks\":\"\"}},\"colorscale\":{\"diverging\":[[0,\"#8e0152\"],[0.1,\"#c51b7d\"],[0.2,\"#de77ae\"],[0.3,\"#f1b6da\"],[0.4,\"#fde0ef\"],[0.5,\"#f7f7f7\"],[0.6,\"#e6f5d0\"],[0.7,\"#b8e186\"],[0.8,\"#7fbc41\"],[0.9,\"#4d9221\"],[1,\"#276419\"]],\"sequential\":[[0.0,\"#0d0887\"],[0.1111111111111111,\"#46039f\"],[0.2222222222222222,\"#7201a8\"],[0.3333333333333333,\"#9c179e\"],[0.4444444444444444,\"#bd3786\"],[0.5555555555555556,\"#d8576b\"],[0.6666666666666666,\"#ed7953\"],[0.7777777777777778,\"#fb9f3a\"],[0.8888888888888888,\"#fdca26\"],[1.0,\"#f0f921\"]],\"sequentialminus\":[[0.0,\"#0d0887\"],[0.1111111111111111,\"#46039f\"],[0.2222222222222222,\"#7201a8\"],[0.3333333333333333,\"#9c179e\"],[0.4444444444444444,\"#bd3786\"],[0.5555555555555556,\"#d8576b\"],[0.6666666666666666,\"#ed7953\"],[0.7777777777777778,\"#fb9f3a\"],[0.8888888888888888,\"#fdca26\"],[1.0,\"#f0f921\"]]},\"colorway\":[\"#636efa\",\"#EF553B\",\"#00cc96\",\"#ab63fa\",\"#FFA15A\",\"#19d3f3\",\"#FF6692\",\"#B6E880\",\"#FF97FF\",\"#FECB52\"],\"font\":{\"color\":\"#2a3f5f\"},\"geo\":{\"bgcolor\":\"white\",\"lakecolor\":\"white\",\"landcolor\":\"#E5ECF6\",\"showlakes\":true,\"showland\":true,\"subunitcolor\":\"white\"},\"hoverlabel\":{\"align\":\"left\"},\"hovermode\":\"closest\",\"mapbox\":{\"style\":\"light\"},\"paper_bgcolor\":\"white\",\"plot_bgcolor\":\"#E5ECF6\",\"polar\":{\"angularaxis\":{\"gridcolor\":\"white\",\"linecolor\":\"white\",\"ticks\":\"\"},\"bgcolor\":\"#E5ECF6\",\"radialaxis\":{\"gridcolor\":\"white\",\"linecolor\":\"white\",\"ticks\":\"\"}},\"scene\":{\"xaxis\":{\"backgroundcolor\":\"#E5ECF6\",\"gridcolor\":\"white\",\"gridwidth\":2,\"linecolor\":\"white\",\"showbackground\":true,\"ticks\":\"\",\"zerolinecolor\":\"white\"},\"yaxis\":{\"backgroundcolor\":\"#E5ECF6\",\"gridcolor\":\"white\",\"gridwidth\":2,\"linecolor\":\"white\",\"showbackground\":true,\"ticks\":\"\",\"zerolinecolor\":\"white\"},\"zaxis\":{\"backgroundcolor\":\"#E5ECF6\",\"gridcolor\":\"white\",\"gridwidth\":2,\"linecolor\":\"white\",\"showbackground\":true,\"ticks\":\"\",\"zerolinecolor\":\"white\"}},\"shapedefaults\":{\"line\":{\"color\":\"#2a3f5f\"}},\"ternary\":{\"aaxis\":{\"gridcolor\":\"white\",\"linecolor\":\"white\",\"ticks\":\"\"},\"baxis\":{\"gridcolor\":\"white\",\"linecolor\":\"white\",\"ticks\":\"\"},\"bgcolor\":\"#E5ECF6\",\"caxis\":{\"gridcolor\":\"white\",\"linecolor\":\"white\",\"ticks\":\"\"}},\"title\":{\"x\":0.05},\"xaxis\":{\"automargin\":true,\"gridcolor\":\"white\",\"linecolor\":\"white\",\"ticks\":\"\",\"title\":{\"standoff\":15},\"zerolinecolor\":\"white\",\"zerolinewidth\":2},\"yaxis\":{\"automargin\":true,\"gridcolor\":\"white\",\"linecolor\":\"white\",\"ticks\":\"\",\"title\":{\"standoff\":15},\"zerolinecolor\":\"white\",\"zerolinewidth\":2}}},\"title\":{\"text\":\"UNNORMALIZED DNN MODEL RESULTS SORTED\",\"x\":0.5}},                        {\"responsive\": true}                    ).then(function(){\n",
              "                            \n",
              "var gd = document.getElementById('550a165d-6abe-4eb9-af4b-2aafcad4fde6');\n",
              "var x = new MutationObserver(function (mutations, observer) {{\n",
              "        var display = window.getComputedStyle(gd).display;\n",
              "        if (!display || display === 'none') {{\n",
              "            console.log([gd, 'removed!']);\n",
              "            Plotly.purge(gd);\n",
              "            observer.disconnect();\n",
              "        }}\n",
              "}});\n",
              "\n",
              "// Listen for the removal of the full notebook cells\n",
              "var notebookContainer = gd.closest('#notebook-container');\n",
              "if (notebookContainer) {{\n",
              "    x.observe(notebookContainer, {childList: true});\n",
              "}}\n",
              "\n",
              "// Listen for the clearing of the current output cell\n",
              "var outputEl = gd.closest('.output');\n",
              "if (outputEl) {{\n",
              "    x.observe(outputEl, {childList: true});\n",
              "}}\n",
              "\n",
              "                        })                };                            </script>        </div>\n",
              "</body>\n",
              "</html>"
            ]
          },
          "metadata": {}
        }
      ]
    },
    {
      "cell_type": "code",
      "source": [
        "# MSE when Unnormalized, GPA MSE over GPA scores 0-4.0 \n",
        "mean_squared_error(y_test_UN, y_predict_dnn_UN)"
      ],
      "metadata": {
        "colab": {
          "base_uri": "https://localhost:8080/"
        },
        "id": "tD0Wmkjr8fXi",
        "outputId": "25d35137-1262-49be-b757-94b7f5ad88a5"
      },
      "execution_count": 43,
      "outputs": [
        {
          "output_type": "execute_result",
          "data": {
            "text/plain": [
              "0.23750288132708822"
            ]
          },
          "metadata": {},
          "execution_count": 43
        }
      ]
    },
    {
      "cell_type": "code",
      "source": [
        "# #train_Input, val_Input, test_input = np.split(DF2, [int(.6 * len(DF2)), int(.8 * len(DF2))])\n",
        "# DF2shuffled = shuffle(DF2)\n",
        "# train_Input, test_input = np.split(DF2shuffled, [int(.8 * len(DF2))])\n",
        "\n",
        "# X_train = train_Input.iloc[:,:-1]\n",
        "# y_train = train_Input.iloc[:,-1]\n",
        "# # X_val_Input = val_Input.iloc[:,:-1]\n",
        "# # y_val= val_Input.iloc[:,-1]\n",
        "# X_test = test_input.iloc[:,:-1]\n",
        "# y_test = test_input.iloc[:,-1]"
      ],
      "metadata": {
        "id": "v-Az2FZGfsP9"
      },
      "execution_count": null,
      "outputs": []
    },
    {
      "cell_type": "code",
      "source": [
        ""
      ],
      "metadata": {
        "id": "C1Kkk6bCu1IS"
      },
      "execution_count": null,
      "outputs": []
    },
    {
      "cell_type": "code",
      "source": [
        ""
      ],
      "metadata": {
        "id": "gCcx6QmVu1SP"
      },
      "execution_count": null,
      "outputs": []
    },
    {
      "cell_type": "markdown",
      "source": [
        "THE GAUSSIAN PROCESS REGRESSOR MODEL"
      ],
      "metadata": {
        "id": "Ghx7SSQZup1n"
      }
    },
    {
      "cell_type": "code",
      "source": [
        "# Define per-fold score containers\n",
        "acc_per_fold = []\n",
        "loss_per_fold = []\n",
        "\n",
        "# Define the K-fold Cross Validator\n",
        "kfold = KFold(n_splits=10, shuffle=True)\n",
        "\n",
        "# K-fold Cross Validation model evaluation\n",
        "fold_no = 1\n",
        "for train_index, test_index in kfold.split(XTrainScaled):\n",
        "  #####\n",
        "  # RBF: Radial-basis function kernel (aka squared-exponential kernel)\n",
        "  #      Length Scale ; A vector with the same number of dimensions as the inputs X (anisotropic variant of the kernel) \n",
        "  # WhiteKernel: Adds noise to the Kernel\n",
        "  # ConstantKernel: Adding a constant kernel is equivalent to adding a constant.\n",
        "\n",
        "  kernel = ConstantKernel(1.0) + ConstantKernel(1.0) * RBF(length_scale = 41)  + WhiteKernel(5)\n",
        "\n",
        "  # kernel2 = ConstantKernel(1.0) + ConstantKernel(1.0) * 1.0 * Matern(length_scale=1.0, nu=1.5) + WhiteKernel(5)\n",
        "  # The parameter nu controlling the smoothness of the learned function. \n",
        "  # The smaller nu, the less smooth the approximated function is.For nu=inf, the kernel becomes equivalent to the RBF kernel \n",
        "  # and for nu=0.5 to the absolute exponential kernel. Important intermediate values are nu=1.5 (once differentiable functions) \n",
        "  # and nu=2.5 (twice differentiable functions). Note that values of nu not in [0.5, 1.5, 2.5, inf] incur a considerably higher computational cost \n",
        "  # (appr. 10 times higher) since they require to evaluate the modified Bessel function. \n",
        "  # Furthermore, in contrast to l, nu is kept fixed to its initial value and not optimized.\n",
        "\n",
        "  #\n",
        "\n",
        "  # n_restarts_optimizer: The number of restarts of the optimizer for finding the kernel's parameters which maximize the log-marginal likelihood.\n",
        "  model2 = GaussianProcessRegressor(kernel=kernel, n_restarts_optimizer=1)\n",
        "  \n",
        "  print('------------------------------------------------------------------------')\n",
        "  print(f'Training for fold {fold_no} ...')\n",
        "  \n",
        "  # Fit data to model\n",
        "  history2 = model2.fit(XTrainScaled.iloc[train_index], GPAScaled2.iloc[train_index])\n",
        "  y_pred_tr, y_pred_tr_std = model2.predict(XTrainScaled.iloc[train_index], return_std=True)\n",
        "  y_pred_te, y_pred_te_std = model2.predict(XTrainScaled.iloc[test_index], return_std=True)\n",
        "\n",
        "  #####\n",
        "\n",
        "  # Generate generalization metrics - model.score(X_test_Input, y_test)\n",
        "  scores1 = model2.score(XTrainScaled.iloc[test_index], GPAScaled2.iloc[test_index])\n",
        "  # model.score(X_test_Input, y_test)\n",
        "  # # = ((y_true - y_pred)** 2).sum()  /  ((y_true - y_true.mean()) ** 2).sum()\n",
        "  # # Return the coefficient of determination of the prediction.\n",
        "  # # The coefficient of determination  is defined as \n",
        "  # # The best possible score is 1.0 and it can be negative (because the model can be arbitrarily worse). \n",
        "  # # A constant model that always predicts the expected value of y, disregarding the input features, would get a  score of 0.0.\n",
        "  \n",
        "  # r2_score(y_test, y_pred_te)\n",
        "  # # r2_score: R^2 (coefficient of determination) regression score function. \n",
        "  # # An R2 of 0 means your regression is no better than taking the mean value, \n",
        "  # # i.e. you are not using any information from the other variables. \n",
        "  # # A Negative R2 means you are doing worse than the mean value. :))\n",
        "\n",
        "  #print(f'Score for fold {fold_no}: {model1.metrics_names[0]} of {scores[0]}; {model1.metrics_names[1]} of {scores[1]*100}%')\n",
        "  scores2 = mean_squared_error(GPAScaled2.iloc[test_index], y_pred_te)\n",
        "\n",
        "  print(f'Score for fold {fold_no}: coefficient of determination of the prediction is {scores1}')\n",
        "  print(f'Score for fold {fold_no}: MSE is {scores2}')\n",
        "\n",
        "  #acc_per_fold.append(scores[1] * 100)\n",
        "  loss_per_fold.append(scores2)\n",
        "\n",
        "  # Increase fold number\n",
        "  fold_no = fold_no + 1\n",
        "\n",
        "# == Provide average scores ==\n",
        "print('------------------------------------------------------------------------')\n",
        "print('MSE per fold')\n",
        "for i in range(0, len(loss_per_fold)):\n",
        "  print('------------------------------------------------------------------------')\n",
        "  print(f'> Fold {i+1} - MSE: {loss_per_fold[i]}')\n",
        "print('------------------------------------------------------------------------')\n",
        "print('Average scores for all folds:')\n",
        "print(f'> MSE: {np.mean(loss_per_fold)}')\n",
        "print('------------------------------------------------------------------------')"
      ],
      "metadata": {
        "id": "_KEnGiK5AUIe",
        "outputId": "62e1ed6f-a8cd-4841-a1ee-b76c5287d72c",
        "colab": {
          "base_uri": "https://localhost:8080/"
        }
      },
      "execution_count": 44,
      "outputs": [
        {
          "output_type": "stream",
          "name": "stdout",
          "text": [
            "------------------------------------------------------------------------\n",
            "Training for fold 1 ...\n"
          ]
        },
        {
          "output_type": "stream",
          "name": "stderr",
          "text": [
            "/usr/local/lib/python3.7/dist-packages/sklearn/utils/validation.py:1692: FutureWarning:\n",
            "\n",
            "Feature names only support names that are all strings. Got feature names with dtypes: ['int', 'str']. An error will be raised in 1.2.\n",
            "\n",
            "/usr/local/lib/python3.7/dist-packages/sklearn/utils/validation.py:1692: FutureWarning:\n",
            "\n",
            "Feature names only support names that are all strings. Got feature names with dtypes: ['int', 'str']. An error will be raised in 1.2.\n",
            "\n",
            "/usr/local/lib/python3.7/dist-packages/sklearn/utils/validation.py:1692: FutureWarning:\n",
            "\n",
            "Feature names only support names that are all strings. Got feature names with dtypes: ['int', 'str']. An error will be raised in 1.2.\n",
            "\n",
            "/usr/local/lib/python3.7/dist-packages/sklearn/utils/validation.py:1692: FutureWarning:\n",
            "\n",
            "Feature names only support names that are all strings. Got feature names with dtypes: ['int', 'str']. An error will be raised in 1.2.\n",
            "\n"
          ]
        },
        {
          "output_type": "stream",
          "name": "stdout",
          "text": [
            "Score for fold 1: coefficient of determination of the prediction is 0.19628883218768833\n",
            "Score for fold 1: MSE is 0.022766425547185068\n",
            "------------------------------------------------------------------------\n",
            "Training for fold 2 ...\n"
          ]
        },
        {
          "output_type": "stream",
          "name": "stderr",
          "text": [
            "/usr/local/lib/python3.7/dist-packages/sklearn/utils/validation.py:1692: FutureWarning:\n",
            "\n",
            "Feature names only support names that are all strings. Got feature names with dtypes: ['int', 'str']. An error will be raised in 1.2.\n",
            "\n",
            "/usr/local/lib/python3.7/dist-packages/sklearn/utils/validation.py:1692: FutureWarning:\n",
            "\n",
            "Feature names only support names that are all strings. Got feature names with dtypes: ['int', 'str']. An error will be raised in 1.2.\n",
            "\n",
            "/usr/local/lib/python3.7/dist-packages/sklearn/utils/validation.py:1692: FutureWarning:\n",
            "\n",
            "Feature names only support names that are all strings. Got feature names with dtypes: ['int', 'str']. An error will be raised in 1.2.\n",
            "\n",
            "/usr/local/lib/python3.7/dist-packages/sklearn/utils/validation.py:1692: FutureWarning:\n",
            "\n",
            "Feature names only support names that are all strings. Got feature names with dtypes: ['int', 'str']. An error will be raised in 1.2.\n",
            "\n"
          ]
        },
        {
          "output_type": "stream",
          "name": "stdout",
          "text": [
            "Score for fold 2: coefficient of determination of the prediction is 0.11177082169331298\n",
            "Score for fold 2: MSE is 0.019849401689964734\n",
            "------------------------------------------------------------------------\n",
            "Training for fold 3 ...\n"
          ]
        },
        {
          "output_type": "stream",
          "name": "stderr",
          "text": [
            "/usr/local/lib/python3.7/dist-packages/sklearn/utils/validation.py:1692: FutureWarning:\n",
            "\n",
            "Feature names only support names that are all strings. Got feature names with dtypes: ['int', 'str']. An error will be raised in 1.2.\n",
            "\n",
            "/usr/local/lib/python3.7/dist-packages/sklearn/utils/validation.py:1692: FutureWarning:\n",
            "\n",
            "Feature names only support names that are all strings. Got feature names with dtypes: ['int', 'str']. An error will be raised in 1.2.\n",
            "\n",
            "/usr/local/lib/python3.7/dist-packages/sklearn/utils/validation.py:1692: FutureWarning:\n",
            "\n",
            "Feature names only support names that are all strings. Got feature names with dtypes: ['int', 'str']. An error will be raised in 1.2.\n",
            "\n",
            "/usr/local/lib/python3.7/dist-packages/sklearn/utils/validation.py:1692: FutureWarning:\n",
            "\n",
            "Feature names only support names that are all strings. Got feature names with dtypes: ['int', 'str']. An error will be raised in 1.2.\n",
            "\n"
          ]
        },
        {
          "output_type": "stream",
          "name": "stdout",
          "text": [
            "Score for fold 3: coefficient of determination of the prediction is 0.09838911868612987\n",
            "Score for fold 3: MSE is 0.023916698546384178\n",
            "------------------------------------------------------------------------\n",
            "Training for fold 4 ...\n"
          ]
        },
        {
          "output_type": "stream",
          "name": "stderr",
          "text": [
            "/usr/local/lib/python3.7/dist-packages/sklearn/utils/validation.py:1692: FutureWarning:\n",
            "\n",
            "Feature names only support names that are all strings. Got feature names with dtypes: ['int', 'str']. An error will be raised in 1.2.\n",
            "\n",
            "/usr/local/lib/python3.7/dist-packages/sklearn/utils/validation.py:1692: FutureWarning:\n",
            "\n",
            "Feature names only support names that are all strings. Got feature names with dtypes: ['int', 'str']. An error will be raised in 1.2.\n",
            "\n",
            "/usr/local/lib/python3.7/dist-packages/sklearn/utils/validation.py:1692: FutureWarning:\n",
            "\n",
            "Feature names only support names that are all strings. Got feature names with dtypes: ['int', 'str']. An error will be raised in 1.2.\n",
            "\n",
            "/usr/local/lib/python3.7/dist-packages/sklearn/utils/validation.py:1692: FutureWarning:\n",
            "\n",
            "Feature names only support names that are all strings. Got feature names with dtypes: ['int', 'str']. An error will be raised in 1.2.\n",
            "\n"
          ]
        },
        {
          "output_type": "stream",
          "name": "stdout",
          "text": [
            "Score for fold 4: coefficient of determination of the prediction is 0.13204315245285592\n",
            "Score for fold 4: MSE is 0.020656355971156667\n",
            "------------------------------------------------------------------------\n",
            "Training for fold 5 ...\n"
          ]
        },
        {
          "output_type": "stream",
          "name": "stderr",
          "text": [
            "/usr/local/lib/python3.7/dist-packages/sklearn/utils/validation.py:1692: FutureWarning:\n",
            "\n",
            "Feature names only support names that are all strings. Got feature names with dtypes: ['int', 'str']. An error will be raised in 1.2.\n",
            "\n",
            "/usr/local/lib/python3.7/dist-packages/sklearn/utils/validation.py:1692: FutureWarning:\n",
            "\n",
            "Feature names only support names that are all strings. Got feature names with dtypes: ['int', 'str']. An error will be raised in 1.2.\n",
            "\n",
            "/usr/local/lib/python3.7/dist-packages/sklearn/utils/validation.py:1692: FutureWarning:\n",
            "\n",
            "Feature names only support names that are all strings. Got feature names with dtypes: ['int', 'str']. An error will be raised in 1.2.\n",
            "\n",
            "/usr/local/lib/python3.7/dist-packages/sklearn/utils/validation.py:1692: FutureWarning:\n",
            "\n",
            "Feature names only support names that are all strings. Got feature names with dtypes: ['int', 'str']. An error will be raised in 1.2.\n",
            "\n"
          ]
        },
        {
          "output_type": "stream",
          "name": "stdout",
          "text": [
            "Score for fold 5: coefficient of determination of the prediction is 0.1312134824486324\n",
            "Score for fold 5: MSE is 0.01957580946792443\n",
            "------------------------------------------------------------------------\n",
            "Training for fold 6 ...\n"
          ]
        },
        {
          "output_type": "stream",
          "name": "stderr",
          "text": [
            "/usr/local/lib/python3.7/dist-packages/sklearn/utils/validation.py:1692: FutureWarning:\n",
            "\n",
            "Feature names only support names that are all strings. Got feature names with dtypes: ['int', 'str']. An error will be raised in 1.2.\n",
            "\n",
            "/usr/local/lib/python3.7/dist-packages/sklearn/utils/validation.py:1692: FutureWarning:\n",
            "\n",
            "Feature names only support names that are all strings. Got feature names with dtypes: ['int', 'str']. An error will be raised in 1.2.\n",
            "\n",
            "/usr/local/lib/python3.7/dist-packages/sklearn/utils/validation.py:1692: FutureWarning:\n",
            "\n",
            "Feature names only support names that are all strings. Got feature names with dtypes: ['int', 'str']. An error will be raised in 1.2.\n",
            "\n",
            "/usr/local/lib/python3.7/dist-packages/sklearn/utils/validation.py:1692: FutureWarning:\n",
            "\n",
            "Feature names only support names that are all strings. Got feature names with dtypes: ['int', 'str']. An error will be raised in 1.2.\n",
            "\n",
            "/usr/local/lib/python3.7/dist-packages/sklearn/utils/validation.py:1692: FutureWarning:\n",
            "\n",
            "Feature names only support names that are all strings. Got feature names with dtypes: ['int', 'str']. An error will be raised in 1.2.\n",
            "\n"
          ]
        },
        {
          "output_type": "stream",
          "name": "stdout",
          "text": [
            "Score for fold 6: coefficient of determination of the prediction is 0.17156500351867543\n",
            "Score for fold 6: MSE is 0.018172016923984347\n",
            "------------------------------------------------------------------------\n",
            "Training for fold 7 ...\n"
          ]
        },
        {
          "output_type": "stream",
          "name": "stderr",
          "text": [
            "/usr/local/lib/python3.7/dist-packages/sklearn/utils/validation.py:1692: FutureWarning:\n",
            "\n",
            "Feature names only support names that are all strings. Got feature names with dtypes: ['int', 'str']. An error will be raised in 1.2.\n",
            "\n",
            "/usr/local/lib/python3.7/dist-packages/sklearn/utils/validation.py:1692: FutureWarning:\n",
            "\n",
            "Feature names only support names that are all strings. Got feature names with dtypes: ['int', 'str']. An error will be raised in 1.2.\n",
            "\n",
            "/usr/local/lib/python3.7/dist-packages/sklearn/utils/validation.py:1692: FutureWarning:\n",
            "\n",
            "Feature names only support names that are all strings. Got feature names with dtypes: ['int', 'str']. An error will be raised in 1.2.\n",
            "\n"
          ]
        },
        {
          "output_type": "stream",
          "name": "stdout",
          "text": [
            "Score for fold 7: coefficient of determination of the prediction is 0.18078115021334418\n",
            "Score for fold 7: MSE is 0.01928580195449581\n",
            "------------------------------------------------------------------------\n",
            "Training for fold 8 ...\n"
          ]
        },
        {
          "output_type": "stream",
          "name": "stderr",
          "text": [
            "/usr/local/lib/python3.7/dist-packages/sklearn/utils/validation.py:1692: FutureWarning:\n",
            "\n",
            "Feature names only support names that are all strings. Got feature names with dtypes: ['int', 'str']. An error will be raised in 1.2.\n",
            "\n",
            "/usr/local/lib/python3.7/dist-packages/sklearn/utils/validation.py:1692: FutureWarning:\n",
            "\n",
            "Feature names only support names that are all strings. Got feature names with dtypes: ['int', 'str']. An error will be raised in 1.2.\n",
            "\n",
            "/usr/local/lib/python3.7/dist-packages/sklearn/utils/validation.py:1692: FutureWarning:\n",
            "\n",
            "Feature names only support names that are all strings. Got feature names with dtypes: ['int', 'str']. An error will be raised in 1.2.\n",
            "\n",
            "/usr/local/lib/python3.7/dist-packages/sklearn/utils/validation.py:1692: FutureWarning:\n",
            "\n",
            "Feature names only support names that are all strings. Got feature names with dtypes: ['int', 'str']. An error will be raised in 1.2.\n",
            "\n"
          ]
        },
        {
          "output_type": "stream",
          "name": "stdout",
          "text": [
            "Score for fold 8: coefficient of determination of the prediction is 0.137054827097428\n",
            "Score for fold 8: MSE is 0.02198224803902587\n",
            "------------------------------------------------------------------------\n",
            "Training for fold 9 ...\n"
          ]
        },
        {
          "output_type": "stream",
          "name": "stderr",
          "text": [
            "/usr/local/lib/python3.7/dist-packages/sklearn/utils/validation.py:1692: FutureWarning:\n",
            "\n",
            "Feature names only support names that are all strings. Got feature names with dtypes: ['int', 'str']. An error will be raised in 1.2.\n",
            "\n",
            "/usr/local/lib/python3.7/dist-packages/sklearn/utils/validation.py:1692: FutureWarning:\n",
            "\n",
            "Feature names only support names that are all strings. Got feature names with dtypes: ['int', 'str']. An error will be raised in 1.2.\n",
            "\n",
            "/usr/local/lib/python3.7/dist-packages/sklearn/utils/validation.py:1692: FutureWarning:\n",
            "\n",
            "Feature names only support names that are all strings. Got feature names with dtypes: ['int', 'str']. An error will be raised in 1.2.\n",
            "\n",
            "/usr/local/lib/python3.7/dist-packages/sklearn/utils/validation.py:1692: FutureWarning:\n",
            "\n",
            "Feature names only support names that are all strings. Got feature names with dtypes: ['int', 'str']. An error will be raised in 1.2.\n",
            "\n"
          ]
        },
        {
          "output_type": "stream",
          "name": "stdout",
          "text": [
            "Score for fold 9: coefficient of determination of the prediction is 0.16568470784408373\n",
            "Score for fold 9: MSE is 0.01993737172787291\n",
            "------------------------------------------------------------------------\n",
            "Training for fold 10 ...\n"
          ]
        },
        {
          "output_type": "stream",
          "name": "stderr",
          "text": [
            "/usr/local/lib/python3.7/dist-packages/sklearn/utils/validation.py:1692: FutureWarning:\n",
            "\n",
            "Feature names only support names that are all strings. Got feature names with dtypes: ['int', 'str']. An error will be raised in 1.2.\n",
            "\n",
            "/usr/local/lib/python3.7/dist-packages/sklearn/utils/validation.py:1692: FutureWarning:\n",
            "\n",
            "Feature names only support names that are all strings. Got feature names with dtypes: ['int', 'str']. An error will be raised in 1.2.\n",
            "\n",
            "/usr/local/lib/python3.7/dist-packages/sklearn/utils/validation.py:1692: FutureWarning:\n",
            "\n",
            "Feature names only support names that are all strings. Got feature names with dtypes: ['int', 'str']. An error will be raised in 1.2.\n",
            "\n",
            "/usr/local/lib/python3.7/dist-packages/sklearn/utils/validation.py:1692: FutureWarning:\n",
            "\n",
            "Feature names only support names that are all strings. Got feature names with dtypes: ['int', 'str']. An error will be raised in 1.2.\n",
            "\n"
          ]
        },
        {
          "output_type": "stream",
          "name": "stdout",
          "text": [
            "Score for fold 10: coefficient of determination of the prediction is 0.15427005952579897\n",
            "Score for fold 10: MSE is 0.017237019156992505\n",
            "------------------------------------------------------------------------\n",
            "MSE per fold\n",
            "------------------------------------------------------------------------\n",
            "> Fold 1 - MSE: 0.022766425547185068\n",
            "------------------------------------------------------------------------\n",
            "> Fold 2 - MSE: 0.019849401689964734\n",
            "------------------------------------------------------------------------\n",
            "> Fold 3 - MSE: 0.023916698546384178\n",
            "------------------------------------------------------------------------\n",
            "> Fold 4 - MSE: 0.020656355971156667\n",
            "------------------------------------------------------------------------\n",
            "> Fold 5 - MSE: 0.01957580946792443\n",
            "------------------------------------------------------------------------\n",
            "> Fold 6 - MSE: 0.018172016923984347\n",
            "------------------------------------------------------------------------\n",
            "> Fold 7 - MSE: 0.01928580195449581\n",
            "------------------------------------------------------------------------\n",
            "> Fold 8 - MSE: 0.02198224803902587\n",
            "------------------------------------------------------------------------\n",
            "> Fold 9 - MSE: 0.01993737172787291\n",
            "------------------------------------------------------------------------\n",
            "> Fold 10 - MSE: 0.017237019156992505\n",
            "------------------------------------------------------------------------\n",
            "Average scores for all folds:\n",
            "> MSE: 0.02033791490249865\n",
            "------------------------------------------------------------------------\n"
          ]
        }
      ]
    },
    {
      "cell_type": "code",
      "source": [
        "y_test = GPAScaled2.iloc[test_index]"
      ],
      "metadata": {
        "id": "XbZGE5JI5Lub"
      },
      "execution_count": 45,
      "outputs": []
    },
    {
      "cell_type": "code",
      "source": [
        "y_pred_te_UN = (GPAmax * y_pred_te) + (GPAmin * (1 - y_pred_te)) \n",
        "y_test_UN = (GPAmax * y_test) + (GPAmin * (1 - y_test))\n",
        "y_test_UN = y_test_UN.to_numpy()"
      ],
      "metadata": {
        "id": "4lx9r32v50fq"
      },
      "execution_count": 46,
      "outputs": []
    },
    {
      "cell_type": "code",
      "source": [
        "plt.figure()\n",
        "plt.errorbar(y_test, y_pred_te, yerr=y_pred_te_std, fmt='o')\n",
        "# r2_score: R^2 (coefficient of determination) regression score function.\n",
        "plt.title('Gaussian process regression, R2=%.2f' % r2_score(y_test, y_pred_te))\n",
        "plt.xlabel('Actual')\n",
        "plt.ylabel('Predicted')"
      ],
      "metadata": {
        "colab": {
          "base_uri": "https://localhost:8080/",
          "height": 313
        },
        "id": "x-OjBf0pfDNy",
        "outputId": "10b80482-f858-41be-c25b-caee07a0a41c"
      },
      "execution_count": 47,
      "outputs": [
        {
          "output_type": "execute_result",
          "data": {
            "text/plain": [
              "Text(0, 0.5, 'Predicted')"
            ]
          },
          "metadata": {},
          "execution_count": 47
        },
        {
          "output_type": "display_data",
          "data": {
            "image/png": "[encoded data removed]",
            "text/plain": [
              "<Figure size 432x288 with 1 Axes>"
            ]
          },
          "metadata": {
            "needs_background": "light"
          }
        }
      ]
    },
    {
      "cell_type": "code",
      "source": [
        "mean_squared_error(y_test, y_pred_te)"
      ],
      "metadata": {
        "colab": {
          "base_uri": "https://localhost:8080/"
        },
        "outputId": "2a9e7d64-3143-4512-bde0-caca6e252f76",
        "id": "o5WdAXjOTecu"
      },
      "execution_count": 48,
      "outputs": [
        {
          "output_type": "execute_result",
          "data": {
            "text/plain": [
              "0.017237019156992505"
            ]
          },
          "metadata": {},
          "execution_count": 48
        }
      ]
    },
    {
      "cell_type": "code",
      "source": [
        "idx   = np.argsort(y_test)\n",
        "y_pred_te = y_pred_te.reshape(y_pred_te.shape[0],)\n",
        "list1 = np.array(y_test)[idx]\n",
        "list2 = np.array(y_pred_te)[idx]\n",
        "fig = go.Figure()\n",
        "fig.add_trace(go.Scatter(y=list1, name=\"y_test\", line_shape='linear'))\n",
        "fig.add_trace(go.Scatter(y=list2, name=\"y_predict_te\", line_shape='linear'))\n",
        "fig.update_layout(title_text='NORMALIZED - GPR MODEL RESULTS SORTED', title_x=0.5)\n",
        "fig.show()"
      ],
      "metadata": {
        "colab": {
          "base_uri": "https://localhost:8080/",
          "height": 542
        },
        "outputId": "7ce45fda-6390-4d59-acfe-01b04a069ac4",
        "id": "pSlsuelhTecv"
      },
      "execution_count": 49,
      "outputs": [
        {
          "output_type": "display_data",
          "data": {
            "text/html": [
              "<html>\n",
              "<head><meta charset=\"utf-8\" /></head>\n",
              "<body>\n",
              "    <div>            <script src=\"https://cdnjs.cloudflare.com/ajax/libs/mathjax/2.7.5/MathJax.js?config=TeX-AMS-MML_SVG\"></script><script type=\"text/javascript\">if (window.MathJax) {MathJax.Hub.Config({SVG: {font: \"STIX-Web\"}});}</script>                <script type=\"text/javascript\">window.PlotlyConfig = {MathJaxConfig: 'local'};</script>\n",
              "        <script src=\"https://cdn.plot.ly/plotly-2.8.3.min.js\"></script>                <div id=\"1004339f-3138-4baf-b3ee-3e80985dd7dc\" class=\"plotly-graph-div\" style=\"height:525px; width:100%;\"></div>            <script type=\"text/javascript\">                                    window.PLOTLYENV=window.PLOTLYENV || {};                                    if (document.getElementById(\"1004339f-3138-4baf-b3ee-3e80985dd7dc\")) {                    Plotly.newPlot(                        \"1004339f-3138-4baf-b3ee-3e80985dd7dc\",                        [{\"line\":{\"shape\":\"linear\"},\"name\":\"y_test\",\"y\":[0.3333333333333333,0.41999999999999993,0.4333333333333333,0.4666666666666666,0.4833333333333334,0.5,0.5,0.5,0.5,0.5266666666666667,0.5333333333333333,0.5333333333333333,0.5366666666666666,0.5666666666666668,0.5666666666666668,0.57,0.5800000000000001,0.6,0.6,0.6,0.6033333333333334,0.6133333333333333,0.6233333333333334,0.6333333333333333,0.6333333333333333,0.665,0.6666666666666666,0.6666666666666666,0.6666666666666666,0.6666666666666666,0.6666666666666666,0.6666666666666666,0.6666666666666666,0.6666666666666666,0.6666666666666666,0.6666666666666666,0.6666666666666666,0.6666666666666666,0.6766666666666666,0.7000000000000001,0.7000000000000001,0.7000000000000001,0.7000000000000001,0.7000000000000001,0.7000000000000001,0.7000000000000001,0.7000000000000001,0.7000000000000001,0.7000000000000001,0.7066666666666667,0.7166666666666667,0.7166666666666667,0.7333333333333334,0.7333333333333334,0.7333333333333334,0.7333333333333334,0.7333333333333334,0.7333333333333334,0.7333333333333334,0.7333333333333334,0.7333333333333334,0.7333333333333334,0.7333333333333334,0.7333333333333334,0.7366666666666667,0.7366666666666667,0.7400000000000001,0.75,0.75,0.7566666666666667,0.7666666666666666,0.7666666666666666,0.7666666666666666,0.7666666666666666,0.7666666666666666,0.7666666666666666,0.7666666666666666,0.77,0.7766666666666667,0.7766666666666667,0.7766666666666667,0.7766666666666667,0.7799999999999999,0.7833333333333333,0.7866666666666666,0.7866666666666666,0.7933333333333333,0.7999999999999999,0.7999999999999999,0.7999999999999999,0.7999999999999999,0.7999999999999999,0.7999999999999999,0.7999999999999999,0.8033333333333333,0.8033333333333333,0.8066666666666666,0.8166666666666668,0.82,0.82,0.8233333333333334,0.8266666666666667,0.8300000000000001,0.8333333333333334,0.8333333333333334,0.8333333333333334,0.8333333333333334,0.8333333333333334,0.8333333333333334,0.8333333333333334,0.8333333333333334,0.8333333333333334,0.8333333333333334,0.8333333333333334,0.8333333333333334,0.8333333333333334,0.8333333333333334,0.8333333333333334,0.8333333333333334,0.8333333333333334,0.8333333333333334,0.8333333333333334,0.85,0.8566666666666666,0.86,0.8666666666666667,0.8666666666666667,0.8666666666666667,0.8666666666666667,0.8666666666666667,0.8666666666666667,0.8666666666666667,0.8666666666666667,0.8666666666666667,0.8666666666666667,0.8666666666666667,0.8733333333333334,0.8833333333333333,0.8833333333333333,0.8833333333333333,0.8833333333333333,0.89,0.89,0.8933333333333334,0.8966666666666666,0.9,0.9,0.9,0.9,0.9,0.9,0.9,0.9,0.9,0.9,0.9,0.9,0.9,0.9,0.9,0.9,0.9,0.9,0.9,0.9033333333333333,0.9066666666666667,0.91,0.9166666666666666,0.9166666666666666,0.9166666666666666,0.9166666666666666,0.9199999999999999,0.9266666666666666,0.9266666666666666,0.93,0.9333333333333332,0.9333333333333332,0.9333333333333332,0.9333333333333332,0.9333333333333332,0.9333333333333332,0.9333333333333332,0.9333333333333332,0.9366666666666666,0.9433333333333334,0.9566666666666667,0.9633333333333334,0.9633333333333334,0.9633333333333334,0.9666666666666667,0.9666666666666667,0.9666666666666667,0.9666666666666667,0.9666666666666667,0.9666666666666667,0.9666666666666667,0.9700000000000001,0.9700000000000001,0.9700000000000001,0.9700000000000001,0.9700000000000001,0.9733333333333333,0.9733333333333333,0.9766666666666667,0.9766666666666667,0.98,0.9833333333333334,0.9833333333333334,0.9833333333333334,0.9833333333333334,0.9900000000000001,0.9900000000000001,0.9933333333333333,0.9933333333333333,1.0,1.0,1.0,1.0,1.0,1.0,1.0,1.0,1.0,1.0,1.0,1.0,1.0,1.0,1.0,1.0,1.0,1.0,1.0,1.0,1.0,1.0,1.0,1.0,1.0,1.0,1.0,1.0,1.0,1.0,1.0,1.0,1.0,1.0,1.0,1.0,1.0,1.0,1.0,1.0,1.0,1.0,1.0,1.0,1.0],\"type\":\"scatter\"},{\"line\":{\"shape\":\"linear\"},\"name\":\"y_predict_te\",\"y\":[0.8693429941914905,0.6986927187886991,0.7099316206107655,0.6545231584787476,0.8112212633089158,0.7437981899928836,0.7808346931062875,0.7318712171675639,0.8636595359548487,0.7752605000826254,0.7807065431773372,0.7934005361780532,0.7393268939895039,0.8559620130558239,0.6690403505104197,0.9078677349788533,0.7738377697791261,0.7605317218635737,0.7915128650334333,0.8241181907368222,0.8234002015120989,0.6940105635535261,0.6917723386226227,0.8780945376249534,0.8513752788412612,0.6938458567252717,0.7504584506331211,0.7724612834680489,0.7928663240238372,0.7315262115104817,0.75932516765634,0.7852529488828619,0.7739268030495792,0.711816432108173,0.8104607144022884,0.7980779011418297,0.7146764078038954,0.693857596397021,0.9144068552316229,0.8096139520907197,0.8288359764309146,0.785514777059455,0.8259831701835383,0.897670536819513,0.7224502029231541,0.7068720561975015,0.9223223695116056,0.7592347354656264,0.7457416754474053,0.7815680485246377,0.8023297890093533,0.8877819829091367,0.7338032823496805,0.8408480713419468,0.7195089361128186,0.8057040092526879,0.8903678090531004,0.7741718646595439,0.7850830394993613,0.9132283622447721,0.7820858151342973,0.8588141425506759,0.7945565689839036,0.7973536641300196,0.8228041656858647,0.7853349132716954,0.8615472122682775,0.802988318884692,0.7622108243361936,0.7936711575329776,0.8511603701849095,0.7234736663138115,0.8161008978049242,0.6630603540490192,0.8219994707532612,0.853493257664387,0.8561687902552659,0.833666076553464,0.7569304011669615,0.8412426644934676,0.8886609369217844,0.7221002880859757,0.8127388824500716,0.9094978160026166,0.8828396463470094,0.8255376441130231,0.7569519370800171,0.8847587940853119,0.7739370568653623,0.8565800419594813,0.7384377748280286,0.8636384765807348,0.6987059600885797,0.7992351206499224,0.835640323590094,0.8070465606685469,0.8617686994116429,0.8797761723777251,0.8018827688299721,0.7452643992005568,0.7490635040140523,0.8287321613545693,0.7884043086216588,0.9063943131320196,0.8175182889733525,0.8146409513740709,0.8076692329753525,0.7703445918715754,0.809950055044415,0.8568246086997009,0.8945554318223934,0.7296654658450814,0.9855646008218768,0.8564547017960811,0.8005595051357544,0.8871504937534249,0.8958489413299544,0.7591730606821612,0.7997594152682792,0.7666638956281142,0.8507591393454472,0.8061397660558294,0.83572771579556,0.7897618402301605,0.8147569448053149,0.8384415609027958,0.8355697286921773,0.7930219127326454,0.8698185137758783,0.8945331568511996,0.8191380584333867,0.8329034003565754,0.7639173187268895,0.7931836007283675,0.8531366303426191,0.7876902035976858,0.7152163044484503,0.8334466581915239,0.8212620702469104,0.7961349358335186,0.9195569882632384,0.8470179066300982,0.880996982542916,0.883978464826888,0.8464269509281177,0.7860165504356953,0.869981226611027,0.9005164187029164,0.7220732873339779,0.894516486007559,0.7223792009977812,0.858636021959355,0.708021017588095,0.7414272663279702,0.7962296254338517,0.7551569663131863,0.8277165874709462,0.888751464802719,0.8403228890068428,0.8768776441443205,0.7713859048715577,0.7620434106069567,0.8194137747497745,0.8066545785506927,0.8423433966566956,0.8053263809373101,0.822238075093372,0.8048368910971622,0.7900756515782019,0.7784448829758572,0.8263183380234009,0.8792853183215312,0.8054836727339723,0.7590585312212683,0.821528814747138,0.8056326886259395,0.7708210383880809,0.904565163953662,0.7698526501824583,0.7954283085253717,0.7986533434530987,0.8072625954318253,0.8227787439168956,0.9144168479053985,0.965818348737363,0.8444629137528965,0.8749025945238831,0.8288420453475371,0.8067824122693414,0.8728917080697425,0.9530933429842774,0.9142332228493215,0.8733251676718625,0.9178111878840527,0.9061776340972729,0.8717688142674298,0.763492337673271,0.8016602963590644,0.9200017400003606,0.8694996440320253,0.88936788595917,0.9044453955669463,0.8019257325215099,0.9013885985072934,0.9058072187673645,0.9018253616756571,0.8625428443134489,0.8496128295644336,0.8423224978701072,0.9126530452612691,0.8078523641900501,0.7374698251899741,0.8769255319566023,0.7823908096159577,0.7773573511640679,0.9003497048061755,0.7953212287449203,0.9915261789375878,0.7816775547816963,0.8945720154342665,0.8185752094468164,0.8707343951664619,0.897072165242653,0.8696214651657144,0.8673574051972661,0.8629994724192276,0.8031950013029148,0.7864366634045181,0.9564900758649015,0.8919687249654178,0.8775646700443369,0.8246981859053921,0.7363309276387922,0.9089912793029855,0.8604460047641505,0.843158936425592,0.8063110944763388,0.856178398173566,0.8443760657027912,0.854807257647753,0.9016708277017109,0.9378089303723556,0.9119589778847876,0.7999353987565776,0.9487680761027502,0.8902467713000011,0.6559668058207908,0.8250966531293775,0.878573569197842,0.7966773369279938,0.884698986595442,0.9333032575011044,0.863873160988974,0.8888926097939427,0.8475920035236388,0.8806626095603312,0.8813043421383924,0.8877277426944854,0.8878351797148873],\"type\":\"scatter\"}],                        {\"template\":{\"data\":{\"bar\":[{\"error_x\":{\"color\":\"#2a3f5f\"},\"error_y\":{\"color\":\"#2a3f5f\"},\"marker\":{\"line\":{\"color\":\"#E5ECF6\",\"width\":0.5},\"pattern\":{\"fillmode\":\"overlay\",\"size\":10,\"solidity\":0.2}},\"type\":\"bar\"}],\"barpolar\":[{\"marker\":{\"line\":{\"color\":\"#E5ECF6\",\"width\":0.5},\"pattern\":{\"fillmode\":\"overlay\",\"size\":10,\"solidity\":0.2}},\"type\":\"barpolar\"}],\"carpet\":[{\"aaxis\":{\"endlinecolor\":\"#2a3f5f\",\"gridcolor\":\"white\",\"linecolor\":\"white\",\"minorgridcolor\":\"white\",\"startlinecolor\":\"#2a3f5f\"},\"baxis\":{\"endlinecolor\":\"#2a3f5f\",\"gridcolor\":\"white\",\"linecolor\":\"white\",\"minorgridcolor\":\"white\",\"startlinecolor\":\"#2a3f5f\"},\"type\":\"carpet\"}],\"choropleth\":[{\"colorbar\":{\"outlinewidth\":0,\"ticks\":\"\"},\"type\":\"choropleth\"}],\"contour\":[{\"colorbar\":{\"outlinewidth\":0,\"ticks\":\"\"},\"colorscale\":[[0.0,\"#0d0887\"],[0.1111111111111111,\"#46039f\"],[0.2222222222222222,\"#7201a8\"],[0.3333333333333333,\"#9c179e\"],[0.4444444444444444,\"#bd3786\"],[0.5555555555555556,\"#d8576b\"],[0.6666666666666666,\"#ed7953\"],[0.7777777777777778,\"#fb9f3a\"],[0.8888888888888888,\"#fdca26\"],[1.0,\"#f0f921\"]],\"type\":\"contour\"}],\"contourcarpet\":[{\"colorbar\":{\"outlinewidth\":0,\"ticks\":\"\"},\"type\":\"contourcarpet\"}],\"heatmap\":[{\"colorbar\":{\"outlinewidth\":0,\"ticks\":\"\"},\"colorscale\":[[0.0,\"#0d0887\"],[0.1111111111111111,\"#46039f\"],[0.2222222222222222,\"#7201a8\"],[0.3333333333333333,\"#9c179e\"],[0.4444444444444444,\"#bd3786\"],[0.5555555555555556,\"#d8576b\"],[0.6666666666666666,\"#ed7953\"],[0.7777777777777778,\"#fb9f3a\"],[0.8888888888888888,\"#fdca26\"],[1.0,\"#f0f921\"]],\"type\":\"heatmap\"}],\"heatmapgl\":[{\"colorbar\":{\"outlinewidth\":0,\"ticks\":\"\"},\"colorscale\":[[0.0,\"#0d0887\"],[0.1111111111111111,\"#46039f\"],[0.2222222222222222,\"#7201a8\"],[0.3333333333333333,\"#9c179e\"],[0.4444444444444444,\"#bd3786\"],[0.5555555555555556,\"#d8576b\"],[0.6666666666666666,\"#ed7953\"],[0.7777777777777778,\"#fb9f3a\"],[0.8888888888888888,\"#fdca26\"],[1.0,\"#f0f921\"]],\"type\":\"heatmapgl\"}],\"histogram\":[{\"marker\":{\"pattern\":{\"fillmode\":\"overlay\",\"size\":10,\"solidity\":0.2}},\"type\":\"histogram\"}],\"histogram2d\":[{\"colorbar\":{\"outlinewidth\":0,\"ticks\":\"\"},\"colorscale\":[[0.0,\"#0d0887\"],[0.1111111111111111,\"#46039f\"],[0.2222222222222222,\"#7201a8\"],[0.3333333333333333,\"#9c179e\"],[0.4444444444444444,\"#bd3786\"],[0.5555555555555556,\"#d8576b\"],[0.6666666666666666,\"#ed7953\"],[0.7777777777777778,\"#fb9f3a\"],[0.8888888888888888,\"#fdca26\"],[1.0,\"#f0f921\"]],\"type\":\"histogram2d\"}],\"histogram2dcontour\":[{\"colorbar\":{\"outlinewidth\":0,\"ticks\":\"\"},\"colorscale\":[[0.0,\"#0d0887\"],[0.1111111111111111,\"#46039f\"],[0.2222222222222222,\"#7201a8\"],[0.3333333333333333,\"#9c179e\"],[0.4444444444444444,\"#bd3786\"],[0.5555555555555556,\"#d8576b\"],[0.6666666666666666,\"#ed7953\"],[0.7777777777777778,\"#fb9f3a\"],[0.8888888888888888,\"#fdca26\"],[1.0,\"#f0f921\"]],\"type\":\"histogram2dcontour\"}],\"mesh3d\":[{\"colorbar\":{\"outlinewidth\":0,\"ticks\":\"\"},\"type\":\"mesh3d\"}],\"parcoords\":[{\"line\":{\"colorbar\":{\"outlinewidth\":0,\"ticks\":\"\"}},\"type\":\"parcoords\"}],\"pie\":[{\"automargin\":true,\"type\":\"pie\"}],\"scatter\":[{\"marker\":{\"colorbar\":{\"outlinewidth\":0,\"ticks\":\"\"}},\"type\":\"scatter\"}],\"scatter3d\":[{\"line\":{\"colorbar\":{\"outlinewidth\":0,\"ticks\":\"\"}},\"marker\":{\"colorbar\":{\"outlinewidth\":0,\"ticks\":\"\"}},\"type\":\"scatter3d\"}],\"scattercarpet\":[{\"marker\":{\"colorbar\":{\"outlinewidth\":0,\"ticks\":\"\"}},\"type\":\"scattercarpet\"}],\"scattergeo\":[{\"marker\":{\"colorbar\":{\"outlinewidth\":0,\"ticks\":\"\"}},\"type\":\"scattergeo\"}],\"scattergl\":[{\"marker\":{\"colorbar\":{\"outlinewidth\":0,\"ticks\":\"\"}},\"type\":\"scattergl\"}],\"scattermapbox\":[{\"marker\":{\"colorbar\":{\"outlinewidth\":0,\"ticks\":\"\"}},\"type\":\"scattermapbox\"}],\"scatterpolar\":[{\"marker\":{\"colorbar\":{\"outlinewidth\":0,\"ticks\":\"\"}},\"type\":\"scatterpolar\"}],\"scatterpolargl\":[{\"marker\":{\"colorbar\":{\"outlinewidth\":0,\"ticks\":\"\"}},\"type\":\"scatterpolargl\"}],\"scatterternary\":[{\"marker\":{\"colorbar\":{\"outlinewidth\":0,\"ticks\":\"\"}},\"type\":\"scatterternary\"}],\"surface\":[{\"colorbar\":{\"outlinewidth\":0,\"ticks\":\"\"},\"colorscale\":[[0.0,\"#0d0887\"],[0.1111111111111111,\"#46039f\"],[0.2222222222222222,\"#7201a8\"],[0.3333333333333333,\"#9c179e\"],[0.4444444444444444,\"#bd3786\"],[0.5555555555555556,\"#d8576b\"],[0.6666666666666666,\"#ed7953\"],[0.7777777777777778,\"#fb9f3a\"],[0.8888888888888888,\"#fdca26\"],[1.0,\"#f0f921\"]],\"type\":\"surface\"}],\"table\":[{\"cells\":{\"fill\":{\"color\":\"#EBF0F8\"},\"line\":{\"color\":\"white\"}},\"header\":{\"fill\":{\"color\":\"#C8D4E3\"},\"line\":{\"color\":\"white\"}},\"type\":\"table\"}]},\"layout\":{\"annotationdefaults\":{\"arrowcolor\":\"#2a3f5f\",\"arrowhead\":0,\"arrowwidth\":1},\"autotypenumbers\":\"strict\",\"coloraxis\":{\"colorbar\":{\"outlinewidth\":0,\"ticks\":\"\"}},\"colorscale\":{\"diverging\":[[0,\"#8e0152\"],[0.1,\"#c51b7d\"],[0.2,\"#de77ae\"],[0.3,\"#f1b6da\"],[0.4,\"#fde0ef\"],[0.5,\"#f7f7f7\"],[0.6,\"#e6f5d0\"],[0.7,\"#b8e186\"],[0.8,\"#7fbc41\"],[0.9,\"#4d9221\"],[1,\"#276419\"]],\"sequential\":[[0.0,\"#0d0887\"],[0.1111111111111111,\"#46039f\"],[0.2222222222222222,\"#7201a8\"],[0.3333333333333333,\"#9c179e\"],[0.4444444444444444,\"#bd3786\"],[0.5555555555555556,\"#d8576b\"],[0.6666666666666666,\"#ed7953\"],[0.7777777777777778,\"#fb9f3a\"],[0.8888888888888888,\"#fdca26\"],[1.0,\"#f0f921\"]],\"sequentialminus\":[[0.0,\"#0d0887\"],[0.1111111111111111,\"#46039f\"],[0.2222222222222222,\"#7201a8\"],[0.3333333333333333,\"#9c179e\"],[0.4444444444444444,\"#bd3786\"],[0.5555555555555556,\"#d8576b\"],[0.6666666666666666,\"#ed7953\"],[0.7777777777777778,\"#fb9f3a\"],[0.8888888888888888,\"#fdca26\"],[1.0,\"#f0f921\"]]},\"colorway\":[\"#636efa\",\"#EF553B\",\"#00cc96\",\"#ab63fa\",\"#FFA15A\",\"#19d3f3\",\"#FF6692\",\"#B6E880\",\"#FF97FF\",\"#FECB52\"],\"font\":{\"color\":\"#2a3f5f\"},\"geo\":{\"bgcolor\":\"white\",\"lakecolor\":\"white\",\"landcolor\":\"#E5ECF6\",\"showlakes\":true,\"showland\":true,\"subunitcolor\":\"white\"},\"hoverlabel\":{\"align\":\"left\"},\"hovermode\":\"closest\",\"mapbox\":{\"style\":\"light\"},\"paper_bgcolor\":\"white\",\"plot_bgcolor\":\"#E5ECF6\",\"polar\":{\"angularaxis\":{\"gridcolor\":\"white\",\"linecolor\":\"white\",\"ticks\":\"\"},\"bgcolor\":\"#E5ECF6\",\"radialaxis\":{\"gridcolor\":\"white\",\"linecolor\":\"white\",\"ticks\":\"\"}},\"scene\":{\"xaxis\":{\"backgroundcolor\":\"#E5ECF6\",\"gridcolor\":\"white\",\"gridwidth\":2,\"linecolor\":\"white\",\"showbackground\":true,\"ticks\":\"\",\"zerolinecolor\":\"white\"},\"yaxis\":{\"backgroundcolor\":\"#E5ECF6\",\"gridcolor\":\"white\",\"gridwidth\":2,\"linecolor\":\"white\",\"showbackground\":true,\"ticks\":\"\",\"zerolinecolor\":\"white\"},\"zaxis\":{\"backgroundcolor\":\"#E5ECF6\",\"gridcolor\":\"white\",\"gridwidth\":2,\"linecolor\":\"white\",\"showbackground\":true,\"ticks\":\"\",\"zerolinecolor\":\"white\"}},\"shapedefaults\":{\"line\":{\"color\":\"#2a3f5f\"}},\"ternary\":{\"aaxis\":{\"gridcolor\":\"white\",\"linecolor\":\"white\",\"ticks\":\"\"},\"baxis\":{\"gridcolor\":\"white\",\"linecolor\":\"white\",\"ticks\":\"\"},\"bgcolor\":\"#E5ECF6\",\"caxis\":{\"gridcolor\":\"white\",\"linecolor\":\"white\",\"ticks\":\"\"}},\"title\":{\"x\":0.05},\"xaxis\":{\"automargin\":true,\"gridcolor\":\"white\",\"linecolor\":\"white\",\"ticks\":\"\",\"title\":{\"standoff\":15},\"zerolinecolor\":\"white\",\"zerolinewidth\":2},\"yaxis\":{\"automargin\":true,\"gridcolor\":\"white\",\"linecolor\":\"white\",\"ticks\":\"\",\"title\":{\"standoff\":15},\"zerolinecolor\":\"white\",\"zerolinewidth\":2}}},\"title\":{\"text\":\"NORMALIZED - GPR MODEL RESULTS SORTED\",\"x\":0.5}},                        {\"responsive\": true}                    ).then(function(){\n",
              "                            \n",
              "var gd = document.getElementById('1004339f-3138-4baf-b3ee-3e80985dd7dc');\n",
              "var x = new MutationObserver(function (mutations, observer) {{\n",
              "        var display = window.getComputedStyle(gd).display;\n",
              "        if (!display || display === 'none') {{\n",
              "            console.log([gd, 'removed!']);\n",
              "            Plotly.purge(gd);\n",
              "            observer.disconnect();\n",
              "        }}\n",
              "}});\n",
              "\n",
              "// Listen for the removal of the full notebook cells\n",
              "var notebookContainer = gd.closest('#notebook-container');\n",
              "if (notebookContainer) {{\n",
              "    x.observe(notebookContainer, {childList: true});\n",
              "}}\n",
              "\n",
              "// Listen for the clearing of the current output cell\n",
              "var outputEl = gd.closest('.output');\n",
              "if (outputEl) {{\n",
              "    x.observe(outputEl, {childList: true});\n",
              "}}\n",
              "\n",
              "                        })                };                            </script>        </div>\n",
              "</body>\n",
              "</html>"
            ]
          },
          "metadata": {}
        }
      ]
    },
    {
      "cell_type": "code",
      "source": [
        "idx   = np.argsort(y_test_UN)\n",
        "y_pred_te_UN = y_pred_te_UN.reshape(y_pred_te_UN.shape[0],)\n",
        "list1 = np.array(y_test_UN)[idx]\n",
        "list2 = np.array(y_pred_te_UN)[idx]\n",
        "fig = go.Figure()\n",
        "fig.add_trace(go.Scatter(y=list1, name=\"y_test_UN\", line_shape='linear'))\n",
        "fig.add_trace(go.Scatter(y=list2, name=\"y_pred_te_UN\", line_shape='linear'))\n",
        "fig.update_layout(title_text='UNNORMALIZED GPR MODEL RESULTS SORTED', title_x=0.5)\n",
        "fig.show()"
      ],
      "metadata": {
        "colab": {
          "base_uri": "https://localhost:8080/",
          "height": 542
        },
        "id": "5ymDqwOK5iyc",
        "outputId": "a5fb0678-59dc-459f-85eb-b4f051e4c9ba"
      },
      "execution_count": 50,
      "outputs": [
        {
          "output_type": "display_data",
          "data": {
            "text/html": [
              "<html>\n",
              "<head><meta charset=\"utf-8\" /></head>\n",
              "<body>\n",
              "    <div>            <script src=\"https://cdnjs.cloudflare.com/ajax/libs/mathjax/2.7.5/MathJax.js?config=TeX-AMS-MML_SVG\"></script><script type=\"text/javascript\">if (window.MathJax) {MathJax.Hub.Config({SVG: {font: \"STIX-Web\"}});}</script>                <script type=\"text/javascript\">window.PlotlyConfig = {MathJaxConfig: 'local'};</script>\n",
              "        <script src=\"https://cdn.plot.ly/plotly-2.8.3.min.js\"></script>                <div id=\"cb3c3866-d8c3-40a5-b8f7-99c4deccd6af\" class=\"plotly-graph-div\" style=\"height:525px; width:100%;\"></div>            <script type=\"text/javascript\">                                    window.PLOTLYENV=window.PLOTLYENV || {};                                    if (document.getElementById(\"cb3c3866-d8c3-40a5-b8f7-99c4deccd6af\")) {                    Plotly.newPlot(                        \"cb3c3866-d8c3-40a5-b8f7-99c4deccd6af\",                        [{\"line\":{\"shape\":\"linear\"},\"name\":\"y_test_UN\",\"y\":[2.0,2.26,2.3,2.4,2.45,2.5,2.5,2.5,2.5,2.58,2.6,2.6,2.61,2.7,2.7,2.71,2.74,2.8,2.8,2.8,2.81,2.84,2.87,2.9,2.9,2.995,3.0,3.0,3.0,3.0,3.0,3.0,3.0,3.0,3.0,3.0,3.0,3.0,3.03,3.1,3.1,3.1,3.1,3.1,3.1,3.1,3.1,3.1,3.1,3.12,3.15,3.15,3.2,3.2,3.2,3.2,3.2,3.2,3.2,3.2,3.2,3.2,3.2,3.2,3.21,3.21,3.22,3.25,3.25,3.27,3.3,3.3,3.3,3.3,3.3,3.3,3.3,3.31,3.33,3.33,3.33,3.33,3.34,3.35,3.36,3.36,3.38,3.4,3.4,3.4,3.4,3.4,3.4,3.4,3.41,3.41,3.42,3.45,3.46,3.46,3.47,3.48,3.49,3.5,3.5,3.5,3.5,3.5,3.5,3.5,3.5,3.5,3.5,3.5,3.5,3.5,3.5,3.5,3.5,3.5,3.5,3.5,3.55,3.57,3.58,3.6,3.6,3.6,3.6,3.6,3.6,3.6,3.6,3.6,3.6,3.6,3.62,3.65,3.65,3.65,3.65,3.67,3.67,3.68,3.69,3.7,3.7,3.7,3.7,3.7,3.7,3.7,3.7,3.7,3.7,3.7,3.7,3.7,3.7,3.7,3.7,3.7,3.7,3.7,3.71,3.72,3.73,3.75,3.75,3.75,3.75,3.76,3.78,3.78,3.79,3.8,3.8,3.8,3.8,3.8,3.8,3.8,3.8,3.81,3.83,3.87,3.89,3.89,3.89,3.9,3.9,3.9,3.9,3.9,3.9,3.9,3.91,3.91,3.91,3.91,3.91,3.92,3.92,3.93,3.93,3.94,3.95,3.95,3.95,3.95,3.97,3.97,3.98,3.98,4.0,4.0,4.0,4.0,4.0,4.0,4.0,4.0,4.0,4.0,4.0,4.0,4.0,4.0,4.0,4.0,4.0,4.0,4.0,4.0,4.0,4.0,4.0,4.0,4.0,4.0,4.0,4.0,4.0,4.0,4.0,4.0,4.0,4.0,4.0,4.0,4.0,4.0,4.0,4.0,4.0,4.0,4.0,4.0,4.0],\"type\":\"scatter\"},{\"line\":{\"shape\":\"linear\"},\"name\":\"y_pred_te_UN\",\"y\":[3.6080289825744716,3.0960781563660973,3.1297948618322966,2.963569475436243,3.4336637899267473,3.231394569978651,3.3425040793188625,3.1956136515026916,3.590978607864546,3.325781500247876,3.3421196295320117,3.3802016085341595,3.2179806819685117,3.5678860391674716,3.007121051531259,3.72360320493656,3.3215133093373783,3.281595165590721,3.3745385951003,3.4723545722104667,3.4702006045362968,3.0820316906605782,3.075317015867868,3.63428361287486,3.5541258365237836,3.081537570175815,3.2513753518993633,3.3173838504041466,3.3785989720715115,3.194578634531445,3.27797550296902,3.3557588466485857,3.3217804091487375,3.135449296324519,3.431382143206865,3.3942337034254892,3.1440292234116862,3.081572789191063,3.7432205656948687,3.428841856272159,3.4865079292927437,3.356544331178365,3.477949510550615,3.693011610458539,3.1673506087694623,3.1206161685925045,3.766967108534817,3.277704206396879,3.237225026342216,3.344704145573913,3.4069893670280598,3.66334594872741,3.2014098470490415,3.5225442140258405,3.158526808338456,3.4171120277580638,3.6711034271593013,3.3225155939786317,3.355249118498084,3.7396850867343163,3.346257445402892,3.5764424276520277,3.3836697069517108,3.392060992390059,3.468412497057594,3.356004739815086,3.5846416368048324,3.408964956654076,3.2866324730085807,3.3810134725989327,3.5534811105547286,3.1704209989414345,3.4483026934147727,2.9891810621470576,3.4659984122597836,3.560479772993161,3.568506370765798,3.500998229660392,3.2707912035008846,3.523727993480403,3.665982810765353,3.166300864257927,3.438216647350215,3.7284934480078498,3.648518939041028,3.4766129323390693,3.270855811240051,3.6542763822559357,3.321811170596087,3.569740125878444,3.215313324484086,3.5909154297422043,3.096117880265739,3.3977053619497672,3.506920970770282,3.4211396820056406,3.5853060982349287,3.6393285171331753,3.4056483064899163,3.2357931976016703,3.247190512042157,3.486196484063708,3.3652129258649763,3.7191829393960587,3.4525548669200576,3.4439228541222127,3.4230076989260576,3.3110337756147263,3.429850165133245,3.5704738260991027,3.68366629546718,3.188996397535244,3.9566938024656304,3.5693641053882432,3.401678515407263,3.6614514812602748,3.687546823989863,3.2775191820464835,3.3992782458048376,3.2999916868843426,3.5522774180363417,3.418419298167488,3.50718314738668,3.3692855206904815,3.4442708344159447,3.5153246827083873,3.506709186076532,3.3790657381979363,3.609455541327635,3.683599470553599,3.45741417530016,3.498710201069726,3.2917519561806685,3.3795508021851024,3.5594098910278573,3.3630706107930575,3.145648913345351,3.5003399745745716,3.4637862107407313,3.3884048075005557,3.758670964789715,3.5410537198902947,3.642990947628748,3.651935394480664,3.539280852784353,3.358049651307086,3.609943679833081,3.7015492561087493,3.1662198620019337,3.683549458022677,3.1671376029933436,3.575908065878065,3.124063052764285,3.2242817989839105,3.388688876301555,3.265470898939559,3.4831497624128387,3.666254394408157,3.5209686670205285,3.6306329324329614,3.314157714614673,3.28613023182087,3.4582413242493235,3.419963735652078,3.5270301899700867,3.4159791428119304,3.466714225280116,3.4145106732914865,3.3702269547346058,3.3353346489275717,3.478955014070203,3.6378559549645937,3.4164510182019168,3.277175593663805,3.464586444241414,3.4168980658778185,3.3124631151642427,3.713695491860986,3.309557950547375,3.386284925576115,3.395960030359296,3.421787786295476,3.468336231750687,3.7432505437161954,3.897455046212089,3.5333887412586895,3.6247077835716492,3.4865261360426114,3.4203472368080243,3.6186751242092274,3.859280028952832,3.7426996685479645,3.6199755030155876,3.753433563652158,3.7185329022918188,3.6153064428022894,3.290477013019813,3.4049808890771933,3.760005220001082,3.608498932096076,3.66810365787751,3.7133361867008388,3.4057771975645297,3.70416579552188,3.7174216563020934,3.7054760850269712,3.5876285329403466,3.548838488693301,3.5269674936103215,3.7379591357838073,3.4235570925701504,3.212409475569922,3.630776595869807,3.3471724288478732,3.3320720534922037,3.7010491144185265,3.385963686234761,3.9745785368127633,3.345032664345089,3.6837160463027994,3.455725628340449,3.6122031854993857,3.691216495727959,3.608864395497143,3.6020722155917984,3.5889984172576828,3.4095850039087443,3.3593099902135544,3.8694702275947046,3.6759061748962534,3.6326940101330107,3.4740945577161764,3.2089927829163765,3.7269738379089565,3.5813380142924514,3.529476809276776,3.4189332834290163,3.568535194520698,3.5331281971083737,3.564421772943259,3.7050124831051328,3.8134267911170667,3.735876933654363,3.399806196269733,3.8463042283082505,3.670740313900003,2.9679004174623724,3.4752899593881326,3.635720707593526,3.3900320107839814,3.654096959786326,3.7999097725033133,3.591619482966922,3.666677829381828,3.5427760105709165,3.6419878286809935,3.643913026415177,3.663183228083456,3.663505539144662],\"type\":\"scatter\"}],                        {\"template\":{\"data\":{\"bar\":[{\"error_x\":{\"color\":\"#2a3f5f\"},\"error_y\":{\"color\":\"#2a3f5f\"},\"marker\":{\"line\":{\"color\":\"#E5ECF6\",\"width\":0.5},\"pattern\":{\"fillmode\":\"overlay\",\"size\":10,\"solidity\":0.2}},\"type\":\"bar\"}],\"barpolar\":[{\"marker\":{\"line\":{\"color\":\"#E5ECF6\",\"width\":0.5},\"pattern\":{\"fillmode\":\"overlay\",\"size\":10,\"solidity\":0.2}},\"type\":\"barpolar\"}],\"carpet\":[{\"aaxis\":{\"endlinecolor\":\"#2a3f5f\",\"gridcolor\":\"white\",\"linecolor\":\"white\",\"minorgridcolor\":\"white\",\"startlinecolor\":\"#2a3f5f\"},\"baxis\":{\"endlinecolor\":\"#2a3f5f\",\"gridcolor\":\"white\",\"linecolor\":\"white\",\"minorgridcolor\":\"white\",\"startlinecolor\":\"#2a3f5f\"},\"type\":\"carpet\"}],\"choropleth\":[{\"colorbar\":{\"outlinewidth\":0,\"ticks\":\"\"},\"type\":\"choropleth\"}],\"contour\":[{\"colorbar\":{\"outlinewidth\":0,\"ticks\":\"\"},\"colorscale\":[[0.0,\"#0d0887\"],[0.1111111111111111,\"#46039f\"],[0.2222222222222222,\"#7201a8\"],[0.3333333333333333,\"#9c179e\"],[0.4444444444444444,\"#bd3786\"],[0.5555555555555556,\"#d8576b\"],[0.6666666666666666,\"#ed7953\"],[0.7777777777777778,\"#fb9f3a\"],[0.8888888888888888,\"#fdca26\"],[1.0,\"#f0f921\"]],\"type\":\"contour\"}],\"contourcarpet\":[{\"colorbar\":{\"outlinewidth\":0,\"ticks\":\"\"},\"type\":\"contourcarpet\"}],\"heatmap\":[{\"colorbar\":{\"outlinewidth\":0,\"ticks\":\"\"},\"colorscale\":[[0.0,\"#0d0887\"],[0.1111111111111111,\"#46039f\"],[0.2222222222222222,\"#7201a8\"],[0.3333333333333333,\"#9c179e\"],[0.4444444444444444,\"#bd3786\"],[0.5555555555555556,\"#d8576b\"],[0.6666666666666666,\"#ed7953\"],[0.7777777777777778,\"#fb9f3a\"],[0.8888888888888888,\"#fdca26\"],[1.0,\"#f0f921\"]],\"type\":\"heatmap\"}],\"heatmapgl\":[{\"colorbar\":{\"outlinewidth\":0,\"ticks\":\"\"},\"colorscale\":[[0.0,\"#0d0887\"],[0.1111111111111111,\"#46039f\"],[0.2222222222222222,\"#7201a8\"],[0.3333333333333333,\"#9c179e\"],[0.4444444444444444,\"#bd3786\"],[0.5555555555555556,\"#d8576b\"],[0.6666666666666666,\"#ed7953\"],[0.7777777777777778,\"#fb9f3a\"],[0.8888888888888888,\"#fdca26\"],[1.0,\"#f0f921\"]],\"type\":\"heatmapgl\"}],\"histogram\":[{\"marker\":{\"pattern\":{\"fillmode\":\"overlay\",\"size\":10,\"solidity\":0.2}},\"type\":\"histogram\"}],\"histogram2d\":[{\"colorbar\":{\"outlinewidth\":0,\"ticks\":\"\"},\"colorscale\":[[0.0,\"#0d0887\"],[0.1111111111111111,\"#46039f\"],[0.2222222222222222,\"#7201a8\"],[0.3333333333333333,\"#9c179e\"],[0.4444444444444444,\"#bd3786\"],[0.5555555555555556,\"#d8576b\"],[0.6666666666666666,\"#ed7953\"],[0.7777777777777778,\"#fb9f3a\"],[0.8888888888888888,\"#fdca26\"],[1.0,\"#f0f921\"]],\"type\":\"histogram2d\"}],\"histogram2dcontour\":[{\"colorbar\":{\"outlinewidth\":0,\"ticks\":\"\"},\"colorscale\":[[0.0,\"#0d0887\"],[0.1111111111111111,\"#46039f\"],[0.2222222222222222,\"#7201a8\"],[0.3333333333333333,\"#9c179e\"],[0.4444444444444444,\"#bd3786\"],[0.5555555555555556,\"#d8576b\"],[0.6666666666666666,\"#ed7953\"],[0.7777777777777778,\"#fb9f3a\"],[0.8888888888888888,\"#fdca26\"],[1.0,\"#f0f921\"]],\"type\":\"histogram2dcontour\"}],\"mesh3d\":[{\"colorbar\":{\"outlinewidth\":0,\"ticks\":\"\"},\"type\":\"mesh3d\"}],\"parcoords\":[{\"line\":{\"colorbar\":{\"outlinewidth\":0,\"ticks\":\"\"}},\"type\":\"parcoords\"}],\"pie\":[{\"automargin\":true,\"type\":\"pie\"}],\"scatter\":[{\"marker\":{\"colorbar\":{\"outlinewidth\":0,\"ticks\":\"\"}},\"type\":\"scatter\"}],\"scatter3d\":[{\"line\":{\"colorbar\":{\"outlinewidth\":0,\"ticks\":\"\"}},\"marker\":{\"colorbar\":{\"outlinewidth\":0,\"ticks\":\"\"}},\"type\":\"scatter3d\"}],\"scattercarpet\":[{\"marker\":{\"colorbar\":{\"outlinewidth\":0,\"ticks\":\"\"}},\"type\":\"scattercarpet\"}],\"scattergeo\":[{\"marker\":{\"colorbar\":{\"outlinewidth\":0,\"ticks\":\"\"}},\"type\":\"scattergeo\"}],\"scattergl\":[{\"marker\":{\"colorbar\":{\"outlinewidth\":0,\"ticks\":\"\"}},\"type\":\"scattergl\"}],\"scattermapbox\":[{\"marker\":{\"colorbar\":{\"outlinewidth\":0,\"ticks\":\"\"}},\"type\":\"scattermapbox\"}],\"scatterpolar\":[{\"marker\":{\"colorbar\":{\"outlinewidth\":0,\"ticks\":\"\"}},\"type\":\"scatterpolar\"}],\"scatterpolargl\":[{\"marker\":{\"colorbar\":{\"outlinewidth\":0,\"ticks\":\"\"}},\"type\":\"scatterpolargl\"}],\"scatterternary\":[{\"marker\":{\"colorbar\":{\"outlinewidth\":0,\"ticks\":\"\"}},\"type\":\"scatterternary\"}],\"surface\":[{\"colorbar\":{\"outlinewidth\":0,\"ticks\":\"\"},\"colorscale\":[[0.0,\"#0d0887\"],[0.1111111111111111,\"#46039f\"],[0.2222222222222222,\"#7201a8\"],[0.3333333333333333,\"#9c179e\"],[0.4444444444444444,\"#bd3786\"],[0.5555555555555556,\"#d8576b\"],[0.6666666666666666,\"#ed7953\"],[0.7777777777777778,\"#fb9f3a\"],[0.8888888888888888,\"#fdca26\"],[1.0,\"#f0f921\"]],\"type\":\"surface\"}],\"table\":[{\"cells\":{\"fill\":{\"color\":\"#EBF0F8\"},\"line\":{\"color\":\"white\"}},\"header\":{\"fill\":{\"color\":\"#C8D4E3\"},\"line\":{\"color\":\"white\"}},\"type\":\"table\"}]},\"layout\":{\"annotationdefaults\":{\"arrowcolor\":\"#2a3f5f\",\"arrowhead\":0,\"arrowwidth\":1},\"autotypenumbers\":\"strict\",\"coloraxis\":{\"colorbar\":{\"outlinewidth\":0,\"ticks\":\"\"}},\"colorscale\":{\"diverging\":[[0,\"#8e0152\"],[0.1,\"#c51b7d\"],[0.2,\"#de77ae\"],[0.3,\"#f1b6da\"],[0.4,\"#fde0ef\"],[0.5,\"#f7f7f7\"],[0.6,\"#e6f5d0\"],[0.7,\"#b8e186\"],[0.8,\"#7fbc41\"],[0.9,\"#4d9221\"],[1,\"#276419\"]],\"sequential\":[[0.0,\"#0d0887\"],[0.1111111111111111,\"#46039f\"],[0.2222222222222222,\"#7201a8\"],[0.3333333333333333,\"#9c179e\"],[0.4444444444444444,\"#bd3786\"],[0.5555555555555556,\"#d8576b\"],[0.6666666666666666,\"#ed7953\"],[0.7777777777777778,\"#fb9f3a\"],[0.8888888888888888,\"#fdca26\"],[1.0,\"#f0f921\"]],\"sequentialminus\":[[0.0,\"#0d0887\"],[0.1111111111111111,\"#46039f\"],[0.2222222222222222,\"#7201a8\"],[0.3333333333333333,\"#9c179e\"],[0.4444444444444444,\"#bd3786\"],[0.5555555555555556,\"#d8576b\"],[0.6666666666666666,\"#ed7953\"],[0.7777777777777778,\"#fb9f3a\"],[0.8888888888888888,\"#fdca26\"],[1.0,\"#f0f921\"]]},\"colorway\":[\"#636efa\",\"#EF553B\",\"#00cc96\",\"#ab63fa\",\"#FFA15A\",\"#19d3f3\",\"#FF6692\",\"#B6E880\",\"#FF97FF\",\"#FECB52\"],\"font\":{\"color\":\"#2a3f5f\"},\"geo\":{\"bgcolor\":\"white\",\"lakecolor\":\"white\",\"landcolor\":\"#E5ECF6\",\"showlakes\":true,\"showland\":true,\"subunitcolor\":\"white\"},\"hoverlabel\":{\"align\":\"left\"},\"hovermode\":\"closest\",\"mapbox\":{\"style\":\"light\"},\"paper_bgcolor\":\"white\",\"plot_bgcolor\":\"#E5ECF6\",\"polar\":{\"angularaxis\":{\"gridcolor\":\"white\",\"linecolor\":\"white\",\"ticks\":\"\"},\"bgcolor\":\"#E5ECF6\",\"radialaxis\":{\"gridcolor\":\"white\",\"linecolor\":\"white\",\"ticks\":\"\"}},\"scene\":{\"xaxis\":{\"backgroundcolor\":\"#E5ECF6\",\"gridcolor\":\"white\",\"gridwidth\":2,\"linecolor\":\"white\",\"showbackground\":true,\"ticks\":\"\",\"zerolinecolor\":\"white\"},\"yaxis\":{\"backgroundcolor\":\"#E5ECF6\",\"gridcolor\":\"white\",\"gridwidth\":2,\"linecolor\":\"white\",\"showbackground\":true,\"ticks\":\"\",\"zerolinecolor\":\"white\"},\"zaxis\":{\"backgroundcolor\":\"#E5ECF6\",\"gridcolor\":\"white\",\"gridwidth\":2,\"linecolor\":\"white\",\"showbackground\":true,\"ticks\":\"\",\"zerolinecolor\":\"white\"}},\"shapedefaults\":{\"line\":{\"color\":\"#2a3f5f\"}},\"ternary\":{\"aaxis\":{\"gridcolor\":\"white\",\"linecolor\":\"white\",\"ticks\":\"\"},\"baxis\":{\"gridcolor\":\"white\",\"linecolor\":\"white\",\"ticks\":\"\"},\"bgcolor\":\"#E5ECF6\",\"caxis\":{\"gridcolor\":\"white\",\"linecolor\":\"white\",\"ticks\":\"\"}},\"title\":{\"x\":0.05},\"xaxis\":{\"automargin\":true,\"gridcolor\":\"white\",\"linecolor\":\"white\",\"ticks\":\"\",\"title\":{\"standoff\":15},\"zerolinecolor\":\"white\",\"zerolinewidth\":2},\"yaxis\":{\"automargin\":true,\"gridcolor\":\"white\",\"linecolor\":\"white\",\"ticks\":\"\",\"title\":{\"standoff\":15},\"zerolinecolor\":\"white\",\"zerolinewidth\":2}}},\"title\":{\"text\":\"UNNORMALIZED GPR MODEL RESULTS SORTED\",\"x\":0.5}},                        {\"responsive\": true}                    ).then(function(){\n",
              "                            \n",
              "var gd = document.getElementById('cb3c3866-d8c3-40a5-b8f7-99c4deccd6af');\n",
              "var x = new MutationObserver(function (mutations, observer) {{\n",
              "        var display = window.getComputedStyle(gd).display;\n",
              "        if (!display || display === 'none') {{\n",
              "            console.log([gd, 'removed!']);\n",
              "            Plotly.purge(gd);\n",
              "            observer.disconnect();\n",
              "        }}\n",
              "}});\n",
              "\n",
              "// Listen for the removal of the full notebook cells\n",
              "var notebookContainer = gd.closest('#notebook-container');\n",
              "if (notebookContainer) {{\n",
              "    x.observe(notebookContainer, {childList: true});\n",
              "}}\n",
              "\n",
              "// Listen for the clearing of the current output cell\n",
              "var outputEl = gd.closest('.output');\n",
              "if (outputEl) {{\n",
              "    x.observe(outputEl, {childList: true});\n",
              "}}\n",
              "\n",
              "                        })                };                            </script>        </div>\n",
              "</body>\n",
              "</html>"
            ]
          },
          "metadata": {}
        }
      ]
    },
    {
      "cell_type": "markdown",
      "source": [
        "**CATAGORICAL APPROACH STARTS HERE**"
      ],
      "metadata": {
        "id": "RFKjUGTZYmeJ"
      }
    },
    {
      "cell_type": "code",
      "source": [
        "#If gpa > 4 then gpa = 4;\n",
        "GPACat = np.where((GPA < 4) & (GPA >= 3.75), str(\"A\"), GPA)\n",
        "GPACat = np.where((GPA < 3.75) & (GPA >= 3.50), str(\"B\"), GPACat)\n",
        "GPACat = np.where((GPA < 3.50) & (GPA >= 3.25), str(\"C\"), GPACat)\n",
        "GPACat = np.where((GPA < 3.25) & (GPA >= 3), str(\"D\"), GPACat)\n",
        "GPACat = np.where((GPA < 3) & (GPA >= 2.75), str(\"E\"), GPACat)\n",
        "GPACat = np.where((GPA < 2.75) & (GPA >= 2.5), str(\"F\"), GPACat)\n",
        "GPACat = np.where((GPA < 2.5) & (GPA >= 2.25), str(\"G\"), GPACat)\n",
        "GPACat = np.where((GPA < 2.25) & (GPA >= 2), str(\"H\"), GPACat)\n",
        "GPACat = np.where((GPA < 2) & (GPA >= 1.75), str(\"I\"), GPACat)\n",
        "GPACat = np.where((GPA < 1.75) & (GPA >= 1.5), str(\"J\"), GPACat)\n",
        "GPACat = np.where((GPA < 1.5) & (GPA >= 1.25), str(\"K\"), GPACat)\n",
        "GPACat = np.where((GPA < 1.25) & (GPA >= 1), str(\"L\"), GPACat)\n",
        "GPACat = np.where((GPA < 1) & (GPA >= 0.75), str(\"M\"), GPACat)\n",
        "GPACat = np.where((GPA < 0.75) & (GPA >= 0.50), str(\"N\"), GPACat)\n",
        "GPACat = np.where((GPA < 0.5) & (GPA >= 0.25), str(\"O\"), GPACat)\n",
        "GPACat = np.where((GPA < 0.25) & (GPA >= 0), str(\"P\"), GPACat)"
      ],
      "metadata": {
        "id": "nY5rf-_UPhNJ"
      },
      "execution_count": 30,
      "outputs": []
    },
    {
      "cell_type": "code",
      "source": [
        "GPACat\n"
      ],
      "metadata": {
        "id": "y4rp72l8RfZ7",
        "outputId": "f568476b-5412-480e-ff33-f271029c99c1",
        "colab": {
          "base_uri": "https://localhost:8080/"
        }
      },
      "execution_count": 31,
      "outputs": [
        {
          "output_type": "execute_result",
          "data": {
            "text/plain": [
              "array(['D', 'B', 'E', ..., 'C', 'A', 'A'], dtype='<U32')"
            ]
          },
          "metadata": {},
          "execution_count": 31
        }
      ]
    },
    {
      "cell_type": "code",
      "source": [
        "# GPACat = pd.DataFrame(GPACat)\n",
        "# GPACat.astype('category')"
      ],
      "metadata": {
        "id": "hIlC5tIAXSBM"
      },
      "execution_count": null,
      "outputs": []
    },
    {
      "cell_type": "code",
      "source": [
        "labelencoder = LabelEncoder()\n",
        "GPACatEnc = labelencoder.fit_transform(GPACat)"
      ],
      "metadata": {
        "id": "nRvcpTyAW08Y"
      },
      "execution_count": 32,
      "outputs": []
    },
    {
      "cell_type": "code",
      "source": [
        "GPACatEnc.min()"
      ],
      "metadata": {
        "id": "Ce2el_rM6EZH",
        "outputId": "690090f8-e5ae-49ad-f7cc-a71a7817ecb9",
        "colab": {
          "base_uri": "https://localhost:8080/"
        }
      },
      "execution_count": 26,
      "outputs": [
        {
          "output_type": "execute_result",
          "data": {
            "text/plain": [
              "0"
            ]
          },
          "metadata": {},
          "execution_count": 26
        }
      ]
    },
    {
      "cell_type": "code",
      "source": [
        "dummy_y = np_utils.to_categorical(GPACatEnc)"
      ],
      "metadata": {
        "id": "qNCCMS7p8HDt"
      },
      "execution_count": 36,
      "outputs": []
    },
    {
      "cell_type": "code",
      "source": [
        "dummy_y = pd.DataFrame(dummy_y)"
      ],
      "metadata": {
        "id": "rWdtyw108fVB"
      },
      "execution_count": 37,
      "outputs": []
    },
    {
      "cell_type": "code",
      "source": [
        "dummy_y"
      ],
      "metadata": {
        "id": "8m5bY0fy-hTv",
        "outputId": "03e25502-fc96-4bf7-b273-8c2c7c95c0f6",
        "colab": {
          "base_uri": "https://localhost:8080/",
          "height": 423
        }
      },
      "execution_count": 38,
      "outputs": [
        {
          "output_type": "execute_result",
          "data": {
            "text/html": [
              "\n",
              "  <div id=\"df-464b3cd0-b03d-417c-be04-5f9b571f2f0f\">\n",
              "    <div class=\"colab-df-container\">\n",
              "      <div>\n",
              "<style scoped>\n",
              "    .dataframe tbody tr th:only-of-type {\n",
              "        vertical-align: middle;\n",
              "    }\n",
              "\n",
              "    .dataframe tbody tr th {\n",
              "        vertical-align: top;\n",
              "    }\n",
              "\n",
              "    .dataframe thead th {\n",
              "        text-align: right;\n",
              "    }\n",
              "</style>\n",
              "<table border=\"1\" class=\"dataframe\">\n",
              "  <thead>\n",
              "    <tr style=\"text-align: right;\">\n",
              "      <th></th>\n",
              "      <th>0</th>\n",
              "      <th>1</th>\n",
              "      <th>2</th>\n",
              "      <th>3</th>\n",
              "      <th>4</th>\n",
              "      <th>5</th>\n",
              "      <th>6</th>\n",
              "      <th>7</th>\n",
              "      <th>8</th>\n",
              "      <th>9</th>\n",
              "      <th>10</th>\n",
              "      <th>11</th>\n",
              "      <th>12</th>\n",
              "    </tr>\n",
              "  </thead>\n",
              "  <tbody>\n",
              "    <tr>\n",
              "      <th>0</th>\n",
              "      <td>0.0</td>\n",
              "      <td>0.0</td>\n",
              "      <td>0.0</td>\n",
              "      <td>0.0</td>\n",
              "      <td>1.0</td>\n",
              "      <td>0.0</td>\n",
              "      <td>0.0</td>\n",
              "      <td>0.0</td>\n",
              "      <td>0.0</td>\n",
              "      <td>0.0</td>\n",
              "      <td>0.0</td>\n",
              "      <td>0.0</td>\n",
              "      <td>0.0</td>\n",
              "    </tr>\n",
              "    <tr>\n",
              "      <th>1</th>\n",
              "      <td>0.0</td>\n",
              "      <td>0.0</td>\n",
              "      <td>1.0</td>\n",
              "      <td>0.0</td>\n",
              "      <td>0.0</td>\n",
              "      <td>0.0</td>\n",
              "      <td>0.0</td>\n",
              "      <td>0.0</td>\n",
              "      <td>0.0</td>\n",
              "      <td>0.0</td>\n",
              "      <td>0.0</td>\n",
              "      <td>0.0</td>\n",
              "      <td>0.0</td>\n",
              "    </tr>\n",
              "    <tr>\n",
              "      <th>2</th>\n",
              "      <td>0.0</td>\n",
              "      <td>0.0</td>\n",
              "      <td>0.0</td>\n",
              "      <td>0.0</td>\n",
              "      <td>0.0</td>\n",
              "      <td>1.0</td>\n",
              "      <td>0.0</td>\n",
              "      <td>0.0</td>\n",
              "      <td>0.0</td>\n",
              "      <td>0.0</td>\n",
              "      <td>0.0</td>\n",
              "      <td>0.0</td>\n",
              "      <td>0.0</td>\n",
              "    </tr>\n",
              "    <tr>\n",
              "      <th>3</th>\n",
              "      <td>0.0</td>\n",
              "      <td>1.0</td>\n",
              "      <td>0.0</td>\n",
              "      <td>0.0</td>\n",
              "      <td>0.0</td>\n",
              "      <td>0.0</td>\n",
              "      <td>0.0</td>\n",
              "      <td>0.0</td>\n",
              "      <td>0.0</td>\n",
              "      <td>0.0</td>\n",
              "      <td>0.0</td>\n",
              "      <td>0.0</td>\n",
              "      <td>0.0</td>\n",
              "    </tr>\n",
              "    <tr>\n",
              "      <th>4</th>\n",
              "      <td>0.0</td>\n",
              "      <td>1.0</td>\n",
              "      <td>0.0</td>\n",
              "      <td>0.0</td>\n",
              "      <td>0.0</td>\n",
              "      <td>0.0</td>\n",
              "      <td>0.0</td>\n",
              "      <td>0.0</td>\n",
              "      <td>0.0</td>\n",
              "      <td>0.0</td>\n",
              "      <td>0.0</td>\n",
              "      <td>0.0</td>\n",
              "      <td>0.0</td>\n",
              "    </tr>\n",
              "    <tr>\n",
              "      <th>...</th>\n",
              "      <td>...</td>\n",
              "      <td>...</td>\n",
              "      <td>...</td>\n",
              "      <td>...</td>\n",
              "      <td>...</td>\n",
              "      <td>...</td>\n",
              "      <td>...</td>\n",
              "      <td>...</td>\n",
              "      <td>...</td>\n",
              "      <td>...</td>\n",
              "      <td>...</td>\n",
              "      <td>...</td>\n",
              "      <td>...</td>\n",
              "    </tr>\n",
              "    <tr>\n",
              "      <th>2587</th>\n",
              "      <td>0.0</td>\n",
              "      <td>0.0</td>\n",
              "      <td>1.0</td>\n",
              "      <td>0.0</td>\n",
              "      <td>0.0</td>\n",
              "      <td>0.0</td>\n",
              "      <td>0.0</td>\n",
              "      <td>0.0</td>\n",
              "      <td>0.0</td>\n",
              "      <td>0.0</td>\n",
              "      <td>0.0</td>\n",
              "      <td>0.0</td>\n",
              "      <td>0.0</td>\n",
              "    </tr>\n",
              "    <tr>\n",
              "      <th>2588</th>\n",
              "      <td>0.0</td>\n",
              "      <td>0.0</td>\n",
              "      <td>0.0</td>\n",
              "      <td>0.0</td>\n",
              "      <td>0.0</td>\n",
              "      <td>0.0</td>\n",
              "      <td>0.0</td>\n",
              "      <td>1.0</td>\n",
              "      <td>0.0</td>\n",
              "      <td>0.0</td>\n",
              "      <td>0.0</td>\n",
              "      <td>0.0</td>\n",
              "      <td>0.0</td>\n",
              "    </tr>\n",
              "    <tr>\n",
              "      <th>2589</th>\n",
              "      <td>0.0</td>\n",
              "      <td>0.0</td>\n",
              "      <td>0.0</td>\n",
              "      <td>1.0</td>\n",
              "      <td>0.0</td>\n",
              "      <td>0.0</td>\n",
              "      <td>0.0</td>\n",
              "      <td>0.0</td>\n",
              "      <td>0.0</td>\n",
              "      <td>0.0</td>\n",
              "      <td>0.0</td>\n",
              "      <td>0.0</td>\n",
              "      <td>0.0</td>\n",
              "    </tr>\n",
              "    <tr>\n",
              "      <th>2590</th>\n",
              "      <td>0.0</td>\n",
              "      <td>1.0</td>\n",
              "      <td>0.0</td>\n",
              "      <td>0.0</td>\n",
              "      <td>0.0</td>\n",
              "      <td>0.0</td>\n",
              "      <td>0.0</td>\n",
              "      <td>0.0</td>\n",
              "      <td>0.0</td>\n",
              "      <td>0.0</td>\n",
              "      <td>0.0</td>\n",
              "      <td>0.0</td>\n",
              "      <td>0.0</td>\n",
              "    </tr>\n",
              "    <tr>\n",
              "      <th>2591</th>\n",
              "      <td>0.0</td>\n",
              "      <td>1.0</td>\n",
              "      <td>0.0</td>\n",
              "      <td>0.0</td>\n",
              "      <td>0.0</td>\n",
              "      <td>0.0</td>\n",
              "      <td>0.0</td>\n",
              "      <td>0.0</td>\n",
              "      <td>0.0</td>\n",
              "      <td>0.0</td>\n",
              "      <td>0.0</td>\n",
              "      <td>0.0</td>\n",
              "      <td>0.0</td>\n",
              "    </tr>\n",
              "  </tbody>\n",
              "</table>\n",
              "<p>2592 rows × 13 columns</p>\n",
              "</div>\n",
              "      <button class=\"colab-df-convert\" onclick=\"convertToInteractive('df-464b3cd0-b03d-417c-be04-5f9b571f2f0f')\"\n",
              "              title=\"Convert this dataframe to an interactive table.\"\n",
              "              style=\"display:none;\">\n",
              "        \n",
              "  <svg xmlns=\"http://www.w3.org/2000/svg\" height=\"24px\"viewBox=\"0 0 24 24\"\n",
              "       width=\"24px\">\n",
              "    <path d=\"M0 0h24v24H0V0z\" fill=\"none\"/>\n",
              "    <path d=\"M18.56 5.44l.94 2.06.94-2.06 2.06-.94-2.06-.94-.94-2.06-.94 2.06-2.06.94zm-11 1L8.5 8.5l.94-2.06 2.06-.94-2.06-.94L8.5 2.5l-.94 2.06-2.06.94zm10 10l.94 2.06.94-2.06 2.06-.94-2.06-.94-.94-2.06-.94 2.06-2.06.94z\"/><path d=\"M17.41 7.96l-1.37-1.37c-.4-.4-.92-.59-1.43-.59-.52 0-1.04.2-1.43.59L10.3 9.45l-7.72 7.72c-.78.78-.78 2.05 0 2.83L4 21.41c.39.39.9.59 1.41.59.51 0 1.02-.2 1.41-.59l7.78-7.78 2.81-2.81c.8-.78.8-2.07 0-2.86zM5.41 20L4 18.59l7.72-7.72 1.47 1.35L5.41 20z\"/>\n",
              "  </svg>\n",
              "      </button>\n",
              "      \n",
              "  <style>\n",
              "    .colab-df-container {\n",
              "      display:flex;\n",
              "      flex-wrap:wrap;\n",
              "      gap: 12px;\n",
              "    }\n",
              "\n",
              "    .colab-df-convert {\n",
              "      background-color: #E8F0FE;\n",
              "      border: none;\n",
              "      border-radius: 50%;\n",
              "      cursor: pointer;\n",
              "      display: none;\n",
              "      fill: #1967D2;\n",
              "      height: 32px;\n",
              "      padding: 0 0 0 0;\n",
              "      width: 32px;\n",
              "    }\n",
              "\n",
              "    .colab-df-convert:hover {\n",
              "      background-color: #E2EBFA;\n",
              "      box-shadow: 0px 1px 2px rgba(60, 64, 67, 0.3), 0px 1px 3px 1px rgba(60, 64, 67, 0.15);\n",
              "      fill: #174EA6;\n",
              "    }\n",
              "\n",
              "    [theme=dark] .colab-df-convert {\n",
              "      background-color: #3B4455;\n",
              "      fill: #D2E3FC;\n",
              "    }\n",
              "\n",
              "    [theme=dark] .colab-df-convert:hover {\n",
              "      background-color: #434B5C;\n",
              "      box-shadow: 0px 1px 3px 1px rgba(0, 0, 0, 0.15);\n",
              "      filter: drop-shadow(0px 1px 2px rgba(0, 0, 0, 0.3));\n",
              "      fill: #FFFFFF;\n",
              "    }\n",
              "  </style>\n",
              "\n",
              "      <script>\n",
              "        const buttonEl =\n",
              "          document.querySelector('#df-464b3cd0-b03d-417c-be04-5f9b571f2f0f button.colab-df-convert');\n",
              "        buttonEl.style.display =\n",
              "          google.colab.kernel.accessAllowed ? 'block' : 'none';\n",
              "\n",
              "        async function convertToInteractive(key) {\n",
              "          const element = document.querySelector('#df-464b3cd0-b03d-417c-be04-5f9b571f2f0f');\n",
              "          const dataTable =\n",
              "            await google.colab.kernel.invokeFunction('convertToInteractive',\n",
              "                                                     [key], {});\n",
              "          if (!dataTable) return;\n",
              "\n",
              "          const docLinkHtml = 'Like what you see? Visit the ' +\n",
              "            '<a target=\"_blank\" href=https://colab.research.google.com/notebooks/data_table.ipynb>data table notebook</a>'\n",
              "            + ' to learn more about interactive tables.';\n",
              "          element.innerHTML = '';\n",
              "          dataTable['output_type'] = 'display_data';\n",
              "          await google.colab.output.renderOutput(dataTable, element);\n",
              "          const docLink = document.createElement('div');\n",
              "          docLink.innerHTML = docLinkHtml;\n",
              "          element.appendChild(docLink);\n",
              "        }\n",
              "      </script>\n",
              "    </div>\n",
              "  </div>\n",
              "  "
            ],
            "text/plain": [
              "       0    1    2    3    4    5    6    7    8    9    10   11   12\n",
              "0     0.0  0.0  0.0  0.0  1.0  0.0  0.0  0.0  0.0  0.0  0.0  0.0  0.0\n",
              "1     0.0  0.0  1.0  0.0  0.0  0.0  0.0  0.0  0.0  0.0  0.0  0.0  0.0\n",
              "2     0.0  0.0  0.0  0.0  0.0  1.0  0.0  0.0  0.0  0.0  0.0  0.0  0.0\n",
              "3     0.0  1.0  0.0  0.0  0.0  0.0  0.0  0.0  0.0  0.0  0.0  0.0  0.0\n",
              "4     0.0  1.0  0.0  0.0  0.0  0.0  0.0  0.0  0.0  0.0  0.0  0.0  0.0\n",
              "...   ...  ...  ...  ...  ...  ...  ...  ...  ...  ...  ...  ...  ...\n",
              "2587  0.0  0.0  1.0  0.0  0.0  0.0  0.0  0.0  0.0  0.0  0.0  0.0  0.0\n",
              "2588  0.0  0.0  0.0  0.0  0.0  0.0  0.0  1.0  0.0  0.0  0.0  0.0  0.0\n",
              "2589  0.0  0.0  0.0  1.0  0.0  0.0  0.0  0.0  0.0  0.0  0.0  0.0  0.0\n",
              "2590  0.0  1.0  0.0  0.0  0.0  0.0  0.0  0.0  0.0  0.0  0.0  0.0  0.0\n",
              "2591  0.0  1.0  0.0  0.0  0.0  0.0  0.0  0.0  0.0  0.0  0.0  0.0  0.0\n",
              "\n",
              "[2592 rows x 13 columns]"
            ]
          },
          "metadata": {},
          "execution_count": 38
        }
      ]
    },
    {
      "cell_type": "code",
      "source": [
        "from keras.wrappers.scikit_learn import KerasClassifier\n",
        "from keras.utils import np_utils\n",
        "from sklearn.model_selection import cross_val_score"
      ],
      "metadata": {
        "id": "XJVN_QdWBwNE"
      },
      "execution_count": 39,
      "outputs": []
    },
    {
      "cell_type": "code",
      "source": [
        "# define baseline model\n",
        "def baseline_model():\n",
        "\t# create model\n",
        "\tmodel = Sequential()\n",
        "\tmodel.add(Dense(68, input_dim=68, activation='relu'))\n",
        "\tmodel.add(Dense(13, activation='softmax'))\n",
        "\t# Compile model\n",
        "\tmodel.compile(loss='categorical_crossentropy', optimizer='adam', metrics=['accuracy'])\n",
        "\treturn model\n",
        "\n",
        "estimator = KerasClassifier(build_fn=baseline_model, epochs=200, batch_size=5, verbose=0)\n",
        "kfold = KFold(n_splits=10, shuffle=True)\n",
        "results = cross_val_score(estimator, XTrainScaled, dummy_y, cv=kfold)\n",
        "print(\"Baseline: %.2f%% (%.2f%%)\" % (results.mean()*100, results.std()*100))"
      ],
      "metadata": {
        "id": "i77SFBrsBdfr",
        "outputId": "b1c78d1d-de71-4712-cca9-e531a3ae914c",
        "colab": {
          "base_uri": "https://localhost:8080/"
        }
      },
      "execution_count": 41,
      "outputs": [
        {
          "output_type": "stream",
          "name": "stderr",
          "text": [
            "/usr/local/lib/python3.7/dist-packages/ipykernel_launcher.py:11: DeprecationWarning: KerasClassifier is deprecated, use Sci-Keras (https://github.com/adriangb/scikeras) instead. See https://www.adriangb.com/scikeras/stable/migration.html for help migrating.\n",
            "  # This is added back by InteractiveShellApp.init_path()\n"
          ]
        },
        {
          "output_type": "stream",
          "name": "stdout",
          "text": [
            "Baseline: 20.25% (3.15%)\n"
          ]
        }
      ]
    },
    {
      "cell_type": "code",
      "source": [
        "# Model configuration\n",
        "batch_size = 10\n",
        "no_epochs = 50\n",
        "verbosity = 0\n",
        "num_folds = 10\n",
        "\n",
        "# Define per-fold score containers\n",
        "acc_per_fold = []\n",
        "loss_per_fold = []\n",
        "\n",
        "# Define the K-fold Cross Validator\n",
        "kfold = KFold(n_splits=num_folds, shuffle=True)\n",
        "\n",
        "# K-fold Cross Validation model evaluation\n",
        "fold_no = 1\n",
        "for train_index, test_index in kfold.split(XTrainScaled):\n",
        "\n",
        "  # Define the model architecture\n",
        "  model1 = Sequential()\n",
        "  model1.add(Dense(68, input_dim=68, kernel_initializer='normal', activation='relu'))\n",
        "  model1.add(Dense(13, activation='softmax'))\n",
        "  # Compile model\n",
        "  model1.compile(loss='categorical_crossentropy', optimizer='adam', metrics=['accuracy'])\n",
        "\n",
        "  # Generate a print\n",
        "  print('------------------------------------------------------------------------')\n",
        "  print(f'Training for fold {fold_no} ...')\n",
        "\n",
        "  # Fit data to model\n",
        "  history = model1.fit(XTrainScaled.iloc[train_index], dummy_y.iloc[train_index],\n",
        "              batch_size=batch_size,\n",
        "              epochs=no_epochs,\n",
        "              verbose=verbosity)\n",
        "\n",
        "  # Generate generalization metrics\n",
        "  scores = model1.evaluate(XTrainScaled.iloc[test_index], dummy_y.iloc[test_index], verbose=0)\n",
        "  #print(f'Score for fold {fold_no}: {model1.metrics_names[0]} of {scores[0]}; {model1.metrics_names[1]} of {scores[1]*100}%')\n",
        "  \n",
        "  print(f'Score for fold {fold_no}: {model1.metrics_names[1]} is {scores[1]}')\n",
        "\n",
        "  acc_per_fold.append(scores[1] * 100)\n",
        "  #loss_per_fold.append(scores)\n",
        "\n",
        "  # Increase fold number\n",
        "  fold_no = fold_no + 1\n",
        "\n",
        "# == Provide average scores ==\n",
        "print('------------------------------------------------------------------------')\n",
        "print('Score per fold')\n",
        "for i in range(0, len(acc_per_fold)):\n",
        "  print('------------------------------------------------------------------------')\n",
        "  print(f'> Fold {i+1} - Accuracy: {acc_per_fold[i]}')\n",
        "print('------------------------------------------------------------------------')\n",
        "print('Average scores for all folds:')\n",
        "print(f'> Accuracy: {np.mean(acc_per_fold)}')\n",
        "print('------------------------------------------------------------------------')"
      ],
      "metadata": {
        "colab": {
          "base_uri": "https://localhost:8080/"
        },
        "outputId": "e4c5c5ef-4d82-47d9-9ca7-710cf376cf72",
        "id": "ZkgiveFyYgSI"
      },
      "execution_count": 35,
      "outputs": [
        {
          "output_type": "stream",
          "name": "stdout",
          "text": [
            "------------------------------------------------------------------------\n",
            "Training for fold 1 ...\n",
            "Score for fold 1: accuracy is 0.23076923191547394\n",
            "------------------------------------------------------------------------\n",
            "Training for fold 2 ...\n",
            "Score for fold 2: accuracy is 0.2230769246816635\n",
            "------------------------------------------------------------------------\n",
            "Training for fold 3 ...\n",
            "Score for fold 3: accuracy is 0.2509652376174927\n",
            "------------------------------------------------------------------------\n",
            "Training for fold 4 ...\n",
            "Score for fold 4: accuracy is 0.1814671754837036\n",
            "------------------------------------------------------------------------\n",
            "Training for fold 5 ...\n",
            "Score for fold 5: accuracy is 0.21235521137714386\n",
            "------------------------------------------------------------------------\n",
            "Training for fold 6 ...\n",
            "Score for fold 6: accuracy is 0.2702702581882477\n",
            "------------------------------------------------------------------------\n",
            "Training for fold 7 ...\n",
            "Score for fold 7: accuracy is 0.2702702581882477\n",
            "------------------------------------------------------------------------\n",
            "Training for fold 8 ...\n",
            "Score for fold 8: accuracy is 0.22007721662521362\n",
            "------------------------------------------------------------------------\n",
            "Training for fold 9 ...\n",
            "Score for fold 9: accuracy is 0.2432432472705841\n",
            "------------------------------------------------------------------------\n",
            "Training for fold 10 ...\n",
            "Score for fold 10: accuracy is 0.2509652376174927\n",
            "------------------------------------------------------------------------\n",
            "Score per fold\n",
            "------------------------------------------------------------------------\n",
            "> Fold 1 - Accuracy: 23.076923191547394\n",
            "------------------------------------------------------------------------\n",
            "> Fold 2 - Accuracy: 22.30769246816635\n",
            "------------------------------------------------------------------------\n",
            "> Fold 3 - Accuracy: 25.096523761749268\n",
            "------------------------------------------------------------------------\n",
            "> Fold 4 - Accuracy: 18.14671754837036\n",
            "------------------------------------------------------------------------\n",
            "> Fold 5 - Accuracy: 21.235521137714386\n",
            "------------------------------------------------------------------------\n",
            "> Fold 6 - Accuracy: 27.027025818824768\n",
            "------------------------------------------------------------------------\n",
            "> Fold 7 - Accuracy: 27.027025818824768\n",
            "------------------------------------------------------------------------\n",
            "> Fold 8 - Accuracy: 22.007721662521362\n",
            "------------------------------------------------------------------------\n",
            "> Fold 9 - Accuracy: 24.32432472705841\n",
            "------------------------------------------------------------------------\n",
            "> Fold 10 - Accuracy: 25.096523761749268\n",
            "------------------------------------------------------------------------\n",
            "Average scores for all folds:\n",
            "> Accuracy: 23.534599989652634\n",
            "------------------------------------------------------------------------\n"
          ]
        }
      ]
    },
    {
      "cell_type": "code",
      "source": [
        "#plot the loss and validation loss of the dataset\n",
        "history_df = pd.DataFrame(history.history)\n",
        "plt.plot(history_df['loss'], label='loss')\n",
        "# plt.plot(history_df['val_loss'], label='val_loss')\n",
        "\n",
        "plt.legend()"
      ],
      "metadata": {
        "colab": {
          "base_uri": "https://localhost:8080/",
          "height": 283
        },
        "outputId": "807f3c17-a788-4ee2-a919-21252ecf65b3",
        "id": "Z2YwpwkQYgSd"
      },
      "execution_count": 36,
      "outputs": [
        {
          "output_type": "execute_result",
          "data": {
            "text/plain": [
              "<matplotlib.legend.Legend at 0x7f88c480c6d0>"
            ]
          },
          "metadata": {},
          "execution_count": 36
        },
        {
          "output_type": "display_data",
          "data": {
            "image/png": "[encoded data removed]",
            "text/plain": [
              "<Figure size 432x288 with 1 Axes>"
            ]
          },
          "metadata": {
            "needs_background": "light"
          }
        }
      ]
    },
    {
      "cell_type": "code",
      "source": [
        "model1.evaluate(XTrainScaled.iloc[test_index], GPAScaled.iloc[test_index], batch_size=10)"
      ],
      "metadata": {
        "colab": {
          "base_uri": "https://localhost:8080/"
        },
        "outputId": "296e4afa-472c-4239-9a3b-ed5aefe2391a",
        "id": "zLpsL7JLYgSe"
      },
      "execution_count": null,
      "outputs": [
        {
          "output_type": "stream",
          "name": "stdout",
          "text": [
            "26/26 [==============================] - 0s 3ms/step - loss: 0.0264\n"
          ]
        },
        {
          "output_type": "execute_result",
          "data": {
            "text/plain": [
              "0.02638920582830906"
            ]
          },
          "metadata": {},
          "execution_count": 34
        }
      ]
    },
    {
      "cell_type": "code",
      "source": [
        "y_predict_dnn = model1.predict(XTrainScaled.iloc[test_index])\n",
        "y_test = GPAScaled2.iloc[test_index]"
      ],
      "metadata": {
        "id": "FYeNeSJNYgSe"
      },
      "execution_count": null,
      "outputs": []
    },
    {
      "cell_type": "code",
      "source": [
        "mean_squared_error(y_test, y_predict_dnn)"
      ],
      "metadata": {
        "colab": {
          "base_uri": "https://localhost:8080/"
        },
        "outputId": "72ea9cab-a5f0-4b5e-a78b-c38329ad352e",
        "id": "KHZeCNojYgSf"
      },
      "execution_count": null,
      "outputs": [
        {
          "output_type": "execute_result",
          "data": {
            "text/plain": [
              "0.026389208722473047"
            ]
          },
          "metadata": {},
          "execution_count": 36
        }
      ]
    },
    {
      "cell_type": "code",
      "source": [
        "y_test1 = DF4.iloc[:,-1].iloc[test_index]"
      ],
      "metadata": {
        "id": "3A5TvrQ-YgSf"
      },
      "execution_count": null,
      "outputs": []
    },
    {
      "cell_type": "code",
      "source": [
        "y_predict_dnn_UN = (GPAmax * y_predict_dnn) + (GPAmin * (1 - y_predict_dnn)) \n",
        "y_test_UN = (GPAmax * y_test) + (GPAmin * (1 - y_test))\n",
        "y_test_UN = y_test_UN.to_numpy()"
      ],
      "metadata": {
        "id": "mYxb5ImAYgSf"
      },
      "execution_count": null,
      "outputs": []
    },
    {
      "cell_type": "code",
      "source": [
        "y_predict_dnn = y_predict_dnn.reshape(y_predict_dnn.shape[0],)\n",
        "fig = go.Figure()\n",
        "fig.add_trace(go.Scatter(y=y_test, name=\"y_test\", line_shape='linear'))\n",
        "fig.add_trace(go.Scatter(y=y_predict_dnn, name=\"y_predict_dnn\", line_shape='linear'))\n",
        "fig.update_layout(title_text='NORMALIZED DNN MODEL RESULTS', title_x=0.5)\n",
        "fig.show()"
      ],
      "metadata": {
        "colab": {
          "base_uri": "https://localhost:8080/",
          "height": 542
        },
        "outputId": "a82cdeb3-5d30-4d75-b5b4-fc1e1174266e",
        "id": "16s5uXKTYgSg"
      },
      "execution_count": null,
      "outputs": [
        {
          "output_type": "display_data",
          "data": {
            "text/html": [
              "<html>\n",
              "<head><meta charset=\"utf-8\" /></head>\n",
              "<body>\n",
              "    <div>            <script src=\"https://cdnjs.cloudflare.com/ajax/libs/mathjax/2.7.5/MathJax.js?config=TeX-AMS-MML_SVG\"></script><script type=\"text/javascript\">if (window.MathJax) {MathJax.Hub.Config({SVG: {font: \"STIX-Web\"}});}</script>                <script type=\"text/javascript\">window.PlotlyConfig = {MathJaxConfig: 'local'};</script>\n",
              "        <script src=\"https://cdn.plot.ly/plotly-2.8.3.min.js\"></script>                <div id=\"7447eaef-1b7d-41c1-b779-dc4a2612c75d\" class=\"plotly-graph-div\" style=\"height:525px; width:100%;\"></div>            <script type=\"text/javascript\">                                    window.PLOTLYENV=window.PLOTLYENV || {};                                    if (document.getElementById(\"7447eaef-1b7d-41c1-b779-dc4a2612c75d\")) {                    Plotly.newPlot(                        \"7447eaef-1b7d-41c1-b779-dc4a2612c75d\",                        [{\"line\":{\"shape\":\"linear\"},\"name\":\"y_test\",\"y\":[0.9666666666666667,0.7333333333333334,0.5,0.8666666666666667,0.7666666666666666,0.8333333333333334,1.0,1.0,0.96,0.9,0.9,0.9033333333333333,0.7333333333333334,1.0,0.9666666666666667,0.8333333333333334,1.0,1.0,0.6666666666666666,1.0,0.9233333333333333,1.0,1.0,0.9666666666666667,1.0,1.0,0.9333333333333332,0.8333333333333334,0.7999999999999999,0.8133333333333334,0.7333333333333334,0.6866666666666666,0.5666666666666668,0.9706666666666667,0.7333333333333334,0.9333333333333332,0.7666666666666666,0.6,0.9,0.8266666666666667,0.6666666666666666,0.5033333333333333,0.6766666666666666,0.9333333333333332,0.8033333333333333,1.0,0.6833333333333332,0.9733333333333333,0.8966666666666666,0.9733333333333333,0.9333333333333332,1.0,1.0,1.0,0.9033333333333333,0.3,0.5833333333333334,0.8333333333333334,0.7333333333333334,1.0,0.8666666666666667,0.88,0.7000000000000001,0.9233333333333333,0.22999999999999998,1.0,0.3666666666666667,0.7999999999999999,1.0,0.7333333333333334,0.6699999999999999,0.6,0.7466666666666667,0.9266666666666666,0.9766666666666667,0.8233333333333334,0.61,0.9666666666666667,0.89,0.65,0.5633333333333334,0.8566666666666666,0.9333333333333332,0.75,0.9333333333333332,0.9333333333333332,1.0,1.0,1.0,0.7333333333333334,0.9199999999999999,0.9700000000000001,1.0,0.8633333333333333,0.6566666666666667,0.0,0.4000000000000001,1.0,0.9666666666666667,0.5233333333333333,0.7333333333333334,0.8666666666666667,0.9866666666666667,1.0,0.8866666666666667,0.8666666666666667,0.8333333333333334,1.0,0.9333333333333332,0.9333333333333332,0.8666666666666667,0.7333333333333334,1.0,0.9,0.9666666666666667,0.0,0.98,0.7333333333333334,1.0,0.9666666666666667,1.0,0.8333333333333334,0.7000000000000001,0.3333333333333333,1.0,0.7766666666666667,0.9333333333333332,0.9,0.9900000000000001,0.8366666666666666,0.9900000000000001,0.8333333333333334,0.4333333333333333,0.6333333333333333,0.7999999999999999,0.7333333333333334,0.7333333333333334,0.7999999999999999,0.88,0.8133333333333334,0.7999999999999999,0.8666666666666667,0.9333333333333332,0.8866666666666667,0.8666666666666667,0.8333333333333334,1.0,0.88,0.71,1.0,0.8666666666666667,0.7666666666666666,0.7999999999999999,1.0,0.7000000000000001,0.7999999999999999,0.9199999999999999,0.8300000000000001,0.9,0.9666666666666667,0.6333333333333333,0.9833333333333334,0.5933333333333333,0.9333333333333332,0.7599999999999999,0.6666666666666666,1.0,0.7666666666666666,0.8333333333333334,0.6,0.9233333333333333,0.9066666666666667,0.9,0.5333333333333333,0.9166666666666666,0.9333333333333332,0.9066666666666667,0.9733333333333333,0.9033333333333333,0.9333333333333332,1.0,0.9833333333333334,0.7999999999999999,0.9,1.0,0.7999999999999999,0.7666666666666666,0.8666666666666667,0.8166666666666668,0.7999999999999999,0.7999999999999999,0.8333333333333334,1.0,0.9633333333333334,0.5,0.7999999999999999,1.0,0.8333333333333334,1.0,0.79,0.9,0.9199999999999999,0.9500000000000001,0.9833333333333334,0.9,0.9,0.41999999999999993,0.6666666666666666,0.8333333333333334,0.6666666666666666,1.0,0.9,0.8666666666666667,0.8866666666666667,0.7866666666666666,0.7999999999999999,0.6666666666666666,0.9033333333333333,0.7999999999999999,0.7333333333333334,0.7566666666666667,0.8533333333333334,0.7799999999999999,1.0,0.8566666666666666,1.0,0.8466666666666667,0.7333333333333334,0.9666666666666667,0.9233333333333333,0.9766666666666667,0.665,0.7666666666666666,1.0,0.7999999999999999,0.9266666666666666,0.93,0.7666666666666666,0.8366666666666666,0.5666666666666668,0.9333333333333332,0.8666666666666667,0.8066666666666666,0.6333333333333333,0.86,0.7333333333333334,0.61,0.3633333333333333,0.7333333333333334,0.86,0.9,0.7633333333333333,0.9633333333333334,0.8333333333333334,0.6266666666666666,0.7666666666666666,0.5333333333333333,0.9700000000000001,0.5666666666666668],\"type\":\"scatter\"},{\"line\":{\"shape\":\"linear\"},\"name\":\"y_predict_dnn\",\"y\":[0.9177884459495544,0.8111472725868225,0.708155632019043,0.9247961044311523,0.6846073865890503,0.8494407534599304,1.0555486679077148,0.939157247543335,0.7122057676315308,0.7765558362007141,0.8839461207389832,0.945212185382843,0.9191555380821228,0.9391099214553833,0.9107995629310608,0.8215535879135132,0.7962346076965332,0.8633997440338135,0.7144815921783447,0.806470513343811,0.9168146252632141,0.980251133441925,0.8913530707359314,1.024766206741333,0.9447622895240784,0.880583643913269,0.9379300475120544,0.9510534405708313,0.8047971129417419,0.9310466647148132,0.8371593356132507,0.9131326675415039,0.7871938347816467,0.8889217376708984,0.7965995073318481,0.8003022074699402,0.8880568146705627,0.7963920831680298,0.9371646046638489,1.0816898345947266,0.7857514023780823,0.8160146474838257,0.7952180504798889,1.072756052017212,0.827799379825592,0.8930132389068604,1.08933687210083,1.0365197658538818,0.9307501912117004,0.8111057877540588,0.9308080077171326,0.9978558421134949,0.8840088248252869,0.8016137480735779,0.9491314888000488,0.680281937122345,0.8112746477127075,0.8717392086982727,0.9892817139625549,0.8798282742500305,0.9051650166511536,0.7250640988349915,0.7226210832595825,0.9839860796928406,0.9644072651863098,0.9506130814552307,0.7040486335754395,1.0076911449432373,0.8530341982841492,0.8189511895179749,0.7834939360618591,0.7616251707077026,0.9643632173538208,0.7791014909744263,0.803895890712738,0.872711718082428,0.916942298412323,0.8908900022506714,0.827804446220398,0.915232241153717,0.672073483467102,0.8505565524101257,0.8757991194725037,0.7363680601119995,0.8525833487510681,0.8203735947608948,0.9379479289054871,1.0653157234191895,0.8670405149459839,0.8203168511390686,0.7950243949890137,0.7875608205795288,0.7437252402305603,0.7331526279449463,0.8819329142570496,0.8065715432167053,0.9143040776252747,0.878412127494812,0.8442986607551575,0.7845728397369385,0.8444330096244812,0.8819763660430908,1.048628568649292,0.9274564981460571,0.8841878175735474,0.8120434880256653,0.8415034413337708,0.7953886389732361,0.8579967021942139,0.8081575036048889,0.8590624332427979,0.8217123746871948,0.7835364937782288,0.8475301265716553,0.9202116131782532,0.43709635734558105,0.8351858258247375,0.8921315670013428,0.9305613040924072,0.89170902967453,0.9870989322662354,0.8715416789054871,1.0214571952819824,0.670783519744873,0.8986493945121765,0.7812203764915466,0.8936285972595215,0.8229809999465942,0.9564210176467896,0.8839505314826965,0.9270778298377991,0.7759301066398621,0.8275942206382751,0.6625112891197205,0.8703548312187195,0.8884526491165161,0.8778997659683228,0.8839063048362732,0.9350454211235046,0.8044622540473938,0.7196602821350098,0.8436576128005981,0.912177562713623,0.8704752922058105,0.8762283325195312,0.7920964360237122,0.7051377296447754,0.8237181901931763,0.9346100687980652,0.7763446569442749,0.8130891919136047,0.8188558220863342,0.8119229674339294,0.9462572336196899,0.8694522976875305,0.9256426095962524,0.9428083300590515,0.8261578679084778,1.0252587795257568,0.8946693539619446,0.7410385012626648,0.9111230969429016,0.9275525212287903,1.033045768737793,0.7886239290237427,0.6452445983886719,0.813750684261322,0.7839367389678955,0.8873698711395264,0.6718846559524536,0.9366579055786133,0.9225428700447083,0.9169284105300903,0.9065868258476257,0.950851559638977,0.9703969359397888,0.8678451180458069,0.8037378787994385,0.8406652212142944,0.9963661432266235,0.8170852661132812,0.7122064828872681,0.5998626947402954,0.8862701654434204,0.8166938424110413,0.5059704184532166,0.6606380343437195,1.031433343887329,0.8444254994392395,0.9203343391418457,0.8515300154685974,0.6919959783554077,0.8228815793991089,1.0397050380706787,0.7375572919845581,0.7570102214813232,0.9332553148269653,0.7686554789543152,0.9605512022972107,0.7532137036323547,0.7660375237464905,0.8804202079772949,1.0140244960784912,1.0036096572875977,0.8184862732887268,0.9516903758049011,0.7219995260238647,0.7918278574943542,0.7500643134117126,0.7843203544616699,0.9320127964019775,0.8824555277824402,0.9157159328460693,0.7316843271255493,0.7875478863716125,0.7000095844268799,0.8287642002105713,0.9696067571640015,0.780632495880127,0.8874105215072632,1.0242600440979004,0.9903823733329773,0.8519006371498108,1.0026533603668213,0.9749646186828613,0.8886095881462097,0.8565614819526672,0.9373326897621155,1.040763258934021,0.9561996459960938,0.7012865543365479,0.6970059871673584,0.8406242728233337,1.0773125886917114,0.8414531946182251,0.9198798537254333,1.0013998746871948,0.8471795916557312,0.8930861949920654,0.865947425365448,0.7569092512130737,0.7708172798156738,0.8757296204566956,0.4345589876174927,0.8435686826705933,0.80580073595047,0.8356500864028931,0.7965897917747498,0.7558531761169434,0.9727568030357361,0.834844172000885,0.9157408475875854,0.8610794544219971,0.9830158352851868,0.8562616109848022,0.9275833368301392,0.8245447278022766,0.9065322279930115,0.8219104409217834],\"type\":\"scatter\"}],                        {\"template\":{\"data\":{\"bar\":[{\"error_x\":{\"color\":\"#2a3f5f\"},\"error_y\":{\"color\":\"#2a3f5f\"},\"marker\":{\"line\":{\"color\":\"#E5ECF6\",\"width\":0.5},\"pattern\":{\"fillmode\":\"overlay\",\"size\":10,\"solidity\":0.2}},\"type\":\"bar\"}],\"barpolar\":[{\"marker\":{\"line\":{\"color\":\"#E5ECF6\",\"width\":0.5},\"pattern\":{\"fillmode\":\"overlay\",\"size\":10,\"solidity\":0.2}},\"type\":\"barpolar\"}],\"carpet\":[{\"aaxis\":{\"endlinecolor\":\"#2a3f5f\",\"gridcolor\":\"white\",\"linecolor\":\"white\",\"minorgridcolor\":\"white\",\"startlinecolor\":\"#2a3f5f\"},\"baxis\":{\"endlinecolor\":\"#2a3f5f\",\"gridcolor\":\"white\",\"linecolor\":\"white\",\"minorgridcolor\":\"white\",\"startlinecolor\":\"#2a3f5f\"},\"type\":\"carpet\"}],\"choropleth\":[{\"colorbar\":{\"outlinewidth\":0,\"ticks\":\"\"},\"type\":\"choropleth\"}],\"contour\":[{\"colorbar\":{\"outlinewidth\":0,\"ticks\":\"\"},\"colorscale\":[[0.0,\"#0d0887\"],[0.1111111111111111,\"#46039f\"],[0.2222222222222222,\"#7201a8\"],[0.3333333333333333,\"#9c179e\"],[0.4444444444444444,\"#bd3786\"],[0.5555555555555556,\"#d8576b\"],[0.6666666666666666,\"#ed7953\"],[0.7777777777777778,\"#fb9f3a\"],[0.8888888888888888,\"#fdca26\"],[1.0,\"#f0f921\"]],\"type\":\"contour\"}],\"contourcarpet\":[{\"colorbar\":{\"outlinewidth\":0,\"ticks\":\"\"},\"type\":\"contourcarpet\"}],\"heatmap\":[{\"colorbar\":{\"outlinewidth\":0,\"ticks\":\"\"},\"colorscale\":[[0.0,\"#0d0887\"],[0.1111111111111111,\"#46039f\"],[0.2222222222222222,\"#7201a8\"],[0.3333333333333333,\"#9c179e\"],[0.4444444444444444,\"#bd3786\"],[0.5555555555555556,\"#d8576b\"],[0.6666666666666666,\"#ed7953\"],[0.7777777777777778,\"#fb9f3a\"],[0.8888888888888888,\"#fdca26\"],[1.0,\"#f0f921\"]],\"type\":\"heatmap\"}],\"heatmapgl\":[{\"colorbar\":{\"outlinewidth\":0,\"ticks\":\"\"},\"colorscale\":[[0.0,\"#0d0887\"],[0.1111111111111111,\"#46039f\"],[0.2222222222222222,\"#7201a8\"],[0.3333333333333333,\"#9c179e\"],[0.4444444444444444,\"#bd3786\"],[0.5555555555555556,\"#d8576b\"],[0.6666666666666666,\"#ed7953\"],[0.7777777777777778,\"#fb9f3a\"],[0.8888888888888888,\"#fdca26\"],[1.0,\"#f0f921\"]],\"type\":\"heatmapgl\"}],\"histogram\":[{\"marker\":{\"pattern\":{\"fillmode\":\"overlay\",\"size\":10,\"solidity\":0.2}},\"type\":\"histogram\"}],\"histogram2d\":[{\"colorbar\":{\"outlinewidth\":0,\"ticks\":\"\"},\"colorscale\":[[0.0,\"#0d0887\"],[0.1111111111111111,\"#46039f\"],[0.2222222222222222,\"#7201a8\"],[0.3333333333333333,\"#9c179e\"],[0.4444444444444444,\"#bd3786\"],[0.5555555555555556,\"#d8576b\"],[0.6666666666666666,\"#ed7953\"],[0.7777777777777778,\"#fb9f3a\"],[0.8888888888888888,\"#fdca26\"],[1.0,\"#f0f921\"]],\"type\":\"histogram2d\"}],\"histogram2dcontour\":[{\"colorbar\":{\"outlinewidth\":0,\"ticks\":\"\"},\"colorscale\":[[0.0,\"#0d0887\"],[0.1111111111111111,\"#46039f\"],[0.2222222222222222,\"#7201a8\"],[0.3333333333333333,\"#9c179e\"],[0.4444444444444444,\"#bd3786\"],[0.5555555555555556,\"#d8576b\"],[0.6666666666666666,\"#ed7953\"],[0.7777777777777778,\"#fb9f3a\"],[0.8888888888888888,\"#fdca26\"],[1.0,\"#f0f921\"]],\"type\":\"histogram2dcontour\"}],\"mesh3d\":[{\"colorbar\":{\"outlinewidth\":0,\"ticks\":\"\"},\"type\":\"mesh3d\"}],\"parcoords\":[{\"line\":{\"colorbar\":{\"outlinewidth\":0,\"ticks\":\"\"}},\"type\":\"parcoords\"}],\"pie\":[{\"automargin\":true,\"type\":\"pie\"}],\"scatter\":[{\"marker\":{\"colorbar\":{\"outlinewidth\":0,\"ticks\":\"\"}},\"type\":\"scatter\"}],\"scatter3d\":[{\"line\":{\"colorbar\":{\"outlinewidth\":0,\"ticks\":\"\"}},\"marker\":{\"colorbar\":{\"outlinewidth\":0,\"ticks\":\"\"}},\"type\":\"scatter3d\"}],\"scattercarpet\":[{\"marker\":{\"colorbar\":{\"outlinewidth\":0,\"ticks\":\"\"}},\"type\":\"scattercarpet\"}],\"scattergeo\":[{\"marker\":{\"colorbar\":{\"outlinewidth\":0,\"ticks\":\"\"}},\"type\":\"scattergeo\"}],\"scattergl\":[{\"marker\":{\"colorbar\":{\"outlinewidth\":0,\"ticks\":\"\"}},\"type\":\"scattergl\"}],\"scattermapbox\":[{\"marker\":{\"colorbar\":{\"outlinewidth\":0,\"ticks\":\"\"}},\"type\":\"scattermapbox\"}],\"scatterpolar\":[{\"marker\":{\"colorbar\":{\"outlinewidth\":0,\"ticks\":\"\"}},\"type\":\"scatterpolar\"}],\"scatterpolargl\":[{\"marker\":{\"colorbar\":{\"outlinewidth\":0,\"ticks\":\"\"}},\"type\":\"scatterpolargl\"}],\"scatterternary\":[{\"marker\":{\"colorbar\":{\"outlinewidth\":0,\"ticks\":\"\"}},\"type\":\"scatterternary\"}],\"surface\":[{\"colorbar\":{\"outlinewidth\":0,\"ticks\":\"\"},\"colorscale\":[[0.0,\"#0d0887\"],[0.1111111111111111,\"#46039f\"],[0.2222222222222222,\"#7201a8\"],[0.3333333333333333,\"#9c179e\"],[0.4444444444444444,\"#bd3786\"],[0.5555555555555556,\"#d8576b\"],[0.6666666666666666,\"#ed7953\"],[0.7777777777777778,\"#fb9f3a\"],[0.8888888888888888,\"#fdca26\"],[1.0,\"#f0f921\"]],\"type\":\"surface\"}],\"table\":[{\"cells\":{\"fill\":{\"color\":\"#EBF0F8\"},\"line\":{\"color\":\"white\"}},\"header\":{\"fill\":{\"color\":\"#C8D4E3\"},\"line\":{\"color\":\"white\"}},\"type\":\"table\"}]},\"layout\":{\"annotationdefaults\":{\"arrowcolor\":\"#2a3f5f\",\"arrowhead\":0,\"arrowwidth\":1},\"autotypenumbers\":\"strict\",\"coloraxis\":{\"colorbar\":{\"outlinewidth\":0,\"ticks\":\"\"}},\"colorscale\":{\"diverging\":[[0,\"#8e0152\"],[0.1,\"#c51b7d\"],[0.2,\"#de77ae\"],[0.3,\"#f1b6da\"],[0.4,\"#fde0ef\"],[0.5,\"#f7f7f7\"],[0.6,\"#e6f5d0\"],[0.7,\"#b8e186\"],[0.8,\"#7fbc41\"],[0.9,\"#4d9221\"],[1,\"#276419\"]],\"sequential\":[[0.0,\"#0d0887\"],[0.1111111111111111,\"#46039f\"],[0.2222222222222222,\"#7201a8\"],[0.3333333333333333,\"#9c179e\"],[0.4444444444444444,\"#bd3786\"],[0.5555555555555556,\"#d8576b\"],[0.6666666666666666,\"#ed7953\"],[0.7777777777777778,\"#fb9f3a\"],[0.8888888888888888,\"#fdca26\"],[1.0,\"#f0f921\"]],\"sequentialminus\":[[0.0,\"#0d0887\"],[0.1111111111111111,\"#46039f\"],[0.2222222222222222,\"#7201a8\"],[0.3333333333333333,\"#9c179e\"],[0.4444444444444444,\"#bd3786\"],[0.5555555555555556,\"#d8576b\"],[0.6666666666666666,\"#ed7953\"],[0.7777777777777778,\"#fb9f3a\"],[0.8888888888888888,\"#fdca26\"],[1.0,\"#f0f921\"]]},\"colorway\":[\"#636efa\",\"#EF553B\",\"#00cc96\",\"#ab63fa\",\"#FFA15A\",\"#19d3f3\",\"#FF6692\",\"#B6E880\",\"#FF97FF\",\"#FECB52\"],\"font\":{\"color\":\"#2a3f5f\"},\"geo\":{\"bgcolor\":\"white\",\"lakecolor\":\"white\",\"landcolor\":\"#E5ECF6\",\"showlakes\":true,\"showland\":true,\"subunitcolor\":\"white\"},\"hoverlabel\":{\"align\":\"left\"},\"hovermode\":\"closest\",\"mapbox\":{\"style\":\"light\"},\"paper_bgcolor\":\"white\",\"plot_bgcolor\":\"#E5ECF6\",\"polar\":{\"angularaxis\":{\"gridcolor\":\"white\",\"linecolor\":\"white\",\"ticks\":\"\"},\"bgcolor\":\"#E5ECF6\",\"radialaxis\":{\"gridcolor\":\"white\",\"linecolor\":\"white\",\"ticks\":\"\"}},\"scene\":{\"xaxis\":{\"backgroundcolor\":\"#E5ECF6\",\"gridcolor\":\"white\",\"gridwidth\":2,\"linecolor\":\"white\",\"showbackground\":true,\"ticks\":\"\",\"zerolinecolor\":\"white\"},\"yaxis\":{\"backgroundcolor\":\"#E5ECF6\",\"gridcolor\":\"white\",\"gridwidth\":2,\"linecolor\":\"white\",\"showbackground\":true,\"ticks\":\"\",\"zerolinecolor\":\"white\"},\"zaxis\":{\"backgroundcolor\":\"#E5ECF6\",\"gridcolor\":\"white\",\"gridwidth\":2,\"linecolor\":\"white\",\"showbackground\":true,\"ticks\":\"\",\"zerolinecolor\":\"white\"}},\"shapedefaults\":{\"line\":{\"color\":\"#2a3f5f\"}},\"ternary\":{\"aaxis\":{\"gridcolor\":\"white\",\"linecolor\":\"white\",\"ticks\":\"\"},\"baxis\":{\"gridcolor\":\"white\",\"linecolor\":\"white\",\"ticks\":\"\"},\"bgcolor\":\"#E5ECF6\",\"caxis\":{\"gridcolor\":\"white\",\"linecolor\":\"white\",\"ticks\":\"\"}},\"title\":{\"x\":0.05},\"xaxis\":{\"automargin\":true,\"gridcolor\":\"white\",\"linecolor\":\"white\",\"ticks\":\"\",\"title\":{\"standoff\":15},\"zerolinecolor\":\"white\",\"zerolinewidth\":2},\"yaxis\":{\"automargin\":true,\"gridcolor\":\"white\",\"linecolor\":\"white\",\"ticks\":\"\",\"title\":{\"standoff\":15},\"zerolinecolor\":\"white\",\"zerolinewidth\":2}}},\"title\":{\"text\":\"NORMALIZED DNN MODEL RESULTS\",\"x\":0.5}},                        {\"responsive\": true}                    ).then(function(){\n",
              "                            \n",
              "var gd = document.getElementById('7447eaef-1b7d-41c1-b779-dc4a2612c75d');\n",
              "var x = new MutationObserver(function (mutations, observer) {{\n",
              "        var display = window.getComputedStyle(gd).display;\n",
              "        if (!display || display === 'none') {{\n",
              "            console.log([gd, 'removed!']);\n",
              "            Plotly.purge(gd);\n",
              "            observer.disconnect();\n",
              "        }}\n",
              "}});\n",
              "\n",
              "// Listen for the removal of the full notebook cells\n",
              "var notebookContainer = gd.closest('#notebook-container');\n",
              "if (notebookContainer) {{\n",
              "    x.observe(notebookContainer, {childList: true});\n",
              "}}\n",
              "\n",
              "// Listen for the clearing of the current output cell\n",
              "var outputEl = gd.closest('.output');\n",
              "if (outputEl) {{\n",
              "    x.observe(outputEl, {childList: true});\n",
              "}}\n",
              "\n",
              "                        })                };                            </script>        </div>\n",
              "</body>\n",
              "</html>"
            ]
          },
          "metadata": {}
        }
      ]
    },
    {
      "cell_type": "code",
      "source": [
        "idx   = np.argsort(y_test)\n",
        "y_predict_dnn = y_predict_dnn.reshape(y_predict_dnn.shape[0],)\n",
        "list1 = np.array(y_test)[idx]\n",
        "list2 = np.array(y_predict_dnn)[idx]\n",
        "fig = go.Figure()\n",
        "fig.add_trace(go.Scatter(y=list1, name=\"y_test\", line_shape='linear'))\n",
        "fig.add_trace(go.Scatter(y=list2, name=\"y_predict_dnn\", line_shape='linear'))\n",
        "fig.update_layout(title_text='NORMALIZED DNN MODEL RESULTS SORTED', title_x=0.5)\n",
        "fig.show()"
      ],
      "metadata": {
        "colab": {
          "base_uri": "https://localhost:8080/",
          "height": 542
        },
        "outputId": "d2bf7ec3-364b-44da-9d49-a85ee63894e0",
        "id": "PktceECsYgSg"
      },
      "execution_count": null,
      "outputs": [
        {
          "output_type": "display_data",
          "data": {
            "text/html": [
              "<html>\n",
              "<head><meta charset=\"utf-8\" /></head>\n",
              "<body>\n",
              "    <div>            <script src=\"https://cdnjs.cloudflare.com/ajax/libs/mathjax/2.7.5/MathJax.js?config=TeX-AMS-MML_SVG\"></script><script type=\"text/javascript\">if (window.MathJax) {MathJax.Hub.Config({SVG: {font: \"STIX-Web\"}});}</script>                <script type=\"text/javascript\">window.PlotlyConfig = {MathJaxConfig: 'local'};</script>\n",
              "        <script src=\"https://cdn.plot.ly/plotly-2.8.3.min.js\"></script>                <div id=\"69efe62b-2827-4e24-a0fd-fe88335af172\" class=\"plotly-graph-div\" style=\"height:525px; width:100%;\"></div>            <script type=\"text/javascript\">                                    window.PLOTLYENV=window.PLOTLYENV || {};                                    if (document.getElementById(\"69efe62b-2827-4e24-a0fd-fe88335af172\")) {                    Plotly.newPlot(                        \"69efe62b-2827-4e24-a0fd-fe88335af172\",                        [{\"line\":{\"shape\":\"linear\"},\"name\":\"y_test\",\"y\":[0.0,0.0,0.22999999999999998,0.3,0.3333333333333333,0.3633333333333333,0.3666666666666667,0.4000000000000001,0.41999999999999993,0.4333333333333333,0.5,0.5,0.5033333333333333,0.5233333333333333,0.5333333333333333,0.5333333333333333,0.5633333333333334,0.5666666666666668,0.5666666666666668,0.5666666666666668,0.5833333333333334,0.5933333333333333,0.6,0.6,0.6,0.61,0.61,0.6266666666666666,0.6333333333333333,0.6333333333333333,0.6333333333333333,0.65,0.6566666666666667,0.665,0.6666666666666666,0.6666666666666666,0.6666666666666666,0.6666666666666666,0.6666666666666666,0.6666666666666666,0.6699999999999999,0.6766666666666666,0.6833333333333332,0.6866666666666666,0.7000000000000001,0.7000000000000001,0.7000000000000001,0.71,0.7333333333333334,0.7333333333333334,0.7333333333333334,0.7333333333333334,0.7333333333333334,0.7333333333333334,0.7333333333333334,0.7333333333333334,0.7333333333333334,0.7333333333333334,0.7333333333333334,0.7333333333333334,0.7333333333333334,0.7333333333333334,0.7333333333333334,0.7333333333333334,0.7466666666666667,0.75,0.7566666666666667,0.7599999999999999,0.7633333333333333,0.7666666666666666,0.7666666666666666,0.7666666666666666,0.7666666666666666,0.7666666666666666,0.7666666666666666,0.7666666666666666,0.7666666666666666,0.7766666666666667,0.7799999999999999,0.7866666666666666,0.79,0.7999999999999999,0.7999999999999999,0.7999999999999999,0.7999999999999999,0.7999999999999999,0.7999999999999999,0.7999999999999999,0.7999999999999999,0.7999999999999999,0.7999999999999999,0.7999999999999999,0.7999999999999999,0.7999999999999999,0.7999999999999999,0.7999999999999999,0.8033333333333333,0.8066666666666666,0.8133333333333334,0.8133333333333334,0.8166666666666668,0.8233333333333334,0.8266666666666667,0.8300000000000001,0.8333333333333334,0.8333333333333334,0.8333333333333334,0.8333333333333334,0.8333333333333334,0.8333333333333334,0.8333333333333334,0.8333333333333334,0.8333333333333334,0.8333333333333334,0.8333333333333334,0.8333333333333334,0.8333333333333334,0.8366666666666666,0.8366666666666666,0.8466666666666667,0.8533333333333334,0.8566666666666666,0.8566666666666666,0.86,0.86,0.8633333333333333,0.8666666666666667,0.8666666666666667,0.8666666666666667,0.8666666666666667,0.8666666666666667,0.8666666666666667,0.8666666666666667,0.8666666666666667,0.8666666666666667,0.8666666666666667,0.8666666666666667,0.88,0.88,0.88,0.8866666666666667,0.8866666666666667,0.8866666666666667,0.89,0.8966666666666666,0.9,0.9,0.9,0.9,0.9,0.9,0.9,0.9,0.9,0.9,0.9,0.9,0.9,0.9033333333333333,0.9033333333333333,0.9033333333333333,0.9033333333333333,0.9066666666666667,0.9066666666666667,0.9166666666666666,0.9199999999999999,0.9199999999999999,0.9199999999999999,0.9233333333333333,0.9233333333333333,0.9233333333333333,0.9233333333333333,0.9266666666666666,0.9266666666666666,0.93,0.9333333333333332,0.9333333333333332,0.9333333333333332,0.9333333333333332,0.9333333333333332,0.9333333333333332,0.9333333333333332,0.9333333333333332,0.9333333333333332,0.9333333333333332,0.9333333333333332,0.9333333333333332,0.9333333333333332,0.9333333333333332,0.9333333333333332,0.9500000000000001,0.96,0.9633333333333334,0.9633333333333334,0.9666666666666667,0.9666666666666667,0.9666666666666667,0.9666666666666667,0.9666666666666667,0.9666666666666667,0.9666666666666667,0.9666666666666667,0.9666666666666667,0.9700000000000001,0.9700000000000001,0.9706666666666667,0.9733333333333333,0.9733333333333333,0.9733333333333333,0.9766666666666667,0.9766666666666667,0.98,0.9833333333333334,0.9833333333333334,0.9833333333333334,0.9866666666666667,0.9900000000000001,0.9900000000000001,1.0,1.0,1.0,1.0,1.0,1.0,1.0,1.0,1.0,1.0,1.0,1.0,1.0,1.0,1.0,1.0,1.0,1.0,1.0,1.0,1.0,1.0,1.0,1.0,1.0,1.0,1.0,1.0,1.0,1.0,1.0,1.0,1.0,1.0,1.0,1.0,1.0,1.0,1.0,1.0,1.0],\"type\":\"scatter\"},{\"line\":{\"shape\":\"linear\"},\"name\":\"y_predict_dnn\",\"y\":[0.43709635734558105,0.8065715432167053,0.9644072651863098,0.680281937122345,0.670783519744873,0.7965897917747498,0.7040486335754395,0.9143040776252747,0.7219995260238647,0.8275942206382751,0.708155632019043,0.7375572919845581,0.8160146474838257,0.7845728397369385,0.8245447278022766,0.9065868258476257,0.672073483467102,0.7871938347816467,0.865947425365448,0.8219104409217834,0.8112746477127075,0.9275525212287903,0.7616251707077026,0.7963920831680298,0.6718846559524536,0.916942298412323,0.8356500864028931,0.8562616109848022,0.6625112891197205,0.7410385012626648,0.4345589876174927,0.915232241153717,0.8819329142570496,0.6970059871673584,0.6452445983886719,0.8287642002105713,0.7918278574943542,0.7144815921783447,0.7857514023780823,0.7843203544616699,0.7834939360618591,0.7952180504798889,1.08933687210083,0.9131326675415039,0.7226210832595825,1.0214571952819824,0.8694522976875305,0.9346100687980652,0.8189511895179749,0.8217123746871948,0.8778997659683228,0.8203168511390686,0.8444330096244812,0.8884526491165161,0.9892817139625549,0.8921315670013428,0.8111472725868225,0.7558531761169434,0.9191555380821228,0.8371593356132507,0.7965995073318481,0.8874105215072632,0.80580073595047,0.9373326897621155,0.9643632173538208,0.7363680601119995,1.0242600440979004,0.7886239290237427,0.9157408475875854,0.6606380343437195,0.8188558220863342,0.8880568146705627,0.8471795916557312,0.8406242728233337,0.7839367389678955,0.9275833368301392,0.6846073865890503,0.7812203764915466,0.8519006371498108,0.7875478863716125,0.7532137036323547,0.7196602821350098,0.8414531946182251,0.9256426095962524,0.8839063048362732,0.8119229674339294,0.8703548312187195,0.8047971129417419,0.8515300154685974,0.5998626947402954,0.5059704184532166,0.780632495880127,0.9203343391418457,1.0076911449432373,0.7570102214813232,0.7000095844268799,0.827799379825592,0.8757296204566956,0.8044622540473938,0.9310466647148132,0.8444254994392395,0.872711718082428,1.0816898345947266,0.8261578679084778,0.9830158352851868,0.8494407534599304,0.7759301066398621,0.7686554789543152,0.8215535879135132,0.7920964360237122,0.8873698711395264,0.6919959783554077,0.7500643134117126,0.8715416789054871,0.8717392086982727,0.8415034413337708,0.9510534405708313,0.8930861949920654,0.8839505314826965,0.8565614819526672,0.9903823733329773,0.9749646186828613,0.8505565524101257,0.9727568030357361,0.8435686826705933,0.7331526279449463,0.8762283325195312,0.8436576128005981,0.8819763660430908,0.7708172798156738,0.8130891919136047,0.8120434880256653,1.031433343887329,0.9247961044311523,0.9157159328460693,0.9051650166511536,0.8590624332427979,0.8237181901931763,0.7250640988349915,0.9350454211235046,0.8704752922058105,0.7316843271255493,0.8841878175735474,0.827804446220398,0.9307501912117004,0.9516903758049011,0.8862701654434204,0.8824555277824402,0.9371646046638489,0.8184862732887268,0.9169284105300903,1.0252587795257568,0.7660375237464905,0.8475301265716553,0.7765558362007141,0.834844172000885,0.8839461207389832,0.8229809999465942,0.8406652212142944,0.9491314888000488,0.9696067571640015,0.945212185382843,0.8678451180458069,0.9225428700447083,0.950851559638977,0.7950243949890137,0.9428083300590515,0.8804202079772949,0.9366579055786133,0.9561996459960938,0.9839860796928406,0.9168146252632141,0.7791014909744263,0.9198798537254333,1.0013998746871948,0.9963661432266235,0.8081575036048889,0.8936285972595215,0.9308080077171326,0.9703969359397888,1.033045768737793,0.8579967021942139,0.912177562713623,0.8757991194725037,0.7569092512130737,0.8525833487510681,0.8203735947608948,1.072756052017212,0.8003022074699402,0.9379300475120544,1.0140244960784912,0.7122057676315308,0.8610794544219971,1.0397050380706787,1.040763258934021,1.024766206741333,0.9107995629310608,0.89170902967453,0.9177884459495544,0.8442986607551575,0.8946693539619446,0.8908900022506714,0.9202116131782532,0.7875608205795288,0.9065322279930115,0.8889217376708984,1.0365197658538818,0.8111057877540588,0.8037378787994385,0.7012865543365479,0.803895890712738,0.8351858258247375,0.9111230969429016,0.7122064828872681,1.0036096572875977,1.048628568649292,0.9564210176467896,0.9270778298377991,0.878412127494812,0.8986493945121765,0.980251133441925,0.7051377296447754,0.806470513343811,0.9870989322662354,0.7763446569442749,0.9391099214553833,0.8633997440338135,0.7962346076965332,0.7835364937782288,0.939157247543335,0.9274564981460571,0.7953886389732361,1.0555486679077148,0.8913530707359314,0.8840088248252869,0.7437252402305603,0.8016137480735779,0.9332553148269653,0.8798282742500305,0.8228815793991089,0.9305613040924072,0.9978558421134949,0.8530341982841492,0.8166938424110413,0.9320127964019775,0.8170852661132812,0.8930132389068604,0.813750684261322,0.9379479289054871,1.0653157234191895,1.0026533603668213,0.8886095881462097,0.8670405149459839,0.880583643913269,0.9605512022972107,0.9462572336196899,0.9447622895240784,1.0773125886917114,0.9506130814552307],\"type\":\"scatter\"}],                        {\"template\":{\"data\":{\"bar\":[{\"error_x\":{\"color\":\"#2a3f5f\"},\"error_y\":{\"color\":\"#2a3f5f\"},\"marker\":{\"line\":{\"color\":\"#E5ECF6\",\"width\":0.5},\"pattern\":{\"fillmode\":\"overlay\",\"size\":10,\"solidity\":0.2}},\"type\":\"bar\"}],\"barpolar\":[{\"marker\":{\"line\":{\"color\":\"#E5ECF6\",\"width\":0.5},\"pattern\":{\"fillmode\":\"overlay\",\"size\":10,\"solidity\":0.2}},\"type\":\"barpolar\"}],\"carpet\":[{\"aaxis\":{\"endlinecolor\":\"#2a3f5f\",\"gridcolor\":\"white\",\"linecolor\":\"white\",\"minorgridcolor\":\"white\",\"startlinecolor\":\"#2a3f5f\"},\"baxis\":{\"endlinecolor\":\"#2a3f5f\",\"gridcolor\":\"white\",\"linecolor\":\"white\",\"minorgridcolor\":\"white\",\"startlinecolor\":\"#2a3f5f\"},\"type\":\"carpet\"}],\"choropleth\":[{\"colorbar\":{\"outlinewidth\":0,\"ticks\":\"\"},\"type\":\"choropleth\"}],\"contour\":[{\"colorbar\":{\"outlinewidth\":0,\"ticks\":\"\"},\"colorscale\":[[0.0,\"#0d0887\"],[0.1111111111111111,\"#46039f\"],[0.2222222222222222,\"#7201a8\"],[0.3333333333333333,\"#9c179e\"],[0.4444444444444444,\"#bd3786\"],[0.5555555555555556,\"#d8576b\"],[0.6666666666666666,\"#ed7953\"],[0.7777777777777778,\"#fb9f3a\"],[0.8888888888888888,\"#fdca26\"],[1.0,\"#f0f921\"]],\"type\":\"contour\"}],\"contourcarpet\":[{\"colorbar\":{\"outlinewidth\":0,\"ticks\":\"\"},\"type\":\"contourcarpet\"}],\"heatmap\":[{\"colorbar\":{\"outlinewidth\":0,\"ticks\":\"\"},\"colorscale\":[[0.0,\"#0d0887\"],[0.1111111111111111,\"#46039f\"],[0.2222222222222222,\"#7201a8\"],[0.3333333333333333,\"#9c179e\"],[0.4444444444444444,\"#bd3786\"],[0.5555555555555556,\"#d8576b\"],[0.6666666666666666,\"#ed7953\"],[0.7777777777777778,\"#fb9f3a\"],[0.8888888888888888,\"#fdca26\"],[1.0,\"#f0f921\"]],\"type\":\"heatmap\"}],\"heatmapgl\":[{\"colorbar\":{\"outlinewidth\":0,\"ticks\":\"\"},\"colorscale\":[[0.0,\"#0d0887\"],[0.1111111111111111,\"#46039f\"],[0.2222222222222222,\"#7201a8\"],[0.3333333333333333,\"#9c179e\"],[0.4444444444444444,\"#bd3786\"],[0.5555555555555556,\"#d8576b\"],[0.6666666666666666,\"#ed7953\"],[0.7777777777777778,\"#fb9f3a\"],[0.8888888888888888,\"#fdca26\"],[1.0,\"#f0f921\"]],\"type\":\"heatmapgl\"}],\"histogram\":[{\"marker\":{\"pattern\":{\"fillmode\":\"overlay\",\"size\":10,\"solidity\":0.2}},\"type\":\"histogram\"}],\"histogram2d\":[{\"colorbar\":{\"outlinewidth\":0,\"ticks\":\"\"},\"colorscale\":[[0.0,\"#0d0887\"],[0.1111111111111111,\"#46039f\"],[0.2222222222222222,\"#7201a8\"],[0.3333333333333333,\"#9c179e\"],[0.4444444444444444,\"#bd3786\"],[0.5555555555555556,\"#d8576b\"],[0.6666666666666666,\"#ed7953\"],[0.7777777777777778,\"#fb9f3a\"],[0.8888888888888888,\"#fdca26\"],[1.0,\"#f0f921\"]],\"type\":\"histogram2d\"}],\"histogram2dcontour\":[{\"colorbar\":{\"outlinewidth\":0,\"ticks\":\"\"},\"colorscale\":[[0.0,\"#0d0887\"],[0.1111111111111111,\"#46039f\"],[0.2222222222222222,\"#7201a8\"],[0.3333333333333333,\"#9c179e\"],[0.4444444444444444,\"#bd3786\"],[0.5555555555555556,\"#d8576b\"],[0.6666666666666666,\"#ed7953\"],[0.7777777777777778,\"#fb9f3a\"],[0.8888888888888888,\"#fdca26\"],[1.0,\"#f0f921\"]],\"type\":\"histogram2dcontour\"}],\"mesh3d\":[{\"colorbar\":{\"outlinewidth\":0,\"ticks\":\"\"},\"type\":\"mesh3d\"}],\"parcoords\":[{\"line\":{\"colorbar\":{\"outlinewidth\":0,\"ticks\":\"\"}},\"type\":\"parcoords\"}],\"pie\":[{\"automargin\":true,\"type\":\"pie\"}],\"scatter\":[{\"marker\":{\"colorbar\":{\"outlinewidth\":0,\"ticks\":\"\"}},\"type\":\"scatter\"}],\"scatter3d\":[{\"line\":{\"colorbar\":{\"outlinewidth\":0,\"ticks\":\"\"}},\"marker\":{\"colorbar\":{\"outlinewidth\":0,\"ticks\":\"\"}},\"type\":\"scatter3d\"}],\"scattercarpet\":[{\"marker\":{\"colorbar\":{\"outlinewidth\":0,\"ticks\":\"\"}},\"type\":\"scattercarpet\"}],\"scattergeo\":[{\"marker\":{\"colorbar\":{\"outlinewidth\":0,\"ticks\":\"\"}},\"type\":\"scattergeo\"}],\"scattergl\":[{\"marker\":{\"colorbar\":{\"outlinewidth\":0,\"ticks\":\"\"}},\"type\":\"scattergl\"}],\"scattermapbox\":[{\"marker\":{\"colorbar\":{\"outlinewidth\":0,\"ticks\":\"\"}},\"type\":\"scattermapbox\"}],\"scatterpolar\":[{\"marker\":{\"colorbar\":{\"outlinewidth\":0,\"ticks\":\"\"}},\"type\":\"scatterpolar\"}],\"scatterpolargl\":[{\"marker\":{\"colorbar\":{\"outlinewidth\":0,\"ticks\":\"\"}},\"type\":\"scatterpolargl\"}],\"scatterternary\":[{\"marker\":{\"colorbar\":{\"outlinewidth\":0,\"ticks\":\"\"}},\"type\":\"scatterternary\"}],\"surface\":[{\"colorbar\":{\"outlinewidth\":0,\"ticks\":\"\"},\"colorscale\":[[0.0,\"#0d0887\"],[0.1111111111111111,\"#46039f\"],[0.2222222222222222,\"#7201a8\"],[0.3333333333333333,\"#9c179e\"],[0.4444444444444444,\"#bd3786\"],[0.5555555555555556,\"#d8576b\"],[0.6666666666666666,\"#ed7953\"],[0.7777777777777778,\"#fb9f3a\"],[0.8888888888888888,\"#fdca26\"],[1.0,\"#f0f921\"]],\"type\":\"surface\"}],\"table\":[{\"cells\":{\"fill\":{\"color\":\"#EBF0F8\"},\"line\":{\"color\":\"white\"}},\"header\":{\"fill\":{\"color\":\"#C8D4E3\"},\"line\":{\"color\":\"white\"}},\"type\":\"table\"}]},\"layout\":{\"annotationdefaults\":{\"arrowcolor\":\"#2a3f5f\",\"arrowhead\":0,\"arrowwidth\":1},\"autotypenumbers\":\"strict\",\"coloraxis\":{\"colorbar\":{\"outlinewidth\":0,\"ticks\":\"\"}},\"colorscale\":{\"diverging\":[[0,\"#8e0152\"],[0.1,\"#c51b7d\"],[0.2,\"#de77ae\"],[0.3,\"#f1b6da\"],[0.4,\"#fde0ef\"],[0.5,\"#f7f7f7\"],[0.6,\"#e6f5d0\"],[0.7,\"#b8e186\"],[0.8,\"#7fbc41\"],[0.9,\"#4d9221\"],[1,\"#276419\"]],\"sequential\":[[0.0,\"#0d0887\"],[0.1111111111111111,\"#46039f\"],[0.2222222222222222,\"#7201a8\"],[0.3333333333333333,\"#9c179e\"],[0.4444444444444444,\"#bd3786\"],[0.5555555555555556,\"#d8576b\"],[0.6666666666666666,\"#ed7953\"],[0.7777777777777778,\"#fb9f3a\"],[0.8888888888888888,\"#fdca26\"],[1.0,\"#f0f921\"]],\"sequentialminus\":[[0.0,\"#0d0887\"],[0.1111111111111111,\"#46039f\"],[0.2222222222222222,\"#7201a8\"],[0.3333333333333333,\"#9c179e\"],[0.4444444444444444,\"#bd3786\"],[0.5555555555555556,\"#d8576b\"],[0.6666666666666666,\"#ed7953\"],[0.7777777777777778,\"#fb9f3a\"],[0.8888888888888888,\"#fdca26\"],[1.0,\"#f0f921\"]]},\"colorway\":[\"#636efa\",\"#EF553B\",\"#00cc96\",\"#ab63fa\",\"#FFA15A\",\"#19d3f3\",\"#FF6692\",\"#B6E880\",\"#FF97FF\",\"#FECB52\"],\"font\":{\"color\":\"#2a3f5f\"},\"geo\":{\"bgcolor\":\"white\",\"lakecolor\":\"white\",\"landcolor\":\"#E5ECF6\",\"showlakes\":true,\"showland\":true,\"subunitcolor\":\"white\"},\"hoverlabel\":{\"align\":\"left\"},\"hovermode\":\"closest\",\"mapbox\":{\"style\":\"light\"},\"paper_bgcolor\":\"white\",\"plot_bgcolor\":\"#E5ECF6\",\"polar\":{\"angularaxis\":{\"gridcolor\":\"white\",\"linecolor\":\"white\",\"ticks\":\"\"},\"bgcolor\":\"#E5ECF6\",\"radialaxis\":{\"gridcolor\":\"white\",\"linecolor\":\"white\",\"ticks\":\"\"}},\"scene\":{\"xaxis\":{\"backgroundcolor\":\"#E5ECF6\",\"gridcolor\":\"white\",\"gridwidth\":2,\"linecolor\":\"white\",\"showbackground\":true,\"ticks\":\"\",\"zerolinecolor\":\"white\"},\"yaxis\":{\"backgroundcolor\":\"#E5ECF6\",\"gridcolor\":\"white\",\"gridwidth\":2,\"linecolor\":\"white\",\"showbackground\":true,\"ticks\":\"\",\"zerolinecolor\":\"white\"},\"zaxis\":{\"backgroundcolor\":\"#E5ECF6\",\"gridcolor\":\"white\",\"gridwidth\":2,\"linecolor\":\"white\",\"showbackground\":true,\"ticks\":\"\",\"zerolinecolor\":\"white\"}},\"shapedefaults\":{\"line\":{\"color\":\"#2a3f5f\"}},\"ternary\":{\"aaxis\":{\"gridcolor\":\"white\",\"linecolor\":\"white\",\"ticks\":\"\"},\"baxis\":{\"gridcolor\":\"white\",\"linecolor\":\"white\",\"ticks\":\"\"},\"bgcolor\":\"#E5ECF6\",\"caxis\":{\"gridcolor\":\"white\",\"linecolor\":\"white\",\"ticks\":\"\"}},\"title\":{\"x\":0.05},\"xaxis\":{\"automargin\":true,\"gridcolor\":\"white\",\"linecolor\":\"white\",\"ticks\":\"\",\"title\":{\"standoff\":15},\"zerolinecolor\":\"white\",\"zerolinewidth\":2},\"yaxis\":{\"automargin\":true,\"gridcolor\":\"white\",\"linecolor\":\"white\",\"ticks\":\"\",\"title\":{\"standoff\":15},\"zerolinecolor\":\"white\",\"zerolinewidth\":2}}},\"title\":{\"text\":\"NORMALIZED DNN MODEL RESULTS SORTED\",\"x\":0.5}},                        {\"responsive\": true}                    ).then(function(){\n",
              "                            \n",
              "var gd = document.getElementById('69efe62b-2827-4e24-a0fd-fe88335af172');\n",
              "var x = new MutationObserver(function (mutations, observer) {{\n",
              "        var display = window.getComputedStyle(gd).display;\n",
              "        if (!display || display === 'none') {{\n",
              "            console.log([gd, 'removed!']);\n",
              "            Plotly.purge(gd);\n",
              "            observer.disconnect();\n",
              "        }}\n",
              "}});\n",
              "\n",
              "// Listen for the removal of the full notebook cells\n",
              "var notebookContainer = gd.closest('#notebook-container');\n",
              "if (notebookContainer) {{\n",
              "    x.observe(notebookContainer, {childList: true});\n",
              "}}\n",
              "\n",
              "// Listen for the clearing of the current output cell\n",
              "var outputEl = gd.closest('.output');\n",
              "if (outputEl) {{\n",
              "    x.observe(outputEl, {childList: true});\n",
              "}}\n",
              "\n",
              "                        })                };                            </script>        </div>\n",
              "</body>\n",
              "</html>"
            ]
          },
          "metadata": {}
        }
      ]
    },
    {
      "cell_type": "code",
      "source": [
        "idx   = np.argsort(y_test_UN)\n",
        "y_predict_dnn_UN = y_predict_dnn_UN.reshape(y_predict_dnn_UN.shape[0],)\n",
        "list1 = np.array(y_test_UN)[idx]\n",
        "list2 = np.array(y_predict_dnn_UN)[idx]\n",
        "fig = go.Figure()\n",
        "fig.add_trace(go.Scatter(y=list1, name=\"y_test_UN\", line_shape='linear'))\n",
        "fig.add_trace(go.Scatter(y=list2, name=\"y_predict_dnn_UN\", line_shape='linear'))\n",
        "fig.update_layout(title_text='UNNORMALIZED DNN MODEL RESULTS SORTED', title_x=0.5)\n",
        "fig.show()"
      ],
      "metadata": {
        "colab": {
          "base_uri": "https://localhost:8080/",
          "height": 542
        },
        "outputId": "a3aac771-65d2-4cd8-ab9c-8b7e0d5f3572",
        "id": "pyMNwNwSYgSh"
      },
      "execution_count": null,
      "outputs": [
        {
          "output_type": "display_data",
          "data": {
            "text/html": [
              "<html>\n",
              "<head><meta charset=\"utf-8\" /></head>\n",
              "<body>\n",
              "    <div>            <script src=\"https://cdnjs.cloudflare.com/ajax/libs/mathjax/2.7.5/MathJax.js?config=TeX-AMS-MML_SVG\"></script><script type=\"text/javascript\">if (window.MathJax) {MathJax.Hub.Config({SVG: {font: \"STIX-Web\"}});}</script>                <script type=\"text/javascript\">window.PlotlyConfig = {MathJaxConfig: 'local'};</script>\n",
              "        <script src=\"https://cdn.plot.ly/plotly-2.8.3.min.js\"></script>                <div id=\"550a165d-6abe-4eb9-af4b-2aafcad4fde6\" class=\"plotly-graph-div\" style=\"height:525px; width:100%;\"></div>            <script type=\"text/javascript\">                                    window.PLOTLYENV=window.PLOTLYENV || {};                                    if (document.getElementById(\"550a165d-6abe-4eb9-af4b-2aafcad4fde6\")) {                    Plotly.newPlot(                        \"550a165d-6abe-4eb9-af4b-2aafcad4fde6\",                        [{\"line\":{\"shape\":\"linear\"},\"name\":\"y_test_UN\",\"y\":[1.0,1.0,1.69,1.9,2.0,2.09,2.1,2.2,2.26,2.3,2.5,2.5,2.51,2.57,2.6,2.6,2.69,2.7,2.7,2.7,2.75,2.78,2.8,2.8,2.8,2.83,2.83,2.88,2.9,2.9,2.9,2.95,2.97,2.995,3.0,3.0,3.0,3.0,3.0,3.0,3.01,3.03,3.05,3.06,3.1,3.1,3.1,3.13,3.2,3.2,3.2,3.2,3.2,3.2,3.2,3.2,3.2,3.2,3.2,3.2,3.2,3.2,3.2,3.2,3.24,3.25,3.27,3.28,3.29,3.3,3.3,3.3,3.3,3.3,3.3,3.3,3.3,3.33,3.34,3.36,3.37,3.4,3.4,3.4,3.4,3.4,3.4,3.4,3.4,3.4,3.4,3.4,3.4,3.4,3.4,3.4,3.41,3.42,3.44,3.44,3.45,3.47,3.48,3.49,3.5,3.5,3.5,3.5,3.5,3.5,3.5,3.5,3.5,3.5,3.5,3.5,3.5,3.51,3.51,3.54,3.56,3.57,3.57,3.58,3.58,3.59,3.6,3.6,3.6,3.6,3.6,3.6,3.6,3.6,3.6,3.6,3.6,3.64,3.64,3.64,3.66,3.66,3.66,3.67,3.69,3.7,3.7,3.7,3.7,3.7,3.7,3.7,3.7,3.7,3.7,3.7,3.7,3.7,3.71,3.71,3.71,3.71,3.72,3.72,3.75,3.76,3.76,3.76,3.77,3.77,3.77,3.77,3.78,3.78,3.79,3.8,3.8,3.8,3.8,3.8,3.8,3.8,3.8,3.8,3.8,3.8,3.8,3.8,3.8,3.8,3.85,3.88,3.89,3.89,3.9,3.9,3.9,3.9,3.9,3.9,3.9,3.9,3.9,3.91,3.91,3.912,3.92,3.92,3.92,3.93,3.93,3.94,3.95,3.95,3.95,3.96,3.97,3.97,4.0,4.0,4.0,4.0,4.0,4.0,4.0,4.0,4.0,4.0,4.0,4.0,4.0,4.0,4.0,4.0,4.0,4.0,4.0,4.0,4.0,4.0,4.0,4.0,4.0,4.0,4.0,4.0,4.0,4.0,4.0,4.0,4.0,4.0,4.0,4.0,4.0,4.0,4.0,4.0,4.0],\"type\":\"scatter\"},{\"line\":{\"shape\":\"linear\"},\"name\":\"y_predict_dnn_UN\",\"y\":[2.311289072036743,3.4197146892547607,3.893221855163574,3.0408458709716797,3.012350559234619,3.3897693157196045,3.1121459007263184,3.7429122924804688,3.1659984588623047,3.4827826023101807,3.124466896057129,3.2126717567443848,3.4480438232421875,3.3537185192108154,3.4736342430114746,3.7197604179382324,3.0162205696105957,3.361581563949585,3.597842216491699,3.465731382369995,3.433824062347412,3.7826576232910156,3.2848753929138184,3.389176368713379,3.0156540870666504,3.750826835632324,3.5069503784179688,3.568784713745117,2.9875338077545166,3.2231154441833496,2.3036770820617676,3.745696783065796,3.645798683166504,3.091017961502075,2.9357337951660156,3.486292600631714,3.375483512878418,3.143444776535034,3.3572542667388916,3.3529610633850098,3.3504817485809326,3.3856542110443115,4.26801061630249,3.7393980026245117,3.167863368988037,4.064371585845947,3.6083569526672363,3.803830146789551,3.4568536281585693,3.465137004852295,3.633699417114258,3.4609506130218506,3.533298969268799,3.665358066558838,3.9678452014923096,3.6763947010040283,3.4334418773651123,3.26755952835083,3.7574665546417236,3.5114779472351074,3.389798641204834,3.6622314453125,3.4174022674560547,3.811998128890991,3.893089771270752,3.209104061126709,4.072780132293701,3.3658719062805176,3.747222423553467,2.9819140434265137,3.4565675258636475,3.664170503616333,3.541538715362549,3.5218727588653564,3.3518102169036865,3.782750129699707,3.0538220405578613,3.343661069869995,3.555701971054077,3.3626437187194824,3.259641170501709,3.1589808464050293,3.524359703063965,3.776927947998047,3.651718854904175,3.4357688426971436,3.6110644340515137,3.414391279220581,3.5545899868011475,2.799588203430176,2.517911195755005,3.341897487640381,3.761003017425537,4.023073196411133,3.2710306644439697,3.1000287532806396,3.483398199081421,3.6271889209747314,3.413386821746826,3.793139934539795,3.5332765579223633,3.6181352138519287,4.24506950378418,3.478473663330078,3.949047565460205,3.5483222007751465,3.3277902603149414,3.305966377258301,3.46466064453125,3.3762893676757812,3.662109613418579,3.0759878158569336,3.250192880630493,3.6146249771118164,3.615217685699463,3.524510383605957,3.8531603813171387,3.6792585849761963,3.6518516540527344,3.5696845054626465,3.971147060394287,3.924893856048584,3.5516695976257324,3.9182703495025635,3.5307059288024902,3.199457883834839,3.6286849975585938,3.530972957611084,3.6459290981292725,3.3124518394470215,3.439267635345459,3.4361305236816406,4.094300270080566,3.774388313293457,3.747147798538208,3.7154951095581055,3.5771872997283936,3.4711546897888184,3.175192356109619,3.805136203765869,3.6114258766174316,3.1950531005859375,3.6525635719299316,3.4834132194519043,3.792250633239746,3.8550710678100586,3.658810615539551,3.647366523742676,3.8114938735961914,3.455458879470825,3.7507853507995605,4.075776100158691,3.298112630844116,3.542590379714966,3.329667568206787,3.5045325756073,3.6518383026123047,3.4689431190490723,3.5219955444335938,3.8473944664001465,3.908820152282715,3.835636615753174,3.6035354137420654,3.7676286697387695,3.8525547981262207,3.385073184967041,3.8284249305725098,3.6412606239318848,3.80997371673584,3.8685989379882812,3.951958179473877,3.750443935394287,3.3373045921325684,3.7596395015716553,4.004199504852295,3.98909854888916,3.4244725704193115,3.6808857917785645,3.792423963546753,3.9111907482147217,4.099137306213379,3.5739901065826416,3.736532688140869,3.627397298812866,3.2707276344299316,3.5577499866485596,3.461120843887329,4.218268394470215,3.400906562805176,3.8137900829315186,4.0420732498168945,3.1366171836853027,3.583238363265991,4.119114875793457,4.122289657592773,4.074298858642578,3.732398748397827,3.6751270294189453,3.7533652782440186,3.532896041870117,3.6840081214904785,3.6726698875427246,3.7606348991394043,3.362682342529297,3.7195966243743896,3.6667652130126953,4.109559059143066,3.4333174228668213,3.4112136363983154,3.1038596630096436,3.4116876125335693,3.5055575370788574,3.7333693504333496,3.1366195678710938,4.010828971862793,4.145885467529297,3.869263172149658,3.781233549118042,3.6352362632751465,3.6959481239318848,3.94075345993042,3.115413188934326,3.4194116592407227,3.961296796798706,3.329033851623535,3.8173298835754395,3.5901992321014404,3.3887038230895996,3.350609540939331,3.817471742630005,3.782369613647461,3.3861658573150635,4.1666460037231445,3.6740591526031494,3.652026414871216,3.231175661087036,3.404841184616089,3.7997660636901855,3.6394848823547363,3.468644618988037,3.7916839122772217,3.99356746673584,3.5591025352478027,3.4500815868377686,3.7960383892059326,3.4512557983398438,3.679039716720581,3.4412519931793213,3.8138437271118164,4.195947170257568,4.007960319519043,3.6658287048339844,3.601121425628662,3.6417508125305176,3.8816535472869873,3.8387718200683594,3.83428692817688,4.231937885284424,3.851839303970337],\"type\":\"scatter\"}],                        {\"template\":{\"data\":{\"bar\":[{\"error_x\":{\"color\":\"#2a3f5f\"},\"error_y\":{\"color\":\"#2a3f5f\"},\"marker\":{\"line\":{\"color\":\"#E5ECF6\",\"width\":0.5},\"pattern\":{\"fillmode\":\"overlay\",\"size\":10,\"solidity\":0.2}},\"type\":\"bar\"}],\"barpolar\":[{\"marker\":{\"line\":{\"color\":\"#E5ECF6\",\"width\":0.5},\"pattern\":{\"fillmode\":\"overlay\",\"size\":10,\"solidity\":0.2}},\"type\":\"barpolar\"}],\"carpet\":[{\"aaxis\":{\"endlinecolor\":\"#2a3f5f\",\"gridcolor\":\"white\",\"linecolor\":\"white\",\"minorgridcolor\":\"white\",\"startlinecolor\":\"#2a3f5f\"},\"baxis\":{\"endlinecolor\":\"#2a3f5f\",\"gridcolor\":\"white\",\"linecolor\":\"white\",\"minorgridcolor\":\"white\",\"startlinecolor\":\"#2a3f5f\"},\"type\":\"carpet\"}],\"choropleth\":[{\"colorbar\":{\"outlinewidth\":0,\"ticks\":\"\"},\"type\":\"choropleth\"}],\"contour\":[{\"colorbar\":{\"outlinewidth\":0,\"ticks\":\"\"},\"colorscale\":[[0.0,\"#0d0887\"],[0.1111111111111111,\"#46039f\"],[0.2222222222222222,\"#7201a8\"],[0.3333333333333333,\"#9c179e\"],[0.4444444444444444,\"#bd3786\"],[0.5555555555555556,\"#d8576b\"],[0.6666666666666666,\"#ed7953\"],[0.7777777777777778,\"#fb9f3a\"],[0.8888888888888888,\"#fdca26\"],[1.0,\"#f0f921\"]],\"type\":\"contour\"}],\"contourcarpet\":[{\"colorbar\":{\"outlinewidth\":0,\"ticks\":\"\"},\"type\":\"contourcarpet\"}],\"heatmap\":[{\"colorbar\":{\"outlinewidth\":0,\"ticks\":\"\"},\"colorscale\":[[0.0,\"#0d0887\"],[0.1111111111111111,\"#46039f\"],[0.2222222222222222,\"#7201a8\"],[0.3333333333333333,\"#9c179e\"],[0.4444444444444444,\"#bd3786\"],[0.5555555555555556,\"#d8576b\"],[0.6666666666666666,\"#ed7953\"],[0.7777777777777778,\"#fb9f3a\"],[0.8888888888888888,\"#fdca26\"],[1.0,\"#f0f921\"]],\"type\":\"heatmap\"}],\"heatmapgl\":[{\"colorbar\":{\"outlinewidth\":0,\"ticks\":\"\"},\"colorscale\":[[0.0,\"#0d0887\"],[0.1111111111111111,\"#46039f\"],[0.2222222222222222,\"#7201a8\"],[0.3333333333333333,\"#9c179e\"],[0.4444444444444444,\"#bd3786\"],[0.5555555555555556,\"#d8576b\"],[0.6666666666666666,\"#ed7953\"],[0.7777777777777778,\"#fb9f3a\"],[0.8888888888888888,\"#fdca26\"],[1.0,\"#f0f921\"]],\"type\":\"heatmapgl\"}],\"histogram\":[{\"marker\":{\"pattern\":{\"fillmode\":\"overlay\",\"size\":10,\"solidity\":0.2}},\"type\":\"histogram\"}],\"histogram2d\":[{\"colorbar\":{\"outlinewidth\":0,\"ticks\":\"\"},\"colorscale\":[[0.0,\"#0d0887\"],[0.1111111111111111,\"#46039f\"],[0.2222222222222222,\"#7201a8\"],[0.3333333333333333,\"#9c179e\"],[0.4444444444444444,\"#bd3786\"],[0.5555555555555556,\"#d8576b\"],[0.6666666666666666,\"#ed7953\"],[0.7777777777777778,\"#fb9f3a\"],[0.8888888888888888,\"#fdca26\"],[1.0,\"#f0f921\"]],\"type\":\"histogram2d\"}],\"histogram2dcontour\":[{\"colorbar\":{\"outlinewidth\":0,\"ticks\":\"\"},\"colorscale\":[[0.0,\"#0d0887\"],[0.1111111111111111,\"#46039f\"],[0.2222222222222222,\"#7201a8\"],[0.3333333333333333,\"#9c179e\"],[0.4444444444444444,\"#bd3786\"],[0.5555555555555556,\"#d8576b\"],[0.6666666666666666,\"#ed7953\"],[0.7777777777777778,\"#fb9f3a\"],[0.8888888888888888,\"#fdca26\"],[1.0,\"#f0f921\"]],\"type\":\"histogram2dcontour\"}],\"mesh3d\":[{\"colorbar\":{\"outlinewidth\":0,\"ticks\":\"\"},\"type\":\"mesh3d\"}],\"parcoords\":[{\"line\":{\"colorbar\":{\"outlinewidth\":0,\"ticks\":\"\"}},\"type\":\"parcoords\"}],\"pie\":[{\"automargin\":true,\"type\":\"pie\"}],\"scatter\":[{\"marker\":{\"colorbar\":{\"outlinewidth\":0,\"ticks\":\"\"}},\"type\":\"scatter\"}],\"scatter3d\":[{\"line\":{\"colorbar\":{\"outlinewidth\":0,\"ticks\":\"\"}},\"marker\":{\"colorbar\":{\"outlinewidth\":0,\"ticks\":\"\"}},\"type\":\"scatter3d\"}],\"scattercarpet\":[{\"marker\":{\"colorbar\":{\"outlinewidth\":0,\"ticks\":\"\"}},\"type\":\"scattercarpet\"}],\"scattergeo\":[{\"marker\":{\"colorbar\":{\"outlinewidth\":0,\"ticks\":\"\"}},\"type\":\"scattergeo\"}],\"scattergl\":[{\"marker\":{\"colorbar\":{\"outlinewidth\":0,\"ticks\":\"\"}},\"type\":\"scattergl\"}],\"scattermapbox\":[{\"marker\":{\"colorbar\":{\"outlinewidth\":0,\"ticks\":\"\"}},\"type\":\"scattermapbox\"}],\"scatterpolar\":[{\"marker\":{\"colorbar\":{\"outlinewidth\":0,\"ticks\":\"\"}},\"type\":\"scatterpolar\"}],\"scatterpolargl\":[{\"marker\":{\"colorbar\":{\"outlinewidth\":0,\"ticks\":\"\"}},\"type\":\"scatterpolargl\"}],\"scatterternary\":[{\"marker\":{\"colorbar\":{\"outlinewidth\":0,\"ticks\":\"\"}},\"type\":\"scatterternary\"}],\"surface\":[{\"colorbar\":{\"outlinewidth\":0,\"ticks\":\"\"},\"colorscale\":[[0.0,\"#0d0887\"],[0.1111111111111111,\"#46039f\"],[0.2222222222222222,\"#7201a8\"],[0.3333333333333333,\"#9c179e\"],[0.4444444444444444,\"#bd3786\"],[0.5555555555555556,\"#d8576b\"],[0.6666666666666666,\"#ed7953\"],[0.7777777777777778,\"#fb9f3a\"],[0.8888888888888888,\"#fdca26\"],[1.0,\"#f0f921\"]],\"type\":\"surface\"}],\"table\":[{\"cells\":{\"fill\":{\"color\":\"#EBF0F8\"},\"line\":{\"color\":\"white\"}},\"header\":{\"fill\":{\"color\":\"#C8D4E3\"},\"line\":{\"color\":\"white\"}},\"type\":\"table\"}]},\"layout\":{\"annotationdefaults\":{\"arrowcolor\":\"#2a3f5f\",\"arrowhead\":0,\"arrowwidth\":1},\"autotypenumbers\":\"strict\",\"coloraxis\":{\"colorbar\":{\"outlinewidth\":0,\"ticks\":\"\"}},\"colorscale\":{\"diverging\":[[0,\"#8e0152\"],[0.1,\"#c51b7d\"],[0.2,\"#de77ae\"],[0.3,\"#f1b6da\"],[0.4,\"#fde0ef\"],[0.5,\"#f7f7f7\"],[0.6,\"#e6f5d0\"],[0.7,\"#b8e186\"],[0.8,\"#7fbc41\"],[0.9,\"#4d9221\"],[1,\"#276419\"]],\"sequential\":[[0.0,\"#0d0887\"],[0.1111111111111111,\"#46039f\"],[0.2222222222222222,\"#7201a8\"],[0.3333333333333333,\"#9c179e\"],[0.4444444444444444,\"#bd3786\"],[0.5555555555555556,\"#d8576b\"],[0.6666666666666666,\"#ed7953\"],[0.7777777777777778,\"#fb9f3a\"],[0.8888888888888888,\"#fdca26\"],[1.0,\"#f0f921\"]],\"sequentialminus\":[[0.0,\"#0d0887\"],[0.1111111111111111,\"#46039f\"],[0.2222222222222222,\"#7201a8\"],[0.3333333333333333,\"#9c179e\"],[0.4444444444444444,\"#bd3786\"],[0.5555555555555556,\"#d8576b\"],[0.6666666666666666,\"#ed7953\"],[0.7777777777777778,\"#fb9f3a\"],[0.8888888888888888,\"#fdca26\"],[1.0,\"#f0f921\"]]},\"colorway\":[\"#636efa\",\"#EF553B\",\"#00cc96\",\"#ab63fa\",\"#FFA15A\",\"#19d3f3\",\"#FF6692\",\"#B6E880\",\"#FF97FF\",\"#FECB52\"],\"font\":{\"color\":\"#2a3f5f\"},\"geo\":{\"bgcolor\":\"white\",\"lakecolor\":\"white\",\"landcolor\":\"#E5ECF6\",\"showlakes\":true,\"showland\":true,\"subunitcolor\":\"white\"},\"hoverlabel\":{\"align\":\"left\"},\"hovermode\":\"closest\",\"mapbox\":{\"style\":\"light\"},\"paper_bgcolor\":\"white\",\"plot_bgcolor\":\"#E5ECF6\",\"polar\":{\"angularaxis\":{\"gridcolor\":\"white\",\"linecolor\":\"white\",\"ticks\":\"\"},\"bgcolor\":\"#E5ECF6\",\"radialaxis\":{\"gridcolor\":\"white\",\"linecolor\":\"white\",\"ticks\":\"\"}},\"scene\":{\"xaxis\":{\"backgroundcolor\":\"#E5ECF6\",\"gridcolor\":\"white\",\"gridwidth\":2,\"linecolor\":\"white\",\"showbackground\":true,\"ticks\":\"\",\"zerolinecolor\":\"white\"},\"yaxis\":{\"backgroundcolor\":\"#E5ECF6\",\"gridcolor\":\"white\",\"gridwidth\":2,\"linecolor\":\"white\",\"showbackground\":true,\"ticks\":\"\",\"zerolinecolor\":\"white\"},\"zaxis\":{\"backgroundcolor\":\"#E5ECF6\",\"gridcolor\":\"white\",\"gridwidth\":2,\"linecolor\":\"white\",\"showbackground\":true,\"ticks\":\"\",\"zerolinecolor\":\"white\"}},\"shapedefaults\":{\"line\":{\"color\":\"#2a3f5f\"}},\"ternary\":{\"aaxis\":{\"gridcolor\":\"white\",\"linecolor\":\"white\",\"ticks\":\"\"},\"baxis\":{\"gridcolor\":\"white\",\"linecolor\":\"white\",\"ticks\":\"\"},\"bgcolor\":\"#E5ECF6\",\"caxis\":{\"gridcolor\":\"white\",\"linecolor\":\"white\",\"ticks\":\"\"}},\"title\":{\"x\":0.05},\"xaxis\":{\"automargin\":true,\"gridcolor\":\"white\",\"linecolor\":\"white\",\"ticks\":\"\",\"title\":{\"standoff\":15},\"zerolinecolor\":\"white\",\"zerolinewidth\":2},\"yaxis\":{\"automargin\":true,\"gridcolor\":\"white\",\"linecolor\":\"white\",\"ticks\":\"\",\"title\":{\"standoff\":15},\"zerolinecolor\":\"white\",\"zerolinewidth\":2}}},\"title\":{\"text\":\"UNNORMALIZED DNN MODEL RESULTS SORTED\",\"x\":0.5}},                        {\"responsive\": true}                    ).then(function(){\n",
              "                            \n",
              "var gd = document.getElementById('550a165d-6abe-4eb9-af4b-2aafcad4fde6');\n",
              "var x = new MutationObserver(function (mutations, observer) {{\n",
              "        var display = window.getComputedStyle(gd).display;\n",
              "        if (!display || display === 'none') {{\n",
              "            console.log([gd, 'removed!']);\n",
              "            Plotly.purge(gd);\n",
              "            observer.disconnect();\n",
              "        }}\n",
              "}});\n",
              "\n",
              "// Listen for the removal of the full notebook cells\n",
              "var notebookContainer = gd.closest('#notebook-container');\n",
              "if (notebookContainer) {{\n",
              "    x.observe(notebookContainer, {childList: true});\n",
              "}}\n",
              "\n",
              "// Listen for the clearing of the current output cell\n",
              "var outputEl = gd.closest('.output');\n",
              "if (outputEl) {{\n",
              "    x.observe(outputEl, {childList: true});\n",
              "}}\n",
              "\n",
              "                        })                };                            </script>        </div>\n",
              "</body>\n",
              "</html>"
            ]
          },
          "metadata": {}
        }
      ]
    },
    {
      "cell_type": "code",
      "source": [
        "# MSE when Unnormalized, GPA MSE over GPA scores 0-4.0 \n",
        "mean_squared_error(y_test_UN, y_predict_dnn_UN)"
      ],
      "metadata": {
        "colab": {
          "base_uri": "https://localhost:8080/"
        },
        "outputId": "25d35137-1262-49be-b757-94b7f5ad88a5",
        "id": "dG2Sfz1fYgSh"
      },
      "execution_count": null,
      "outputs": [
        {
          "output_type": "execute_result",
          "data": {
            "text/plain": [
              "0.23750288132708822"
            ]
          },
          "metadata": {},
          "execution_count": 43
        }
      ]
    },
    {
      "cell_type": "markdown",
      "source": [
        "**KNN STARTS HERE**"
      ],
      "metadata": {
        "id": "NK8JuFbW6LzF"
      }
    },
    {
      "cell_type": "code",
      "source": [
        "from sklearn.cluster import KMeans\n",
        "from sklearn.metrics import silhouette_score\n",
        "import sklearn.metrics"
      ],
      "metadata": {
        "id": "TizUmjWs7Hye"
      },
      "execution_count": 27,
      "outputs": []
    },
    {
      "cell_type": "code",
      "source": [
        "kmeans1 = KMeans(n_clusters = 13, init = 'k-means++', max_iter = 300, n_init = 10, random_state = 0)\n",
        "y_kmeans1 = kmeans1.fit_predict(XTrainScaled)\n",
        "score = silhouette_score(XTrainScaled, kmeans1.labels_, metric='euclidean')\n",
        "# Print the score\n",
        "print('Silhouette Score: %.3f' % score)"
      ],
      "metadata": {
        "id": "l35iUtcX6REX",
        "outputId": "364ff643-3200-42d8-cd3c-cccf8e8676f1",
        "colab": {
          "base_uri": "https://localhost:8080/"
        }
      },
      "execution_count": 33,
      "outputs": [
        {
          "output_type": "stream",
          "name": "stderr",
          "text": [
            "/usr/local/lib/python3.7/dist-packages/sklearn/utils/validation.py:1692: FutureWarning: Feature names only support names that are all strings. Got feature names with dtypes: ['int', 'str']. An error will be raised in 1.2.\n",
            "  FutureWarning,\n"
          ]
        },
        {
          "output_type": "stream",
          "name": "stdout",
          "text": [
            "Silhouette Score: 0.032\n"
          ]
        }
      ]
    },
    {
      "cell_type": "code",
      "source": [
        "from sklearn.decomposition import PCA"
      ],
      "metadata": {
        "id": "rFJiJ-ob9JMP"
      },
      "execution_count": 34,
      "outputs": []
    },
    {
      "cell_type": "code",
      "source": [
        "for i in range(68):\n",
        "  pca = PCA(n_components=i)\n",
        "  principalcomponents = pca.fit_transform(XTrainScaled)\n",
        "  var = sum(pca.explained_variance_ratio_)\n",
        "  if var >= 0.95:\n",
        "    break\n",
        "print(f'Number of component for %95 variance:', i)\n",
        "print(f'The variance is:', var)"
      ],
      "metadata": {
        "id": "zrb1FIr_9H5y",
        "outputId": "72417074-7f38-4d87-b589-6da1bd8a29e1",
        "colab": {
          "base_uri": "https://localhost:8080/"
        }
      },
      "execution_count": 35,
      "outputs": [
        {
          "output_type": "stream",
          "name": "stderr",
          "text": [
            "/usr/local/lib/python3.7/dist-packages/sklearn/utils/validation.py:1692: FutureWarning: Feature names only support names that are all strings. Got feature names with dtypes: ['int', 'str']. An error will be raised in 1.2.\n",
            "  FutureWarning,\n",
            "/usr/local/lib/python3.7/dist-packages/sklearn/utils/validation.py:1692: FutureWarning: Feature names only support names that are all strings. Got feature names with dtypes: ['int', 'str']. An error will be raised in 1.2.\n",
            "  FutureWarning,\n",
            "/usr/local/lib/python3.7/dist-packages/sklearn/utils/validation.py:1692: FutureWarning: Feature names only support names that are all strings. Got feature names with dtypes: ['int', 'str']. An error will be raised in 1.2.\n",
            "  FutureWarning,\n",
            "/usr/local/lib/python3.7/dist-packages/sklearn/utils/validation.py:1692: FutureWarning: Feature names only support names that are all strings. Got feature names with dtypes: ['int', 'str']. An error will be raised in 1.2.\n",
            "  FutureWarning,\n",
            "/usr/local/lib/python3.7/dist-packages/sklearn/utils/validation.py:1692: FutureWarning: Feature names only support names that are all strings. Got feature names with dtypes: ['int', 'str']. An error will be raised in 1.2.\n",
            "  FutureWarning,\n",
            "/usr/local/lib/python3.7/dist-packages/sklearn/utils/validation.py:1692: FutureWarning: Feature names only support names that are all strings. Got feature names with dtypes: ['int', 'str']. An error will be raised in 1.2.\n",
            "  FutureWarning,\n",
            "/usr/local/lib/python3.7/dist-packages/sklearn/utils/validation.py:1692: FutureWarning: Feature names only support names that are all strings. Got feature names with dtypes: ['int', 'str']. An error will be raised in 1.2.\n",
            "  FutureWarning,\n",
            "/usr/local/lib/python3.7/dist-packages/sklearn/utils/validation.py:1692: FutureWarning: Feature names only support names that are all strings. Got feature names with dtypes: ['int', 'str']. An error will be raised in 1.2.\n",
            "  FutureWarning,\n",
            "/usr/local/lib/python3.7/dist-packages/sklearn/utils/validation.py:1692: FutureWarning: Feature names only support names that are all strings. Got feature names with dtypes: ['int', 'str']. An error will be raised in 1.2.\n",
            "  FutureWarning,\n",
            "/usr/local/lib/python3.7/dist-packages/sklearn/utils/validation.py:1692: FutureWarning: Feature names only support names that are all strings. Got feature names with dtypes: ['int', 'str']. An error will be raised in 1.2.\n",
            "  FutureWarning,\n",
            "/usr/local/lib/python3.7/dist-packages/sklearn/utils/validation.py:1692: FutureWarning: Feature names only support names that are all strings. Got feature names with dtypes: ['int', 'str']. An error will be raised in 1.2.\n",
            "  FutureWarning,\n",
            "/usr/local/lib/python3.7/dist-packages/sklearn/utils/validation.py:1692: FutureWarning: Feature names only support names that are all strings. Got feature names with dtypes: ['int', 'str']. An error will be raised in 1.2.\n",
            "  FutureWarning,\n",
            "/usr/local/lib/python3.7/dist-packages/sklearn/utils/validation.py:1692: FutureWarning: Feature names only support names that are all strings. Got feature names with dtypes: ['int', 'str']. An error will be raised in 1.2.\n",
            "  FutureWarning,\n",
            "/usr/local/lib/python3.7/dist-packages/sklearn/utils/validation.py:1692: FutureWarning: Feature names only support names that are all strings. Got feature names with dtypes: ['int', 'str']. An error will be raised in 1.2.\n",
            "  FutureWarning,\n",
            "/usr/local/lib/python3.7/dist-packages/sklearn/utils/validation.py:1692: FutureWarning: Feature names only support names that are all strings. Got feature names with dtypes: ['int', 'str']. An error will be raised in 1.2.\n",
            "  FutureWarning,\n",
            "/usr/local/lib/python3.7/dist-packages/sklearn/utils/validation.py:1692: FutureWarning: Feature names only support names that are all strings. Got feature names with dtypes: ['int', 'str']. An error will be raised in 1.2.\n",
            "  FutureWarning,\n",
            "/usr/local/lib/python3.7/dist-packages/sklearn/utils/validation.py:1692: FutureWarning: Feature names only support names that are all strings. Got feature names with dtypes: ['int', 'str']. An error will be raised in 1.2.\n",
            "  FutureWarning,\n",
            "/usr/local/lib/python3.7/dist-packages/sklearn/utils/validation.py:1692: FutureWarning: Feature names only support names that are all strings. Got feature names with dtypes: ['int', 'str']. An error will be raised in 1.2.\n",
            "  FutureWarning,\n",
            "/usr/local/lib/python3.7/dist-packages/sklearn/utils/validation.py:1692: FutureWarning: Feature names only support names that are all strings. Got feature names with dtypes: ['int', 'str']. An error will be raised in 1.2.\n",
            "  FutureWarning,\n",
            "/usr/local/lib/python3.7/dist-packages/sklearn/utils/validation.py:1692: FutureWarning: Feature names only support names that are all strings. Got feature names with dtypes: ['int', 'str']. An error will be raised in 1.2.\n",
            "  FutureWarning,\n",
            "/usr/local/lib/python3.7/dist-packages/sklearn/utils/validation.py:1692: FutureWarning: Feature names only support names that are all strings. Got feature names with dtypes: ['int', 'str']. An error will be raised in 1.2.\n",
            "  FutureWarning,\n",
            "/usr/local/lib/python3.7/dist-packages/sklearn/utils/validation.py:1692: FutureWarning: Feature names only support names that are all strings. Got feature names with dtypes: ['int', 'str']. An error will be raised in 1.2.\n",
            "  FutureWarning,\n",
            "/usr/local/lib/python3.7/dist-packages/sklearn/utils/validation.py:1692: FutureWarning: Feature names only support names that are all strings. Got feature names with dtypes: ['int', 'str']. An error will be raised in 1.2.\n",
            "  FutureWarning,\n",
            "/usr/local/lib/python3.7/dist-packages/sklearn/utils/validation.py:1692: FutureWarning: Feature names only support names that are all strings. Got feature names with dtypes: ['int', 'str']. An error will be raised in 1.2.\n",
            "  FutureWarning,\n",
            "/usr/local/lib/python3.7/dist-packages/sklearn/utils/validation.py:1692: FutureWarning: Feature names only support names that are all strings. Got feature names with dtypes: ['int', 'str']. An error will be raised in 1.2.\n",
            "  FutureWarning,\n",
            "/usr/local/lib/python3.7/dist-packages/sklearn/utils/validation.py:1692: FutureWarning: Feature names only support names that are all strings. Got feature names with dtypes: ['int', 'str']. An error will be raised in 1.2.\n",
            "  FutureWarning,\n",
            "/usr/local/lib/python3.7/dist-packages/sklearn/utils/validation.py:1692: FutureWarning: Feature names only support names that are all strings. Got feature names with dtypes: ['int', 'str']. An error will be raised in 1.2.\n",
            "  FutureWarning,\n",
            "/usr/local/lib/python3.7/dist-packages/sklearn/utils/validation.py:1692: FutureWarning: Feature names only support names that are all strings. Got feature names with dtypes: ['int', 'str']. An error will be raised in 1.2.\n",
            "  FutureWarning,\n",
            "/usr/local/lib/python3.7/dist-packages/sklearn/utils/validation.py:1692: FutureWarning: Feature names only support names that are all strings. Got feature names with dtypes: ['int', 'str']. An error will be raised in 1.2.\n",
            "  FutureWarning,\n",
            "/usr/local/lib/python3.7/dist-packages/sklearn/utils/validation.py:1692: FutureWarning: Feature names only support names that are all strings. Got feature names with dtypes: ['int', 'str']. An error will be raised in 1.2.\n",
            "  FutureWarning,\n",
            "/usr/local/lib/python3.7/dist-packages/sklearn/utils/validation.py:1692: FutureWarning: Feature names only support names that are all strings. Got feature names with dtypes: ['int', 'str']. An error will be raised in 1.2.\n",
            "  FutureWarning,\n",
            "/usr/local/lib/python3.7/dist-packages/sklearn/utils/validation.py:1692: FutureWarning: Feature names only support names that are all strings. Got feature names with dtypes: ['int', 'str']. An error will be raised in 1.2.\n",
            "  FutureWarning,\n",
            "/usr/local/lib/python3.7/dist-packages/sklearn/utils/validation.py:1692: FutureWarning: Feature names only support names that are all strings. Got feature names with dtypes: ['int', 'str']. An error will be raised in 1.2.\n",
            "  FutureWarning,\n",
            "/usr/local/lib/python3.7/dist-packages/sklearn/utils/validation.py:1692: FutureWarning: Feature names only support names that are all strings. Got feature names with dtypes: ['int', 'str']. An error will be raised in 1.2.\n",
            "  FutureWarning,\n",
            "/usr/local/lib/python3.7/dist-packages/sklearn/utils/validation.py:1692: FutureWarning: Feature names only support names that are all strings. Got feature names with dtypes: ['int', 'str']. An error will be raised in 1.2.\n",
            "  FutureWarning,\n",
            "/usr/local/lib/python3.7/dist-packages/sklearn/utils/validation.py:1692: FutureWarning: Feature names only support names that are all strings. Got feature names with dtypes: ['int', 'str']. An error will be raised in 1.2.\n",
            "  FutureWarning,\n",
            "/usr/local/lib/python3.7/dist-packages/sklearn/utils/validation.py:1692: FutureWarning: Feature names only support names that are all strings. Got feature names with dtypes: ['int', 'str']. An error will be raised in 1.2.\n",
            "  FutureWarning,\n",
            "/usr/local/lib/python3.7/dist-packages/sklearn/utils/validation.py:1692: FutureWarning: Feature names only support names that are all strings. Got feature names with dtypes: ['int', 'str']. An error will be raised in 1.2.\n",
            "  FutureWarning,\n",
            "/usr/local/lib/python3.7/dist-packages/sklearn/utils/validation.py:1692: FutureWarning: Feature names only support names that are all strings. Got feature names with dtypes: ['int', 'str']. An error will be raised in 1.2.\n",
            "  FutureWarning,\n",
            "/usr/local/lib/python3.7/dist-packages/sklearn/utils/validation.py:1692: FutureWarning: Feature names only support names that are all strings. Got feature names with dtypes: ['int', 'str']. An error will be raised in 1.2.\n",
            "  FutureWarning,\n",
            "/usr/local/lib/python3.7/dist-packages/sklearn/utils/validation.py:1692: FutureWarning: Feature names only support names that are all strings. Got feature names with dtypes: ['int', 'str']. An error will be raised in 1.2.\n",
            "  FutureWarning,\n",
            "/usr/local/lib/python3.7/dist-packages/sklearn/utils/validation.py:1692: FutureWarning: Feature names only support names that are all strings. Got feature names with dtypes: ['int', 'str']. An error will be raised in 1.2.\n",
            "  FutureWarning,\n"
          ]
        },
        {
          "output_type": "stream",
          "name": "stdout",
          "text": [
            "Number of component for %95 variance: 44\n",
            "The variance is: 0.9514031845242517\n"
          ]
        },
        {
          "output_type": "stream",
          "name": "stderr",
          "text": [
            "/usr/local/lib/python3.7/dist-packages/sklearn/utils/validation.py:1692: FutureWarning: Feature names only support names that are all strings. Got feature names with dtypes: ['int', 'str']. An error will be raised in 1.2.\n",
            "  FutureWarning,\n",
            "/usr/local/lib/python3.7/dist-packages/sklearn/utils/validation.py:1692: FutureWarning: Feature names only support names that are all strings. Got feature names with dtypes: ['int', 'str']. An error will be raised in 1.2.\n",
            "  FutureWarning,\n",
            "/usr/local/lib/python3.7/dist-packages/sklearn/utils/validation.py:1692: FutureWarning: Feature names only support names that are all strings. Got feature names with dtypes: ['int', 'str']. An error will be raised in 1.2.\n",
            "  FutureWarning,\n"
          ]
        }
      ]
    }
  ]
}